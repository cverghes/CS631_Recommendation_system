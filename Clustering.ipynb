{
  "nbformat": 4,
  "nbformat_minor": 0,
  "metadata": {
    "colab": {
      "provenance": [],
      "toc_visible": true
    },
    "kernelspec": {
      "name": "python3",
      "display_name": "Python 3"
    },
    "language_info": {
      "name": "python"
    }
  },
  "cells": [
    {
      "cell_type": "markdown",
      "source": [
        "#Start Spark Context and Data Preprocessing"
      ],
      "metadata": {
        "id": "FsfJQV_9Z-41"
      }
    },
    {
      "cell_type": "code",
      "execution_count": 55,
      "metadata": {
        "id": "OcUAjJnzFdwS"
      },
      "outputs": [],
      "source": [
        "!apt-get update -qq > /dev/null\n",
        "!apt-get install openjdk-8-jdk-headless -qq > /dev/null\n",
        "!wget -q https://dlcdn.apache.org/spark/spark-3.4.2/spark-3.4.2-bin-hadoop3.tgz\n",
        "!tar xf spark-3.4.2-bin-hadoop3.tgz\n",
        "!pip install -q findspark\n",
        "!pip install -q pyspark"
      ]
    },
    {
      "cell_type": "code",
      "source": [
        "from pyspark.sql.types import IntegerType, FloatType, DoubleType\n",
        "from pyspark.sql.functions import rand, udf\n",
        "from pyspark.ml.feature import VectorAssembler\n",
        "from pyspark.ml.clustering import KMeans\n",
        "from pyspark.ml.evaluation import ClusteringEvaluator\n",
        "import os\n",
        "import sys\n",
        "import pandas as pd\n",
        "import numpy as np\n",
        "import pyspark\n",
        "from pyspark.sql import SparkSession\n",
        "import pyspark.ml as ml\n",
        "from pyspark.sql.functions import col\n",
        "from pyspark.ml.linalg import Vectors\n",
        "from pyspark.sql import functions as F"
      ],
      "metadata": {
        "id": "b_bETQWCa_26"
      },
      "execution_count": 56,
      "outputs": []
    },
    {
      "cell_type": "code",
      "source": [
        "os.environ['PYSPARK_PYTHON'] = sys.executable\n",
        "os.environ['PYSPARK_DRIVER_PYTHON'] = sys.executable\n",
        "spark = SparkSession.builder.appName(\"YourAppName\").getOrCreate()\n",
        "#Load the cleaned dataset\n",
        "def load_dfs():\n",
        "    global movies, users, ratings, orig_movies\n",
        "    movies = spark.read.csv(\"/content/drive/MyDrive/movieLens/cleaned_data/pivoted_movies_features.csv\", encoding=\"latin1\", header=True).cache()\n",
        "    movies.createOrReplaceTempView(\"movies_info\")\n",
        "\n",
        "    users = spark.read.csv(\"/content/drive/MyDrive/movieLens/cleaned_data/pivoted_users_features.csv\", encoding=\"latin1\", header=True).cache()\n",
        "    users.createOrReplaceTempView(\"users_info\")\n",
        "\n",
        "    ratings = spark.read.csv(\"/content/drive/MyDrive/movieLens/ratings.dat\", sep=\"::\", encoding=\"latin1\")\n",
        "    ratings = ratings.toDF(\"user_id\", \"movie_id\", \"rating\", \"time_stamp\").cache()\n",
        "    ratings.createOrReplaceTempView(\"ratings_info\")\n",
        "\n",
        "    orig_movies = spark.read.csv(\"/content/drive/MyDrive/movieLens/movies.dat\", sep=\"::\", encoding=\"latin1\")\n",
        "    orig_movies = orig_movies.toDF(\"movie_id\", \"Movie_Title\", \"Genre\").cache()\n",
        "    orig_movies.createOrReplaceTempView(\"orig_movies_info\")\n",
        "\n",
        "load_dfs()"
      ],
      "metadata": {
        "id": "msadcqLaLB6x"
      },
      "execution_count": 57,
      "outputs": []
    },
    {
      "cell_type": "code",
      "source": [
        "#Remove Index column\n",
        "movies = movies.drop(\"_c0\")\n",
        "users = users.drop(\"_c0\")"
      ],
      "metadata": {
        "id": "ZxhvNG-9LNOY"
      },
      "execution_count": 58,
      "outputs": []
    },
    {
      "cell_type": "code",
      "source": [
        "movies.show()"
      ],
      "metadata": {
        "colab": {
          "base_uri": "https://localhost:8080/"
        },
        "id": "5AUw5OGFj9Fy",
        "outputId": "c1c66a3c-bbce-4dfd-85aa-0f928ad907d5"
      },
      "execution_count": 81,
      "outputs": [
        {
          "output_type": "stream",
          "name": "stdout",
          "text": [
            "+--------+----+-------+----------+---------------------+------------------------+------------------------+-------------------------+---------------------+--------------------+--------------------------+--------------------+----------------------+------------------------+---------------------+----------------------+----------------------+----------------------+---------------------+-----------------------+------------------+----------------------+-----------------+--------------------+--------------------+---------------------+-----------------+----------------+----------------------+----------------+------------------+--------------------+-----------------+------------------+------------------+------------------+-----------------+-------------------+--------------+------------------+\n",
            "|movie_id|year|watches|avg_rating|popularity_per_Action|popularity_per_Adventure|popularity_per_Animation|popularity_per_Children's|popularity_per_Comedy|popularity_per_Crime|popularity_per_Documentary|popularity_per_Drama|popularity_per_Fantasy|popularity_per_Film-Noir|popularity_per_Horror|popularity_per_Musical|popularity_per_Mystery|popularity_per_Romance|popularity_per_Sci-Fi|popularity_per_Thriller|popularity_per_War|popularity_per_Western|rating_per_Action|rating_per_Adventure|rating_per_Animation|rating_per_Children's|rating_per_Comedy|rating_per_Crime|rating_per_Documentary|rating_per_Drama|rating_per_Fantasy|rating_per_Film-Noir|rating_per_Horror|rating_per_Musical|rating_per_Mystery|rating_per_Romance|rating_per_Sci-Fi|rating_per_Thriller|rating_per_War|rating_per_Western|\n",
            "+--------+----+-------+----------+---------------------+------------------------+------------------------+-------------------------+---------------------+--------------------+--------------------------+--------------------+----------------------+------------------------+---------------------+----------------------+----------------------+----------------------+---------------------+-----------------------+------------------+----------------------+-----------------+--------------------+--------------------+---------------------+-----------------+----------------+----------------------+----------------+------------------+--------------------+-----------------+------------------+------------------+------------------+-----------------+-------------------+--------------+------------------+\n",
            "|    3865|2000|  147.0| 3.2312925|                  0.0|                     0.0|                     0.0|                      0.0|          4.122497E-4|                 0.0|                0.01858407|                 0.0|                   0.0|                     0.0|                  0.0|                   0.0|                   0.0|                   0.0|                  0.0|                    0.0|               0.0|                   0.0|              0.0|                 0.0|                 0.0|                  0.0|        0.9174338|             0.0|             0.8215591|             0.0|               0.0|                 0.0|              0.0|               0.0|               0.0|               0.0|              0.0|                0.0|           0.0|               0.0|\n",
            "|     444|1993|   81.0| 2.2962964|                  0.0|                     0.0|                     0.0|                      0.0|           2.27158E-4|                 0.0|                       0.0|                 0.0|                   0.0|                     0.0|                  0.0|                   0.0|                   0.0|           5.490669E-4|                  0.0|                    0.0|               0.0|                   0.0|              0.0|                 0.0|                 0.0|                  0.0|        0.6519682|             0.0|                   0.0|             0.0|               0.0|                 0.0|              0.0|               0.0|               0.0|        0.63654023|              0.0|                0.0|           0.0|               0.0|\n",
            "|    3764|1992|  245.0| 2.6408162|          9.516152E-4|                     0.0|                     0.0|                      0.0|                  0.0|        0.0030801725|                       0.0|                 0.0|                   0.0|                     0.0|                  0.0|                   0.0|                   0.0|                   0.0|                  0.0|           0.0012916491|               0.0|                   0.0|       0.75642407|                 0.0|                 0.0|                  0.0|              0.0|      0.71206397|                   0.0|             0.0|               0.0|                 0.0|              0.0|               0.0|               0.0|               0.0|              0.0|          0.7396279|           0.0|               0.0|\n",
            "|    2464|1986|    8.0|     2.625|                  0.0|                     0.0|                     0.0|                      0.0|                  0.0|                 0.0|                       0.0|                 0.0|                   0.0|                     0.0|         1.0473123E-4|                   0.0|                   0.0|                   0.0|                  0.0|                    0.0|               0.0|                   0.0|              0.0|                 0.0|                 0.0|                  0.0|              0.0|             0.0|                   0.0|             0.0|               0.0|                 0.0|        0.8164819|               0.0|               0.0|               0.0|              0.0|                0.0|           0.0|               0.0|\n",
            "|      96|1995|   13.0| 3.9230769|                  0.0|                     0.0|                     0.0|                      0.0|         3.6457455E-5|                 0.0|                       0.0|                 0.0|                   0.0|                     0.0|                  0.0|                   0.0|                   0.0|                   0.0|                  0.0|                    0.0|               0.0|                   0.0|              0.0|                 0.0|                 0.0|                  0.0|        1.1138463|             0.0|                   0.0|             0.0|               0.0|                 0.0|              0.0|               0.0|               0.0|               0.0|              0.0|                0.0|           0.0|               0.0|\n",
            "|    2891|1999|  185.0| 3.4918919|                  0.0|                     0.0|                     0.0|                      0.0|         5.1881763E-4|                 0.0|                       0.0|                 0.0|                   0.0|                     0.0|                  0.0|                   0.0|                   0.0|                   0.0|                  0.0|                    0.0|               0.0|                   0.0|              0.0|                 0.0|                 0.0|                  0.0|        0.9914236|             0.0|                   0.0|             0.0|               0.0|                 0.0|              0.0|               0.0|               0.0|               0.0|              0.0|                0.0|           0.0|               0.0|\n",
            "|    2909|1998|    1.0|       4.0|                  0.0|                     0.0|                     0.0|                      0.0|                  0.0|                 0.0|              1.2642225E-4|                 0.0|                   0.0|                     0.0|                  0.0|                   0.0|                   0.0|                   0.0|                  0.0|                    0.0|               0.0|                   0.0|              0.0|                 0.0|                 0.0|                  0.0|              0.0|             0.0|             1.0170037|             0.0|               0.0|                 0.0|              0.0|               0.0|               0.0|               0.0|              0.0|                0.0|           0.0|               0.0|\n",
            "|    3686|1990|  413.0| 3.2542372|                  0.0|                     0.0|                     0.0|                      0.0|                  0.0|                 0.0|                       0.0|                 0.0|                   0.0|                     0.0|                  0.0|                   0.0|                   0.0|                   0.0|                  0.0|           0.0021773514|               0.0|                   0.0|              0.0|                 0.0|                 0.0|                  0.0|              0.0|             0.0|                   0.0|             0.0|               0.0|                 0.0|              0.0|               0.0|               0.0|               0.0|              0.0|          0.9114321|           0.0|               0.0|\n",
            "|    1725|1997|   23.0| 3.7391305|                  0.0|                     0.0|                     0.0|                      0.0|                  0.0|                 0.0|                       0.0|          6.48748E-5|                   0.0|                     0.0|                  0.0|                   0.0|                   0.0|                   0.0|                  0.0|                    0.0|               0.0|                   0.0|              0.0|                 0.0|                 0.0|                  0.0|              0.0|             0.0|                   0.0|      0.99277765|               0.0|                 0.0|              0.0|               0.0|               0.0|               0.0|              0.0|                0.0|           0.0|               0.0|\n",
            "|    3773|1990|  171.0| 2.8187134|                  0.0|                     0.0|                     0.0|                      0.0|         4.7955578E-4|                 0.0|                       0.0|                 0.0|                   0.0|                     0.0|                  0.0|                   0.0|                   0.0|                   0.0|                  0.0|                    0.0|               0.0|                   0.0|              0.0|                 0.0|                 0.0|                  0.0|        0.8002937|             0.0|                   0.0|             0.0|               0.0|                 0.0|              0.0|               0.0|               0.0|               0.0|              0.0|                0.0|           0.0|               0.0|\n",
            "|     568|1993|   35.0|  3.857143|                  0.0|                     0.0|                     0.0|                      0.0|          9.815469E-5|                 0.0|                       0.0|         9.872253E-5|                   0.0|                     0.0|                  0.0|                   0.0|                   0.0|                   0.0|                  0.0|                    0.0|               0.0|                   0.0|              0.0|                 0.0|                 0.0|                  0.0|        1.0951263|             0.0|                   0.0|       1.0241112|               0.0|                 0.0|              0.0|               0.0|               0.0|               0.0|              0.0|                0.0|           0.0|               0.0|\n",
            "|    2523|1977|   42.0| 2.3095238|                  0.0|                     0.0|                     0.0|                      0.0|                  0.0|                 0.0|                       0.0|        1.1846704E-4|                   0.0|                     0.0|                  0.0|                   0.0|                   0.0|                   0.0|                  0.0|           2.2142557E-4|               0.0|                   0.0|              0.0|                 0.0|                 0.0|                  0.0|              0.0|             0.0|                   0.0|      0.61320233|               0.0|                 0.0|              0.0|               0.0|               0.0|               0.0|              0.0|           0.646841|           0.0|               0.0|\n",
            "|    2854|1973|   11.0| 2.3636363|                  0.0|                     0.0|                     0.0|                      0.0|                  0.0|                 0.0|                       0.0|                 0.0|                   0.0|                     0.0|         1.4400545E-4|                   0.0|                   0.0|                   0.0|                  0.0|                    0.0|               0.0|                   0.0|              0.0|                 0.0|                 0.0|                  0.0|              0.0|             0.0|                   0.0|             0.0|               0.0|                 0.0|        0.7351871|               0.0|               0.0|               0.0|              0.0|                0.0|           0.0|               0.0|\n",
            "|     627|1995|  121.0| 3.6033058|                  0.0|                     0.0|                     0.0|                      0.0|                  0.0|                 0.0|                       0.0|        3.4129788E-4|                   0.0|                     0.0|                  0.0|                   0.0|                   0.0|                   0.0|                  0.0|            6.379165E-4|               0.0|                   0.0|              0.0|                 0.0|                 0.0|                  0.0|              0.0|             0.0|                   0.0|       0.9567148|               0.0|                 0.0|              0.0|               0.0|               0.0|               0.0|              0.0|          1.0091976|           0.0|               0.0|\n",
            "|    3597|2000|   37.0| 2.7297297|                  0.0|                     0.0|                     0.0|                      0.0|         1.0376353E-4|                 0.0|                       0.0|                 0.0|                   0.0|                     0.0|                  0.0|                   0.0|                   0.0|                   0.0|                  0.0|                    0.0|               0.0|                   0.0|              0.0|                 0.0|                 0.0|                  0.0|        0.7750293|             0.0|                   0.0|             0.0|               0.0|                 0.0|              0.0|               0.0|               0.0|               0.0|              0.0|                0.0|           0.0|               0.0|\n",
            "|    2787|1985|  162.0| 2.9012346|                  0.0|                     0.0|                     0.0|                      0.0|                  0.0|                 0.0|                       0.0|                 0.0|                   0.0|                     0.0|         0.0021208075|                   0.0|                   0.0|                   0.0|                  0.0|                    0.0|               0.0|                   0.0|              0.0|                 0.0|                 0.0|                  0.0|              0.0|             0.0|                   0.0|             0.0|               0.0|                 0.0|       0.90240204|               0.0|               0.0|               0.0|              0.0|                0.0|           0.0|               0.0|\n",
            "|    3478|1987|  266.0|  3.330827|                  0.0|                     0.0|                     0.0|                      0.0|                  0.0|                 0.0|                       0.0|         7.502912E-4|                   0.0|                     0.0|                  0.0|                   0.0|                   0.0|                   0.0|                  0.0|                    0.0|               0.0|                   0.0|              0.0|                 0.0|                 0.0|                  0.0|              0.0|             0.0|                   0.0|       0.8843689|               0.0|                 0.0|              0.0|               0.0|               0.0|               0.0|              0.0|                0.0|           0.0|               0.0|\n",
            "|    2868|1989|   63.0| 2.3015873|                  0.0|                     0.0|                     0.0|                      0.0|                  0.0|                 0.0|                       0.0|                 0.0|                   0.0|                     0.0|          8.247585E-4|                   0.0|                   0.0|                   0.0|                  0.0|                    0.0|               0.0|                   0.0|              0.0|                 0.0|                 0.0|                  0.0|              0.0|             0.0|                   0.0|             0.0|               0.0|                 0.0|       0.71588737|               0.0|               0.0|               0.0|              0.0|                0.0|           0.0|               0.0|\n",
            "|     866|1996|  572.0| 3.8234265|                  0.0|                     0.0|                     0.0|                      0.0|                  0.0|          0.00719126|                       0.0|        0.0016134082|                   0.0|                     0.0|                  0.0|                   0.0|                   0.0|          0.0038773615|                  0.0|           0.0030156053|               0.0|                   0.0|              0.0|                 0.0|                 0.0|                  0.0|              0.0|       1.0309404|                   0.0|       1.0151591|               0.0|                 0.0|              0.0|               0.0|               0.0|         1.0598654|              0.0|           1.070848|           0.0|               0.0|\n",
            "|    1602|1997|   43.0| 2.1162791|                  0.0|                     0.0|                     0.0|                      0.0|         1.2059005E-4|                 0.0|                       0.0|                 0.0|                   0.0|                     0.0|                  0.0|                   0.0|                   0.0|                   0.0|                  0.0|                    0.0|               0.0|                   0.0|              0.0|                 0.0|                 0.0|                  0.0|        0.6008574|             0.0|                   0.0|             0.0|               0.0|                 0.0|              0.0|               0.0|               0.0|               0.0|              0.0|                0.0|           0.0|               0.0|\n",
            "+--------+----+-------+----------+---------------------+------------------------+------------------------+-------------------------+---------------------+--------------------+--------------------------+--------------------+----------------------+------------------------+---------------------+----------------------+----------------------+----------------------+---------------------+-----------------------+------------------+----------------------+-----------------+--------------------+--------------------+---------------------+-----------------+----------------+----------------------+----------------+------------------+--------------------+-----------------+------------------+------------------+------------------+-----------------+-------------------+--------------+------------------+\n",
            "only showing top 20 rows\n",
            "\n"
          ]
        }
      ]
    },
    {
      "cell_type": "markdown",
      "source": [
        "#Start Clustering using User Features"
      ],
      "metadata": {
        "id": "2Bue3syVoCSO"
      }
    },
    {
      "cell_type": "code",
      "source": [
        "\n",
        "# Convert categorical variables to numerical using one-hot encoding\n",
        "for col in users.columns:\n",
        "    if col in [\"user_id\", \"gender\", \"region\",\"academic/educator\",  \"artist\", \"clerical/ admin\",  \"college/grad student\", \"customer service\",\"doctor/health care\", \"executive/managerial\", \"farmer\",  \"homemaker\", \"K-12 student\", \"lawyer\", \"programmer\", \"retired\", \"sales/marketing\", \"scientist\", \"self-employed\",\"technician/engineer\",\"tradesman/craftsman\", \"unemployed\",\"writer\" ]:\n",
        "        users = users.withColumn(col, users[col].cast(IntegerType()))\n",
        "    else:\n",
        "        users = users.withColumn(col, users[col].cast(FloatType()))"
      ],
      "metadata": {
        "id": "R4J7qfEkVC9g"
      },
      "execution_count": 60,
      "outputs": []
    },
    {
      "cell_type": "code",
      "source": [
        "\n",
        "silhouette = 0\n",
        "seed = 1\n",
        "# Vectorize the features\n",
        "feature_columns = users.columns\n",
        "feature_columns.remove(\"user_id\")  # Exclude the user_id column\n",
        "assembler = VectorAssembler(inputCols=feature_columns, outputCol=\"features\")\n",
        "data = assembler.transform(users)\n",
        "\n",
        "while (silhouette < 0.19):\n",
        "      #Change seed\n",
        "      seed += 1\n",
        "\n",
        "      # Initialize KMeans model with 600 clusters\n",
        "      kmeans = KMeans().setK(500).setSeed(seed)\n",
        "\n",
        "      # Train the model\n",
        "      model = kmeans.fit(data)\n",
        "\n",
        "      # Make predictions\n",
        "      predictions = model.transform(data)\n",
        "\n",
        "      # Evaluate clustering by computing Silhouette score\n",
        "      evaluator = ClusteringEvaluator()\n",
        "      silhouette = evaluator.evaluate(predictions)\n",
        "\n",
        "# Shows the result.\n",
        "centers = model.clusterCenters()"
      ],
      "metadata": {
        "id": "kTHyYH4xUvFj"
      },
      "execution_count": 61,
      "outputs": []
    },
    {
      "cell_type": "markdown",
      "source": [
        "#Set the user ID we want to make recommendations to"
      ],
      "metadata": {
        "id": "4bFXW5K4oGk3"
      }
    },
    {
      "cell_type": "code",
      "source": [
        "#User we want to recommend to\n",
        "req_user_id = 148"
      ],
      "metadata": {
        "id": "ld7FQ51fcrTx"
      },
      "execution_count": 62,
      "outputs": []
    },
    {
      "cell_type": "markdown",
      "source": [
        "#Most Similar Users to req_user_id"
      ],
      "metadata": {
        "id": "frfyCvzgcyB5"
      }
    },
    {
      "cell_type": "code",
      "source": [
        "\n",
        "def print_other_users_in_cluster(user_id):\n",
        "    # Find the predicted cluster for the given user_id\n",
        "    user_cluster = predictions.filter(predictions[\"user_id\"] == user_id).select(\"prediction\").collect()[0][\"prediction\"]\n",
        "\n",
        "    # Filter the predictions DataFrame to get all users belonging to the same cluster\n",
        "    cluster_users = predictions.filter(predictions[\"prediction\"] == user_cluster).select(\"user_id\").collect()\n",
        "\n",
        "    # Print all other user IDs in the cluster except for the given user_id\n",
        "    print(f\"Other user IDs in cluster {user_cluster} for user {user_id}:\")\n",
        "\n",
        "    user_list = []\n",
        "    for row in cluster_users:\n",
        "        if row[\"user_id\"] != user_id:\n",
        "            print(row[\"user_id\"])\n",
        "            user_list.append(row[\"user_id\"])\n",
        "    return user_list\n",
        "\n",
        "\n",
        "users_sim = print_other_users_in_cluster(req_user_id)\n",
        "print(users_sim)"
      ],
      "metadata": {
        "colab": {
          "base_uri": "https://localhost:8080/"
        },
        "id": "Ovn1QZvcYXKa",
        "outputId": "c3404f45-485c-443a-95ab-42bb95a9320e"
      },
      "execution_count": 63,
      "outputs": [
        {
          "output_type": "stream",
          "name": "stdout",
          "text": [
            "Other user IDs in cluster 178 for user 148:\n",
            "3475\n",
            "3182\n",
            "4867\n",
            "[3475, 3182, 4867]\n"
          ]
        }
      ]
    },
    {
      "cell_type": "code",
      "source": [
        "def get_high_rated_movies_for_user(user_id):\n",
        "    # Filter the ratings DataFrame for the given user_id and high ratings\n",
        "    high_rated_movies = ratings.filter('user_id == '+str(user_id)).filter(\"rating == 5\").select(\"movie_id\")\n",
        "\n",
        "    # Collect the movie_id values as a list\n",
        "    high_rated_movie_ids = high_rated_movies.rdd.map(lambda row: row[0]).collect()\n",
        "\n",
        "    return high_rated_movie_ids\n",
        "all_movies = []\n",
        "for i in users_sim:\n",
        "  high_rated_movies = get_high_rated_movies_for_user(i)\n",
        "  all_movies += high_rated_movies\n",
        "  print(\"High-rated movies for user\", i, \":\", high_rated_movies)"
      ],
      "metadata": {
        "colab": {
          "base_uri": "https://localhost:8080/"
        },
        "id": "b4To6XsreHTK",
        "outputId": "6428e65a-7766-45b6-8338-5c13667dca06"
      },
      "execution_count": 64,
      "outputs": [
        {
          "output_type": "stream",
          "name": "stdout",
          "text": [
            "High-rated movies for user 3475 : ['2997', '6', '2067', '1265', '590', '593', '902', '908', '1299', '778', '1617', '953', '3424', '213', '1897', '428', '296', '2858', '441', '2871', '608', '1147', '1300', '1302', '1307', '497', '1183', '1186', '1193', '1358', '3100', '2302', '2321', '2324', '2329', '858', '3148', '2352', '1704', '110', '1584', '1735', '3198', '2398', '2542', '1758', '2712', '2571', '307', '1923', '318', '3543', '16', '17', '194', '25', '2762', '356', '2918', '508', '509', '47', '50', '58', '524', '1997', '527', '69', '1060', '1208', '1213', '2020', '2022', '1221', '2028', '1089', '1234', '1092', '1096', '1242', '1245', '1246']\n",
            "High-rated movies for user 3182 : ['2051', '3793', '1258', '3949', '1263', '2076', '1274', '1276', '3020', '2088', '1288', '3033', '1298', '778', '924', '785', '2403', '2409', '3210', '2410', '2411', '2420', '2427', '1639', '3098', '3421', '1824', '223', '2640', '2641', '260', '1884', '3499', '428', '288', '431', '296', '2858', '441', '1125', '3671', '1136', '493', '2114', '1193', '1194', '1196', '1199', '678', '1357', '1358', '1517', '858', '2502', '1704', '3168', '2378', '111', '1584', '1732', '2706', '2710', '1923', '318', '3396', '1010', '3552', '1011', '1954', '344', '1963', '1032', '1974', '3729', '2791', '2795', '1994', '1997', '527', '62', '69', '3741', '1203', '2944', '1206', '1207', '1208', '1210', '1213', '1073', '2959', '88', '1221', '1222', '2028', '1228', '3911', '1090', '1247']\n",
            "High-rated movies for user 4867 : ['3793', '581', '1405', '2078', '3034', '903', '904', '919', '924', '2413', '2467', '3421', '3429', '2804', '3471', '3476', '260', '2858', '3809', '3819', '1136', '608', '1148', '2109', '1171', '2138', '1193', '1196', '1197', '1198', '1199', '2140', '671', '3897', '2174', '2193', '1554', '1580', '316', '318', '319', '2594', '337', '21', '345', '348', '29', '32', '50', '1997', '1201', '1206', '2951', '1215', '1220', '1223', '1235', '1240', '1243', '1246', '2987', '720', '2997', '1258', '1265', '1266', '1274', '1278', '745', '1288', '1293', '1296', '2248', '2291', '1641', '1673', '1689', '2692', '3671', '471', '1348', '2300', '1376', '2324', '2325', '858', '1393', '1711', '2384', '1732', '2395', '2398', '1747', '3358', '2700', '2706', '2709', '2716', '1784', '2739', '3396', '3397', '3398', '2746', '2762', '3712', '1036', '2788', '2797', '3751', '2019', '1073', '541', '1079', '1080']\n"
          ]
        }
      ]
    },
    {
      "cell_type": "code",
      "source": [
        "req_movie_ids = ratings.filter('user_id == '+str(req_user_id)).select(\"movie_id\").rdd.map(lambda row: row[0]).collect()\n",
        "all_movies = list(set(all_movies))\n",
        "recommendations = [x for x in all_movies if x not in req_movie_ids]\n"
      ],
      "metadata": {
        "id": "p7cEk2pylXRf"
      },
      "execution_count": 65,
      "outputs": []
    },
    {
      "cell_type": "code",
      "source": [
        "# Step 1: Choose the top 30 movies with the highest average rating\n",
        "top_30_movies = movies.orderBy(\"avg_rating\", ascending = False).limit(30)\n",
        "\n",
        "# Step 2: Join with orig_movies to get additional information\n",
        "top_30_movies_with_info = top_30_movies.join(orig_movies, on=\"movie_id\")\n",
        "\n",
        "# Step 3: Select the relevant columns\n",
        "recommendations = top_30_movies_with_info.select(\"movie_id\",\"year\", \"watches\", \"Movie_Title\", \"Genre\")\n",
        "\n",
        "# Show the recommendations\n",
        "recommendations.show()"
      ],
      "metadata": {
        "colab": {
          "base_uri": "https://localhost:8080/"
        },
        "id": "bdAx9YchmAIg",
        "outputId": "8ac6aa53-9e21-4cc5-f420-878f55ef3ed2"
      },
      "execution_count": 87,
      "outputs": [
        {
          "output_type": "stream",
          "name": "stdout",
          "text": [
            "+----+--------+-------+--------------------+--------------------+\n",
            "|year|movie_id|watches|         Movie_Title|               Genre|\n",
            "+----+--------+-------+--------------------+--------------------+\n",
            "|1995|      50| 1783.0|Usual Suspects, T...|      Crime|Thriller|\n",
            "|1994|      53|    8.0|     Lamerica (1994)|               Drama|\n",
            "|1994|     318| 2227.0|Shawshank Redempt...|               Drama|\n",
            "|1993|     439|    2.0|Dangerous Game (1...|               Drama|\n",
            "|1993|     527| 2304.0|Schindler's List ...|           Drama|War|\n",
            "|1962|     557|    2.0|   Mamma Roma (1962)|               Drama|\n",
            "|1993|     578|    2.0|Hour of the Pig, ...|       Drama|Mystery|\n",
            "|1995|     745|  657.0|Close Shave, A (1...|Animation|Comedy|...|\n",
            "|1995|     787|    3.0|Gate of Heavenly ...|         Documentary|\n",
            "|1972|     858| 2223.0|Godfather, The (1...|  Action|Crime|Drama|\n",
            "|1950|     922|  470.0|Sunset Blvd. (a.k...|           Film-Noir|\n",
            "|1995|     989|    1.0|Schlafes Bruder (...|               Drama|\n",
            "|1993|    1148|  882.0|Wrong Trousers, T...|    Animation|Comedy|\n",
            "|1995|    1795|    2.0|Callejón de los m...|               Drama|\n",
            "|1998|    1830|    1.0|Follow the Bitch ...|              Comedy|\n",
            "|1954|    2019|  628.0|Seven Samurai (Th...|        Action|Drama|\n",
            "|1998|    2309|    2.0|Inheritors, The (...|               Drama|\n",
            "|1997|    2480|    2.0|Dry Cleaning (Net...|               Drama|\n",
            "|1998|    2503|    9.0|Apple, The (Sib) ...|               Drama|\n",
            "|1962|    2905|   69.0|      Sanjuro (1962)|    Action|Adventure|\n",
            "+----+--------+-------+--------------------+--------------------+\n",
            "only showing top 20 rows\n",
            "\n"
          ]
        }
      ]
    },
    {
      "cell_type": "markdown",
      "source": [
        "#Movies from 2 of the most similar users"
      ],
      "metadata": {
        "id": "oNRKiCyPoOS2"
      }
    },
    {
      "cell_type": "code",
      "source": [
        "\n",
        "\n",
        "# Function to compute cosine similarity between two feature vectors\n",
        "def cosine_similarity(vec1, vec2):\n",
        "    dot_product = float(vec1.dot(vec2))\n",
        "    norm_vec1 = float(vec1.norm(2))\n",
        "    norm_vec2 = float(vec2.norm(2))\n",
        "    return dot_product / (norm_vec1 * norm_vec2)\n",
        "\n",
        "# Convert feature vectors to dense vectors\n",
        "dense_vectors = predictions.rdd.map(lambda row: (row[\"user_id\"], Vectors.dense(row[\"features\"]))).collectAsMap()\n",
        "\n",
        "# Compute similarity between req_user_id and all other users in the cluster\n",
        "similarities = {}\n",
        "req_user_features = dense_vectors[req_user_id]\n",
        "for user_id, features in dense_vectors.items():\n",
        "    if user_id != req_user_id:\n",
        "        similarity = cosine_similarity(req_user_features, features)\n",
        "        similarities[user_id] = similarity\n",
        "\n",
        "# Sort the similarities dictionary by similarity values in descending order\n",
        "sorted_similarities = sorted(similarities.items(), key=lambda x: x[1], reverse=True)\n",
        "\n",
        "# Select the top 2 most similar users\n",
        "top_similar_users = sorted_similarities[:2]\n",
        "\n",
        "# Print the user IDs of the top 2 most similar users\n",
        "print(f\"Top 2 most similar users to user {req_user_id}:\")\n",
        "for user_id, similarity in top_similar_users:\n",
        "    print(f\"User ID: {user_id}, Similarity: {similarity}\")"
      ],
      "metadata": {
        "colab": {
          "base_uri": "https://localhost:8080/"
        },
        "id": "vEuMMdLcnQ8M",
        "outputId": "c71f07fe-4896-4e8a-b2d3-31c386a2383e"
      },
      "execution_count": 68,
      "outputs": [
        {
          "output_type": "stream",
          "name": "stdout",
          "text": [
            "Top 2 most similar users to user 148:\n",
            "User ID: 2453, Similarity: 0.9999966619455816\n",
            "User ID: 1889, Similarity: 0.9999963552627231\n"
          ]
        }
      ]
    },
    {
      "cell_type": "code",
      "source": [
        "all_movies = []\n",
        "for user_id, similarity in top_similar_users:\n",
        "  high_rated_movies = get_high_rated_movies_for_user(user_id)\n",
        "  all_movies += high_rated_movies\n",
        "  print(\"High-rated movies for user\", user_id, \":\", high_rated_movies)\n",
        "all_movies = list(set(all_movies))\n",
        "recommendations = [x for x in all_movies if x not in req_movie_ids]"
      ],
      "metadata": {
        "colab": {
          "base_uri": "https://localhost:8080/"
        },
        "id": "FXog0ujcnW0k",
        "outputId": "b22507ce-62fa-43cb-e542-e2bfe3a5ab7c"
      },
      "execution_count": 69,
      "outputs": [
        {
          "output_type": "stream",
          "name": "stdout",
          "text": [
            "High-rated movies for user 2453 : ['1249', '1250', '2996', '589', '1262', '1263', '1266', '590', '593', '3952', '912', '1459', '1608', '2268', '1610', '3082', '969', '3252', '3256', '3408', '2611', '3274', '204', '215', '230', '246', '2671', '1104', '3809', '457', '3811', '608', '474', '1183', '1198', '3897', '1357', '1358', '1372', '2324', '1385', '858', '866', '3147', '2357', '1704', '1719', '105', '1721', '1722', '110', '111', '1729', '3330', '2391', '2396', '2571', '1784', '318', '175', '1004', '2745', '1945', '1954', '1959', '349', '1960', '1961', '1962', '356', '2912', '2917', '508', '47', '1047', '370', '50', '527', '3753', '1213', '2028', '1226', '1089', '3916', '1233', '1092', '1094', '1096', '3783']\n",
            "High-rated movies for user 1889 : ['6', '919', '2406', '3259', '223', '2804', '260', '3635', '296', '459', '1147', '493', '1172', '1196', '1197', '3897', '2161', '1517', '2324', '2501', '1704', '2371', '110', '3347', '1912', '2571', '163', '1784', '18', '1960', '2916', '2918', '1036', '364', '69', '2000', '2005', '1060', '2947', '1210', '1213', '1225', '555', '1089', '1093', '1242']\n"
          ]
        }
      ]
    },
    {
      "cell_type": "code",
      "source": [
        "len(recommendations)"
      ],
      "metadata": {
        "colab": {
          "base_uri": "https://localhost:8080/"
        },
        "id": "xtqiuxkNnr-j",
        "outputId": "76258519-7dc3-4714-9633-b66a4d8f6657"
      },
      "execution_count": 70,
      "outputs": [
        {
          "output_type": "execute_result",
          "data": {
            "text/plain": [
              "64"
            ]
          },
          "metadata": {},
          "execution_count": 70
        }
      ]
    },
    {
      "cell_type": "markdown",
      "source": [
        "#Movie Clustering"
      ],
      "metadata": {
        "id": "XUlDMLU8UIcJ"
      }
    },
    {
      "cell_type": "code",
      "source": [
        "movies.show()"
      ],
      "metadata": {
        "colab": {
          "base_uri": "https://localhost:8080/"
        },
        "id": "Md3HH85sUNZZ",
        "outputId": "1e35581b-f9ff-403c-ac2c-8c0cb667f46a"
      },
      "execution_count": 71,
      "outputs": [
        {
          "output_type": "stream",
          "name": "stdout",
          "text": [
            "+--------+----+-------+------------------+---------------------+------------------------+------------------------+-------------------------+---------------------+--------------------+--------------------------+--------------------+----------------------+------------------------+---------------------+----------------------+----------------------+----------------------+---------------------+-----------------------+------------------+----------------------+------------------+--------------------+--------------------+---------------------+------------------+------------------+----------------------+------------------+------------------+--------------------+------------------+------------------+------------------+------------------+-----------------+-------------------+--------------+------------------+\n",
            "|movie_id|year|watches|        avg_rating|popularity_per_Action|popularity_per_Adventure|popularity_per_Animation|popularity_per_Children's|popularity_per_Comedy|popularity_per_Crime|popularity_per_Documentary|popularity_per_Drama|popularity_per_Fantasy|popularity_per_Film-Noir|popularity_per_Horror|popularity_per_Musical|popularity_per_Mystery|popularity_per_Romance|popularity_per_Sci-Fi|popularity_per_Thriller|popularity_per_War|popularity_per_Western| rating_per_Action|rating_per_Adventure|rating_per_Animation|rating_per_Children's| rating_per_Comedy|  rating_per_Crime|rating_per_Documentary|  rating_per_Drama|rating_per_Fantasy|rating_per_Film-Noir| rating_per_Horror|rating_per_Musical|rating_per_Mystery|rating_per_Romance|rating_per_Sci-Fi|rating_per_Thriller|rating_per_War|rating_per_Western|\n",
            "+--------+----+-------+------------------+---------------------+------------------------+------------------------+-------------------------+---------------------+--------------------+--------------------------+--------------------+----------------------+------------------------+---------------------+----------------------+----------------------+----------------------+---------------------+-----------------------+------------------+----------------------+------------------+--------------------+--------------------+---------------------+------------------+------------------+----------------------+------------------+------------------+--------------------+------------------+------------------+------------------+------------------+-----------------+-------------------+--------------+------------------+\n",
            "|    3865|2000|    147|3.2312925170068025|                  0.0|                     0.0|                     0.0|                      0.0| 0.000412249705535...|                 0.0|      0.018584070796460177|                 0.0|                   0.0|                     0.0|                  0.0|                   0.0|                   0.0|                   0.0|                  0.0|                    0.0|               0.0|                   0.0|               0.0|                 0.0|                 0.0|                  0.0| 0.917433801557664|               0.0|    0.8215590565884673|               0.0|               0.0|                 0.0|               0.0|               0.0|               0.0|               0.0|              0.0|                0.0|           0.0|               0.0|\n",
            "|     444|1993|     81|2.2962962962962963|                  0.0|                     0.0|                     0.0|                      0.0| 0.000227158001009...|                 0.0|                       0.0|                 0.0|                   0.0|                     0.0|                  0.0|                   0.0|                   0.0|  0.000549066925157433|                  0.0|                    0.0|               0.0|                   0.0|               0.0|                 0.0|                 0.0|                  0.0|0.6519681612005107|               0.0|                   0.0|               0.0|               0.0|                 0.0|               0.0|               0.0|               0.0|0.6365402163885395|              0.0|                0.0|           0.0|               0.0|\n",
            "|    3764|1992|    245|2.6408163265306124| 0.000951615221182...|                     0.0|                     0.0|                      0.0|                  0.0|0.003080172489659421|                       0.0|                 0.0|                   0.0|                     0.0|                  0.0|                   0.0|                   0.0|                   0.0|                  0.0|   0.001291649093209...|               0.0|                   0.0|0.7564240723825327|                 0.0|                 0.0|                  0.0|               0.0|0.7120639591194725|                   0.0|               0.0|               0.0|                 0.0|               0.0|               0.0|               0.0|               0.0|              0.0| 0.7396279059844231|           0.0|               0.0|\n",
            "|    2464|1986|      8|             2.625|                  0.0|                     0.0|                     0.0|                      0.0|                  0.0|                 0.0|                       0.0|                 0.0|                   0.0|                     0.0| 0.000104731233472...|                   0.0|                   0.0|                   0.0|                  0.0|                    0.0|               0.0|                   0.0|               0.0|                 0.0|                 0.0|                  0.0|               0.0|               0.0|                   0.0|               0.0|               0.0|                 0.0|0.8164818675635837|               0.0|               0.0|               0.0|              0.0|                0.0|           0.0|               0.0|\n",
            "|      96|1995|     13| 3.923076923076923|                  0.0|                     0.0|                     0.0|                      0.0| 3.64574569521566e-05|                 0.0|                       0.0|                 0.0|                   0.0|                     0.0|                  0.0|                   0.0|                   0.0|                   0.0|                  0.0|                    0.0|               0.0|                   0.0|               0.0|                 0.0|                 0.0|                  0.0|1.1138463498425597|               0.0|                   0.0|               0.0|               0.0|                 0.0|               0.0|               0.0|               0.0|               0.0|              0.0|                0.0|           0.0|               0.0|\n",
            "|    2891|1999|    185|3.4918918918918918|                  0.0|                     0.0|                     0.0|                      0.0| 0.000518817656626...|                 0.0|                       0.0|                 0.0|                   0.0|                     0.0|                  0.0|                   0.0|                   0.0|                   0.0|                  0.0|                    0.0|               0.0|                   0.0|               0.0|                 0.0|                 0.0|                  0.0| 0.991423597877882|               0.0|                   0.0|               0.0|               0.0|                 0.0|               0.0|               0.0|               0.0|               0.0|              0.0|                0.0|           0.0|               0.0|\n",
            "|    2909|1998|      1|               4.0|                  0.0|                     0.0|                     0.0|                      0.0|                  0.0|                 0.0|      0.000126422250316...|                 0.0|                   0.0|                     0.0|                  0.0|                   0.0|                   0.0|                   0.0|                  0.0|                    0.0|               0.0|                   0.0|               0.0|                 0.0|                 0.0|                  0.0|               0.0|               0.0|    1.0170036321558291|               0.0|               0.0|                 0.0|               0.0|               0.0|               0.0|               0.0|              0.0|                0.0|           0.0|               0.0|\n",
            "|    3686|1990|    413|3.2542372881355934|                  0.0|                     0.0|                     0.0|                      0.0|                  0.0|                 0.0|                       0.0|                 0.0|                   0.0|                     0.0|                  0.0|                   0.0|                   0.0|                   0.0|                  0.0|   0.002177351328553353|               0.0|                   0.0|               0.0|                 0.0|                 0.0|                  0.0|               0.0|               0.0|                   0.0|               0.0|               0.0|                 0.0|               0.0|               0.0|               0.0|               0.0|              0.0| 0.9114320775812029|           0.0|               0.0|\n",
            "|    1725|1997|     23| 3.739130434782609|                  0.0|                     0.0|                     0.0|                      0.0|                  0.0|                 0.0|                       0.0|6.487480572816328...|                   0.0|                     0.0|                  0.0|                   0.0|                   0.0|                   0.0|                  0.0|                    0.0|               0.0|                   0.0|               0.0|                 0.0|                 0.0|                  0.0|               0.0|               0.0|                   0.0|0.9927776425760133|               0.0|                 0.0|               0.0|               0.0|               0.0|               0.0|              0.0|                0.0|           0.0|               0.0|\n",
            "|    3773|1990|    171| 2.818713450292398|                  0.0|                     0.0|                     0.0|                      0.0| 0.000479555779909...|                 0.0|                       0.0|                 0.0|                   0.0|                     0.0|                  0.0|                   0.0|                   0.0|                   0.0|                  0.0|                    0.0|               0.0|                   0.0|               0.0|                 0.0|                 0.0|                  0.0|0.8002936851408646|               0.0|                   0.0|               0.0|               0.0|                 0.0|               0.0|               0.0|               0.0|               0.0|              0.0|                0.0|           0.0|               0.0|\n",
            "|     568|1993|     35| 3.857142857142857|                  0.0|                     0.0|                     0.0|                      0.0| 9.815469179426777...|                 0.0|                       0.0|9.872253045590065...|                   0.0|                     0.0|                  0.0|                   0.0|                   0.0|                   0.0|                  0.0|                    0.0|               0.0|                   0.0|               0.0|                 0.0|                 0.0|                  0.0|1.0951262431225168|               0.0|                   0.0|1.0241111562121332|               0.0|                 0.0|               0.0|               0.0|               0.0|               0.0|              0.0|                0.0|           0.0|               0.0|\n",
            "|    2523|1977|     42|2.3095238095238093|                  0.0|                     0.0|                     0.0|                      0.0|                  0.0|                 0.0|                       0.0|0.000118467036547...|                   0.0|                     0.0|                  0.0|                   0.0|                   0.0|                   0.0|                  0.0|   0.000221425558835...|               0.0|                   0.0|               0.0|                 0.0|                 0.0|                  0.0|               0.0|               0.0|                   0.0|0.6132023589665242|               0.0|                 0.0|               0.0|               0.0|               0.0|               0.0|              0.0| 0.6468409945433065|           0.0|               0.0|\n",
            "|    2854|1973|     11|2.3636363636363638|                  0.0|                     0.0|                     0.0|                      0.0|                  0.0|                 0.0|                       0.0|                 0.0|                   0.0|                     0.0| 0.000144005446024...|                   0.0|                   0.0|                   0.0|                  0.0|                    0.0|               0.0|                   0.0|               0.0|                 0.0|                 0.0|                  0.0|               0.0|               0.0|                   0.0|               0.0|               0.0|                 0.0| 0.735187136161149|               0.0|               0.0|               0.0|              0.0|                0.0|           0.0|               0.0|\n",
            "|     627|1995|    121| 3.603305785123967|                  0.0|                     0.0|                     0.0|                      0.0|                  0.0|                 0.0|                       0.0|0.000341297891004...|                   0.0|                     0.0|                  0.0|                   0.0|                   0.0|                   0.0|                  0.0|   0.000637916490932...|               0.0|                   0.0|               0.0|                 0.0|                 0.0|                  0.0|               0.0|               0.0|                   0.0|0.9567147991305267|               0.0|                 0.0|               0.0|               0.0|               0.0|               0.0|              0.0| 1.0091976051867624|           0.0|               0.0|\n",
            "|    3597|2000|     37|  2.72972972972973|                  0.0|                     0.0|                     0.0|                      0.0| 0.000103763531325...|                 0.0|                       0.0|                 0.0|                   0.0|                     0.0|                  0.0|                   0.0|                   0.0|                   0.0|                  0.0|                    0.0|               0.0|                   0.0|               0.0|                 0.0|                 0.0|                  0.0|0.7750292831707902|               0.0|                   0.0|               0.0|               0.0|                 0.0|               0.0|               0.0|               0.0|               0.0|              0.0|                0.0|           0.0|               0.0|\n",
            "|    2787|1985|    162|2.9012345679012346|                  0.0|                     0.0|                     0.0|                      0.0|                  0.0|                 0.0|                       0.0|                 0.0|                   0.0|                     0.0|  0.00212080747781007|                   0.0|                   0.0|                   0.0|                  0.0|                    0.0|               0.0|                   0.0|               0.0|                 0.0|                 0.0|                  0.0|               0.0|               0.0|                   0.0|               0.0|               0.0|                 0.0|0.9024020640914387|               0.0|               0.0|               0.0|              0.0|                0.0|           0.0|               0.0|\n",
            "|    3478|1987|    266| 3.330827067669173|                  0.0|                     0.0|                     0.0|                      0.0|                  0.0|                 0.0|                       0.0|0.000750291231464845|                   0.0|                     0.0|                  0.0|                   0.0|                   0.0|                   0.0|                  0.0|                    0.0|               0.0|                   0.0|               0.0|                 0.0|                 0.0|                  0.0|               0.0|               0.0|                   0.0| 0.884368893181238|               0.0|                 0.0|               0.0|               0.0|               0.0|               0.0|              0.0|                0.0|           0.0|               0.0|\n",
            "|    2868|1989|     63|2.3015873015873014|                  0.0|                     0.0|                     0.0|                      0.0|                  0.0|                 0.0|                       0.0|                 0.0|                   0.0|                     0.0| 0.000824758463592805|                   0.0|                   0.0|                   0.0|                  0.0|                    0.0|               0.0|                   0.0|               0.0|                 0.0|                 0.0|                  0.0|               0.0|               0.0|                   0.0|               0.0|               0.0|                 0.0|  0.71588735175643|               0.0|               0.0|               0.0|              0.0|                0.0|           0.0|               0.0|\n",
            "|     866|1996|    572|3.8234265734265733|                  0.0|                     0.0|                     0.0|                      0.0|                  0.0|0.007191259853408934|                       0.0|0.001613408212022...|                   0.0|                     0.0|                  0.0|                   0.0|                   0.0|  0.003877361496173478|                  0.0|   0.003015605229860818|               0.0|                   0.0|               0.0|                 0.0|                 0.0|                  0.0|               0.0|1.0309404088142156|                   0.0|1.0151591356158733|               0.0|                 0.0|               0.0|               0.0|               0.0| 1.059865306720248|              0.0| 1.0708480411070016|           0.0|               0.0|\n",
            "|    1602|1997|     43| 2.116279069767442|                  0.0|                     0.0|                     0.0|                      0.0| 0.000120590049918...|                 0.0|                       0.0|                 0.0|                   0.0|                     0.0|                  0.0|                   0.0|                   0.0|                   0.0|                  0.0|                    0.0|               0.0|                   0.0|               0.0|                 0.0|                 0.0|                  0.0|0.6008573788708383|               0.0|                   0.0|               0.0|               0.0|                 0.0|               0.0|               0.0|               0.0|               0.0|              0.0|                0.0|           0.0|               0.0|\n",
            "+--------+----+-------+------------------+---------------------+------------------------+------------------------+-------------------------+---------------------+--------------------+--------------------------+--------------------+----------------------+------------------------+---------------------+----------------------+----------------------+----------------------+---------------------+-----------------------+------------------+----------------------+------------------+--------------------+--------------------+---------------------+------------------+------------------+----------------------+------------------+------------------+--------------------+------------------+------------------+------------------+------------------+-----------------+-------------------+--------------+------------------+\n",
            "only showing top 20 rows\n",
            "\n"
          ]
        }
      ]
    },
    {
      "cell_type": "code",
      "source": [
        "# Convert categorical variables to numerical using one-hot encoding\n",
        "for col in movies.columns:\n",
        "    if col in [\"movie_id\", \"year\"]:\n",
        "            movies = movies.withColumn(col, movies[col].cast(IntegerType()))\n",
        "    else:\n",
        "            movies = movies.withColumn(col, movies[col].cast(FloatType()))\n",
        "movies.show()"
      ],
      "metadata": {
        "colab": {
          "base_uri": "https://localhost:8080/"
        },
        "id": "tRv_4Z6QU41J",
        "outputId": "3a1fc70d-b2e5-4551-fa88-49d0d2b43a6a"
      },
      "execution_count": 72,
      "outputs": [
        {
          "output_type": "stream",
          "name": "stdout",
          "text": [
            "+--------+----+-------+----------+---------------------+------------------------+------------------------+-------------------------+---------------------+--------------------+--------------------------+--------------------+----------------------+------------------------+---------------------+----------------------+----------------------+----------------------+---------------------+-----------------------+------------------+----------------------+-----------------+--------------------+--------------------+---------------------+-----------------+----------------+----------------------+----------------+------------------+--------------------+-----------------+------------------+------------------+------------------+-----------------+-------------------+--------------+------------------+\n",
            "|movie_id|year|watches|avg_rating|popularity_per_Action|popularity_per_Adventure|popularity_per_Animation|popularity_per_Children's|popularity_per_Comedy|popularity_per_Crime|popularity_per_Documentary|popularity_per_Drama|popularity_per_Fantasy|popularity_per_Film-Noir|popularity_per_Horror|popularity_per_Musical|popularity_per_Mystery|popularity_per_Romance|popularity_per_Sci-Fi|popularity_per_Thriller|popularity_per_War|popularity_per_Western|rating_per_Action|rating_per_Adventure|rating_per_Animation|rating_per_Children's|rating_per_Comedy|rating_per_Crime|rating_per_Documentary|rating_per_Drama|rating_per_Fantasy|rating_per_Film-Noir|rating_per_Horror|rating_per_Musical|rating_per_Mystery|rating_per_Romance|rating_per_Sci-Fi|rating_per_Thriller|rating_per_War|rating_per_Western|\n",
            "+--------+----+-------+----------+---------------------+------------------------+------------------------+-------------------------+---------------------+--------------------+--------------------------+--------------------+----------------------+------------------------+---------------------+----------------------+----------------------+----------------------+---------------------+-----------------------+------------------+----------------------+-----------------+--------------------+--------------------+---------------------+-----------------+----------------+----------------------+----------------+------------------+--------------------+-----------------+------------------+------------------+------------------+-----------------+-------------------+--------------+------------------+\n",
            "|    3865|2000|  147.0| 3.2312925|                  0.0|                     0.0|                     0.0|                      0.0|          4.122497E-4|                 0.0|                0.01858407|                 0.0|                   0.0|                     0.0|                  0.0|                   0.0|                   0.0|                   0.0|                  0.0|                    0.0|               0.0|                   0.0|              0.0|                 0.0|                 0.0|                  0.0|        0.9174338|             0.0|             0.8215591|             0.0|               0.0|                 0.0|              0.0|               0.0|               0.0|               0.0|              0.0|                0.0|           0.0|               0.0|\n",
            "|     444|1993|   81.0| 2.2962964|                  0.0|                     0.0|                     0.0|                      0.0|           2.27158E-4|                 0.0|                       0.0|                 0.0|                   0.0|                     0.0|                  0.0|                   0.0|                   0.0|           5.490669E-4|                  0.0|                    0.0|               0.0|                   0.0|              0.0|                 0.0|                 0.0|                  0.0|        0.6519682|             0.0|                   0.0|             0.0|               0.0|                 0.0|              0.0|               0.0|               0.0|        0.63654023|              0.0|                0.0|           0.0|               0.0|\n",
            "|    3764|1992|  245.0| 2.6408162|          9.516152E-4|                     0.0|                     0.0|                      0.0|                  0.0|        0.0030801725|                       0.0|                 0.0|                   0.0|                     0.0|                  0.0|                   0.0|                   0.0|                   0.0|                  0.0|           0.0012916491|               0.0|                   0.0|       0.75642407|                 0.0|                 0.0|                  0.0|              0.0|      0.71206397|                   0.0|             0.0|               0.0|                 0.0|              0.0|               0.0|               0.0|               0.0|              0.0|          0.7396279|           0.0|               0.0|\n",
            "|    2464|1986|    8.0|     2.625|                  0.0|                     0.0|                     0.0|                      0.0|                  0.0|                 0.0|                       0.0|                 0.0|                   0.0|                     0.0|         1.0473123E-4|                   0.0|                   0.0|                   0.0|                  0.0|                    0.0|               0.0|                   0.0|              0.0|                 0.0|                 0.0|                  0.0|              0.0|             0.0|                   0.0|             0.0|               0.0|                 0.0|        0.8164819|               0.0|               0.0|               0.0|              0.0|                0.0|           0.0|               0.0|\n",
            "|      96|1995|   13.0| 3.9230769|                  0.0|                     0.0|                     0.0|                      0.0|         3.6457455E-5|                 0.0|                       0.0|                 0.0|                   0.0|                     0.0|                  0.0|                   0.0|                   0.0|                   0.0|                  0.0|                    0.0|               0.0|                   0.0|              0.0|                 0.0|                 0.0|                  0.0|        1.1138463|             0.0|                   0.0|             0.0|               0.0|                 0.0|              0.0|               0.0|               0.0|               0.0|              0.0|                0.0|           0.0|               0.0|\n",
            "|    2891|1999|  185.0| 3.4918919|                  0.0|                     0.0|                     0.0|                      0.0|         5.1881763E-4|                 0.0|                       0.0|                 0.0|                   0.0|                     0.0|                  0.0|                   0.0|                   0.0|                   0.0|                  0.0|                    0.0|               0.0|                   0.0|              0.0|                 0.0|                 0.0|                  0.0|        0.9914236|             0.0|                   0.0|             0.0|               0.0|                 0.0|              0.0|               0.0|               0.0|               0.0|              0.0|                0.0|           0.0|               0.0|\n",
            "|    2909|1998|    1.0|       4.0|                  0.0|                     0.0|                     0.0|                      0.0|                  0.0|                 0.0|              1.2642225E-4|                 0.0|                   0.0|                     0.0|                  0.0|                   0.0|                   0.0|                   0.0|                  0.0|                    0.0|               0.0|                   0.0|              0.0|                 0.0|                 0.0|                  0.0|              0.0|             0.0|             1.0170037|             0.0|               0.0|                 0.0|              0.0|               0.0|               0.0|               0.0|              0.0|                0.0|           0.0|               0.0|\n",
            "|    3686|1990|  413.0| 3.2542372|                  0.0|                     0.0|                     0.0|                      0.0|                  0.0|                 0.0|                       0.0|                 0.0|                   0.0|                     0.0|                  0.0|                   0.0|                   0.0|                   0.0|                  0.0|           0.0021773514|               0.0|                   0.0|              0.0|                 0.0|                 0.0|                  0.0|              0.0|             0.0|                   0.0|             0.0|               0.0|                 0.0|              0.0|               0.0|               0.0|               0.0|              0.0|          0.9114321|           0.0|               0.0|\n",
            "|    1725|1997|   23.0| 3.7391305|                  0.0|                     0.0|                     0.0|                      0.0|                  0.0|                 0.0|                       0.0|          6.48748E-5|                   0.0|                     0.0|                  0.0|                   0.0|                   0.0|                   0.0|                  0.0|                    0.0|               0.0|                   0.0|              0.0|                 0.0|                 0.0|                  0.0|              0.0|             0.0|                   0.0|      0.99277765|               0.0|                 0.0|              0.0|               0.0|               0.0|               0.0|              0.0|                0.0|           0.0|               0.0|\n",
            "|    3773|1990|  171.0| 2.8187134|                  0.0|                     0.0|                     0.0|                      0.0|         4.7955578E-4|                 0.0|                       0.0|                 0.0|                   0.0|                     0.0|                  0.0|                   0.0|                   0.0|                   0.0|                  0.0|                    0.0|               0.0|                   0.0|              0.0|                 0.0|                 0.0|                  0.0|        0.8002937|             0.0|                   0.0|             0.0|               0.0|                 0.0|              0.0|               0.0|               0.0|               0.0|              0.0|                0.0|           0.0|               0.0|\n",
            "|     568|1993|   35.0|  3.857143|                  0.0|                     0.0|                     0.0|                      0.0|          9.815469E-5|                 0.0|                       0.0|         9.872253E-5|                   0.0|                     0.0|                  0.0|                   0.0|                   0.0|                   0.0|                  0.0|                    0.0|               0.0|                   0.0|              0.0|                 0.0|                 0.0|                  0.0|        1.0951263|             0.0|                   0.0|       1.0241112|               0.0|                 0.0|              0.0|               0.0|               0.0|               0.0|              0.0|                0.0|           0.0|               0.0|\n",
            "|    2523|1977|   42.0| 2.3095238|                  0.0|                     0.0|                     0.0|                      0.0|                  0.0|                 0.0|                       0.0|        1.1846704E-4|                   0.0|                     0.0|                  0.0|                   0.0|                   0.0|                   0.0|                  0.0|           2.2142557E-4|               0.0|                   0.0|              0.0|                 0.0|                 0.0|                  0.0|              0.0|             0.0|                   0.0|      0.61320233|               0.0|                 0.0|              0.0|               0.0|               0.0|               0.0|              0.0|           0.646841|           0.0|               0.0|\n",
            "|    2854|1973|   11.0| 2.3636363|                  0.0|                     0.0|                     0.0|                      0.0|                  0.0|                 0.0|                       0.0|                 0.0|                   0.0|                     0.0|         1.4400545E-4|                   0.0|                   0.0|                   0.0|                  0.0|                    0.0|               0.0|                   0.0|              0.0|                 0.0|                 0.0|                  0.0|              0.0|             0.0|                   0.0|             0.0|               0.0|                 0.0|        0.7351871|               0.0|               0.0|               0.0|              0.0|                0.0|           0.0|               0.0|\n",
            "|     627|1995|  121.0| 3.6033058|                  0.0|                     0.0|                     0.0|                      0.0|                  0.0|                 0.0|                       0.0|        3.4129788E-4|                   0.0|                     0.0|                  0.0|                   0.0|                   0.0|                   0.0|                  0.0|            6.379165E-4|               0.0|                   0.0|              0.0|                 0.0|                 0.0|                  0.0|              0.0|             0.0|                   0.0|       0.9567148|               0.0|                 0.0|              0.0|               0.0|               0.0|               0.0|              0.0|          1.0091976|           0.0|               0.0|\n",
            "|    3597|2000|   37.0| 2.7297297|                  0.0|                     0.0|                     0.0|                      0.0|         1.0376353E-4|                 0.0|                       0.0|                 0.0|                   0.0|                     0.0|                  0.0|                   0.0|                   0.0|                   0.0|                  0.0|                    0.0|               0.0|                   0.0|              0.0|                 0.0|                 0.0|                  0.0|        0.7750293|             0.0|                   0.0|             0.0|               0.0|                 0.0|              0.0|               0.0|               0.0|               0.0|              0.0|                0.0|           0.0|               0.0|\n",
            "|    2787|1985|  162.0| 2.9012346|                  0.0|                     0.0|                     0.0|                      0.0|                  0.0|                 0.0|                       0.0|                 0.0|                   0.0|                     0.0|         0.0021208075|                   0.0|                   0.0|                   0.0|                  0.0|                    0.0|               0.0|                   0.0|              0.0|                 0.0|                 0.0|                  0.0|              0.0|             0.0|                   0.0|             0.0|               0.0|                 0.0|       0.90240204|               0.0|               0.0|               0.0|              0.0|                0.0|           0.0|               0.0|\n",
            "|    3478|1987|  266.0|  3.330827|                  0.0|                     0.0|                     0.0|                      0.0|                  0.0|                 0.0|                       0.0|         7.502912E-4|                   0.0|                     0.0|                  0.0|                   0.0|                   0.0|                   0.0|                  0.0|                    0.0|               0.0|                   0.0|              0.0|                 0.0|                 0.0|                  0.0|              0.0|             0.0|                   0.0|       0.8843689|               0.0|                 0.0|              0.0|               0.0|               0.0|               0.0|              0.0|                0.0|           0.0|               0.0|\n",
            "|    2868|1989|   63.0| 2.3015873|                  0.0|                     0.0|                     0.0|                      0.0|                  0.0|                 0.0|                       0.0|                 0.0|                   0.0|                     0.0|          8.247585E-4|                   0.0|                   0.0|                   0.0|                  0.0|                    0.0|               0.0|                   0.0|              0.0|                 0.0|                 0.0|                  0.0|              0.0|             0.0|                   0.0|             0.0|               0.0|                 0.0|       0.71588737|               0.0|               0.0|               0.0|              0.0|                0.0|           0.0|               0.0|\n",
            "|     866|1996|  572.0| 3.8234265|                  0.0|                     0.0|                     0.0|                      0.0|                  0.0|          0.00719126|                       0.0|        0.0016134082|                   0.0|                     0.0|                  0.0|                   0.0|                   0.0|          0.0038773615|                  0.0|           0.0030156053|               0.0|                   0.0|              0.0|                 0.0|                 0.0|                  0.0|              0.0|       1.0309404|                   0.0|       1.0151591|               0.0|                 0.0|              0.0|               0.0|               0.0|         1.0598654|              0.0|           1.070848|           0.0|               0.0|\n",
            "|    1602|1997|   43.0| 2.1162791|                  0.0|                     0.0|                     0.0|                      0.0|         1.2059005E-4|                 0.0|                       0.0|                 0.0|                   0.0|                     0.0|                  0.0|                   0.0|                   0.0|                   0.0|                  0.0|                    0.0|               0.0|                   0.0|              0.0|                 0.0|                 0.0|                  0.0|        0.6008574|             0.0|                   0.0|             0.0|               0.0|                 0.0|              0.0|               0.0|               0.0|               0.0|              0.0|                0.0|           0.0|               0.0|\n",
            "+--------+----+-------+----------+---------------------+------------------------+------------------------+-------------------------+---------------------+--------------------+--------------------------+--------------------+----------------------+------------------------+---------------------+----------------------+----------------------+----------------------+---------------------+-----------------------+------------------+----------------------+-----------------+--------------------+--------------------+---------------------+-----------------+----------------+----------------------+----------------+------------------+--------------------+-----------------+------------------+------------------+------------------+-----------------+-------------------+--------------+------------------+\n",
            "only showing top 20 rows\n",
            "\n"
          ]
        }
      ]
    },
    {
      "cell_type": "code",
      "source": [
        "\n",
        "silhouette = 0\n",
        "seed = 0\n",
        "\n",
        "# Vectorize the features\n",
        "feature_columns = movies.columns\n",
        "feature_columns.remove(\"movie_id\")  # Exclude the user_id column\n",
        "assembler = VectorAssembler(inputCols=feature_columns, outputCol=\"features\")\n",
        "data = assembler.transform(movies)\n",
        "\n",
        "#Loop till silhouette score is reached\n",
        "while (silhouette < 0.575):\n",
        "      #Change seed\n",
        "      seed += 1\n",
        "\n",
        "      # Initialize KMeans model with 600 clusters\n",
        "      kmeans = KMeans().setK(100).setSeed(seed)\n",
        "\n",
        "      # Train the model\n",
        "      model = kmeans.fit(data)\n",
        "\n",
        "      # Make predictions\n",
        "      predictions = model.transform(data)\n",
        "\n",
        "      # Evaluate clustering by computing Silhouette score\n",
        "      evaluator = ClusteringEvaluator()\n",
        "      silhouette = evaluator.evaluate(predictions)\n",
        "\n",
        "# Shows the result.\n",
        "centers = model.clusterCenters()"
      ],
      "metadata": {
        "colab": {
          "base_uri": "https://localhost:8080/",
          "height": 911
        },
        "id": "9YG-6h_qbUA8",
        "outputId": "66d3f111-4dab-4c71-a4af-094f5e0c58ad"
      },
      "execution_count": 89,
      "outputs": [
        {
          "output_type": "stream",
          "name": "stdout",
          "text": [
            "0.5580307669868385\n",
            "0.5493050133106248\n",
            "0.5778642371869518\n",
            "0.5470405071177543\n",
            "0.5778164019855081\n",
            "0.5520918173948272\n",
            "0.5793899299138502\n",
            "0.5593479964261859\n",
            "0.5365441812333989\n",
            "0.5515163419279284\n",
            "0.5648181814686662\n",
            "0.5718330468527906\n",
            "0.5654696966196621\n",
            "0.5681222621169175\n",
            "0.5414409313393079\n",
            "0.5660267545609082\n",
            "0.53629520670358\n",
            "0.521873130539177\n",
            "0.5559056196317238\n",
            "0.5730593554348274\n",
            "0.5587481341890065\n",
            "0.5344324013488653\n",
            "0.5784175343676476\n"
          ]
        },
        {
          "output_type": "stream",
          "name": "stderr",
          "text": [
            "ERROR:root:KeyboardInterrupt while sending command.\n",
            "Traceback (most recent call last):\n",
            "  File \"/usr/local/lib/python3.10/dist-packages/py4j/java_gateway.py\", line 1038, in send_command\n",
            "    response = connection.send_command(command)\n",
            "  File \"/usr/local/lib/python3.10/dist-packages/py4j/clientserver.py\", line 511, in send_command\n",
            "    answer = smart_decode(self.stream.readline()[:-1])\n",
            "  File \"/usr/lib/python3.10/socket.py\", line 705, in readinto\n",
            "    return self._sock.recv_into(b)\n",
            "KeyboardInterrupt\n"
          ]
        },
        {
          "output_type": "error",
          "ename": "KeyboardInterrupt",
          "evalue": "",
          "traceback": [
            "\u001b[0;31m---------------------------------------------------------------------------\u001b[0m",
            "\u001b[0;31mKeyboardInterrupt\u001b[0m                         Traceback (most recent call last)",
            "\u001b[0;32m<ipython-input-89-b4d31108f113>\u001b[0m in \u001b[0;36m<cell line: 10>\u001b[0;34m()\u001b[0m\n\u001b[1;32m     23\u001b[0m       \u001b[0;31m# Evaluate clustering by computing Silhouette score\u001b[0m\u001b[0;34m\u001b[0m\u001b[0;34m\u001b[0m\u001b[0m\n\u001b[1;32m     24\u001b[0m       \u001b[0mevaluator\u001b[0m \u001b[0;34m=\u001b[0m \u001b[0mClusteringEvaluator\u001b[0m\u001b[0;34m(\u001b[0m\u001b[0;34m)\u001b[0m\u001b[0;34m\u001b[0m\u001b[0;34m\u001b[0m\u001b[0m\n\u001b[0;32m---> 25\u001b[0;31m       \u001b[0msilhouette\u001b[0m \u001b[0;34m=\u001b[0m \u001b[0mevaluator\u001b[0m\u001b[0;34m.\u001b[0m\u001b[0mevaluate\u001b[0m\u001b[0;34m(\u001b[0m\u001b[0mpredictions\u001b[0m\u001b[0;34m)\u001b[0m\u001b[0;34m\u001b[0m\u001b[0;34m\u001b[0m\u001b[0m\n\u001b[0m\u001b[1;32m     26\u001b[0m       \u001b[0mprint\u001b[0m\u001b[0;34m(\u001b[0m\u001b[0msilhouette\u001b[0m\u001b[0;34m)\u001b[0m\u001b[0;34m\u001b[0m\u001b[0;34m\u001b[0m\u001b[0m\n\u001b[1;32m     27\u001b[0m \u001b[0;34m\u001b[0m\u001b[0m\n",
            "\u001b[0;32m/usr/local/lib/python3.10/dist-packages/pyspark/ml/evaluation.py\u001b[0m in \u001b[0;36mevaluate\u001b[0;34m(self, dataset, params)\u001b[0m\n\u001b[1;32m    109\u001b[0m                 \u001b[0;32mreturn\u001b[0m \u001b[0mself\u001b[0m\u001b[0;34m.\u001b[0m\u001b[0mcopy\u001b[0m\u001b[0;34m(\u001b[0m\u001b[0mparams\u001b[0m\u001b[0;34m)\u001b[0m\u001b[0;34m.\u001b[0m\u001b[0m_evaluate\u001b[0m\u001b[0;34m(\u001b[0m\u001b[0mdataset\u001b[0m\u001b[0;34m)\u001b[0m\u001b[0;34m\u001b[0m\u001b[0;34m\u001b[0m\u001b[0m\n\u001b[1;32m    110\u001b[0m             \u001b[0;32melse\u001b[0m\u001b[0;34m:\u001b[0m\u001b[0;34m\u001b[0m\u001b[0;34m\u001b[0m\u001b[0m\n\u001b[0;32m--> 111\u001b[0;31m                 \u001b[0;32mreturn\u001b[0m \u001b[0mself\u001b[0m\u001b[0;34m.\u001b[0m\u001b[0m_evaluate\u001b[0m\u001b[0;34m(\u001b[0m\u001b[0mdataset\u001b[0m\u001b[0;34m)\u001b[0m\u001b[0;34m\u001b[0m\u001b[0;34m\u001b[0m\u001b[0m\n\u001b[0m\u001b[1;32m    112\u001b[0m         \u001b[0;32melse\u001b[0m\u001b[0;34m:\u001b[0m\u001b[0;34m\u001b[0m\u001b[0;34m\u001b[0m\u001b[0m\n\u001b[1;32m    113\u001b[0m             \u001b[0;32mraise\u001b[0m \u001b[0mTypeError\u001b[0m\u001b[0;34m(\u001b[0m\u001b[0;34m\"Params must be a param map but got %s.\"\u001b[0m \u001b[0;34m%\u001b[0m \u001b[0mtype\u001b[0m\u001b[0;34m(\u001b[0m\u001b[0mparams\u001b[0m\u001b[0;34m)\u001b[0m\u001b[0;34m)\u001b[0m\u001b[0;34m\u001b[0m\u001b[0;34m\u001b[0m\u001b[0m\n",
            "\u001b[0;32m/usr/local/lib/python3.10/dist-packages/pyspark/ml/evaluation.py\u001b[0m in \u001b[0;36m_evaluate\u001b[0;34m(self, dataset)\u001b[0m\n\u001b[1;32m    146\u001b[0m         \u001b[0mself\u001b[0m\u001b[0;34m.\u001b[0m\u001b[0m_transfer_params_to_java\u001b[0m\u001b[0;34m(\u001b[0m\u001b[0;34m)\u001b[0m\u001b[0;34m\u001b[0m\u001b[0;34m\u001b[0m\u001b[0m\n\u001b[1;32m    147\u001b[0m         \u001b[0;32massert\u001b[0m \u001b[0mself\u001b[0m\u001b[0;34m.\u001b[0m\u001b[0m_java_obj\u001b[0m \u001b[0;32mis\u001b[0m \u001b[0;32mnot\u001b[0m \u001b[0;32mNone\u001b[0m\u001b[0;34m\u001b[0m\u001b[0;34m\u001b[0m\u001b[0m\n\u001b[0;32m--> 148\u001b[0;31m         \u001b[0;32mreturn\u001b[0m \u001b[0mself\u001b[0m\u001b[0;34m.\u001b[0m\u001b[0m_java_obj\u001b[0m\u001b[0;34m.\u001b[0m\u001b[0mevaluate\u001b[0m\u001b[0;34m(\u001b[0m\u001b[0mdataset\u001b[0m\u001b[0;34m.\u001b[0m\u001b[0m_jdf\u001b[0m\u001b[0;34m)\u001b[0m\u001b[0;34m\u001b[0m\u001b[0;34m\u001b[0m\u001b[0m\n\u001b[0m\u001b[1;32m    149\u001b[0m \u001b[0;34m\u001b[0m\u001b[0m\n\u001b[1;32m    150\u001b[0m     \u001b[0;32mdef\u001b[0m \u001b[0misLargerBetter\u001b[0m\u001b[0;34m(\u001b[0m\u001b[0mself\u001b[0m\u001b[0;34m)\u001b[0m \u001b[0;34m->\u001b[0m \u001b[0mbool\u001b[0m\u001b[0;34m:\u001b[0m\u001b[0;34m\u001b[0m\u001b[0;34m\u001b[0m\u001b[0m\n",
            "\u001b[0;32m/usr/local/lib/python3.10/dist-packages/py4j/java_gateway.py\u001b[0m in \u001b[0;36m__call__\u001b[0;34m(self, *args)\u001b[0m\n\u001b[1;32m   1319\u001b[0m             \u001b[0mproto\u001b[0m\u001b[0;34m.\u001b[0m\u001b[0mEND_COMMAND_PART\u001b[0m\u001b[0;34m\u001b[0m\u001b[0;34m\u001b[0m\u001b[0m\n\u001b[1;32m   1320\u001b[0m \u001b[0;34m\u001b[0m\u001b[0m\n\u001b[0;32m-> 1321\u001b[0;31m         \u001b[0manswer\u001b[0m \u001b[0;34m=\u001b[0m \u001b[0mself\u001b[0m\u001b[0;34m.\u001b[0m\u001b[0mgateway_client\u001b[0m\u001b[0;34m.\u001b[0m\u001b[0msend_command\u001b[0m\u001b[0;34m(\u001b[0m\u001b[0mcommand\u001b[0m\u001b[0;34m)\u001b[0m\u001b[0;34m\u001b[0m\u001b[0;34m\u001b[0m\u001b[0m\n\u001b[0m\u001b[1;32m   1322\u001b[0m         return_value = get_return_value(\n\u001b[1;32m   1323\u001b[0m             answer, self.gateway_client, self.target_id, self.name)\n",
            "\u001b[0;32m/usr/local/lib/python3.10/dist-packages/py4j/java_gateway.py\u001b[0m in \u001b[0;36msend_command\u001b[0;34m(self, command, retry, binary)\u001b[0m\n\u001b[1;32m   1036\u001b[0m         \u001b[0mconnection\u001b[0m \u001b[0;34m=\u001b[0m \u001b[0mself\u001b[0m\u001b[0;34m.\u001b[0m\u001b[0m_get_connection\u001b[0m\u001b[0;34m(\u001b[0m\u001b[0;34m)\u001b[0m\u001b[0;34m\u001b[0m\u001b[0;34m\u001b[0m\u001b[0m\n\u001b[1;32m   1037\u001b[0m         \u001b[0;32mtry\u001b[0m\u001b[0;34m:\u001b[0m\u001b[0;34m\u001b[0m\u001b[0;34m\u001b[0m\u001b[0m\n\u001b[0;32m-> 1038\u001b[0;31m             \u001b[0mresponse\u001b[0m \u001b[0;34m=\u001b[0m \u001b[0mconnection\u001b[0m\u001b[0;34m.\u001b[0m\u001b[0msend_command\u001b[0m\u001b[0;34m(\u001b[0m\u001b[0mcommand\u001b[0m\u001b[0;34m)\u001b[0m\u001b[0;34m\u001b[0m\u001b[0;34m\u001b[0m\u001b[0m\n\u001b[0m\u001b[1;32m   1039\u001b[0m             \u001b[0;32mif\u001b[0m \u001b[0mbinary\u001b[0m\u001b[0;34m:\u001b[0m\u001b[0;34m\u001b[0m\u001b[0;34m\u001b[0m\u001b[0m\n\u001b[1;32m   1040\u001b[0m                 \u001b[0;32mreturn\u001b[0m \u001b[0mresponse\u001b[0m\u001b[0;34m,\u001b[0m \u001b[0mself\u001b[0m\u001b[0;34m.\u001b[0m\u001b[0m_create_connection_guard\u001b[0m\u001b[0;34m(\u001b[0m\u001b[0mconnection\u001b[0m\u001b[0;34m)\u001b[0m\u001b[0;34m\u001b[0m\u001b[0;34m\u001b[0m\u001b[0m\n",
            "\u001b[0;32m/usr/local/lib/python3.10/dist-packages/py4j/clientserver.py\u001b[0m in \u001b[0;36msend_command\u001b[0;34m(self, command)\u001b[0m\n\u001b[1;32m    509\u001b[0m         \u001b[0;32mtry\u001b[0m\u001b[0;34m:\u001b[0m\u001b[0;34m\u001b[0m\u001b[0;34m\u001b[0m\u001b[0m\n\u001b[1;32m    510\u001b[0m             \u001b[0;32mwhile\u001b[0m \u001b[0;32mTrue\u001b[0m\u001b[0;34m:\u001b[0m\u001b[0;34m\u001b[0m\u001b[0;34m\u001b[0m\u001b[0m\n\u001b[0;32m--> 511\u001b[0;31m                 \u001b[0manswer\u001b[0m \u001b[0;34m=\u001b[0m \u001b[0msmart_decode\u001b[0m\u001b[0;34m(\u001b[0m\u001b[0mself\u001b[0m\u001b[0;34m.\u001b[0m\u001b[0mstream\u001b[0m\u001b[0;34m.\u001b[0m\u001b[0mreadline\u001b[0m\u001b[0;34m(\u001b[0m\u001b[0;34m)\u001b[0m\u001b[0;34m[\u001b[0m\u001b[0;34m:\u001b[0m\u001b[0;34m-\u001b[0m\u001b[0;36m1\u001b[0m\u001b[0;34m]\u001b[0m\u001b[0;34m)\u001b[0m\u001b[0;34m\u001b[0m\u001b[0;34m\u001b[0m\u001b[0m\n\u001b[0m\u001b[1;32m    512\u001b[0m                 \u001b[0mlogger\u001b[0m\u001b[0;34m.\u001b[0m\u001b[0mdebug\u001b[0m\u001b[0;34m(\u001b[0m\u001b[0;34m\"Answer received: {0}\"\u001b[0m\u001b[0;34m.\u001b[0m\u001b[0mformat\u001b[0m\u001b[0;34m(\u001b[0m\u001b[0manswer\u001b[0m\u001b[0;34m)\u001b[0m\u001b[0;34m)\u001b[0m\u001b[0;34m\u001b[0m\u001b[0;34m\u001b[0m\u001b[0m\n\u001b[1;32m    513\u001b[0m                 \u001b[0;31m# Happens when a the other end is dead. There might be an empty\u001b[0m\u001b[0;34m\u001b[0m\u001b[0;34m\u001b[0m\u001b[0m\n",
            "\u001b[0;32m/usr/lib/python3.10/socket.py\u001b[0m in \u001b[0;36mreadinto\u001b[0;34m(self, b)\u001b[0m\n\u001b[1;32m    703\u001b[0m         \u001b[0;32mwhile\u001b[0m \u001b[0;32mTrue\u001b[0m\u001b[0;34m:\u001b[0m\u001b[0;34m\u001b[0m\u001b[0;34m\u001b[0m\u001b[0m\n\u001b[1;32m    704\u001b[0m             \u001b[0;32mtry\u001b[0m\u001b[0;34m:\u001b[0m\u001b[0;34m\u001b[0m\u001b[0;34m\u001b[0m\u001b[0m\n\u001b[0;32m--> 705\u001b[0;31m                 \u001b[0;32mreturn\u001b[0m \u001b[0mself\u001b[0m\u001b[0;34m.\u001b[0m\u001b[0m_sock\u001b[0m\u001b[0;34m.\u001b[0m\u001b[0mrecv_into\u001b[0m\u001b[0;34m(\u001b[0m\u001b[0mb\u001b[0m\u001b[0;34m)\u001b[0m\u001b[0;34m\u001b[0m\u001b[0;34m\u001b[0m\u001b[0m\n\u001b[0m\u001b[1;32m    706\u001b[0m             \u001b[0;32mexcept\u001b[0m \u001b[0mtimeout\u001b[0m\u001b[0;34m:\u001b[0m\u001b[0;34m\u001b[0m\u001b[0;34m\u001b[0m\u001b[0m\n\u001b[1;32m    707\u001b[0m                 \u001b[0mself\u001b[0m\u001b[0;34m.\u001b[0m\u001b[0m_timeout_occurred\u001b[0m \u001b[0;34m=\u001b[0m \u001b[0;32mTrue\u001b[0m\u001b[0;34m\u001b[0m\u001b[0;34m\u001b[0m\u001b[0m\n",
            "\u001b[0;31mKeyboardInterrupt\u001b[0m: "
          ]
        }
      ]
    },
    {
      "cell_type": "code",
      "source": [
        "\n",
        "#Get all the high rated movies of the user\n",
        "req_highly_rated_movies = ratings.filter((ratings[\"user_id\"] == req_user_id) & (ratings[\"rating\"] == 5))\n",
        "#Join ratings with predictions to associate movies with clusters\n",
        "joined_data = req_highly_rated_movies.join(predictions, on=\"movie_id\")\n",
        "\n",
        "#Count the number of movies rated 5 in each cluster\n",
        "cluster_counts = joined_data.groupBy(\"prediction\").agg(F.countDistinct(\"movie_id\").alias(\"count_5_rating\"))\n",
        "\n",
        "#Find the cluster with the most movies rated 5\n",
        "most_rated_cluster = cluster_counts.orderBy(F.desc(\"count_5_rating\")).first()[\"prediction\"]\n",
        "\n",
        "# Print the cluster with the most movies rated 5\n",
        "print(\"Cluster with the most movies rated 5:\", most_rated_cluster)"
      ],
      "metadata": {
        "colab": {
          "base_uri": "https://localhost:8080/"
        },
        "id": "GAaCdlvuKXnY",
        "outputId": "d0b06537-e0b7-4491-8044-87482f04dba8"
      },
      "execution_count": 74,
      "outputs": [
        {
          "output_type": "stream",
          "name": "stdout",
          "text": [
            "Cluster with the most movies rated 5: 78\n"
          ]
        }
      ]
    },
    {
      "cell_type": "code",
      "source": [
        "# Filter predictions for movies in the cluster with the most movies rated 5\n",
        "req_cluster_movies = predictions.filter(predictions[\"prediction\"] == most_rated_cluster)\n",
        "\n",
        "# Join with orig_movies to get movie information\n",
        "movies_in_cluster_except_rated = req_cluster_movies.join(orig_movies, on=\"movie_id\")\n",
        "\n",
        "# Filter out movies that req_user_id has rated\n",
        "user_rated_movies = ratings.filter(ratings[\"user_id\"] == req_user_id).select(\"movie_id\").distinct()\n",
        "movies_in_cluster_except_rated = movies_in_cluster_except_rated.join(user_rated_movies, on=\"movie_id\", how=\"left_anti\").select(\"movie_id\", \"year\", \"watches\", \"Movie_Title\", \"Genre\")\n",
        "\n",
        "# Show the remaining movies in the cluster\n",
        "movies_in_cluster_except_rated.show()"
      ],
      "metadata": {
        "colab": {
          "base_uri": "https://localhost:8080/"
        },
        "id": "-4UWcXEXK5lh",
        "outputId": "ea7ec30c-8a3f-46e6-97c3-67586a9ce077"
      },
      "execution_count": 80,
      "outputs": [
        {
          "output_type": "stream",
          "name": "stdout",
          "text": [
            "+--------+----+-------+--------------------+--------------------+\n",
            "|movie_id|year|watches|         Movie_Title|               Genre|\n",
            "+--------+----+-------+--------------------+--------------------+\n",
            "|      47|1995| 1137.0|Seven (Se7en) (1995)|      Crime|Thriller|\n",
            "|     923|1941| 1116.0| Citizen Kane (1941)|               Drama|\n",
            "|    1242|1989| 1112.0|        Glory (1989)|    Action|Drama|War|\n",
            "|    1288|1984| 1118.0|This Is Spinal Ta...|Comedy|Drama|Musical|\n",
            "|    1500|1997| 1136.0|Grosse Pointe Bla...|        Comedy|Crime|\n",
            "|    1673|1997| 1128.0|Boogie Nights (1997)|               Drama|\n",
            "|    3160|1999| 1113.0|     Magnolia (1999)|               Drama|\n",
            "|    3253|1992| 1120.0|Wayne's World (1992)|              Comedy|\n",
            "|    3671|1974| 1119.0|Blazing Saddles (...|      Comedy|Western|\n",
            "+--------+----+-------+--------------------+--------------------+\n",
            "\n"
          ]
        }
      ]
    }
  ]
}