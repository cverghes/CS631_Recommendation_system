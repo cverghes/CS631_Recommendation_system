{
  "cells": [
    {
      "cell_type": "markdown",
      "id": "322ee51e",
      "metadata": {
        "id": "322ee51e"
      },
      "source": [
        "# 1. Data Loading"
      ]
    },
    {
      "cell_type": "code",
      "source": [
        "!apt-get update -qq > /dev/null\n",
        "!apt-get install openjdk-8-jdk-headless -qq > /dev/null\n",
        "!wget -q https://dlcdn.apache.org/spark/spark-3.4.2/spark-3.4.2-bin-hadoop3.tgz\n",
        "!tar xf spark-3.4.2-bin-hadoop3.tgz\n",
        "!pip install -q findspark\n",
        "!pip install -q pyspark"
      ],
      "metadata": {
        "colab": {
          "base_uri": "https://localhost:8080/"
        },
        "id": "cUCyHlcdGp3u",
        "outputId": "d96d1943-75ab-48c9-be33-bc1d56e07f5a"
      },
      "id": "cUCyHlcdGp3u",
      "execution_count": null,
      "outputs": [
        {
          "output_type": "stream",
          "name": "stdout",
          "text": [
            "\u001b[2K     \u001b[90m━━━━━━━━━━━━━━━━━━━━━━━━━━━━━━━━━━━━━━━━\u001b[0m \u001b[32m317.0/317.0 MB\u001b[0m \u001b[31m4.7 MB/s\u001b[0m eta \u001b[36m0:00:00\u001b[0m\n",
            "\u001b[?25h  Preparing metadata (setup.py) ... \u001b[?25l\u001b[?25hdone\n",
            "  Building wheel for pyspark (setup.py) ... \u001b[?25l\u001b[?25hdone\n"
          ]
        }
      ]
    },
    {
      "cell_type": "code",
      "execution_count": null,
      "id": "37614470",
      "metadata": {
        "id": "37614470"
      },
      "outputs": [],
      "source": [
        "import os\n",
        "import sys\n",
        "import pandas as pd\n",
        "import numpy as np\n",
        "import pyspark\n",
        "from pyspark.sql import SparkSession\n",
        "import pyspark.ml as ml\n",
        "\n",
        "os.environ['PYSPARK_PYTHON'] = sys.executable\n",
        "os.environ['PYSPARK_DRIVER_PYTHON'] = sys.executable"
      ]
    },
    {
      "cell_type": "code",
      "execution_count": null,
      "id": "0481045f",
      "metadata": {
        "id": "0481045f"
      },
      "outputs": [],
      "source": [
        "spark = SparkSession.builder.appName(\"YourAppName\").getOrCreate()"
      ]
    },
    {
      "cell_type": "code",
      "execution_count": null,
      "id": "89d6823e",
      "metadata": {
        "id": "89d6823e"
      },
      "outputs": [],
      "source": [
        "def load_dfs():\n",
        "    global movies, users, ratings\n",
        "    movies = spark.read.csv(\"/content/drive/MyDrive/movieLens/movies.dat\", sep=\"::\", encoding=\"latin1\")\n",
        "    movies = movies.toDF(\"movie_id\", \"movie_name\", \"genre\").cache()\n",
        "    movies.createOrReplaceTempView(\"movies_info\")\n",
        "\n",
        "    users = spark.read.csv(\"/content/drive/MyDrive/movieLens/users.dat\", sep=\"::\", encoding=\"latin1\")\n",
        "    users = users.toDF(\"user_id\", \"gender\", \"age\", \"occupation\", \"zipcode\").cache()\n",
        "    users.createOrReplaceTempView(\"users_info\")\n",
        "\n",
        "    ratings = spark.read.csv(\"/content/drive/MyDrive/movieLens/ratings.dat\", sep=\"::\", encoding=\"latin1\")\n",
        "    ratings = ratings.toDF(\"user_id\", \"movie_id\", \"rating\", \"time_stamp\").cache()\n",
        "    ratings.createOrReplaceTempView(\"ratings_info\")"
      ]
    },
    {
      "cell_type": "code",
      "source": [
        "from google.colab import drive\n",
        "drive.mount('/content/drive')"
      ],
      "metadata": {
        "colab": {
          "base_uri": "https://localhost:8080/"
        },
        "id": "yO7g1TIDG8ms",
        "outputId": "10a72a50-c87b-472b-8e13-9389be2327f7"
      },
      "id": "yO7g1TIDG8ms",
      "execution_count": null,
      "outputs": [
        {
          "output_type": "stream",
          "name": "stdout",
          "text": [
            "Mounted at /content/drive\n"
          ]
        }
      ]
    },
    {
      "cell_type": "code",
      "execution_count": null,
      "id": "b3446d96",
      "metadata": {
        "id": "b3446d96"
      },
      "outputs": [],
      "source": [
        "load_dfs()"
      ]
    },
    {
      "cell_type": "code",
      "execution_count": null,
      "id": "250f9e22",
      "metadata": {
        "colab": {
          "base_uri": "https://localhost:8080/"
        },
        "id": "250f9e22",
        "outputId": "3e24f1b5-255c-4156-a118-155050749506"
      },
      "outputs": [
        {
          "output_type": "stream",
          "name": "stdout",
          "text": [
            "+--------+--------------------+--------------------+\n",
            "|movie_id|          movie_name|               genre|\n",
            "+--------+--------------------+--------------------+\n",
            "|       1|    Toy Story (1995)|Animation|Childre...|\n",
            "|       2|      Jumanji (1995)|Adventure|Childre...|\n",
            "|       3|Grumpier Old Men ...|      Comedy|Romance|\n",
            "|       4|Waiting to Exhale...|        Comedy|Drama|\n",
            "|       5|Father of the Bri...|              Comedy|\n",
            "+--------+--------------------+--------------------+\n",
            "only showing top 5 rows\n",
            "\n"
          ]
        }
      ],
      "source": [
        "movies.show(5)"
      ]
    },
    {
      "cell_type": "code",
      "execution_count": null,
      "id": "5fc725ba",
      "metadata": {
        "colab": {
          "base_uri": "https://localhost:8080/"
        },
        "id": "5fc725ba",
        "outputId": "1b56140b-0f67-47f5-87b7-0fb12c69e6e8"
      },
      "outputs": [
        {
          "output_type": "stream",
          "name": "stdout",
          "text": [
            "+-------+------+---+----------+-------+\n",
            "|user_id|gender|age|occupation|zipcode|\n",
            "+-------+------+---+----------+-------+\n",
            "|      1|     F|  1|        10|  48067|\n",
            "|      2|     M| 56|        16|  70072|\n",
            "|      3|     M| 25|        15|  55117|\n",
            "|      4|     M| 45|         7|  02460|\n",
            "|      5|     M| 25|        20|  55455|\n",
            "+-------+------+---+----------+-------+\n",
            "only showing top 5 rows\n",
            "\n"
          ]
        }
      ],
      "source": [
        "users.show(5)"
      ]
    },
    {
      "cell_type": "code",
      "execution_count": null,
      "id": "4a4a3f4f",
      "metadata": {
        "colab": {
          "base_uri": "https://localhost:8080/"
        },
        "id": "4a4a3f4f",
        "outputId": "ceaaa2d7-d6bb-4279-d296-90f668e03e2f"
      },
      "outputs": [
        {
          "output_type": "stream",
          "name": "stdout",
          "text": [
            "+-------+--------+------+----------+\n",
            "|user_id|movie_id|rating|time_stamp|\n",
            "+-------+--------+------+----------+\n",
            "|      1|    1193|     5| 978300760|\n",
            "|      1|     661|     3| 978302109|\n",
            "|      1|     914|     3| 978301968|\n",
            "|      1|    3408|     4| 978300275|\n",
            "|      1|    2355|     5| 978824291|\n",
            "+-------+--------+------+----------+\n",
            "only showing top 5 rows\n",
            "\n"
          ]
        }
      ],
      "source": [
        "ratings.show(5)"
      ]
    },
    {
      "cell_type": "markdown",
      "id": "6b3654bb",
      "metadata": {
        "id": "6b3654bb"
      },
      "source": [
        "# 2. Checking Null Values"
      ]
    },
    {
      "cell_type": "code",
      "execution_count": null,
      "id": "9591a618",
      "metadata": {
        "id": "9591a618"
      },
      "outputs": [],
      "source": [
        "def inspect_null(df):\n",
        "    for col in df.columns:\n",
        "        empty = df.filter(df[col].isNull()).count()\n",
        "        print(f\"For columns {col}:\\t{empty} null records\")"
      ]
    },
    {
      "cell_type": "code",
      "execution_count": null,
      "id": "b00f448c",
      "metadata": {
        "colab": {
          "base_uri": "https://localhost:8080/"
        },
        "id": "b00f448c",
        "outputId": "22b5f4ef-7b44-441e-f4d6-a1fd3b07fc9b"
      },
      "outputs": [
        {
          "output_type": "stream",
          "name": "stdout",
          "text": [
            "For columns movie_id:\t0 null records\n",
            "For columns movie_name:\t0 null records\n",
            "For columns genre:\t0 null records\n"
          ]
        }
      ],
      "source": [
        "inspect_null(movies)"
      ]
    },
    {
      "cell_type": "code",
      "execution_count": null,
      "id": "78611a6a",
      "metadata": {
        "colab": {
          "base_uri": "https://localhost:8080/"
        },
        "id": "78611a6a",
        "outputId": "75acedc3-cc03-4d52-9ecd-e0b33240f9b6"
      },
      "outputs": [
        {
          "output_type": "stream",
          "name": "stdout",
          "text": [
            "For columns user_id:\t0 null records\n",
            "For columns gender:\t0 null records\n",
            "For columns age:\t0 null records\n",
            "For columns occupation:\t0 null records\n",
            "For columns zipcode:\t0 null records\n"
          ]
        }
      ],
      "source": [
        "inspect_null(users)"
      ]
    },
    {
      "cell_type": "code",
      "execution_count": null,
      "id": "60ee080f",
      "metadata": {
        "colab": {
          "base_uri": "https://localhost:8080/"
        },
        "id": "60ee080f",
        "outputId": "39bc789d-eeb0-4eba-9e27-70709d111bb6"
      },
      "outputs": [
        {
          "output_type": "stream",
          "name": "stdout",
          "text": [
            "For columns user_id:\t0 null records\n",
            "For columns movie_id:\t0 null records\n",
            "For columns rating:\t0 null records\n",
            "For columns time_stamp:\t0 null records\n"
          ]
        }
      ],
      "source": [
        "inspect_null(ratings)"
      ]
    },
    {
      "cell_type": "markdown",
      "id": "2f026c24",
      "metadata": {
        "id": "2f026c24"
      },
      "source": [
        "# 3. Encoding String Data Types"
      ]
    },
    {
      "cell_type": "markdown",
      "id": "013d3571",
      "metadata": {
        "id": "013d3571"
      },
      "source": [
        "## 3.1. For Users Dataset"
      ]
    },
    {
      "cell_type": "code",
      "execution_count": null,
      "id": "6f560786",
      "metadata": {
        "colab": {
          "base_uri": "https://localhost:8080/"
        },
        "id": "6f560786",
        "outputId": "393ed41b-31c0-4f2b-b5a9-82517155c284"
      },
      "outputs": [
        {
          "output_type": "stream",
          "name": "stdout",
          "text": [
            "root\n",
            " |-- user_id: string (nullable = true)\n",
            " |-- gender: string (nullable = true)\n",
            " |-- age: string (nullable = true)\n",
            " |-- occupation: string (nullable = true)\n",
            " |-- zipcode: string (nullable = true)\n",
            "\n"
          ]
        }
      ],
      "source": [
        "users.printSchema()"
      ]
    },
    {
      "cell_type": "markdown",
      "id": "e41219b2",
      "metadata": {
        "id": "e41219b2"
      },
      "source": [
        "**Gender**"
      ]
    },
    {
      "cell_type": "code",
      "execution_count": null,
      "id": "1a327000",
      "metadata": {
        "id": "1a327000"
      },
      "outputs": [],
      "source": [
        "users = users.withColumn(\"gender\", pyspark.sql.functions.when(users[\"gender\"] == 'M', 1).otherwise(0))"
      ]
    },
    {
      "cell_type": "markdown",
      "id": "705ea486",
      "metadata": {
        "id": "705ea486"
      },
      "source": [
        "**Mapping Age to Age Category**"
      ]
    },
    {
      "cell_type": "code",
      "execution_count": null,
      "id": "1de20718",
      "metadata": {
        "id": "1de20718"
      },
      "outputs": [],
      "source": [
        "from pyspark.sql.functions import udf\n",
        "from pyspark.sql.types import StringType, IntegerType\n",
        "\n",
        "label_mapping = {\n",
        "    1: 1,\n",
        "    18: 2,\n",
        "    25: 3,\n",
        "    35: 4,\n",
        "    45: 5,\n",
        "    50: 6,\n",
        "    56: 7\n",
        "}\n",
        "\n",
        "age_udf = udf(lambda record: label_mapping[int(record)], IntegerType())\n",
        "users = users.withColumn(\"age\", age_udf(users[\"age\"]))"
      ]
    },
    {
      "cell_type": "code",
      "execution_count": null,
      "id": "ebb9cb4f",
      "metadata": {
        "colab": {
          "base_uri": "https://localhost:8080/"
        },
        "id": "ebb9cb4f",
        "outputId": "dec6846e-552d-472c-d205-e1a51dd42c00"
      },
      "outputs": [
        {
          "output_type": "stream",
          "name": "stdout",
          "text": [
            "+-------+------+---+----------+-------+\n",
            "|user_id|gender|age|occupation|zipcode|\n",
            "+-------+------+---+----------+-------+\n",
            "|      1|     0|  1|        10|  48067|\n",
            "|      2|     1|  7|        16|  70072|\n",
            "|      3|     1|  3|        15|  55117|\n",
            "|      4|     1|  5|         7|  02460|\n",
            "|      5|     1|  3|        20|  55455|\n",
            "+-------+------+---+----------+-------+\n",
            "only showing top 5 rows\n",
            "\n"
          ]
        }
      ],
      "source": [
        "users.show(5)"
      ]
    },
    {
      "cell_type": "markdown",
      "id": "1f397822",
      "metadata": {
        "id": "1f397822"
      },
      "source": [
        "**Mapping Zipcode to Region & Imputing the missing values by 0**"
      ]
    },
    {
      "cell_type": "code",
      "execution_count": null,
      "id": "61fe3da5",
      "metadata": {
        "id": "61fe3da5"
      },
      "outputs": [],
      "source": [
        "users = users.withColumn(\"casted_zipcode\", users[\"zipcode\"].cast(IntegerType()))"
      ]
    },
    {
      "cell_type": "code",
      "execution_count": null,
      "id": "099424db",
      "metadata": {
        "colab": {
          "base_uri": "https://localhost:8080/"
        },
        "id": "099424db",
        "outputId": "ac33b984-77b5-47ba-f5f9-962589e90799"
      },
      "outputs": [
        {
          "output_type": "stream",
          "name": "stdout",
          "text": [
            "For columns user_id:\t0 null records\n",
            "For columns gender:\t0 null records\n",
            "For columns age:\t0 null records\n",
            "For columns occupation:\t0 null records\n",
            "For columns zipcode:\t0 null records\n",
            "For columns casted_zipcode:\t66 null records\n"
          ]
        }
      ],
      "source": [
        "inspect_null(users)"
      ]
    },
    {
      "cell_type": "code",
      "execution_count": null,
      "id": "286b8a68",
      "metadata": {
        "colab": {
          "base_uri": "https://localhost:8080/"
        },
        "id": "286b8a68",
        "outputId": "aae7be81-04b7-462d-cb2e-1c161054899b"
      },
      "outputs": [
        {
          "output_type": "stream",
          "name": "stdout",
          "text": [
            "+-------+------+---+----------+----------+--------------+\n",
            "|user_id|gender|age|occupation|   zipcode|casted_zipcode|\n",
            "+-------+------+---+----------+----------+--------------+\n",
            "|    161|     1|  5|        16|98107-2117|          NULL|\n",
            "|    233|     0|  5|        20|37919-4204|          NULL|\n",
            "|    293|     1|  7|         1|55337-4056|          NULL|\n",
            "|    458|     1|  6|        16|55405-2546|          NULL|\n",
            "|    506|     1|  3|        16|55103-1006|          NULL|\n",
            "|    567|     1|  4|        20|52570-9634|          NULL|\n",
            "|    868|     1|  6|        17|01702-7224|          NULL|\n",
            "|    913|     1|  3|         0|20744-6223|          NULL|\n",
            "|    939|     0|  3|        20|20110-5616|          NULL|\n",
            "|    946|     1|  4|         7|48103-8929|          NULL|\n",
            "|   1046|     1|  7|        18|53404-1230|          NULL|\n",
            "|   1081|     1|  2|         4|68144-2410|          NULL|\n",
            "|   1139|     1|  3|         1|93420-2852|          NULL|\n",
            "|   1201|     1|  2|         4|84112-2004|          NULL|\n",
            "|   1463|     1|  6|        16|92612-3417|          NULL|\n",
            "|   1541|     1|  7|        17|23464-3016|          NULL|\n",
            "|   1577|     1|  7|         0|72227-5733|          NULL|\n",
            "|   1595|     1|  4|         1|92683-1892|          NULL|\n",
            "|   1673|     1|  1|        10|98043-3621|          NULL|\n",
            "|   1728|     1|  2|         4|11710-1641|          NULL|\n",
            "|   1758|     0|  3|         0|33067-1400|          NULL|\n",
            "|   2002|     0|  7|        13|02136-1522|          NULL|\n",
            "|   2087|     1|  3|         0|37923-3112|          NULL|\n",
            "|   2180|     1|  3|        12|27713-9225|          NULL|\n",
            "|   2210|     1|  5|        17|88005-4313|          NULL|\n",
            "|   2220|     0|  6|         3|95451-9554|          NULL|\n",
            "|   2313|     0|  6|         6|48103-4711|          NULL|\n",
            "|   2585|     1|  5|        15|64081-8102|          NULL|\n",
            "|   2592|     1|  6|         7|80004-4448|          NULL|\n",
            "|   2746|     1|  6|        14|50265-2850|          NULL|\n",
            "|   3162|     1|  3|         1|08854-3115|          NULL|\n",
            "|   3287|     1|  7|        13|27514-3540|          NULL|\n",
            "|   3308|     0|  2|        20|15701-1348|          NULL|\n",
            "|   3328|     1|  7|        19|91790-1161|          NULL|\n",
            "|   3333|     1|  2|        16|29404-2205|          NULL|\n",
            "|   3526|     1|  4|         2|62263-3004|          NULL|\n",
            "|   3738|     1|  5|         7|01904-1355|          NULL|\n",
            "|   3848|     1|  3|        15|70809-2612|          NULL|\n",
            "|   3938|     1|  3|         2|92711-0571|          NULL|\n",
            "|   3956|     1|  3|         0|94930-2010|          NULL|\n",
            "|   4012|     1|  2|         4|49503-1313|          NULL|\n",
            "|   4014|     1|  3|         0|48316-5601|          NULL|\n",
            "|   4038|     1|  6|         6|11510-2001|          NULL|\n",
            "|   4124|     1|  3|        18|62330-1408|          NULL|\n",
            "|   4227|     1|  3|        19|11414-2520|          NULL|\n",
            "|   4458|     0|  3|         4|15701-2017|          NULL|\n",
            "|   4492|     1|  7|        13|45322-3132|          NULL|\n",
            "|   4723|     1|  4|         7|90014-1718|          NULL|\n",
            "|   4725|     1|  4|         5|96707-1321|          NULL|\n",
            "|   4746|     1|  6|         1|19087-3622|          NULL|\n",
            "|   4808|     1|  4|         0|96707-1321|          NULL|\n",
            "|   4965|     1|  1|        10|63123-1507|          NULL|\n",
            "|   5060|     1|  5|        17|84109-2001|          NULL|\n",
            "|   5145|     1|  4|         7|77565-2332|          NULL|\n",
            "|   5311|     1|  6|         0|62025-8000|          NULL|\n",
            "|   5337|     0|  4|         3|02725-1010|          NULL|\n",
            "|   5408|     1|  3|        20|11230-1710|          NULL|\n",
            "|   5470|     1|  7|         7|20003-2712|          NULL|\n",
            "|   5473|     1|  3|         1|20120-6354|          NULL|\n",
            "|   5504|     1|  5|         7|85287-2702|          NULL|\n",
            "|   5600|     0|  5|         0|12833-2000|          NULL|\n",
            "|   5665|     1|  2|         4|10461-1301|          NULL|\n",
            "|   5682|     1|  2|         0|23455-4959|          NULL|\n",
            "|   5925|     0|  3|         0|90035-4444|          NULL|\n",
            "|   5967|     1|  6|        16|73069-5429|          NULL|\n",
            "|   5985|     0|  2|         4|78705-5221|          NULL|\n",
            "+-------+------+---+----------+----------+--------------+\n",
            "\n"
          ]
        }
      ],
      "source": [
        "users.filter(users[\"casted_zipcode\"].isNull()).show(100)\n",
        "# Show the first 5 rows of the result"
      ]
    },
    {
      "cell_type": "code",
      "execution_count": null,
      "id": "9bbc29dd",
      "metadata": {
        "id": "9bbc29dd"
      },
      "outputs": [],
      "source": [
        "def to_integer(record):\n",
        "    try:\n",
        "        record = int(record)\n",
        "    except:\n",
        "        record = int(record[:5])\n",
        "    return record\n",
        "\n",
        "zipcode_udf = udf(lambda record: to_integer(record), IntegerType())\n",
        "users = users.withColumn(\"casted_zipcode\", zipcode_udf(users[\"zipcode\"]))"
      ]
    },
    {
      "cell_type": "code",
      "execution_count": null,
      "id": "9837992c",
      "metadata": {
        "colab": {
          "base_uri": "https://localhost:8080/"
        },
        "id": "9837992c",
        "outputId": "01e8d61b-be1a-4959-94e8-28b765911e16"
      },
      "outputs": [
        {
          "output_type": "stream",
          "name": "stdout",
          "text": [
            "For columns user_id:\t0 null records\n",
            "For columns gender:\t0 null records\n",
            "For columns age:\t0 null records\n",
            "For columns occupation:\t0 null records\n",
            "For columns zipcode:\t0 null records\n",
            "For columns casted_zipcode:\t0 null records\n"
          ]
        }
      ],
      "source": [
        "inspect_null(users)"
      ]
    },
    {
      "cell_type": "code",
      "execution_count": null,
      "id": "d9d039cb",
      "metadata": {
        "id": "d9d039cb"
      },
      "outputs": [],
      "source": [
        "zipcode_udf = udf(lambda record: record // 10000, IntegerType())\n",
        "users = users.withColumn(\"region\", zipcode_udf(users[\"casted_zipcode\"]))"
      ]
    },
    {
      "cell_type": "markdown",
      "id": "7b930702",
      "metadata": {
        "id": "7b930702"
      },
      "source": [
        "**Asserting that All the data are in integer type with no nulls**"
      ]
    },
    {
      "cell_type": "code",
      "execution_count": null,
      "id": "698ced87",
      "metadata": {
        "colab": {
          "base_uri": "https://localhost:8080/"
        },
        "id": "698ced87",
        "outputId": "5dfbbe39-85e3-4287-800d-a1279166ef6a"
      },
      "outputs": [
        {
          "output_type": "stream",
          "name": "stdout",
          "text": [
            "For columns user_id:\t0 null records\n",
            "For columns gender:\t0 null records\n",
            "For columns age:\t0 null records\n",
            "For columns occupation:\t0 null records\n",
            "For columns zipcode:\t0 null records\n",
            "For columns casted_zipcode:\t0 null records\n",
            "For columns region:\t0 null records\n"
          ]
        }
      ],
      "source": [
        "inspect_null(users)"
      ]
    },
    {
      "cell_type": "code",
      "execution_count": null,
      "id": "5791b3e7",
      "metadata": {
        "id": "5791b3e7"
      },
      "outputs": [],
      "source": [
        "for col in users.columns:\n",
        "    users = users.withColumn(col, users[col].cast(IntegerType()))"
      ]
    },
    {
      "cell_type": "code",
      "execution_count": null,
      "id": "374fadeb",
      "metadata": {
        "colab": {
          "base_uri": "https://localhost:8080/"
        },
        "id": "374fadeb",
        "outputId": "f6e2f49b-8aa9-41f7-8fee-4f1a5bb7cdef"
      },
      "outputs": [
        {
          "output_type": "stream",
          "name": "stdout",
          "text": [
            "+-------+------+---+----------+-------+--------------+------+\n",
            "|user_id|gender|age|occupation|zipcode|casted_zipcode|region|\n",
            "+-------+------+---+----------+-------+--------------+------+\n",
            "|      1|     0|  1|        10|  48067|         48067|     4|\n",
            "|      2|     1|  7|        16|  70072|         70072|     7|\n",
            "|      3|     1|  3|        15|  55117|         55117|     5|\n",
            "|      4|     1|  5|         7|   2460|          2460|     0|\n",
            "|      5|     1|  3|        20|  55455|         55455|     5|\n",
            "+-------+------+---+----------+-------+--------------+------+\n",
            "only showing top 5 rows\n",
            "\n"
          ]
        }
      ],
      "source": [
        "users.show(5)"
      ]
    },
    {
      "cell_type": "markdown",
      "id": "627c5ad7",
      "metadata": {
        "id": "627c5ad7"
      },
      "source": [
        "**Applying One Hot Encoding on the Region & Occupation variables**"
      ]
    },
    {
      "cell_type": "code",
      "execution_count": null,
      "id": "b093aeee",
      "metadata": {
        "id": "b093aeee"
      },
      "outputs": [],
      "source": [
        "from pyspark.ml.feature import OneHotEncoder\n",
        "\n",
        "encoder = OneHotEncoder(inputCol=\"occupation\", dropLast=False, outputCol=\"encoded_occupation\")\n",
        "users = encoder.fit(users).transform(users)\n",
        "\n",
        "encoder = OneHotEncoder(inputCol=\"region\", dropLast=False, outputCol=\"encoded_region\")\n",
        "users = encoder.fit(users).transform(users)"
      ]
    },
    {
      "cell_type": "markdown",
      "id": "a732bab9",
      "metadata": {
        "id": "a732bab9"
      },
      "source": [
        "**Presenting the dataset after processing**"
      ]
    },
    {
      "cell_type": "code",
      "execution_count": null,
      "id": "63e73d89",
      "metadata": {
        "colab": {
          "base_uri": "https://localhost:8080/"
        },
        "id": "63e73d89",
        "outputId": "a8d5e69d-e024-45bb-c515-72eb528fc122"
      },
      "outputs": [
        {
          "output_type": "stream",
          "name": "stdout",
          "text": [
            "+-------+------+---+----------+-------+--------------+------+------------------+-----------------+\n",
            "|user_id|gender|age|occupation|zipcode|casted_zipcode|region|encoded_occupation|   encoded_region|\n",
            "+-------+------+---+----------+-------+--------------+------+------------------+-----------------+\n",
            "|      1|     0|  1|        10|  48067|         48067|     4|   (21,[10],[1.0])|(19313,[4],[1.0])|\n",
            "|      2|     1|  7|        16|  70072|         70072|     7|   (21,[16],[1.0])|(19313,[7],[1.0])|\n",
            "|      3|     1|  3|        15|  55117|         55117|     5|   (21,[15],[1.0])|(19313,[5],[1.0])|\n",
            "|      4|     1|  5|         7|   2460|          2460|     0|    (21,[7],[1.0])|(19313,[0],[1.0])|\n",
            "|      5|     1|  3|        20|  55455|         55455|     5|   (21,[20],[1.0])|(19313,[5],[1.0])|\n",
            "+-------+------+---+----------+-------+--------------+------+------------------+-----------------+\n",
            "only showing top 5 rows\n",
            "\n"
          ]
        }
      ],
      "source": [
        "users.show(5)"
      ]
    },
    {
      "cell_type": "markdown",
      "id": "42f23cfe",
      "metadata": {
        "id": "42f23cfe"
      },
      "source": [
        "## 3.2. For Movies Dataset"
      ]
    },
    {
      "cell_type": "code",
      "execution_count": null,
      "id": "47f45272",
      "metadata": {
        "scrolled": true,
        "colab": {
          "base_uri": "https://localhost:8080/"
        },
        "id": "47f45272",
        "outputId": "5ced59e7-830a-45f4-af8e-0fa7e7cea135"
      },
      "outputs": [
        {
          "output_type": "stream",
          "name": "stdout",
          "text": [
            "root\n",
            " |-- movie_id: string (nullable = true)\n",
            " |-- movie_name: string (nullable = true)\n",
            " |-- genre: string (nullable = true)\n",
            "\n"
          ]
        }
      ],
      "source": [
        "movies.printSchema()"
      ]
    },
    {
      "cell_type": "code",
      "execution_count": null,
      "id": "be3a05bb",
      "metadata": {
        "colab": {
          "base_uri": "https://localhost:8080/"
        },
        "id": "be3a05bb",
        "outputId": "4be1c754-8e69-44e9-f8b8-c1d8c8fcadb6"
      },
      "outputs": [
        {
          "output_type": "stream",
          "name": "stdout",
          "text": [
            "+--------+--------------------+--------------------+\n",
            "|movie_id|          movie_name|               genre|\n",
            "+--------+--------------------+--------------------+\n",
            "|       1|    Toy Story (1995)|Animation|Childre...|\n",
            "|       2|      Jumanji (1995)|Adventure|Childre...|\n",
            "|       3|Grumpier Old Men ...|      Comedy|Romance|\n",
            "|       4|Waiting to Exhale...|        Comedy|Drama|\n",
            "|       5|Father of the Bri...|              Comedy|\n",
            "+--------+--------------------+--------------------+\n",
            "only showing top 5 rows\n",
            "\n"
          ]
        }
      ],
      "source": [
        "movies.show(5)"
      ]
    },
    {
      "cell_type": "markdown",
      "id": "225bed22",
      "metadata": {
        "id": "225bed22"
      },
      "source": [
        "**Transforming movies_id to integer**"
      ]
    },
    {
      "cell_type": "code",
      "execution_count": 86,
      "id": "54cce0f9",
      "metadata": {
        "id": "54cce0f9"
      },
      "outputs": [],
      "source": [
        "movies = movies.withColumn(\"movie_id\", movies[\"movie_id\"].cast(IntegerType()))"
      ]
    },
    {
      "cell_type": "markdown",
      "id": "bdf6c0d8",
      "metadata": {
        "id": "bdf6c0d8"
      },
      "source": [
        "**Parsing movie_name to year and name**"
      ]
    },
    {
      "cell_type": "code",
      "execution_count": 87,
      "id": "17f05bbe",
      "metadata": {
        "id": "17f05bbe"
      },
      "outputs": [],
      "source": [
        "import re\n",
        "\n",
        "def extract_date(record):\n",
        "    pattern  = r'\\((\\d{4})\\)'\n",
        "    if re.findall(pattern, record.strip()[-6:]):\n",
        "        return int(record.strip()[-5:-1])\n",
        "    return None\n",
        "\n",
        "def extract_name(record):\n",
        "    pattern  = r'\\((\\d{4})\\)'\n",
        "    if re.findall(pattern, record.strip()[-6:]):\n",
        "        return record.strip()[:-6].strip()\n",
        "    return record"
      ]
    },
    {
      "cell_type": "code",
      "execution_count": 88,
      "id": "dd84a1f9",
      "metadata": {
        "id": "dd84a1f9"
      },
      "outputs": [],
      "source": [
        "# Define UDFs for extract_date and extract_name functions\n",
        "extract_date_udf = udf(lambda record: extract_date(record), IntegerType())\n",
        "extract_name_udf = udf(lambda record: extract_name(record), StringType())\n",
        "\n",
        "movies = movies.withColumn(\"year\", extract_date_udf(movies[\"movie_name\"]))\n",
        "movies = movies.withColumn(\"name\", extract_name_udf(movies[\"movie_name\"]))"
      ]
    },
    {
      "cell_type": "code",
      "execution_count": 89,
      "id": "60e1b8bd",
      "metadata": {
        "colab": {
          "base_uri": "https://localhost:8080/"
        },
        "id": "60e1b8bd",
        "outputId": "2d0c9d32-e139-459c-b708-b2984693c2c2"
      },
      "outputs": [
        {
          "output_type": "stream",
          "name": "stdout",
          "text": [
            "+--------+--------------------+--------------------+----+-----------------+------+---------+---------+----------+------+-----+-----------+-----+-------+---------+------+-------+-------+-------+------+--------+---+-------+\n",
            "|movie_id|          movie_name|                name|year|            genre|Action|Adventure|Animation|Children's|Comedy|Crime|Documentary|Drama|Fantasy|Film-Noir|Horror|Musical|Mystery|Romance|Sci-Fi|Thriller|War|Western|\n",
            "+--------+--------------------+--------------------+----+-----------------+------+---------+---------+----------+------+-----+-----------+-----+-------+---------+------+-------+-------+-------+------+--------+---+-------+\n",
            "|    1387|         Jaws (1975)|                Jaws|1975|    Action|Horror|     1|        0|        0|         0|     0|    0|          0|    0|      0|        0|     1|      0|      0|      0|     0|       0|  0|      0|\n",
            "|    2453|Boy Who Could Fly...|Boy Who Could Fly...|1986|    Drama|Fantasy|     0|        0|        0|         0|     0|    0|          0|    1|      1|        0|     0|      0|      0|      0|     0|       0|  0|      0|\n",
            "|    2961|Story of Us, The ...|    Story of Us, The|1999|     Comedy|Drama|     0|        0|        0|         0|     1|    0|          0|    1|      0|        0|     0|      0|      0|      0|     0|       0|  0|      0|\n",
            "|    2857|Yellow Submarine ...|    Yellow Submarine|1968|Animation|Musical|     0|        0|        1|         0|     0|    0|          0|    0|      0|        0|     0|      1|      0|      0|     0|       0|  0|      0|\n",
            "|      57|Home for the Holi...|Home for the Holi...|1995|            Drama|     0|        0|        0|         0|     0|    0|          0|    1|      0|        0|     0|      0|      0|      0|     0|       0|  0|      0|\n",
            "+--------+--------------------+--------------------+----+-----------------+------+---------+---------+----------+------+-----+-----------+-----+-------+---------+------+-------+-------+-------+------+--------+---+-------+\n",
            "only showing top 5 rows\n",
            "\n"
          ]
        }
      ],
      "source": [
        "movies.show(5)"
      ]
    },
    {
      "cell_type": "markdown",
      "id": "6427792e",
      "metadata": {
        "id": "6427792e"
      },
      "source": [
        "**Parsing the genre into a serie of genres**"
      ]
    },
    {
      "cell_type": "code",
      "execution_count": 90,
      "id": "862de673",
      "metadata": {
        "id": "862de673"
      },
      "outputs": [],
      "source": [
        "movies = movies.withColumn(\"parsed_genre\", pyspark.sql.functions.explode(pyspark.sql.functions.split(movies[\"genre\"], \"\\\\s*\\\\|\\\\s*\")))\n",
        "parsed_movies = movies.withColumn(\"value\", (movies[\"parsed_genre\"]==movies[\"parsed_genre\"]).cast(IntegerType()))"
      ]
    },
    {
      "cell_type": "code",
      "execution_count": 91,
      "id": "afed0aa7",
      "metadata": {
        "colab": {
          "base_uri": "https://localhost:8080/"
        },
        "id": "afed0aa7",
        "outputId": "1a892ef2-f14b-410e-e1ce-dfbbb6d91778"
      },
      "outputs": [
        {
          "output_type": "stream",
          "name": "stdout",
          "text": [
            "+--------+--------------------+--------------------+----+-------------+------+---------+---------+----------+------+-----+-----------+-----+-------+---------+------+-------+-------+-------+------+--------+---+-------+------------+-----+\n",
            "|movie_id|          movie_name|                name|year|        genre|Action|Adventure|Animation|Children's|Comedy|Crime|Documentary|Drama|Fantasy|Film-Noir|Horror|Musical|Mystery|Romance|Sci-Fi|Thriller|War|Western|parsed_genre|value|\n",
            "+--------+--------------------+--------------------+----+-------------+------+---------+---------+----------+------+-----+-----------+-----+-------+---------+------+-------+-------+-------+------+--------+---+-------+------------+-----+\n",
            "|    1387|         Jaws (1975)|                Jaws|1975|Action|Horror|     1|        0|        0|         0|     0|    0|          0|    0|      0|        0|     1|      0|      0|      0|     0|       0|  0|      0|      Action|    1|\n",
            "|    1387|         Jaws (1975)|                Jaws|1975|Action|Horror|     1|        0|        0|         0|     0|    0|          0|    0|      0|        0|     1|      0|      0|      0|     0|       0|  0|      0|      Horror|    1|\n",
            "|    2453|Boy Who Could Fly...|Boy Who Could Fly...|1986|Drama|Fantasy|     0|        0|        0|         0|     0|    0|          0|    1|      1|        0|     0|      0|      0|      0|     0|       0|  0|      0|       Drama|    1|\n",
            "|    2453|Boy Who Could Fly...|Boy Who Could Fly...|1986|Drama|Fantasy|     0|        0|        0|         0|     0|    0|          0|    1|      1|        0|     0|      0|      0|      0|     0|       0|  0|      0|     Fantasy|    1|\n",
            "|    2961|Story of Us, The ...|    Story of Us, The|1999| Comedy|Drama|     0|        0|        0|         0|     1|    0|          0|    1|      0|        0|     0|      0|      0|      0|     0|       0|  0|      0|      Comedy|    1|\n",
            "+--------+--------------------+--------------------+----+-------------+------+---------+---------+----------+------+-----+-----------+-----+-------+---------+------+-------+-------+-------+------+--------+---+-------+------------+-----+\n",
            "only showing top 5 rows\n",
            "\n"
          ]
        }
      ],
      "source": [
        "parsed_movies.show(5)"
      ]
    },
    {
      "cell_type": "code",
      "execution_count": 92,
      "id": "0f61d7a5",
      "metadata": {
        "id": "0f61d7a5"
      },
      "outputs": [],
      "source": [
        "excluded = [\"movie_id\", \"movie_name\", \"name\", \"year\", \"genre\"]\n",
        "parsed_movies = parsed_movies.groupBy(excluded).pivot(\"parsed_genre\").sum(\"value\")\n",
        "\n",
        "columns = {col: 0 for col in parsed_movies.columns if not(col in excluded)}\n",
        "parsed_movies = parsed_movies.fillna(columns)"
      ]
    },
    {
      "cell_type": "code",
      "execution_count": 93,
      "id": "2a6d8730",
      "metadata": {
        "colab": {
          "base_uri": "https://localhost:8080/"
        },
        "id": "2a6d8730",
        "outputId": "5b68f825-6faa-4d9b-83e6-e1254583aa49"
      },
      "outputs": [
        {
          "output_type": "stream",
          "name": "stdout",
          "text": [
            "+--------+--------------------+--------------------+----+-----------------+------+---------+---------+----------+------+-----+-----------+-----+-------+---------+------+-------+-------+-------+------+--------+---+-------+\n",
            "|movie_id|          movie_name|                name|year|            genre|Action|Adventure|Animation|Children's|Comedy|Crime|Documentary|Drama|Fantasy|Film-Noir|Horror|Musical|Mystery|Romance|Sci-Fi|Thriller|War|Western|\n",
            "+--------+--------------------+--------------------+----+-----------------+------+---------+---------+----------+------+-----+-----------+-----+-------+---------+------+-------+-------+-------+------+--------+---+-------+\n",
            "|    1387|         Jaws (1975)|                Jaws|1975|    Action|Horror|     1|        0|        0|         0|     0|    0|          0|    0|      0|        0|     1|      0|      0|      0|     0|       0|  0|      0|\n",
            "|    2453|Boy Who Could Fly...|Boy Who Could Fly...|1986|    Drama|Fantasy|     0|        0|        0|         0|     0|    0|          0|    1|      1|        0|     0|      0|      0|      0|     0|       0|  0|      0|\n",
            "|    2961|Story of Us, The ...|    Story of Us, The|1999|     Comedy|Drama|     0|        0|        0|         0|     1|    0|          0|    1|      0|        0|     0|      0|      0|      0|     0|       0|  0|      0|\n",
            "|    2857|Yellow Submarine ...|    Yellow Submarine|1968|Animation|Musical|     0|        0|        1|         0|     0|    0|          0|    0|      0|        0|     0|      1|      0|      0|     0|       0|  0|      0|\n",
            "|      57|Home for the Holi...|Home for the Holi...|1995|            Drama|     0|        0|        0|         0|     0|    0|          0|    1|      0|        0|     0|      0|      0|      0|     0|       0|  0|      0|\n",
            "+--------+--------------------+--------------------+----+-----------------+------+---------+---------+----------+------+-----+-----------+-----+-------+---------+------+-------+-------+-------+------+--------+---+-------+\n",
            "only showing top 5 rows\n",
            "\n"
          ]
        }
      ],
      "source": [
        "parsed_movies.show(5)"
      ]
    },
    {
      "cell_type": "markdown",
      "id": "99469c96",
      "metadata": {
        "id": "99469c96"
      },
      "source": [
        "**Inspecting the schema and the null values**"
      ]
    },
    {
      "cell_type": "code",
      "execution_count": null,
      "id": "23e70faf",
      "metadata": {
        "colab": {
          "base_uri": "https://localhost:8080/"
        },
        "id": "23e70faf",
        "outputId": "c742af51-d74e-4ae1-ce6f-5aee8fbcbf2e"
      },
      "outputs": [
        {
          "output_type": "stream",
          "name": "stdout",
          "text": [
            "root\n",
            " |-- movie_id: integer (nullable = true)\n",
            " |-- movie_name: string (nullable = true)\n",
            " |-- name: string (nullable = true)\n",
            " |-- year: integer (nullable = true)\n",
            " |-- genre: string (nullable = true)\n",
            " |-- Action: long (nullable = false)\n",
            " |-- Adventure: long (nullable = false)\n",
            " |-- Animation: long (nullable = false)\n",
            " |-- Children's: long (nullable = false)\n",
            " |-- Comedy: long (nullable = false)\n",
            " |-- Crime: long (nullable = false)\n",
            " |-- Documentary: long (nullable = false)\n",
            " |-- Drama: long (nullable = false)\n",
            " |-- Fantasy: long (nullable = false)\n",
            " |-- Film-Noir: long (nullable = false)\n",
            " |-- Horror: long (nullable = false)\n",
            " |-- Musical: long (nullable = false)\n",
            " |-- Mystery: long (nullable = false)\n",
            " |-- Romance: long (nullable = false)\n",
            " |-- Sci-Fi: long (nullable = false)\n",
            " |-- Thriller: long (nullable = false)\n",
            " |-- War: long (nullable = false)\n",
            " |-- Western: long (nullable = false)\n",
            "\n"
          ]
        }
      ],
      "source": [
        "parsed_movies.printSchema()"
      ]
    },
    {
      "cell_type": "code",
      "execution_count": null,
      "id": "dfe9fbf8",
      "metadata": {
        "colab": {
          "base_uri": "https://localhost:8080/"
        },
        "id": "dfe9fbf8",
        "outputId": "7026670d-e3c9-4356-83aa-330239cfb267"
      },
      "outputs": [
        {
          "output_type": "stream",
          "name": "stdout",
          "text": [
            "For columns movie_id:\t0 null records\n",
            "For columns movie_name:\t0 null records\n",
            "For columns name:\t0 null records\n",
            "For columns year:\t0 null records\n",
            "For columns genre:\t0 null records\n",
            "For columns Action:\t0 null records\n",
            "For columns Adventure:\t0 null records\n",
            "For columns Animation:\t0 null records\n",
            "For columns Children's:\t0 null records\n",
            "For columns Comedy:\t0 null records\n",
            "For columns Crime:\t0 null records\n",
            "For columns Documentary:\t0 null records\n",
            "For columns Drama:\t0 null records\n",
            "For columns Fantasy:\t0 null records\n",
            "For columns Film-Noir:\t0 null records\n",
            "For columns Horror:\t0 null records\n",
            "For columns Musical:\t0 null records\n",
            "For columns Mystery:\t0 null records\n",
            "For columns Romance:\t0 null records\n",
            "For columns Sci-Fi:\t0 null records\n",
            "For columns Thriller:\t0 null records\n",
            "For columns War:\t0 null records\n",
            "For columns Western:\t0 null records\n"
          ]
        }
      ],
      "source": [
        "inspect_null(parsed_movies)"
      ]
    },
    {
      "cell_type": "markdown",
      "id": "c3cad22a",
      "metadata": {
        "id": "c3cad22a"
      },
      "source": [
        "## 3.3. For Ratings Dataset"
      ]
    },
    {
      "cell_type": "code",
      "execution_count": null,
      "id": "de2e602b",
      "metadata": {
        "colab": {
          "base_uri": "https://localhost:8080/"
        },
        "id": "de2e602b",
        "outputId": "09b92ea4-c39a-4185-f396-1f8183398581"
      },
      "outputs": [
        {
          "output_type": "stream",
          "name": "stdout",
          "text": [
            "root\n",
            " |-- user_id: string (nullable = true)\n",
            " |-- movie_id: string (nullable = true)\n",
            " |-- rating: string (nullable = true)\n",
            " |-- time_stamp: string (nullable = true)\n",
            "\n"
          ]
        }
      ],
      "source": [
        "ratings.printSchema()"
      ]
    },
    {
      "cell_type": "markdown",
      "id": "e2b804e8",
      "metadata": {
        "id": "e2b804e8"
      },
      "source": [
        "**Casting All the attributes to int type**"
      ]
    },
    {
      "cell_type": "code",
      "execution_count": null,
      "id": "0242a9fd",
      "metadata": {
        "id": "0242a9fd"
      },
      "outputs": [],
      "source": [
        "for col in ratings.columns:\n",
        "    ratings = ratings.withColumn(col, ratings[col].cast(IntegerType()))"
      ]
    },
    {
      "cell_type": "code",
      "execution_count": null,
      "id": "2d7816ed",
      "metadata": {
        "colab": {
          "base_uri": "https://localhost:8080/"
        },
        "id": "2d7816ed",
        "outputId": "5c313956-5a2f-4d26-de36-12453350ddaa"
      },
      "outputs": [
        {
          "output_type": "stream",
          "name": "stdout",
          "text": [
            "root\n",
            " |-- user_id: integer (nullable = true)\n",
            " |-- movie_id: integer (nullable = true)\n",
            " |-- rating: integer (nullable = true)\n",
            " |-- time_stamp: integer (nullable = true)\n",
            "\n"
          ]
        }
      ],
      "source": [
        "ratings.printSchema()"
      ]
    },
    {
      "cell_type": "code",
      "execution_count": null,
      "id": "eb3da753",
      "metadata": {
        "colab": {
          "base_uri": "https://localhost:8080/"
        },
        "id": "eb3da753",
        "outputId": "f6b08691-05d9-41e0-daa9-4f9cbbf8e996"
      },
      "outputs": [
        {
          "output_type": "stream",
          "name": "stdout",
          "text": [
            "+-------+--------+------+----------+\n",
            "|user_id|movie_id|rating|time_stamp|\n",
            "+-------+--------+------+----------+\n",
            "|      1|    1193|     5| 978300760|\n",
            "|      1|     661|     3| 978302109|\n",
            "|      1|     914|     3| 978301968|\n",
            "|      1|    3408|     4| 978300275|\n",
            "|      1|    2355|     5| 978824291|\n",
            "+-------+--------+------+----------+\n",
            "only showing top 5 rows\n",
            "\n"
          ]
        }
      ],
      "source": [
        "ratings.show(5)"
      ]
    },
    {
      "cell_type": "code",
      "execution_count": null,
      "id": "c23c02f0",
      "metadata": {
        "id": "c23c02f0"
      },
      "outputs": [],
      "source": [
        "ratings.toPandas().to_csv(\"/content/drive/MyDrive/movieLens/cleaned_data/ratings.csv\", header=True)\n",
        "parsed_movies.toPandas().to_csv(\"/content/drive/MyDrive/movieLens/cleaned_data/movies.csv\", header=True)\n",
        "users.toPandas().to_csv(\"/content/drive/MyDrive/movieLens/cleaned_data/users.csv\", header=True)"
      ]
    },
    {
      "cell_type": "code",
      "execution_count": null,
      "id": "00be9e81",
      "metadata": {
        "id": "00be9e81"
      },
      "outputs": [],
      "source": [
        "original_movies = movies\n",
        "movies = parsed_movies"
      ]
    },
    {
      "cell_type": "code",
      "execution_count": null,
      "id": "e36ead42",
      "metadata": {
        "id": "e36ead42"
      },
      "outputs": [],
      "source": [
        "original_movies.toPandas().to_csv(\"/content/drive/MyDrive/movieLens/cleaned_data/original_movies.csv\", header=True)"
      ]
    },
    {
      "cell_type": "markdown",
      "id": "27c98158",
      "metadata": {
        "id": "27c98158"
      },
      "source": [
        "# 4. Feature Engineering"
      ]
    },
    {
      "cell_type": "code",
      "execution_count": null,
      "id": "237a19e4",
      "metadata": {
        "id": "237a19e4"
      },
      "outputs": [],
      "source": [
        "movies.createOrReplaceTempView(\"movies_info\")\n",
        "users.createOrReplaceTempView(\"users_info\")\n",
        "ratings.createOrReplaceTempView(\"ratings_info\")\n",
        "original_movies.createOrReplaceTempView(\"original_movies_info\")"
      ]
    },
    {
      "cell_type": "code",
      "execution_count": null,
      "id": "166a49a9",
      "metadata": {
        "colab": {
          "base_uri": "https://localhost:8080/"
        },
        "id": "166a49a9",
        "outputId": "22a5391a-a7da-4381-d15c-82d11ca4d2f9"
      },
      "outputs": [
        {
          "output_type": "stream",
          "name": "stdout",
          "text": [
            "+--------+----------------+--------------------+----+---------+------------+\n",
            "|movie_id|      movie_name|               genre|year|     name|parsed_genre|\n",
            "+--------+----------------+--------------------+----+---------+------------+\n",
            "|       1|Toy Story (1995)|Animation|Childre...|1995|Toy Story|   Animation|\n",
            "|       1|Toy Story (1995)|Animation|Childre...|1995|Toy Story|  Children's|\n",
            "|       1|Toy Story (1995)|Animation|Childre...|1995|Toy Story|      Comedy|\n",
            "|       2|  Jumanji (1995)|Adventure|Childre...|1995|  Jumanji|   Adventure|\n",
            "|       2|  Jumanji (1995)|Adventure|Childre...|1995|  Jumanji|  Children's|\n",
            "+--------+----------------+--------------------+----+---------+------------+\n",
            "only showing top 5 rows\n",
            "\n"
          ]
        }
      ],
      "source": [
        "original_movies.show(5)"
      ]
    },
    {
      "cell_type": "markdown",
      "id": "106c668e",
      "metadata": {
        "id": "106c668e"
      },
      "source": [
        "## 4.2. Movies Features"
      ]
    },
    {
      "cell_type": "code",
      "execution_count": null,
      "id": "7bea6994",
      "metadata": {
        "colab": {
          "base_uri": "https://localhost:8080/"
        },
        "id": "7bea6994",
        "outputId": "d31dda0a-28e1-4ae2-d0db-4a0ee9dac169"
      },
      "outputs": [
        {
          "output_type": "stream",
          "name": "stdout",
          "text": [
            "root\n",
            " |-- movie_id: integer (nullable = true)\n",
            " |-- movie_name: string (nullable = true)\n",
            " |-- name: string (nullable = true)\n",
            " |-- year: integer (nullable = true)\n",
            " |-- genre: string (nullable = true)\n",
            " |-- Action: long (nullable = false)\n",
            " |-- Adventure: long (nullable = false)\n",
            " |-- Animation: long (nullable = false)\n",
            " |-- Children's: long (nullable = false)\n",
            " |-- Comedy: long (nullable = false)\n",
            " |-- Crime: long (nullable = false)\n",
            " |-- Documentary: long (nullable = false)\n",
            " |-- Drama: long (nullable = false)\n",
            " |-- Fantasy: long (nullable = false)\n",
            " |-- Film-Noir: long (nullable = false)\n",
            " |-- Horror: long (nullable = false)\n",
            " |-- Musical: long (nullable = false)\n",
            " |-- Mystery: long (nullable = false)\n",
            " |-- Romance: long (nullable = false)\n",
            " |-- Sci-Fi: long (nullable = false)\n",
            " |-- Thriller: long (nullable = false)\n",
            " |-- War: long (nullable = false)\n",
            " |-- Western: long (nullable = false)\n",
            "\n"
          ]
        }
      ],
      "source": [
        "movies.printSchema()"
      ]
    },
    {
      "cell_type": "markdown",
      "id": "8f4e1948",
      "metadata": {
        "id": "8f4e1948"
      },
      "source": [
        "**Features used for the movie:**\n",
        "1. year\n",
        "2. genres\n",
        "3. popularity (no of times watched)\n",
        "4. popularity among its genre\n",
        "5. avarage rating\n",
        "6. rating ratio per genre"
      ]
    },
    {
      "cell_type": "markdown",
      "id": "c859317f",
      "metadata": {
        "id": "c859317f"
      },
      "source": [
        "**Popularity**"
      ]
    },
    {
      "cell_type": "code",
      "execution_count": null,
      "id": "73a46f1d",
      "metadata": {
        "id": "73a46f1d"
      },
      "outputs": [],
      "source": [
        "popularity = spark.sql(\"SELECT movie_id, COUNT(DISTINCT(user_id)) AS watches FROM ratings_info GROUP BY movie_id\")\n",
        "popularity.createOrReplaceTempView(\"popularity_info\")"
      ]
    },
    {
      "cell_type": "code",
      "execution_count": null,
      "id": "53860307",
      "metadata": {
        "colab": {
          "base_uri": "https://localhost:8080/"
        },
        "id": "53860307",
        "outputId": "29ba7a32-948f-466a-b35d-8e1b1642397f"
      },
      "outputs": [
        {
          "output_type": "stream",
          "name": "stdout",
          "text": [
            "+--------+-------+\n",
            "|movie_id|watches|\n",
            "+--------+-------+\n",
            "|    1580|   2538|\n",
            "|     471|    599|\n",
            "|    3175|   1728|\n",
            "|    1959|    626|\n",
            "|    3794|    121|\n",
            "+--------+-------+\n",
            "only showing top 5 rows\n",
            "\n"
          ]
        }
      ],
      "source": [
        "popularity.show(5)"
      ]
    },
    {
      "cell_type": "markdown",
      "id": "0792ebcc",
      "metadata": {
        "id": "0792ebcc"
      },
      "source": [
        "**Popularity among its genre**"
      ]
    },
    {
      "cell_type": "code",
      "execution_count": null,
      "id": "46a7177b",
      "metadata": {
        "id": "46a7177b"
      },
      "outputs": [],
      "source": [
        "query = \"\"\"\n",
        "    SELECT parsed_genre AS genre, COUNT(user_id) AS genre_watched\n",
        "    FROM   ratings_info LEFT JOIN original_movies_info ON original_movies_info.movie_id = ratings_info.movie_id\n",
        "    GROUP BY parsed_genre\n",
        "\"\"\"\n",
        "\n",
        "watches_per_genre = spark.sql(query)\n",
        "watches_per_genre.createOrReplaceTempView(\"watches_per_genre_info\")"
      ]
    },
    {
      "cell_type": "code",
      "execution_count": null,
      "id": "6180e887",
      "metadata": {
        "colab": {
          "base_uri": "https://localhost:8080/"
        },
        "id": "6180e887",
        "outputId": "5ec59fc5-241e-4bba-dd41-b518db257b87"
      },
      "outputs": [
        {
          "output_type": "stream",
          "name": "stdout",
          "text": [
            "+-----------+-------------+\n",
            "|      genre|genre_watched|\n",
            "+-----------+-------------+\n",
            "|      Crime|        79541|\n",
            "|    Romance|       147523|\n",
            "|   Thriller|       189680|\n",
            "|  Adventure|       133953|\n",
            "|      Drama|       354529|\n",
            "| Children's|        72186|\n",
            "|        War|        68527|\n",
            "|Documentary|         7910|\n",
            "|    Fantasy|        36301|\n",
            "|    Mystery|        40178|\n",
            "|    Musical|        41533|\n",
            "|  Animation|        43293|\n",
            "|  Film-Noir|        18261|\n",
            "|     Horror|        76386|\n",
            "|    Western|        20683|\n",
            "|     Comedy|       356580|\n",
            "|     Action|       257457|\n",
            "|     Sci-Fi|       157294|\n",
            "+-----------+-------------+\n",
            "\n"
          ]
        }
      ],
      "source": [
        "watches_per_genre.show()"
      ]
    },
    {
      "cell_type": "code",
      "execution_count": null,
      "id": "41944ef2",
      "metadata": {
        "colab": {
          "base_uri": "https://localhost:8080/"
        },
        "id": "41944ef2",
        "outputId": "ac5a3988-de09-4d19-a8df-ffe418acca29"
      },
      "outputs": [
        {
          "output_type": "stream",
          "name": "stdout",
          "text": [
            "+--------+------------+-------+---------+-------------+--------------------+\n",
            "|movie_id|parsed_genre|watches|    genre|genre_watched|popularity_per_genre|\n",
            "+--------+------------+-------+---------+-------------+--------------------+\n",
            "|    1580|      Sci-Fi|   2538|   Sci-Fi|       157294|  0.0161353897796483|\n",
            "|    1580|      Comedy|   2538|   Comedy|       356580|0.007117617364967188|\n",
            "|    1580|   Adventure|   2538|Adventure|       133953| 0.01894694407740028|\n",
            "|    1580|      Action|   2538|   Action|       257457|0.009857956862699403|\n",
            "|     471|     Romance|    599|  Romance|       147523|0.004060383804559289|\n",
            "|     471|      Comedy|    599|   Comedy|       356580|0.001679847439564754|\n",
            "|    3175|      Sci-Fi|   1728|   Sci-Fi|       157294|0.010985797296781823|\n",
            "|    3175|      Comedy|   1728|   Comedy|       356580|0.004846037354871277|\n",
            "|    3175|   Adventure|   1728|Adventure|       133953| 0.01290004703142147|\n",
            "|    1959|     Romance|    626|  Romance|       147523|  0.0042434061129451|\n",
            "|    1959|       Drama|    626|    Drama|       354529|0.001765722973296...|\n",
            "|    3794|       Drama|    121|    Drama|       354529|3.412978910046851E-4|\n",
            "|    3794|      Comedy|    121|   Comedy|       356580|3.393347916316114...|\n",
            "|    1342|      Horror|    262|   Horror|        76386|0.003429947896211348|\n",
            "|    2866|       Drama|    199|    Drama|       354529|5.613081017349779E-4|\n",
            "|     148|       Drama|     23|    Drama|       354529|6.487480572816328E-5|\n",
            "|     833|      Comedy|     78|   Comedy|       356580|2.187447417129396E-4|\n",
            "|    2122|    Thriller|    233| Thriller|       189680|0.001228384647827...|\n",
            "|    2122|      Horror|    233|   Horror|        76386|0.003050297174874977|\n",
            "|    1088|     Romance|    687|  Romance|       147523|0.004656900957816747|\n",
            "+--------+------------+-------+---------+-------------+--------------------+\n",
            "only showing top 20 rows\n",
            "\n"
          ]
        }
      ],
      "source": [
        "query = \"\"\"\n",
        "    SELECT *, watches/genre_watched AS popularity_per_genre\n",
        "    FROM    (SELECT original_movies_info.movie_id AS movie_id, parsed_genre, watches\n",
        "             FROM   original_movies_info INNER JOIN popularity_info ON original_movies_info.movie_id = popularity_info.movie_id\n",
        "            ) A INNER JOIN\n",
        "            watches_per_genre_info ON A.parsed_genre = watches_per_genre_info.genre\n",
        "\"\"\"\n",
        "\n",
        "df = spark.sql(query)\n",
        "df.createOrReplaceTempView(\"df_info\")\n",
        "df.show()"
      ]
    },
    {
      "cell_type": "markdown",
      "id": "443ecf73",
      "metadata": {
        "id": "443ecf73"
      },
      "source": [
        "**Avarage Rating**"
      ]
    },
    {
      "cell_type": "code",
      "execution_count": null,
      "id": "f7d2f223",
      "metadata": {
        "id": "f7d2f223"
      },
      "outputs": [],
      "source": [
        "query = \"\"\"\n",
        "    SELECT movie_id, AVG(rating) AS avg_rating\n",
        "    FROM ratings_info\n",
        "    GROUP BY movie_id\n",
        "\"\"\"\n",
        "\n",
        "avg = spark.sql(query)\n",
        "avg.createOrReplaceTempView(\"avg_info\")"
      ]
    },
    {
      "cell_type": "code",
      "execution_count": null,
      "id": "8b955fcd",
      "metadata": {
        "colab": {
          "base_uri": "https://localhost:8080/"
        },
        "id": "8b955fcd",
        "outputId": "6b088e55-3ed3-43c7-bd60-bbed5e5abffe"
      },
      "outputs": [
        {
          "output_type": "stream",
          "name": "stdout",
          "text": [
            "+--------+------------------+\n",
            "|movie_id|        avg_rating|\n",
            "+--------+------------------+\n",
            "|    1580| 3.739952718676123|\n",
            "|    2366|3.6560846560846563|\n",
            "|    1088|3.3114992721979624|\n",
            "|    1959|3.6533546325878596|\n",
            "|    3175| 3.771412037037037|\n",
            "|    1645|3.4358353510895885|\n",
            "|     496|3.2162162162162162|\n",
            "|    2142|2.8308457711442787|\n",
            "|    1591|2.6210526315789475|\n",
            "|    2122|2.4463519313304722|\n",
            "|     833|2.1794871794871793|\n",
            "|     463|  2.74468085106383|\n",
            "|     471| 3.631051752921536|\n",
            "|    1342| 2.904580152671756|\n",
            "|     148| 2.782608695652174|\n",
            "|    3918| 2.802395209580838|\n",
            "|    3794|  3.28099173553719|\n",
            "|    1238|               4.0|\n",
            "|    2866|3.6884422110552766|\n",
            "|    3749|3.1363636363636362|\n",
            "+--------+------------------+\n",
            "only showing top 20 rows\n",
            "\n"
          ]
        }
      ],
      "source": [
        "avg.show()"
      ]
    },
    {
      "cell_type": "code",
      "execution_count": null,
      "id": "2c2143cd",
      "metadata": {
        "colab": {
          "base_uri": "https://localhost:8080/"
        },
        "id": "2c2143cd",
        "outputId": "95d266be-c3d2-407a-fa63-5eab85c7514c"
      },
      "outputs": [
        {
          "output_type": "stream",
          "name": "stdout",
          "text": [
            "+--------+------------+-------+---------+-------------+--------------------+------------------+\n",
            "|movie_id|parsed_genre|watches|    genre|genre_watched|popularity_per_genre|        avg_rating|\n",
            "+--------+------------+-------+---------+-------------+--------------------+------------------+\n",
            "|    1580|      Sci-Fi|   2538|   Sci-Fi|       157294|  0.0161353897796483| 3.739952718676123|\n",
            "|    1580|      Comedy|   2538|   Comedy|       356580|0.007117617364967188| 3.739952718676123|\n",
            "|    1580|   Adventure|   2538|Adventure|       133953| 0.01894694407740028| 3.739952718676123|\n",
            "|    1580|      Action|   2538|   Action|       257457|0.009857956862699403| 3.739952718676123|\n",
            "|     471|     Romance|    599|  Romance|       147523|0.004060383804559289| 3.631051752921536|\n",
            "|     471|      Comedy|    599|   Comedy|       356580|0.001679847439564754| 3.631051752921536|\n",
            "|    3175|      Sci-Fi|   1728|   Sci-Fi|       157294|0.010985797296781823| 3.771412037037037|\n",
            "|    3175|      Comedy|   1728|   Comedy|       356580|0.004846037354871277| 3.771412037037037|\n",
            "|    3175|   Adventure|   1728|Adventure|       133953| 0.01290004703142147| 3.771412037037037|\n",
            "|    1959|     Romance|    626|  Romance|       147523|  0.0042434061129451|3.6533546325878596|\n",
            "|    1959|       Drama|    626|    Drama|       354529|0.001765722973296...|3.6533546325878596|\n",
            "|    3794|       Drama|    121|    Drama|       354529|3.412978910046851E-4|  3.28099173553719|\n",
            "|    3794|      Comedy|    121|   Comedy|       356580|3.393347916316114...|  3.28099173553719|\n",
            "|    1342|      Horror|    262|   Horror|        76386|0.003429947896211348| 2.904580152671756|\n",
            "|    2866|       Drama|    199|    Drama|       354529|5.613081017349779E-4|3.6884422110552766|\n",
            "|     148|       Drama|     23|    Drama|       354529|6.487480572816328E-5| 2.782608695652174|\n",
            "|     833|      Comedy|     78|   Comedy|       356580|2.187447417129396E-4|2.1794871794871793|\n",
            "|    2122|    Thriller|    233| Thriller|       189680|0.001228384647827...|2.4463519313304722|\n",
            "|    2122|      Horror|    233|   Horror|        76386|0.003050297174874977|2.4463519313304722|\n",
            "|    1088|     Romance|    687|  Romance|       147523|0.004656900957816747|3.3114992721979624|\n",
            "+--------+------------+-------+---------+-------------+--------------------+------------------+\n",
            "only showing top 20 rows\n",
            "\n"
          ]
        }
      ],
      "source": [
        "query = \"\"\"\n",
        "    SELECT A.movie_id, parsed_genre, watches, genre, genre_watched, popularity_per_genre, avg_rating\n",
        "    FROM   df_info AS A LEFT JOIN avg_info ON A.movie_id = avg_info.movie_id\n",
        "\"\"\"\n",
        "\n",
        "df = spark.sql(query)\n",
        "df.createOrReplaceTempView(\"df_info\")\n",
        "df.show()"
      ]
    },
    {
      "cell_type": "markdown",
      "id": "83875957",
      "metadata": {
        "id": "83875957"
      },
      "source": [
        "**rating ratio to genre rating**"
      ]
    },
    {
      "cell_type": "code",
      "execution_count": null,
      "id": "46d34a37",
      "metadata": {
        "colab": {
          "base_uri": "https://localhost:8080/"
        },
        "id": "46d34a37",
        "outputId": "e3d16f66-0d7c-4510-cc51-811911ac6b52"
      },
      "outputs": [
        {
          "output_type": "stream",
          "name": "stdout",
          "text": [
            "+-----------+------------------+\n",
            "|      genre| mean_genre_rating|\n",
            "+-----------+------------------+\n",
            "|      Crime| 3.708678543141273|\n",
            "|    Romance| 3.607464598740535|\n",
            "|   Thriller|3.5704660480809784|\n",
            "|  Adventure| 3.477256948332624|\n",
            "|      Drama| 3.766332232342065|\n",
            "| Children's| 3.422034743579087|\n",
            "|        War| 3.893326717935996|\n",
            "|Documentary| 3.933122629582807|\n",
            "|    Fantasy| 3.447370595851354|\n",
            "|    Mystery|3.6681019463387923|\n",
            "|    Musical|3.6655189849035708|\n",
            "|  Animation| 3.684868223500335|\n",
            "|  Film-Noir| 4.075187558184108|\n",
            "|     Horror| 3.215013222318226|\n",
            "|    Western|3.6377701493980563|\n",
            "|     Comedy| 3.522098827752538|\n",
            "|     Action|3.4911849357368414|\n",
            "|     Sci-Fi| 3.466521291339784|\n",
            "+-----------+------------------+\n",
            "\n"
          ]
        }
      ],
      "source": [
        "query = \"\"\"\n",
        "    SELECT A.parsed_genre AS genre, MEAN(B.rating) AS mean_genre_rating\n",
        "    FROM   original_movies_info AS A JOIN ratings_info B ON A.movie_id = B.movie_id\n",
        "    GROUP BY A.parsed_genre\n",
        "\"\"\"\n",
        "\n",
        "avg = spark.sql(query)\n",
        "avg.createOrReplaceTempView(\"avg_info\")\n",
        "avg.show()"
      ]
    },
    {
      "cell_type": "code",
      "execution_count": null,
      "id": "342297d7",
      "metadata": {
        "colab": {
          "base_uri": "https://localhost:8080/"
        },
        "id": "342297d7",
        "outputId": "9ad5e4a8-cbb3-4f6b-99e2-2b504a37b22a"
      },
      "outputs": [
        {
          "output_type": "stream",
          "name": "stdout",
          "text": [
            "+--------+------------+-------+---------+-------------+--------------------+-----------------+---------+------------------+------------------+\n",
            "|movie_id|parsed_genre|watches|    genre|genre_watched|popularity_per_genre|       avg_rating|    genre| mean_genre_rating|  rating_per_genre|\n",
            "+--------+------------+-------+---------+-------------+--------------------+-----------------+---------+------------------+------------------+\n",
            "|    1580|      Sci-Fi|   2538|   Sci-Fi|       157294|  0.0161353897796483|3.739952718676123|   Sci-Fi| 3.466521291339784|1.0788777579469762|\n",
            "|    1580|      Comedy|   2538|   Comedy|       356580|0.007117617364967188|3.739952718676123|   Comedy| 3.522098827752538|1.0618534293265696|\n",
            "|    1580|   Adventure|   2538|Adventure|       133953| 0.01894694407740028|3.739952718676123|Adventure| 3.477256948332624|1.0755468388579865|\n",
            "|    1580|      Action|   2538|   Action|       257457|0.009857956862699403|3.739952718676123|   Action|3.4911849357368414|1.0712559739797276|\n",
            "|     471|     Romance|    599|  Romance|       147523|0.004060383804559289|3.631051752921536|  Romance| 3.607464598740535|1.0065384298405133|\n",
            "+--------+------------+-------+---------+-------------+--------------------+-----------------+---------+------------------+------------------+\n",
            "only showing top 5 rows\n",
            "\n"
          ]
        }
      ],
      "source": [
        "query = \"\"\"\n",
        "    SELECT *, avg_rating/mean_genre_rating AS rating_per_genre\n",
        "    FROM   df_info AS A LEFT JOIN avg_info B ON A.parsed_genre = B.genre\n",
        "\"\"\"\n",
        "\n",
        "df = spark.sql(query)\n",
        "df.show(5)"
      ]
    },
    {
      "cell_type": "code",
      "execution_count": null,
      "id": "fceb8371",
      "metadata": {
        "colab": {
          "base_uri": "https://localhost:8080/"
        },
        "id": "fceb8371",
        "outputId": "494a3273-c317-4cd8-92f6-1219fd32a235"
      },
      "outputs": [
        {
          "output_type": "execute_result",
          "data": {
            "text/plain": [
              "['movie_id',\n",
              " 'parsed_genre',\n",
              " 'watches',\n",
              " 'genre',\n",
              " 'genre_watched',\n",
              " 'popularity_per_genre',\n",
              " 'avg_rating',\n",
              " 'genre',\n",
              " 'mean_genre_rating',\n",
              " 'rating_per_genre']"
            ]
          },
          "metadata": {},
          "execution_count": 63
        }
      ],
      "source": [
        "df.columns"
      ]
    },
    {
      "cell_type": "code",
      "execution_count": null,
      "id": "a9929a83",
      "metadata": {
        "colab": {
          "base_uri": "https://localhost:8080/"
        },
        "id": "a9929a83",
        "outputId": "86b8544f-66d2-49f8-aab0-521ec8f6a227"
      },
      "outputs": [
        {
          "output_type": "execute_result",
          "data": {
            "text/plain": [
              "['movie_id',\n",
              " 'parsed_genre',\n",
              " 'watches',\n",
              " 'popularity_per_genre',\n",
              " 'avg_rating',\n",
              " 'rating_per_genre']"
            ]
          },
          "metadata": {},
          "execution_count": 64
        }
      ],
      "source": [
        "cleaned_df = df.drop(\"genre\", \"genre_watched\", \"mean_genre_rating\")\n",
        "cleaned_df.columns"
      ]
    },
    {
      "cell_type": "code",
      "execution_count": null,
      "id": "6bfd385a",
      "metadata": {
        "colab": {
          "base_uri": "https://localhost:8080/"
        },
        "id": "6bfd385a",
        "outputId": "b657c4eb-88e3-4550-9400-c9d6b28eac06"
      },
      "outputs": [
        {
          "output_type": "stream",
          "name": "stdout",
          "text": [
            "+--------+------------+-------+--------------------+-----------------+------------------+\n",
            "|movie_id|parsed_genre|watches|popularity_per_genre|       avg_rating|  rating_per_genre|\n",
            "+--------+------------+-------+--------------------+-----------------+------------------+\n",
            "|    1580|      Sci-Fi|   2538|  0.0161353897796483|3.739952718676123|1.0788777579469762|\n",
            "|    1580|      Comedy|   2538|0.007117617364967188|3.739952718676123|1.0618534293265696|\n",
            "|    1580|   Adventure|   2538| 0.01894694407740028|3.739952718676123|1.0755468388579865|\n",
            "|    1580|      Action|   2538|0.009857956862699403|3.739952718676123|1.0712559739797276|\n",
            "|     471|     Romance|    599|0.004060383804559289|3.631051752921536|1.0065384298405133|\n",
            "+--------+------------+-------+--------------------+-----------------+------------------+\n",
            "only showing top 5 rows\n",
            "\n"
          ]
        }
      ],
      "source": [
        "cleaned_df.createOrReplaceTempView(\"cleaned_df_info\")\n",
        "cleaned_df.show(5)"
      ]
    },
    {
      "cell_type": "code",
      "execution_count": null,
      "id": "943f1102",
      "metadata": {
        "colab": {
          "base_uri": "https://localhost:8080/"
        },
        "id": "943f1102",
        "outputId": "79a62880-0bcc-48cb-8813-740503e7dbf8"
      },
      "outputs": [
        {
          "output_type": "stream",
          "name": "stdout",
          "text": [
            "+--------+------------+-------+--------------------+------------------+------------------+----+\n",
            "|movie_id|parsed_genre|watches|popularity_per_genre|        avg_rating|  rating_per_genre|year|\n",
            "+--------+------------+-------+--------------------+------------------+------------------+----+\n",
            "|    1580|      Sci-Fi|   2538|  0.0161353897796483| 3.739952718676123|1.0788777579469762|1997|\n",
            "|    1580|      Comedy|   2538|0.007117617364967188| 3.739952718676123|1.0618534293265696|1997|\n",
            "|    1580|   Adventure|   2538| 0.01894694407740028| 3.739952718676123|1.0755468388579865|1997|\n",
            "|    1580|      Action|   2538|0.009857956862699403| 3.739952718676123|1.0712559739797276|1997|\n",
            "|     471|     Romance|    599|0.004060383804559289| 3.631051752921536|1.0065384298405133|1994|\n",
            "|     471|      Comedy|    599|0.001679847439564754| 3.631051752921536| 1.030934090863805|1994|\n",
            "|    3175|      Sci-Fi|   1728|0.010985797296781823| 3.771412037037037| 1.087952941889884|1999|\n",
            "|    3175|      Comedy|   1728|0.004846037354871277| 3.771412037037037| 1.070785409915254|1999|\n",
            "|    3175|   Adventure|   1728| 0.01290004703142147| 3.771412037037037| 1.084594004146131|1999|\n",
            "|    1959|     Romance|    626|  0.0042434061129451|3.6533546325878596|1.0127208549359974|1985|\n",
            "|    1959|       Drama|    626|0.001765722973296...|3.6533546325878596|0.9700032836232424|1985|\n",
            "|    3794|       Drama|    121|3.412978910046851E-4|  3.28099173553719|0.8711370992083007|2000|\n",
            "|    3794|      Comedy|    121|3.393347916316114...|  3.28099173553719|0.9315444841253364|2000|\n",
            "|    1342|      Horror|    262|0.003429947896211348| 2.904580152671756|0.9034426771586873|1992|\n",
            "|    2866|       Drama|    199|5.613081017349779E-4|3.6884422110552766|0.9793193970999332|1978|\n",
            "|     148|       Drama|     23|6.487480572816328E-5| 2.782608695652174|0.7388112688937772|1995|\n",
            "|     833|      Comedy|     78|2.187447417129396E-4|2.1794871794871793| 0.618803527690311|1996|\n",
            "|    2122|    Thriller|    233|0.001228384647827...|2.4463519313304722| 0.685163196733187|1984|\n",
            "|    2122|      Horror|    233|0.003050297174874977|2.4463519313304722|0.7609150451849461|1984|\n",
            "|    1088|     Romance|    687|0.004656900957816747|3.3114992721979624|0.9179575243383116|1987|\n",
            "+--------+------------+-------+--------------------+------------------+------------------+----+\n",
            "only showing top 20 rows\n",
            "\n"
          ]
        }
      ],
      "source": [
        "query = \"\"\"\n",
        "    SELECT A.movie_id, A.parsed_genre, A.watches, A.popularity_per_genre, A.avg_rating, A.rating_per_genre, B.year\n",
        "    FROM cleaned_df_info A INNER JOIN original_movies_info B ON A.movie_id = B.movie_id AND A.parsed_genre = B.parsed_genre\n",
        "\"\"\"\n",
        "\n",
        "cleaned_df = spark.sql(query)\n",
        "cleaned_df.show()"
      ]
    },
    {
      "cell_type": "code",
      "execution_count": 70,
      "id": "3d4e7a64",
      "metadata": {
        "id": "3d4e7a64"
      },
      "outputs": [],
      "source": [
        "cleaned_df.toPandas().to_csv(\"/content/drive/MyDrive/movieLens/cleaned_data/movies_features.csv\", header=True)"
      ]
    },
    {
      "cell_type": "markdown",
      "id": "f24eef63",
      "metadata": {
        "id": "f24eef63"
      },
      "source": [
        "## 4.2. User Features"
      ]
    },
    {
      "cell_type": "markdown",
      "id": "2590a411",
      "metadata": {
        "id": "2590a411"
      },
      "source": [
        "users.printSchema()"
      ]
    },
    {
      "cell_type": "markdown",
      "id": "fa4366e9",
      "metadata": {
        "id": "fa4366e9"
      },
      "source": [
        "**Features used for the user:**\n",
        "1. gender\n",
        "2. age category\n",
        "3. Occupation\n",
        "4. Region\n",
        "5. Avarage ratings\n",
        "6. number of watched movies\n",
        "7. avarage rating per genre\n",
        "8. avarage rating per popularity\n",
        "\n",
        "**For missing category avarage rating & Popularity avarage rating impute with avarage rating of all users**"
      ]
    },
    {
      "cell_type": "code",
      "execution_count": 71,
      "id": "e72a1f07",
      "metadata": {
        "id": "e72a1f07",
        "colab": {
          "base_uri": "https://localhost:8080/"
        },
        "outputId": "6dfc407e-7301-4c1f-87bd-d10885992ccc"
      },
      "outputs": [
        {
          "output_type": "stream",
          "name": "stdout",
          "text": [
            "+-------+------+---+----------+-------+--------------+------+------------------+-----------------+\n",
            "|user_id|gender|age|occupation|zipcode|casted_zipcode|region|encoded_occupation|   encoded_region|\n",
            "+-------+------+---+----------+-------+--------------+------+------------------+-----------------+\n",
            "|      1|     0|  1|        10|  48067|         48067|     4|   (21,[10],[1.0])|(19313,[4],[1.0])|\n",
            "|      2|     1|  7|        16|  70072|         70072|     7|   (21,[16],[1.0])|(19313,[7],[1.0])|\n",
            "|      3|     1|  3|        15|  55117|         55117|     5|   (21,[15],[1.0])|(19313,[5],[1.0])|\n",
            "|      4|     1|  5|         7|   2460|          2460|     0|    (21,[7],[1.0])|(19313,[0],[1.0])|\n",
            "|      5|     1|  3|        20|  55455|         55455|     5|   (21,[20],[1.0])|(19313,[5],[1.0])|\n",
            "+-------+------+---+----------+-------+--------------+------+------------------+-----------------+\n",
            "only showing top 5 rows\n",
            "\n"
          ]
        }
      ],
      "source": [
        "users.show(5)"
      ]
    },
    {
      "cell_type": "code",
      "execution_count": 72,
      "id": "936f512e",
      "metadata": {
        "id": "936f512e"
      },
      "outputs": [],
      "source": [
        "users = users.drop(\"zipcode\")"
      ]
    },
    {
      "cell_type": "markdown",
      "id": "3e604995",
      "metadata": {
        "id": "3e604995"
      },
      "source": [
        "**Avarage ratings & number of watched movies**"
      ]
    },
    {
      "cell_type": "code",
      "execution_count": 104,
      "id": "901f4644",
      "metadata": {
        "id": "901f4644",
        "colab": {
          "base_uri": "https://localhost:8080/"
        },
        "outputId": "6d7a7c26-c9fc-47d2-e2c1-b4806e58d081"
      },
      "outputs": [
        {
          "output_type": "stream",
          "name": "stdout",
          "text": [
            "+-------+------+---+----------+-------+--------------+------+------------------+--------------+\n",
            "|user_id|gender|age|occupation|zipcode|casted_zipcode|region|       mean_rating|watched_movies|\n",
            "+-------+------+---+----------+-------+--------------+------+------------------+--------------+\n",
            "|    148|     1|  6|        17|  57747|         57747|     5| 3.733974358974359|           624|\n",
            "|    463|     1|  3|         7|  55105|         55105|     5|               3.0|           123|\n",
            "|    471|     1|  4|         7|   8904|          8904|     0|3.6285714285714286|           105|\n",
            "|    496|     1|  2|         4|  55455|         55455|     5| 4.294117647058823|           119|\n",
            "|    833|     1|  4|         7|  46825|         46825|     4|4.0476190476190474|            21|\n",
            "+-------+------+---+----------+-------+--------------+------+------------------+--------------+\n",
            "only showing top 5 rows\n",
            "\n"
          ]
        }
      ],
      "source": [
        "query = \"\"\"\n",
        "    SELECT  A.user_id, A.gender, A.age, A.occupation, A.zipcode, A.casted_zipcode, A.region, B.mean_rating, B.watched_movies\n",
        "    FROM    users_info A\n",
        "            INNER JOIN\n",
        "            (SELECT   user_id, MEAN(rating) AS mean_rating, COUNT(movie_id) AS watched_movies\n",
        "            FROM     ratings_info\n",
        "            GROUP BY user_id) B\n",
        "            ON B.user_id = A.user_id\n",
        "\"\"\"\n",
        "\n",
        "users = spark.sql(query)\n",
        "users.createOrReplaceTempView(\"users_info\")\n",
        "users.show(5)"
      ]
    },
    {
      "cell_type": "markdown",
      "source": [
        "# **Pivoting for all genre related variables**"
      ],
      "metadata": {
        "id": "T0DT4HDNIKc3"
      },
      "id": "T0DT4HDNIKc3"
    },
    {
      "cell_type": "code",
      "execution_count": 75,
      "id": "1b2954ef",
      "metadata": {
        "id": "1b2954ef",
        "colab": {
          "base_uri": "https://localhost:8080/"
        },
        "outputId": "868bfd38-fbb9-4477-9b46-1d575b35e41f"
      },
      "outputs": [
        {
          "output_type": "stream",
          "name": "stdout",
          "text": [
            "+--------+------------+-------+--------------------+-----------------+------------------+----+\n",
            "|movie_id|parsed_genre|watches|popularity_per_genre|       avg_rating|  rating_per_genre|year|\n",
            "+--------+------------+-------+--------------------+-----------------+------------------+----+\n",
            "|    1580|      Sci-Fi|   2538|  0.0161353897796483|3.739952718676123|1.0788777579469762|1997|\n",
            "|    1580|      Comedy|   2538|0.007117617364967188|3.739952718676123|1.0618534293265696|1997|\n",
            "|    1580|   Adventure|   2538| 0.01894694407740028|3.739952718676123|1.0755468388579865|1997|\n",
            "|    1580|      Action|   2538|0.009857956862699403|3.739952718676123|1.0712559739797276|1997|\n",
            "|     471|     Romance|    599|0.004060383804559289|3.631051752921536|1.0065384298405133|1994|\n",
            "+--------+------------+-------+--------------------+-----------------+------------------+----+\n",
            "only showing top 5 rows\n",
            "\n"
          ]
        }
      ],
      "source": [
        "cleaned_df.createOrReplaceTempView(\"cleaned_df_info\")\n",
        "cleaned_df.show(5)\n"
      ]
    },
    {
      "cell_type": "code",
      "source": [
        "genre_mov = parsed_movies.drop(\"movie_name\",\"name\",\"year\",\"genre\")\n",
        "genre_mov.createOrReplaceTempView(\"movie_mapped_genre\")\n",
        "genre_mov.show(10)"
      ],
      "metadata": {
        "colab": {
          "base_uri": "https://localhost:8080/"
        },
        "id": "Zjli7t-aJyys",
        "outputId": "bb48aeb5-d545-4cbe-c841-d21c9ff62918"
      },
      "id": "Zjli7t-aJyys",
      "execution_count": 107,
      "outputs": [
        {
          "output_type": "stream",
          "name": "stdout",
          "text": [
            "+--------+------+---------+---------+----------+------+-----+-----------+-----+-------+---------+------+-------+-------+-------+------+--------+---+-------+\n",
            "|movie_id|Action|Adventure|Animation|Children's|Comedy|Crime|Documentary|Drama|Fantasy|Film-Noir|Horror|Musical|Mystery|Romance|Sci-Fi|Thriller|War|Western|\n",
            "+--------+------+---------+---------+----------+------+-----+-----------+-----+-------+---------+------+-------+-------+-------+------+--------+---+-------+\n",
            "|    1387|     1|        0|        0|         0|     0|    0|          0|    0|      0|        0|     1|      0|      0|      0|     0|       0|  0|      0|\n",
            "|    2453|     0|        0|        0|         0|     0|    0|          0|    1|      1|        0|     0|      0|      0|      0|     0|       0|  0|      0|\n",
            "|    2961|     0|        0|        0|         0|     1|    0|          0|    1|      0|        0|     0|      0|      0|      0|     0|       0|  0|      0|\n",
            "|    2857|     0|        0|        1|         0|     0|    0|          0|    0|      0|        0|     0|      1|      0|      0|     0|       0|  0|      0|\n",
            "|      57|     0|        0|        0|         0|     0|    0|          0|    1|      0|        0|     0|      0|      0|      0|     0|       0|  0|      0|\n",
            "|    3656|     0|        0|        0|         0|     0|    1|          0|    0|      0|        0|     0|      0|      0|      0|     0|       0|  0|      0|\n",
            "|    3312|     0|        0|        0|         0|     0|    0|          0|    1|      0|        0|     0|      0|      0|      0|     0|       0|  0|      0|\n",
            "|    2051|     0|        1|        0|         1|     1|    0|          0|    0|      0|        0|     0|      0|      0|      0|     0|       0|  0|      0|\n",
            "|    2698|     0|        0|        0|         0|     0|    0|          0|    0|      0|        0|     0|      0|      0|      0|     1|       0|  0|      0|\n",
            "|    3328|     0|        0|        0|         0|     0|    1|          0|    1|      0|        0|     0|      0|      0|      0|     0|       0|  0|      0|\n",
            "+--------+------+---------+---------+----------+------+-----+-----------+-----+-------+---------+------+-------+-------+-------+------+--------+---+-------+\n",
            "only showing top 10 rows\n",
            "\n"
          ]
        }
      ]
    },
    {
      "cell_type": "code",
      "source": [
        "excluded = [\"movie_id\"]\n",
        "pop_gen_mov =cleaned_df.groupBy(excluded).pivot(\"parsed_genre\").sum(\"popularity_per_genre\")\n",
        "\n",
        "columns = {col: 0 for col in pop_gen_mov.columns if not(col in excluded)}\n",
        "pop_gen_mov = pop_gen_mov.fillna(columns)"
      ],
      "metadata": {
        "id": "xMqpLdmOL95t"
      },
      "id": "xMqpLdmOL95t",
      "execution_count": 82,
      "outputs": []
    },
    {
      "cell_type": "code",
      "source": [
        "pop_gen_mov.show(10)"
      ],
      "metadata": {
        "colab": {
          "base_uri": "https://localhost:8080/"
        },
        "id": "cXWfZiLAMOwC",
        "outputId": "d8d930fc-64ed-4bfa-850c-d37f3946995a"
      },
      "id": "cXWfZiLAMOwC",
      "execution_count": 83,
      "outputs": [
        {
          "output_type": "stream",
          "name": "stdout",
          "text": [
            "+--------+--------------------+-------------------+---------+----------+--------------------+-----+-----------+--------------------+-------+---------+--------------------+-------+-------+--------------------+--------------------+--------------------+---+-------+\n",
            "|movie_id|              Action|          Adventure|Animation|Children's|              Comedy|Crime|Documentary|               Drama|Fantasy|Film-Noir|              Horror|Musical|Mystery|             Romance|              Sci-Fi|            Thriller|War|Western|\n",
            "+--------+--------------------+-------------------+---------+----------+--------------------+-----+-----------+--------------------+-------+---------+--------------------+-------+-------+--------------------+--------------------+--------------------+---+-------+\n",
            "|    1580|0.009857956862699403|0.01894694407740028|      0.0|       0.0|0.007117617364967188|  0.0|        0.0|                 0.0|    0.0|      0.0|                 0.0|    0.0|    0.0|                 0.0|  0.0161353897796483|                 0.0|0.0|    0.0|\n",
            "|     471|                 0.0|                0.0|      0.0|       0.0|0.001679847439564754|  0.0|        0.0|                 0.0|    0.0|      0.0|                 0.0|    0.0|    0.0|0.004060383804559289|                 0.0|                 0.0|0.0|    0.0|\n",
            "|    3175|                 0.0|0.01290004703142147|      0.0|       0.0|0.004846037354871277|  0.0|        0.0|                 0.0|    0.0|      0.0|                 0.0|    0.0|    0.0|                 0.0|0.010985797296781823|                 0.0|0.0|    0.0|\n",
            "|    1959|                 0.0|                0.0|      0.0|       0.0|                 0.0|  0.0|        0.0|0.001765722973296...|    0.0|      0.0|                 0.0|    0.0|    0.0|  0.0042434061129451|                 0.0|                 0.0|0.0|    0.0|\n",
            "|    3794|                 0.0|                0.0|      0.0|       0.0|3.393347916316114...|  0.0|        0.0|3.412978910046851E-4|    0.0|      0.0|                 0.0|    0.0|    0.0|                 0.0|                 0.0|                 0.0|0.0|    0.0|\n",
            "|    1342|                 0.0|                0.0|      0.0|       0.0|                 0.0|  0.0|        0.0|                 0.0|    0.0|      0.0|0.003429947896211348|    0.0|    0.0|                 0.0|                 0.0|                 0.0|0.0|    0.0|\n",
            "|    2866|                 0.0|                0.0|      0.0|       0.0|                 0.0|  0.0|        0.0|5.613081017349779E-4|    0.0|      0.0|                 0.0|    0.0|    0.0|                 0.0|                 0.0|                 0.0|0.0|    0.0|\n",
            "|     148|                 0.0|                0.0|      0.0|       0.0|                 0.0|  0.0|        0.0|6.487480572816328E-5|    0.0|      0.0|                 0.0|    0.0|    0.0|                 0.0|                 0.0|                 0.0|0.0|    0.0|\n",
            "|     833|                 0.0|                0.0|      0.0|       0.0|2.187447417129396E-4|  0.0|        0.0|                 0.0|    0.0|      0.0|                 0.0|    0.0|    0.0|                 0.0|                 0.0|                 0.0|0.0|    0.0|\n",
            "|    2122|                 0.0|                0.0|      0.0|       0.0|                 0.0|  0.0|        0.0|                 0.0|    0.0|      0.0|0.003050297174874977|    0.0|    0.0|                 0.0|                 0.0|0.001228384647827...|0.0|    0.0|\n",
            "+--------+--------------------+-------------------+---------+----------+--------------------+-----+-----------+--------------------+-------+---------+--------------------+-------+-------+--------------------+--------------------+--------------------+---+-------+\n",
            "only showing top 10 rows\n",
            "\n"
          ]
        }
      ]
    },
    {
      "cell_type": "code",
      "source": [
        "excluded = [\"movie_id\"]\n",
        "rat_gen_mov =cleaned_df.groupBy(excluded).pivot(\"parsed_genre\").sum(\"rating_per_genre\")\n",
        "\n",
        "columns = {col: 0 for col in pop_gen_mov.columns if not(col in excluded)}\n",
        "rat_gen_mov = rat_gen_mov.fillna(columns)\n",
        "rat_gen_mov.show(10)"
      ],
      "metadata": {
        "colab": {
          "base_uri": "https://localhost:8080/"
        },
        "id": "Z3EL-WfeVAZG",
        "outputId": "b9efbe74-119a-4dfd-bb15-9e23794a7b82"
      },
      "id": "Z3EL-WfeVAZG",
      "execution_count": 84,
      "outputs": [
        {
          "output_type": "stream",
          "name": "stdout",
          "text": [
            "+--------+------------------+------------------+---------+----------+------------------+------------------+-----------+------------------+-------+---------+------------------+------------------+------------------+------------------+------------------+------------------+---+-------+\n",
            "|movie_id|            Action|         Adventure|Animation|Children's|            Comedy|             Crime|Documentary|             Drama|Fantasy|Film-Noir|            Horror|           Musical|           Mystery|           Romance|            Sci-Fi|          Thriller|War|Western|\n",
            "+--------+------------------+------------------+---------+----------+------------------+------------------+-----------+------------------+-------+---------+------------------+------------------+------------------+------------------+------------------+------------------+---+-------+\n",
            "|     463|               0.0|               0.0|      0.0|       0.0|               0.0|0.7400697631612657|        0.0|0.7287410355079247|    0.0|      0.0|               0.0|               0.0|               0.0|               0.0|               0.0|0.7687178127737738|0.0|    0.0|\n",
            "|    1645|               0.0|               0.0|      0.0|       0.0|               0.0|0.9264311563059912|        0.0|               0.0|    0.0|      0.0|1.0686846720375651|               0.0|0.9366793511611546|               0.0|               0.0|0.9622932426247969|0.0|    0.0|\n",
            "|    1829|               0.0|               0.0|      0.0|       0.0|               0.0|               0.0|        0.0|0.7965308992761037|    0.0|      0.0|               0.0|               0.0|               0.0|0.8316089923785759|               0.0|               0.0|0.0|    0.0|\n",
            "|     471|               0.0|               0.0|      0.0|       0.0| 1.030934090863805|               0.0|        0.0|               0.0|    0.0|      0.0|               0.0|               0.0|               0.0|1.0065384298405133|               0.0|               0.0|0.0|    0.0|\n",
            "|     496|               0.0|               0.0|      0.0|       0.0|0.9131533138348914|               0.0|        0.0|0.8539385316563634|    0.0|      0.0|               0.0|               0.0|               0.0|0.8915447756130679|               0.0|               0.0|0.0|    0.0|\n",
            "|    1959|               0.0|               0.0|      0.0|       0.0|               0.0|               0.0|        0.0|0.9700032836232424|    0.0|      0.0|               0.0|               0.0|               0.0|1.0127208549359974|               0.0|               0.0|0.0|    0.0|\n",
            "|    1088|               0.0|               0.0|      0.0|       0.0|               0.0|               0.0|        0.0|               0.0|    0.0|      0.0|               0.0|0.9034189389923671|               0.0|0.9179575243383116|               0.0|               0.0|0.0|    0.0|\n",
            "|    2122|               0.0|               0.0|      0.0|       0.0|               0.0|               0.0|        0.0|               0.0|    0.0|      0.0|0.7609150451849461|               0.0|               0.0|               0.0|               0.0| 0.685163196733187|0.0|    0.0|\n",
            "|    1591|0.7507630445895455|0.7537701902747698|      0.0|       0.0|               0.0|               0.0|        0.0|               0.0|    0.0|      0.0|               0.0|               0.0|               0.0|               0.0|0.7561045818835662|0.7340925795913077|0.0|    0.0|\n",
            "|    3175|               0.0| 1.084594004146131|      0.0|       0.0| 1.070785409915254|               0.0|        0.0|               0.0|    0.0|      0.0|               0.0|               0.0|               0.0|               0.0| 1.087952941889884|               0.0|0.0|    0.0|\n",
            "+--------+------------------+------------------+---------+----------+------------------+------------------+-----------+------------------+-------+---------+------------------+------------------+------------------+------------------+------------------+------------------+---+-------+\n",
            "only showing top 10 rows\n",
            "\n"
          ]
        }
      ]
    },
    {
      "cell_type": "code",
      "source": [
        "\n",
        "joinedDF = rat_gen_mov.join(pop_gen_mov, \"movie_id\").join(genre_mov, \"movie_id\")\n",
        "\n",
        "joinedDF.show(10)"
      ],
      "metadata": {
        "colab": {
          "base_uri": "https://localhost:8080/"
        },
        "id": "6f62pNWRYXmi",
        "outputId": "0dce1d2b-371e-4d6f-e9b4-139e730e0e35"
      },
      "id": "6f62pNWRYXmi",
      "execution_count": 101,
      "outputs": [
        {
          "output_type": "stream",
          "name": "stdout",
          "text": [
            "+--------+------------------+------------------+---------+----------+------------------+-----+-----------+------------------+-------+---------+------------------+-------+-------+------------------+------------------+-----------------+---+-------+--------------------+-------------------+---------+----------+--------------------+-----+-----------+--------------------+-------+---------+--------------------+-------+-------+--------------------+--------------------+--------------------+---+-------+------+---------+---------+----------+------+-----+-----------+-----+-------+---------+------+-------+-------+-------+------+--------+---+-------+\n",
            "|movie_id|            Action|         Adventure|Animation|Children's|            Comedy|Crime|Documentary|             Drama|Fantasy|Film-Noir|            Horror|Musical|Mystery|           Romance|            Sci-Fi|         Thriller|War|Western|              Action|          Adventure|Animation|Children's|              Comedy|Crime|Documentary|               Drama|Fantasy|Film-Noir|              Horror|Musical|Mystery|             Romance|              Sci-Fi|            Thriller|War|Western|Action|Adventure|Animation|Children's|Comedy|Crime|Documentary|Drama|Fantasy|Film-Noir|Horror|Musical|Mystery|Romance|Sci-Fi|Thriller|War|Western|\n",
            "+--------+------------------+------------------+---------+----------+------------------+-----+-----------+------------------+-------+---------+------------------+-------+-------+------------------+------------------+-----------------+---+-------+--------------------+-------------------+---------+----------+--------------------+-----+-----------+--------------------+-------+---------+--------------------+-------+-------+--------------------+--------------------+--------------------+---+-------+------+---------+---------+----------+------+-----+-----------+-----+-------+---------+------+-------+-------+-------+------+--------+---+-------+\n",
            "|    1580|1.0712559739797276|1.0755468388579865|      0.0|       0.0|1.0618534293265696|  0.0|        0.0|               0.0|    0.0|      0.0|               0.0|    0.0|    0.0|               0.0|1.0788777579469762|              0.0|0.0|    0.0|0.009857956862699403|0.01894694407740028|      0.0|       0.0|0.007117617364967188|  0.0|        0.0|                 0.0|    0.0|      0.0|                 0.0|    0.0|    0.0|                 0.0|  0.0161353897796483|                 0.0|0.0|    0.0|     1|        1|        0|         0|     1|    0|          0|    0|      0|        0|     0|      0|      0|      0|     1|       0|  0|      0|\n",
            "|     471|               0.0|               0.0|      0.0|       0.0| 1.030934090863805|  0.0|        0.0|               0.0|    0.0|      0.0|               0.0|    0.0|    0.0|1.0065384298405133|               0.0|              0.0|0.0|    0.0|                 0.0|                0.0|      0.0|       0.0|0.001679847439564754|  0.0|        0.0|                 0.0|    0.0|      0.0|                 0.0|    0.0|    0.0|0.004060383804559289|                 0.0|                 0.0|0.0|    0.0|     0|        0|        0|         0|     1|    0|          0|    0|      0|        0|     0|      0|      0|      1|     0|       0|  0|      0|\n",
            "|    3175|               0.0| 1.084594004146131|      0.0|       0.0| 1.070785409915254|  0.0|        0.0|               0.0|    0.0|      0.0|               0.0|    0.0|    0.0|               0.0| 1.087952941889884|              0.0|0.0|    0.0|                 0.0|0.01290004703142147|      0.0|       0.0|0.004846037354871277|  0.0|        0.0|                 0.0|    0.0|      0.0|                 0.0|    0.0|    0.0|                 0.0|0.010985797296781823|                 0.0|0.0|    0.0|     0|        1|        0|         0|     1|    0|          0|    0|      0|        0|     0|      0|      0|      0|     1|       0|  0|      0|\n",
            "|    1959|               0.0|               0.0|      0.0|       0.0|               0.0|  0.0|        0.0|0.9700032836232424|    0.0|      0.0|               0.0|    0.0|    0.0|1.0127208549359974|               0.0|              0.0|0.0|    0.0|                 0.0|                0.0|      0.0|       0.0|                 0.0|  0.0|        0.0|0.001765722973296...|    0.0|      0.0|                 0.0|    0.0|    0.0|  0.0042434061129451|                 0.0|                 0.0|0.0|    0.0|     0|        0|        0|         0|     0|    0|          0|    1|      0|        0|     0|      0|      0|      1|     0|       0|  0|      0|\n",
            "|    3794|               0.0|               0.0|      0.0|       0.0|0.9315444841253364|  0.0|        0.0|0.8711370992083007|    0.0|      0.0|               0.0|    0.0|    0.0|               0.0|               0.0|              0.0|0.0|    0.0|                 0.0|                0.0|      0.0|       0.0|3.393347916316114...|  0.0|        0.0|3.412978910046851E-4|    0.0|      0.0|                 0.0|    0.0|    0.0|                 0.0|                 0.0|                 0.0|0.0|    0.0|     0|        0|        0|         0|     1|    0|          0|    1|      0|        0|     0|      0|      0|      0|     0|       0|  0|      0|\n",
            "|    1342|               0.0|               0.0|      0.0|       0.0|               0.0|  0.0|        0.0|               0.0|    0.0|      0.0|0.9034426771586873|    0.0|    0.0|               0.0|               0.0|              0.0|0.0|    0.0|                 0.0|                0.0|      0.0|       0.0|                 0.0|  0.0|        0.0|                 0.0|    0.0|      0.0|0.003429947896211348|    0.0|    0.0|                 0.0|                 0.0|                 0.0|0.0|    0.0|     0|        0|        0|         0|     0|    0|          0|    0|      0|        0|     1|      0|      0|      0|     0|       0|  0|      0|\n",
            "|    2866|               0.0|               0.0|      0.0|       0.0|               0.0|  0.0|        0.0|0.9793193970999332|    0.0|      0.0|               0.0|    0.0|    0.0|               0.0|               0.0|              0.0|0.0|    0.0|                 0.0|                0.0|      0.0|       0.0|                 0.0|  0.0|        0.0|5.613081017349779E-4|    0.0|      0.0|                 0.0|    0.0|    0.0|                 0.0|                 0.0|                 0.0|0.0|    0.0|     0|        0|        0|         0|     0|    0|          0|    1|      0|        0|     0|      0|      0|      0|     0|       0|  0|      0|\n",
            "|     148|               0.0|               0.0|      0.0|       0.0|               0.0|  0.0|        0.0|0.7388112688937772|    0.0|      0.0|               0.0|    0.0|    0.0|               0.0|               0.0|              0.0|0.0|    0.0|                 0.0|                0.0|      0.0|       0.0|                 0.0|  0.0|        0.0|6.487480572816328E-5|    0.0|      0.0|                 0.0|    0.0|    0.0|                 0.0|                 0.0|                 0.0|0.0|    0.0|     0|        0|        0|         0|     0|    0|          0|    1|      0|        0|     0|      0|      0|      0|     0|       0|  0|      0|\n",
            "|     833|               0.0|               0.0|      0.0|       0.0| 0.618803527690311|  0.0|        0.0|               0.0|    0.0|      0.0|               0.0|    0.0|    0.0|               0.0|               0.0|              0.0|0.0|    0.0|                 0.0|                0.0|      0.0|       0.0|2.187447417129396E-4|  0.0|        0.0|                 0.0|    0.0|      0.0|                 0.0|    0.0|    0.0|                 0.0|                 0.0|                 0.0|0.0|    0.0|     0|        0|        0|         0|     1|    0|          0|    0|      0|        0|     0|      0|      0|      0|     0|       0|  0|      0|\n",
            "|    2122|               0.0|               0.0|      0.0|       0.0|               0.0|  0.0|        0.0|               0.0|    0.0|      0.0|0.7609150451849461|    0.0|    0.0|               0.0|               0.0|0.685163196733187|0.0|    0.0|                 0.0|                0.0|      0.0|       0.0|                 0.0|  0.0|        0.0|                 0.0|    0.0|      0.0|0.003050297174874977|    0.0|    0.0|                 0.0|                 0.0|0.001228384647827...|0.0|    0.0|     0|        0|        0|         0|     0|    0|          0|    0|      0|        0|     1|      0|      0|      0|     0|       1|  0|      0|\n",
            "+--------+------------------+------------------+---------+----------+------------------+-----+-----------+------------------+-------+---------+------------------+-------+-------+------------------+------------------+-----------------+---+-------+--------------------+-------------------+---------+----------+--------------------+-----+-----------+--------------------+-------+---------+--------------------+-------+-------+--------------------+--------------------+--------------------+---+-------+------+---------+---------+----------+------+-----+-----------+-----+-------+---------+------+-------+-------+-------+------+--------+---+-------+\n",
            "only showing top 10 rows\n",
            "\n"
          ]
        }
      ]
    },
    {
      "cell_type": "markdown",
      "source": [
        "#User Features For popularity and genre interest"
      ],
      "metadata": {
        "id": "xcDGkV4vahhe"
      },
      "id": "xcDGkV4vahhe"
    },
    {
      "cell_type": "code",
      "source": [
        "from pyspark.sql.functions import sum as spark_sum\n",
        "total_watches = popularity.select(spark_sum(\"watches\")).collect()[0][0]\n",
        "# Calculate the ratio of watches for each movie\n",
        "popularity_ratio = popularity.withColumn(\"popularity_ratio\", popularity[\"watches\"] / total_watches)\n",
        "# Show the DataFrame with the ratio column\n",
        "popularity_ratio.show()"
      ],
      "metadata": {
        "colab": {
          "base_uri": "https://localhost:8080/"
        },
        "id": "_luQB918qC42",
        "outputId": "29fd2d1f-66d2-46cd-8488-8354438a1bc0"
      },
      "id": "_luQB918qC42",
      "execution_count": 115,
      "outputs": [
        {
          "output_type": "stream",
          "name": "stdout",
          "text": [
            "+--------+-------+--------------------+\n",
            "|movie_id|watches|    popularity_ratio|\n",
            "+--------+-------+--------------------+\n",
            "|    1580|   2538|0.002537469668839...|\n",
            "|     471|    599|5.988748351594517E-4|\n",
            "|    3175|   1728|0.001727638923464...|\n",
            "|    1959|    626|6.258691933385922E-4|\n",
            "|    3794|    121|1.209747162842965...|\n",
            "|    1342|    262|2.619452534420306...|\n",
            "|    2866|    199|1.989584176907026...|\n",
            "|     148|     23|2.299519400445307E-5|\n",
            "|     833|     78|7.798370140640606E-5|\n",
            "|    2122|    233|2.329513131755463E-4|\n",
            "|    1088|    687|6.868564470025765E-4|\n",
            "|    2659|     46|4.599038800890614E-5|\n",
            "|    1645|    826|8.258274020729667E-4|\n",
            "|    2142|    201|2.009579997780463...|\n",
            "|    3918|    167|1.669651042932027...|\n",
            "|    1238|    351|3.509266563288272...|\n",
            "|    1591|    475|4.749007457441394...|\n",
            "|     463|     47|4.699017905257801E-5|\n",
            "|    2366|    756|7.558420290159357E-4|\n",
            "|     496|     37|3.699226861585928...|\n",
            "+--------+-------+--------------------+\n",
            "only showing top 20 rows\n",
            "\n"
          ]
        }
      ]
    },
    {
      "cell_type": "code",
      "source": [
        "query1 = \"\"\"\n",
        "    SELECT  A.user_id, A.rating, A.movie_id, B.*\n",
        "    FROM    ratings_info A\n",
        "            INNER JOIN\n",
        "            movie_mapped_genre B\n",
        "            ON B.movie_id = A.movie_id\n",
        "\"\"\"\n",
        "query2 = \"\"\"\n",
        "    SELECT user_id,\n",
        "       sum(Action) AS Action_sum,\n",
        "       sum(Adventure) AS Adventure_sum,\n",
        "       sum(Animation) AS Animation_sum,\n",
        "       sum([Children's]) AS Childrens_sum,\n",
        "       sum(Comedy) AS Comedy_sum,\n",
        "       sum(Crime) AS Crime_sum,\n",
        "       sum(Documentary) AS Documentary_sum,\n",
        "       sum(Drama) AS Drama_sum,\n",
        "       sum(Fantasy) AS Fantasy_sum,\n",
        "       sum(\"Film-Noir\") AS Film_Noir_sum,\n",
        "       sum(Horror) AS Horror_sum,\n",
        "       sum(Musical) AS Musical_sum,\n",
        "       sum(Mystery) AS Mystery_sum,\n",
        "       sum(Romance) AS Romance_sum,\n",
        "       sum(\"Sci-Fi\") AS Sci_Fi_sum,\n",
        "       sum(Thriller) AS Thriller_sum,\n",
        "       sum(War) AS War_sum,\n",
        "       sum(Western) AS Western_sum\n",
        "  FROM user_rat\n",
        "  GROUP BY user_id\n",
        "\"\"\"\n",
        "\n",
        "user_rat = spark.sql(query1)\n",
        "user_rat.createOrReplaceTempView(\"user_rat\")\n",
        "user_rat = spark.sql(query2)\n",
        "user_rat.show(5)"
      ],
      "metadata": {
        "colab": {
          "base_uri": "https://localhost:8080/",
          "height": 790
        },
        "id": "8-a7xI_0q0WS",
        "outputId": "d78c9a8d-386a-4c73-a785-a6cb5130d744"
      },
      "id": "8-a7xI_0q0WS",
      "execution_count": 128,
      "outputs": [
        {
          "output_type": "error",
          "ename": "ParseException",
          "evalue": "\n[PARSE_SYNTAX_ERROR] Syntax error at or near '['.(line 6, pos 11)\n\n== SQL ==\n\n    SELECT user_id,\n       sum(Action) AS Action_sum,\n       sum(Adventure) AS Adventure_sum,\n       sum(Animation) AS Animation_sum,\n       sum([Children's]) AS Childrens_sum,\n-----------^^^\n       sum(Comedy) AS Comedy_sum,\n       sum(Crime) AS Crime_sum,\n       sum(Documentary) AS Documentary_sum,\n       sum(Drama) AS Drama_sum,\n       sum(Fantasy) AS Fantasy_sum,\n       sum(\"Film-Noir\") AS Film_Noir_sum,\n       sum(Horror) AS Horror_sum,\n       sum(Musical) AS Musical_sum,\n       sum(Mystery) AS Mystery_sum,\n       sum(Romance) AS Romance_sum,\n       sum(\"Sci-Fi\") AS Sci_Fi_sum,\n       sum(Thriller) AS Thriller_sum,\n       sum(War) AS War_sum,\n       sum(Western) AS Western_sum\n  FROM user_rat\n  GROUP BY user_id\n",
          "traceback": [
            "\u001b[0;31m---------------------------------------------------------------------------\u001b[0m",
            "\u001b[0;31mParseException\u001b[0m                            Traceback (most recent call last)",
            "\u001b[0;32m<ipython-input-128-bc5bdc40f839>\u001b[0m in \u001b[0;36m<cell line: 34>\u001b[0;34m()\u001b[0m\n\u001b[1;32m     32\u001b[0m \u001b[0muser_rat\u001b[0m \u001b[0;34m=\u001b[0m \u001b[0mspark\u001b[0m\u001b[0;34m.\u001b[0m\u001b[0msql\u001b[0m\u001b[0;34m(\u001b[0m\u001b[0mquery1\u001b[0m\u001b[0;34m)\u001b[0m\u001b[0;34m\u001b[0m\u001b[0;34m\u001b[0m\u001b[0m\n\u001b[1;32m     33\u001b[0m \u001b[0muser_rat\u001b[0m\u001b[0;34m.\u001b[0m\u001b[0mcreateOrReplaceTempView\u001b[0m\u001b[0;34m(\u001b[0m\u001b[0;34m\"user_rat\"\u001b[0m\u001b[0;34m)\u001b[0m\u001b[0;34m\u001b[0m\u001b[0;34m\u001b[0m\u001b[0m\n\u001b[0;32m---> 34\u001b[0;31m \u001b[0muser_rat\u001b[0m \u001b[0;34m=\u001b[0m \u001b[0mspark\u001b[0m\u001b[0;34m.\u001b[0m\u001b[0msql\u001b[0m\u001b[0;34m(\u001b[0m\u001b[0mquery2\u001b[0m\u001b[0;34m)\u001b[0m\u001b[0;34m\u001b[0m\u001b[0;34m\u001b[0m\u001b[0m\n\u001b[0m\u001b[1;32m     35\u001b[0m \u001b[0muser_rat\u001b[0m\u001b[0;34m.\u001b[0m\u001b[0mshow\u001b[0m\u001b[0;34m(\u001b[0m\u001b[0;36m5\u001b[0m\u001b[0;34m)\u001b[0m\u001b[0;34m\u001b[0m\u001b[0;34m\u001b[0m\u001b[0m\n",
            "\u001b[0;32m/usr/local/lib/python3.10/dist-packages/pyspark/sql/session.py\u001b[0m in \u001b[0;36msql\u001b[0;34m(self, sqlQuery, args, **kwargs)\u001b[0m\n\u001b[1;32m   1629\u001b[0m                     \u001b[0;34m[\u001b[0m\u001b[0m_to_java_column\u001b[0m\u001b[0;34m(\u001b[0m\u001b[0mlit\u001b[0m\u001b[0;34m(\u001b[0m\u001b[0mv\u001b[0m\u001b[0;34m)\u001b[0m\u001b[0;34m)\u001b[0m \u001b[0;32mfor\u001b[0m \u001b[0mv\u001b[0m \u001b[0;32min\u001b[0m \u001b[0;34m(\u001b[0m\u001b[0margs\u001b[0m \u001b[0;32mor\u001b[0m \u001b[0;34m[\u001b[0m\u001b[0;34m]\u001b[0m\u001b[0;34m)\u001b[0m\u001b[0;34m]\u001b[0m\u001b[0;34m\u001b[0m\u001b[0;34m\u001b[0m\u001b[0m\n\u001b[1;32m   1630\u001b[0m                 )\n\u001b[0;32m-> 1631\u001b[0;31m             \u001b[0;32mreturn\u001b[0m \u001b[0mDataFrame\u001b[0m\u001b[0;34m(\u001b[0m\u001b[0mself\u001b[0m\u001b[0;34m.\u001b[0m\u001b[0m_jsparkSession\u001b[0m\u001b[0;34m.\u001b[0m\u001b[0msql\u001b[0m\u001b[0;34m(\u001b[0m\u001b[0msqlQuery\u001b[0m\u001b[0;34m,\u001b[0m \u001b[0mlitArgs\u001b[0m\u001b[0;34m)\u001b[0m\u001b[0;34m,\u001b[0m \u001b[0mself\u001b[0m\u001b[0;34m)\u001b[0m\u001b[0;34m\u001b[0m\u001b[0;34m\u001b[0m\u001b[0m\n\u001b[0m\u001b[1;32m   1632\u001b[0m         \u001b[0;32mfinally\u001b[0m\u001b[0;34m:\u001b[0m\u001b[0;34m\u001b[0m\u001b[0;34m\u001b[0m\u001b[0m\n\u001b[1;32m   1633\u001b[0m             \u001b[0;32mif\u001b[0m \u001b[0mlen\u001b[0m\u001b[0;34m(\u001b[0m\u001b[0mkwargs\u001b[0m\u001b[0;34m)\u001b[0m \u001b[0;34m>\u001b[0m \u001b[0;36m0\u001b[0m\u001b[0;34m:\u001b[0m\u001b[0;34m\u001b[0m\u001b[0;34m\u001b[0m\u001b[0m\n",
            "\u001b[0;32m/usr/local/lib/python3.10/dist-packages/py4j/java_gateway.py\u001b[0m in \u001b[0;36m__call__\u001b[0;34m(self, *args)\u001b[0m\n\u001b[1;32m   1320\u001b[0m \u001b[0;34m\u001b[0m\u001b[0m\n\u001b[1;32m   1321\u001b[0m         \u001b[0manswer\u001b[0m \u001b[0;34m=\u001b[0m \u001b[0mself\u001b[0m\u001b[0;34m.\u001b[0m\u001b[0mgateway_client\u001b[0m\u001b[0;34m.\u001b[0m\u001b[0msend_command\u001b[0m\u001b[0;34m(\u001b[0m\u001b[0mcommand\u001b[0m\u001b[0;34m)\u001b[0m\u001b[0;34m\u001b[0m\u001b[0;34m\u001b[0m\u001b[0m\n\u001b[0;32m-> 1322\u001b[0;31m         return_value = get_return_value(\n\u001b[0m\u001b[1;32m   1323\u001b[0m             answer, self.gateway_client, self.target_id, self.name)\n\u001b[1;32m   1324\u001b[0m \u001b[0;34m\u001b[0m\u001b[0m\n",
            "\u001b[0;32m/usr/local/lib/python3.10/dist-packages/pyspark/errors/exceptions/captured.py\u001b[0m in \u001b[0;36mdeco\u001b[0;34m(*a, **kw)\u001b[0m\n\u001b[1;32m    183\u001b[0m                 \u001b[0;31m# Hide where the exception came from that shows a non-Pythonic\u001b[0m\u001b[0;34m\u001b[0m\u001b[0;34m\u001b[0m\u001b[0m\n\u001b[1;32m    184\u001b[0m                 \u001b[0;31m# JVM exception message.\u001b[0m\u001b[0;34m\u001b[0m\u001b[0;34m\u001b[0m\u001b[0m\n\u001b[0;32m--> 185\u001b[0;31m                 \u001b[0;32mraise\u001b[0m \u001b[0mconverted\u001b[0m \u001b[0;32mfrom\u001b[0m \u001b[0;32mNone\u001b[0m\u001b[0;34m\u001b[0m\u001b[0;34m\u001b[0m\u001b[0m\n\u001b[0m\u001b[1;32m    186\u001b[0m             \u001b[0;32melse\u001b[0m\u001b[0;34m:\u001b[0m\u001b[0;34m\u001b[0m\u001b[0;34m\u001b[0m\u001b[0m\n\u001b[1;32m    187\u001b[0m                 \u001b[0;32mraise\u001b[0m\u001b[0;34m\u001b[0m\u001b[0;34m\u001b[0m\u001b[0m\n",
            "\u001b[0;31mParseException\u001b[0m: \n[PARSE_SYNTAX_ERROR] Syntax error at or near '['.(line 6, pos 11)\n\n== SQL ==\n\n    SELECT user_id,\n       sum(Action) AS Action_sum,\n       sum(Adventure) AS Adventure_sum,\n       sum(Animation) AS Animation_sum,\n       sum([Children's]) AS Childrens_sum,\n-----------^^^\n       sum(Comedy) AS Comedy_sum,\n       sum(Crime) AS Crime_sum,\n       sum(Documentary) AS Documentary_sum,\n       sum(Drama) AS Drama_sum,\n       sum(Fantasy) AS Fantasy_sum,\n       sum(\"Film-Noir\") AS Film_Noir_sum,\n       sum(Horror) AS Horror_sum,\n       sum(Musical) AS Musical_sum,\n       sum(Mystery) AS Mystery_sum,\n       sum(Romance) AS Romance_sum,\n       sum(\"Sci-Fi\") AS Sci_Fi_sum,\n       sum(Thriller) AS Thriller_sum,\n       sum(War) AS War_sum,\n       sum(Western) AS Western_sum\n  FROM user_rat\n  GROUP BY user_id\n"
          ]
        }
      ]
    }
  ],
  "metadata": {
    "kernelspec": {
      "display_name": "Python 3 (ipykernel)",
      "language": "python",
      "name": "python3"
    },
    "language_info": {
      "codemirror_mode": {
        "name": "ipython",
        "version": 3
      },
      "file_extension": ".py",
      "mimetype": "text/x-python",
      "name": "python",
      "nbconvert_exporter": "python",
      "pygments_lexer": "ipython3",
      "version": "3.9.18"
    },
    "colab": {
      "provenance": [],
      "toc_visible": true
    }
  },
  "nbformat": 4,
  "nbformat_minor": 5
}