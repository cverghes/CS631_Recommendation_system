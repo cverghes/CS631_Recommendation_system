{
 "cells": [
  {
   "cell_type": "markdown",
   "id": "cdea5490",
   "metadata": {},
   "source": [
    "# 1. Data Loading & Formatting"
   ]
  },
  {
   "cell_type": "code",
   "execution_count": 1,
   "id": "eb264094",
   "metadata": {},
   "outputs": [],
   "source": [
    "import os\n",
    "import sys\n",
    "import pandas as pd\n",
    "import numpy as np\n",
    "import pyspark\n",
    "from pyspark.sql import SparkSession\n",
    "import pyspark.ml as ml\n",
    "\n",
    "os.environ['PYSPARK_PYTHON'] = sys.executable\n",
    "os.environ['PYSPARK_DRIVER_PYTHON'] = sys.executable\n",
    "from pyspark.sql.types import StringType, IntegerType"
   ]
  },
  {
   "cell_type": "code",
   "execution_count": 2,
   "id": "b1d753d5",
   "metadata": {},
   "outputs": [],
   "source": [
    "spark = SparkSession.builder.appName(\"YourAppName\").getOrCreate()"
   ]
  },
  {
   "cell_type": "code",
   "execution_count": 3,
   "id": "19be749b",
   "metadata": {},
   "outputs": [],
   "source": [
    "def load_dfs():\n",
    "    global result\n",
    "    result = spark.read.csv(\"./Data/cleaned_data_1/unified_rating_features.csv\", encoding=\"latin1\", header=True).cache()\n",
    "    result.createOrReplaceTempView(\"result_info\")"
   ]
  },
  {
   "cell_type": "code",
   "execution_count": 4,
   "id": "5c736a2c",
   "metadata": {},
   "outputs": [],
   "source": [
    "load_dfs()"
   ]
  },
  {
   "cell_type": "code",
   "execution_count": 5,
   "id": "27fc4913",
   "metadata": {},
   "outputs": [
    {
     "name": "stdout",
     "output_type": "stream",
     "text": [
      "root\n",
      " |-- movie_id: string (nullable = true)\n",
      " |-- user_id: string (nullable = true)\n",
      " |-- rating: string (nullable = true)\n",
      " |-- time_stamp: string (nullable = true)\n",
      " |-- gender: string (nullable = true)\n",
      " |-- age: string (nullable = true)\n",
      " |-- occupation: string (nullable = true)\n",
      " |-- region: string (nullable = true)\n",
      " |-- avg_rating8: string (nullable = true)\n",
      " |-- avg_rating9: string (nullable = true)\n",
      " |-- watched_movies: string (nullable = true)\n",
      " |-- avg_rating_for_Action: string (nullable = true)\n",
      " |-- avg_rating_for_Adventure: string (nullable = true)\n",
      " |-- avg_rating_for_Animation: string (nullable = true)\n",
      " |-- avg_rating_for_Children's: string (nullable = true)\n",
      " |-- avg_rating_for_Comedy: string (nullable = true)\n",
      " |-- avg_rating_for_Crime: string (nullable = true)\n",
      " |-- avg_rating_for_Documentary: string (nullable = true)\n",
      " |-- avg_rating_for_Drama: string (nullable = true)\n",
      " |-- avg_rating_for_Fantasy: string (nullable = true)\n",
      " |-- avg_rating_for_Film-Noir: string (nullable = true)\n",
      " |-- avg_rating_for_Horror: string (nullable = true)\n",
      " |-- avg_rating_for_Musical: string (nullable = true)\n",
      " |-- avg_rating_for_Mystery: string (nullable = true)\n",
      " |-- avg_rating_for_Romance: string (nullable = true)\n",
      " |-- avg_rating_for_Sci-Fi: string (nullable = true)\n",
      " |-- avg_rating_for_Thriller: string (nullable = true)\n",
      " |-- avg_rating_for_War: string (nullable = true)\n",
      " |-- avg_rating_for_Western: string (nullable = true)\n",
      " |-- year_preferred: string (nullable = true)\n",
      " |-- year: string (nullable = true)\n",
      " |-- watches: string (nullable = true)\n",
      " |-- avg_rating32: string (nullable = true)\n",
      " |-- avg_rating33: string (nullable = true)\n",
      " |-- popularity_per_Action: string (nullable = true)\n",
      " |-- popularity_per_Adventure: string (nullable = true)\n",
      " |-- popularity_per_Animation: string (nullable = true)\n",
      " |-- popularity_per_Children's: string (nullable = true)\n",
      " |-- popularity_per_Comedy: string (nullable = true)\n",
      " |-- popularity_per_Crime: string (nullable = true)\n",
      " |-- popularity_per_Documentary: string (nullable = true)\n",
      " |-- popularity_per_Drama: string (nullable = true)\n",
      " |-- popularity_per_Fantasy: string (nullable = true)\n",
      " |-- popularity_per_Film-Noir: string (nullable = true)\n",
      " |-- popularity_per_Horror: string (nullable = true)\n",
      " |-- popularity_per_Musical: string (nullable = true)\n",
      " |-- popularity_per_Mystery: string (nullable = true)\n",
      " |-- popularity_per_Romance: string (nullable = true)\n",
      " |-- popularity_per_Sci-Fi: string (nullable = true)\n",
      " |-- popularity_per_Thriller: string (nullable = true)\n",
      " |-- popularity_per_War: string (nullable = true)\n",
      " |-- popularity_per_Western: string (nullable = true)\n",
      " |-- rating_per_Action: string (nullable = true)\n",
      " |-- rating_per_Adventure: string (nullable = true)\n",
      " |-- rating_per_Animation: string (nullable = true)\n",
      " |-- rating_per_Children's: string (nullable = true)\n",
      " |-- rating_per_Comedy: string (nullable = true)\n",
      " |-- rating_per_Crime: string (nullable = true)\n",
      " |-- rating_per_Documentary: string (nullable = true)\n",
      " |-- rating_per_Drama: string (nullable = true)\n",
      " |-- rating_per_Fantasy: string (nullable = true)\n",
      " |-- rating_per_Film-Noir: string (nullable = true)\n",
      " |-- rating_per_Horror: string (nullable = true)\n",
      " |-- rating_per_Musical: string (nullable = true)\n",
      " |-- rating_per_Mystery: string (nullable = true)\n",
      " |-- rating_per_Romance: string (nullable = true)\n",
      " |-- rating_per_Sci-Fi: string (nullable = true)\n",
      " |-- rating_per_Thriller: string (nullable = true)\n",
      " |-- rating_per_War: string (nullable = true)\n",
      " |-- rating_per_Western: string (nullable = true)\n",
      "\n"
     ]
    }
   ],
   "source": [
    "result.printSchema()"
   ]
  },
  {
   "cell_type": "code",
   "execution_count": 6,
   "id": "12cfefaa",
   "metadata": {},
   "outputs": [],
   "source": [
    "for col in result.columns:\n",
    "    if col in [\"movie_id\", \"year\", \"watches\", \"user_id\", \"gender\", \"age\", \"region\", \"age\", \"region\", \"watched_movies\"]:\n",
    "        result = result.withColumn(col, result[col].cast(IntegerType()))\n",
    "    else:\n",
    "        result = result.withColumn(col, result[col].cast(\"float\"))"
   ]
  },
  {
   "cell_type": "code",
   "execution_count": 7,
   "id": "6c6aee81",
   "metadata": {},
   "outputs": [],
   "source": [
    "result = result.drop(\"movie_id\", \"user_id\", \"time_stamp\")"
   ]
  },
  {
   "cell_type": "code",
   "execution_count": 8,
   "id": "6d48470e",
   "metadata": {},
   "outputs": [],
   "source": [
    "from pyspark.ml.feature import OneHotEncoder\n",
    "from pyspark.ml.feature import StringIndexer\n",
    "\n",
    "indexer = StringIndexer(inputCol=\"occupation\", outputCol=\"occupation_index\")\n",
    "result = indexer.fit(result).transform(result)\n",
    "\n",
    "# One-hot encoding\n",
    "encoder = OneHotEncoder(inputCol=\"occupation_index\", outputCol=\"occupation_encoded\")\n",
    "result = encoder.fit(result).transform(result)"
   ]
  },
  {
   "cell_type": "code",
   "execution_count": 9,
   "id": "400582df",
   "metadata": {},
   "outputs": [],
   "source": [
    "result = result.drop(\"occupation_index\", \"occupation\")"
   ]
  },
  {
   "cell_type": "code",
   "execution_count": 10,
   "id": "b1afe51f",
   "metadata": {},
   "outputs": [],
   "source": [
    "from pyspark.ml.feature import VectorAssembler\n",
    "\n",
    "features = [col for col in result.columns if col != \"rating\"]\n",
    "target_column = \"rating\"\n",
    "assembler = VectorAssembler(inputCols=features, outputCol=\"features\")\n",
    "data = assembler.transform(result)"
   ]
  },
  {
   "cell_type": "code",
   "execution_count": 11,
   "id": "15d53395",
   "metadata": {},
   "outputs": [
    {
     "name": "stdout",
     "output_type": "stream",
     "text": [
      "root\n",
      " |-- rating: float (nullable = true)\n",
      " |-- gender: integer (nullable = true)\n",
      " |-- age: integer (nullable = true)\n",
      " |-- region: integer (nullable = true)\n",
      " |-- avg_rating8: float (nullable = true)\n",
      " |-- avg_rating9: float (nullable = true)\n",
      " |-- watched_movies: integer (nullable = true)\n",
      " |-- avg_rating_for_Action: float (nullable = true)\n",
      " |-- avg_rating_for_Adventure: float (nullable = true)\n",
      " |-- avg_rating_for_Animation: float (nullable = true)\n",
      " |-- avg_rating_for_Children's: float (nullable = true)\n",
      " |-- avg_rating_for_Comedy: float (nullable = true)\n",
      " |-- avg_rating_for_Crime: float (nullable = true)\n",
      " |-- avg_rating_for_Documentary: float (nullable = true)\n",
      " |-- avg_rating_for_Drama: float (nullable = true)\n",
      " |-- avg_rating_for_Fantasy: float (nullable = true)\n",
      " |-- avg_rating_for_Film-Noir: float (nullable = true)\n",
      " |-- avg_rating_for_Horror: float (nullable = true)\n",
      " |-- avg_rating_for_Musical: float (nullable = true)\n",
      " |-- avg_rating_for_Mystery: float (nullable = true)\n",
      " |-- avg_rating_for_Romance: float (nullable = true)\n",
      " |-- avg_rating_for_Sci-Fi: float (nullable = true)\n",
      " |-- avg_rating_for_Thriller: float (nullable = true)\n",
      " |-- avg_rating_for_War: float (nullable = true)\n",
      " |-- avg_rating_for_Western: float (nullable = true)\n",
      " |-- year_preferred: float (nullable = true)\n",
      " |-- year: integer (nullable = true)\n",
      " |-- watches: integer (nullable = true)\n",
      " |-- avg_rating32: float (nullable = true)\n",
      " |-- avg_rating33: float (nullable = true)\n",
      " |-- popularity_per_Action: float (nullable = true)\n",
      " |-- popularity_per_Adventure: float (nullable = true)\n",
      " |-- popularity_per_Animation: float (nullable = true)\n",
      " |-- popularity_per_Children's: float (nullable = true)\n",
      " |-- popularity_per_Comedy: float (nullable = true)\n",
      " |-- popularity_per_Crime: float (nullable = true)\n",
      " |-- popularity_per_Documentary: float (nullable = true)\n",
      " |-- popularity_per_Drama: float (nullable = true)\n",
      " |-- popularity_per_Fantasy: float (nullable = true)\n",
      " |-- popularity_per_Film-Noir: float (nullable = true)\n",
      " |-- popularity_per_Horror: float (nullable = true)\n",
      " |-- popularity_per_Musical: float (nullable = true)\n",
      " |-- popularity_per_Mystery: float (nullable = true)\n",
      " |-- popularity_per_Romance: float (nullable = true)\n",
      " |-- popularity_per_Sci-Fi: float (nullable = true)\n",
      " |-- popularity_per_Thriller: float (nullable = true)\n",
      " |-- popularity_per_War: float (nullable = true)\n",
      " |-- popularity_per_Western: float (nullable = true)\n",
      " |-- rating_per_Action: float (nullable = true)\n",
      " |-- rating_per_Adventure: float (nullable = true)\n",
      " |-- rating_per_Animation: float (nullable = true)\n",
      " |-- rating_per_Children's: float (nullable = true)\n",
      " |-- rating_per_Comedy: float (nullable = true)\n",
      " |-- rating_per_Crime: float (nullable = true)\n",
      " |-- rating_per_Documentary: float (nullable = true)\n",
      " |-- rating_per_Drama: float (nullable = true)\n",
      " |-- rating_per_Fantasy: float (nullable = true)\n",
      " |-- rating_per_Film-Noir: float (nullable = true)\n",
      " |-- rating_per_Horror: float (nullable = true)\n",
      " |-- rating_per_Musical: float (nullable = true)\n",
      " |-- rating_per_Mystery: float (nullable = true)\n",
      " |-- rating_per_Romance: float (nullable = true)\n",
      " |-- rating_per_Sci-Fi: float (nullable = true)\n",
      " |-- rating_per_Thriller: float (nullable = true)\n",
      " |-- rating_per_War: float (nullable = true)\n",
      " |-- rating_per_Western: float (nullable = true)\n",
      " |-- occupation_encoded: vector (nullable = true)\n",
      " |-- features: vector (nullable = true)\n",
      "\n"
     ]
    }
   ],
   "source": [
    "data.printSchema()"
   ]
  },
  {
   "cell_type": "markdown",
   "id": "ded06a31",
   "metadata": {},
   "source": [
    "# 2. Train-Test Split"
   ]
  },
  {
   "cell_type": "code",
   "execution_count": 12,
   "id": "ef47871c",
   "metadata": {},
   "outputs": [],
   "source": [
    "(training, test) = data.randomSplit([0.8, 0.2])"
   ]
  },
  {
   "cell_type": "markdown",
   "id": "50b3cad2",
   "metadata": {},
   "source": [
    "# 3. Decision Tree Fitting"
   ]
  },
  {
   "cell_type": "code",
   "execution_count": 13,
   "id": "b275a8e0",
   "metadata": {},
   "outputs": [],
   "source": [
    "from pyspark.ml.feature import VectorAssembler\n",
    "\n",
    "features = [col for col in result.columns if col != \"rating\"]\n",
    "target_column = \"rating\"\n",
    "assembler = VectorAssembler(inputCols=features, outputCol=\"features\")\n",
    "data = assembler.transform(result)\n",
    "\n",
    "(training, test) = data.randomSplit([0.8, 0.2])"
   ]
  },
  {
   "cell_type": "code",
   "execution_count": 14,
   "id": "8de6a667",
   "metadata": {},
   "outputs": [],
   "source": [
    "dt = ml.regression.DecisionTreeRegressor(featuresCol=\"features\", labelCol=target_column)"
   ]
  },
  {
   "cell_type": "code",
   "execution_count": 15,
   "id": "9ced0a06",
   "metadata": {},
   "outputs": [],
   "source": [
    "dt_model = dt.fit(training)"
   ]
  },
  {
   "cell_type": "code",
   "execution_count": 16,
   "id": "7718744d",
   "metadata": {},
   "outputs": [],
   "source": [
    "train_predictions = dt_model.transform(training)\n",
    "test_predictions = dt_model.transform(test)"
   ]
  },
  {
   "cell_type": "code",
   "execution_count": 17,
   "id": "b037d667",
   "metadata": {},
   "outputs": [
    {
     "name": "stdout",
     "output_type": "stream",
     "text": [
      "+------+------------------+\n",
      "|rating|        prediction|\n",
      "+------+------------------+\n",
      "|   1.0| 2.767195767195767|\n",
      "|   1.0|3.2054069119286512|\n",
      "|   1.0| 4.258020415603354|\n",
      "|   1.0|3.9740315173037852|\n",
      "|   1.0| 2.287023918659888|\n",
      "|   1.0| 2.287023918659888|\n",
      "|   1.0|3.6702985127857626|\n",
      "|   1.0| 1.997671904880685|\n",
      "|   1.0|4.1774410774410775|\n",
      "|   1.0| 2.767195767195767|\n",
      "|   1.0| 1.997671904880685|\n",
      "|   1.0| 2.287023918659888|\n",
      "|   1.0| 2.287023918659888|\n",
      "|   1.0| 2.287023918659888|\n",
      "|   1.0| 3.238777908343126|\n",
      "|   1.0| 3.238777908343126|\n",
      "|   1.0|3.6702985127857626|\n",
      "|   1.0| 3.247998418503509|\n",
      "|   1.0|3.9740315173037852|\n",
      "|   1.0|2.4873834962491475|\n",
      "+------+------------------+\n",
      "only showing top 20 rows\n",
      "\n"
     ]
    }
   ],
   "source": [
    "train_predictions.select([\"rating\", \"prediction\"]).show()"
   ]
  },
  {
   "cell_type": "code",
   "execution_count": 18,
   "id": "05428f85",
   "metadata": {},
   "outputs": [
    {
     "name": "stdout",
     "output_type": "stream",
     "text": [
      "For Decision Tree method, RMSE for training = 0.9226861131843943, while for testing = 0.9223384917219788\n"
     ]
    }
   ],
   "source": [
    "import pyspark.ml.evaluation as evaluation\n",
    "\n",
    "evaluator = evaluation.RegressionEvaluator(metricName=\"rmse\", labelCol=\"rating\", predictionCol=\"prediction\")\n",
    "\n",
    "train_rmse = evaluator.evaluate(train_predictions)\n",
    "test_rmse = evaluator.evaluate(test_predictions)\n",
    "\n",
    "print(f\"For Decision Tree method, RMSE for training = {train_rmse}, while for testing = {test_rmse}\" )"
   ]
  },
  {
   "cell_type": "markdown",
   "id": "c251a38c",
   "metadata": {},
   "source": [
    "## 3.1. Grid search for Hyperparameters"
   ]
  },
  {
   "cell_type": "code",
   "execution_count": 19,
   "id": "b48401c7",
   "metadata": {},
   "outputs": [],
   "source": [
    "import gc\n",
    "\n",
    "results = {\n",
    "    \"maxDepth\": [],\n",
    "    \"train_rmse\": [],\n",
    "    \"test_rmse\": []\n",
    "}\n",
    "\n",
    "for maxDepth in [3, 4, 5, 6, 7, 8, 9, 10]:\n",
    "    dt = ml.regression.DecisionTreeRegressor(featuresCol=\"features\", labelCol=target_column, maxDepth=maxDepth)\n",
    "\n",
    "    model = dt.fit(training)\n",
    "\n",
    "    train_predictions = model.transform(training)\n",
    "    test_predictions = model.transform(test)\n",
    "\n",
    "    results[\"maxDepth\"].append(maxDepth)\n",
    "    results[\"train_rmse\"].append(evaluator.evaluate(train_predictions))\n",
    "    results[\"test_rmse\"].append(evaluator.evaluate(test_predictions))\n",
    "    \n",
    "    del dt, model, train_predictions, test_predictions\n",
    "    gc.collect()"
   ]
  },
  {
   "cell_type": "code",
   "execution_count": 20,
   "id": "25428e81",
   "metadata": {},
   "outputs": [
    {
     "data": {
      "text/html": [
       "<div>\n",
       "<style scoped>\n",
       "    .dataframe tbody tr th:only-of-type {\n",
       "        vertical-align: middle;\n",
       "    }\n",
       "\n",
       "    .dataframe tbody tr th {\n",
       "        vertical-align: top;\n",
       "    }\n",
       "\n",
       "    .dataframe thead th {\n",
       "        text-align: right;\n",
       "    }\n",
       "</style>\n",
       "<table border=\"1\" class=\"dataframe\">\n",
       "  <thead>\n",
       "    <tr style=\"text-align: right;\">\n",
       "      <th></th>\n",
       "      <th>maxDepth</th>\n",
       "      <th>train_rmse</th>\n",
       "      <th>test_rmse</th>\n",
       "    </tr>\n",
       "  </thead>\n",
       "  <tbody>\n",
       "    <tr>\n",
       "      <th>0</th>\n",
       "      <td>3</td>\n",
       "      <td>0.951204</td>\n",
       "      <td>0.951319</td>\n",
       "    </tr>\n",
       "    <tr>\n",
       "      <th>1</th>\n",
       "      <td>4</td>\n",
       "      <td>0.933169</td>\n",
       "      <td>0.933082</td>\n",
       "    </tr>\n",
       "    <tr>\n",
       "      <th>2</th>\n",
       "      <td>5</td>\n",
       "      <td>0.922686</td>\n",
       "      <td>0.922338</td>\n",
       "    </tr>\n",
       "    <tr>\n",
       "      <th>3</th>\n",
       "      <td>6</td>\n",
       "      <td>0.915845</td>\n",
       "      <td>0.915822</td>\n",
       "    </tr>\n",
       "    <tr>\n",
       "      <th>4</th>\n",
       "      <td>7</td>\n",
       "      <td>0.910959</td>\n",
       "      <td>0.911669</td>\n",
       "    </tr>\n",
       "    <tr>\n",
       "      <th>5</th>\n",
       "      <td>8</td>\n",
       "      <td>0.905905</td>\n",
       "      <td>0.907761</td>\n",
       "    </tr>\n",
       "    <tr>\n",
       "      <th>6</th>\n",
       "      <td>9</td>\n",
       "      <td>0.900314</td>\n",
       "      <td>0.904538</td>\n",
       "    </tr>\n",
       "    <tr>\n",
       "      <th>7</th>\n",
       "      <td>10</td>\n",
       "      <td>0.893710</td>\n",
       "      <td>0.901793</td>\n",
       "    </tr>\n",
       "  </tbody>\n",
       "</table>\n",
       "</div>"
      ],
      "text/plain": [
       "   maxDepth  train_rmse  test_rmse\n",
       "0         3    0.951204   0.951319\n",
       "1         4    0.933169   0.933082\n",
       "2         5    0.922686   0.922338\n",
       "3         6    0.915845   0.915822\n",
       "4         7    0.910959   0.911669\n",
       "5         8    0.905905   0.907761\n",
       "6         9    0.900314   0.904538\n",
       "7        10    0.893710   0.901793"
      ]
     },
     "execution_count": 20,
     "metadata": {},
     "output_type": "execute_result"
    }
   ],
   "source": [
    "results = pd.DataFrame(results)\n",
    "results"
   ]
  },
  {
   "cell_type": "code",
   "execution_count": 21,
   "id": "5d8661cd",
   "metadata": {},
   "outputs": [
    {
     "data": {
      "text/html": [
       "<div>\n",
       "<style scoped>\n",
       "    .dataframe tbody tr th:only-of-type {\n",
       "        vertical-align: middle;\n",
       "    }\n",
       "\n",
       "    .dataframe tbody tr th {\n",
       "        vertical-align: top;\n",
       "    }\n",
       "\n",
       "    .dataframe thead th {\n",
       "        text-align: right;\n",
       "    }\n",
       "</style>\n",
       "<table border=\"1\" class=\"dataframe\">\n",
       "  <thead>\n",
       "    <tr style=\"text-align: right;\">\n",
       "      <th></th>\n",
       "      <th>maxDepth</th>\n",
       "      <th>train_rmse</th>\n",
       "      <th>test_rmse</th>\n",
       "    </tr>\n",
       "  </thead>\n",
       "  <tbody>\n",
       "    <tr>\n",
       "      <th>7</th>\n",
       "      <td>10</td>\n",
       "      <td>0.89371</td>\n",
       "      <td>0.901793</td>\n",
       "    </tr>\n",
       "  </tbody>\n",
       "</table>\n",
       "</div>"
      ],
      "text/plain": [
       "   maxDepth  train_rmse  test_rmse\n",
       "7        10     0.89371   0.901793"
      ]
     },
     "execution_count": 21,
     "metadata": {},
     "output_type": "execute_result"
    }
   ],
   "source": [
    "results[results[\"test_rmse\"] == results[\"test_rmse\"].min()]"
   ]
  },
  {
   "cell_type": "code",
   "execution_count": 22,
   "id": "5217b559",
   "metadata": {},
   "outputs": [],
   "source": [
    "results.to_csv(\"./decision_tree.csv\", header=True, index=False)"
   ]
  }
 ],
 "metadata": {
  "kernelspec": {
   "display_name": "Python 3 (ipykernel)",
   "language": "python",
   "name": "python3"
  },
  "language_info": {
   "codemirror_mode": {
    "name": "ipython",
    "version": 3
   },
   "file_extension": ".py",
   "mimetype": "text/x-python",
   "name": "python",
   "nbconvert_exporter": "python",
   "pygments_lexer": "ipython3",
   "version": "3.9.18"
  }
 },
 "nbformat": 4,
 "nbformat_minor": 5
}
