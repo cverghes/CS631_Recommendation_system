{
 "cells": [
  {
   "cell_type": "markdown",
   "id": "93e38832",
   "metadata": {},
   "source": [
    "# 1. Data Loading"
   ]
  },
  {
   "cell_type": "code",
   "execution_count": 1,
   "id": "eeeb9d2c",
   "metadata": {},
   "outputs": [],
   "source": [
    "import os\n",
    "import sys\n",
    "import pandas as pd\n",
    "import numpy as np\n",
    "import pyspark\n",
    "from pyspark.sql import SparkSession\n",
    "import pyspark.ml as ml\n",
    "\n",
    "os.environ['PYSPARK_PYTHON'] = sys.executable\n",
    "os.environ['PYSPARK_DRIVER_PYTHON'] = sys.executable"
   ]
  },
  {
   "cell_type": "code",
   "execution_count": 2,
   "id": "802b7df4",
   "metadata": {},
   "outputs": [],
   "source": [
    "spark = SparkSession.builder.appName(\"YourAppName\").getOrCreate()"
   ]
  },
  {
   "cell_type": "code",
   "execution_count": 3,
   "id": "66ac5244",
   "metadata": {},
   "outputs": [],
   "source": [
    "def load_dfs():\n",
    "    global movies, users, ratings\n",
    "    movies = spark.read.csv(\"./Data/movieLens/movies.dat\", sep=\"::\", encoding=\"latin1\")\n",
    "    movies = movies.toDF(\"movie_id\", \"movie_name\", \"genre\").cache()\n",
    "    movies.createOrReplaceTempView(\"movies_info\")\n",
    "    \n",
    "    users = spark.read.csv(\"./Data/movieLens/users.dat\", sep=\"::\", encoding=\"latin1\")\n",
    "    users = users.toDF(\"user_id\", \"gender\", \"age\", \"occupation\", \"zipcode\").cache()\n",
    "    users.createOrReplaceTempView(\"users_info\")\n",
    "    \n",
    "    ratings = spark.read.csv(\"./Data/movieLens/ratings.dat\", sep=\"::\", encoding=\"latin1\")\n",
    "    ratings = ratings.toDF(\"user_id\", \"movie_id\", \"rating\", \"time_stamp\").cache()\n",
    "    ratings.createOrReplaceTempView(\"ratings_info\")"
   ]
  },
  {
   "cell_type": "code",
   "execution_count": 4,
   "id": "b1baa4d6",
   "metadata": {},
   "outputs": [],
   "source": [
    "load_dfs()"
   ]
  },
  {
   "cell_type": "code",
   "execution_count": 5,
   "id": "6accd905",
   "metadata": {},
   "outputs": [
    {
     "name": "stdout",
     "output_type": "stream",
     "text": [
      "+--------+--------------------+--------------------+\n",
      "|movie_id|          movie_name|               genre|\n",
      "+--------+--------------------+--------------------+\n",
      "|       1|    Toy Story (1995)|Animation|Childre...|\n",
      "|       2|      Jumanji (1995)|Adventure|Childre...|\n",
      "|       3|Grumpier Old Men ...|      Comedy|Romance|\n",
      "|       4|Waiting to Exhale...|        Comedy|Drama|\n",
      "|       5|Father of the Bri...|              Comedy|\n",
      "+--------+--------------------+--------------------+\n",
      "only showing top 5 rows\n",
      "\n"
     ]
    }
   ],
   "source": [
    "movies.show(5)"
   ]
  },
  {
   "cell_type": "code",
   "execution_count": 6,
   "id": "bcc3b2f0",
   "metadata": {
    "scrolled": true
   },
   "outputs": [
    {
     "name": "stdout",
     "output_type": "stream",
     "text": [
      "+-------+------+---+----------+-------+\n",
      "|user_id|gender|age|occupation|zipcode|\n",
      "+-------+------+---+----------+-------+\n",
      "|      1|     F|  1|        10|  48067|\n",
      "|      2|     M| 56|        16|  70072|\n",
      "|      3|     M| 25|        15|  55117|\n",
      "|      4|     M| 45|         7|  02460|\n",
      "|      5|     M| 25|        20|  55455|\n",
      "+-------+------+---+----------+-------+\n",
      "only showing top 5 rows\n",
      "\n"
     ]
    }
   ],
   "source": [
    "users.show(5)"
   ]
  },
  {
   "cell_type": "code",
   "execution_count": 7,
   "id": "6fbf413f",
   "metadata": {
    "scrolled": true
   },
   "outputs": [
    {
     "name": "stdout",
     "output_type": "stream",
     "text": [
      "+-------+--------+------+----------+\n",
      "|user_id|movie_id|rating|time_stamp|\n",
      "+-------+--------+------+----------+\n",
      "|      1|    1193|     5| 978300760|\n",
      "|      1|     661|     3| 978302109|\n",
      "|      1|     914|     3| 978301968|\n",
      "|      1|    3408|     4| 978300275|\n",
      "|      1|    2355|     5| 978824291|\n",
      "+-------+--------+------+----------+\n",
      "only showing top 5 rows\n",
      "\n"
     ]
    }
   ],
   "source": [
    "ratings.show(5)"
   ]
  },
  {
   "cell_type": "markdown",
   "id": "cefabb06",
   "metadata": {},
   "source": [
    "# 2. Checking Null Values"
   ]
  },
  {
   "cell_type": "code",
   "execution_count": 8,
   "id": "aa80bbb4",
   "metadata": {},
   "outputs": [],
   "source": [
    "def inspect_null(df):\n",
    "    for col in df.columns:\n",
    "        empty = df.filter(df[col].isNull()).count()\n",
    "        print(f\"For columns {col}:\\t{empty} null records\")"
   ]
  },
  {
   "cell_type": "code",
   "execution_count": 9,
   "id": "982a9e13",
   "metadata": {},
   "outputs": [
    {
     "name": "stdout",
     "output_type": "stream",
     "text": [
      "For columns movie_id:\t0 null records\n",
      "For columns movie_name:\t0 null records\n",
      "For columns genre:\t0 null records\n"
     ]
    }
   ],
   "source": [
    "inspect_null(movies)"
   ]
  },
  {
   "cell_type": "code",
   "execution_count": 10,
   "id": "ba7b3b04",
   "metadata": {},
   "outputs": [
    {
     "name": "stdout",
     "output_type": "stream",
     "text": [
      "For columns user_id:\t0 null records\n",
      "For columns gender:\t0 null records\n",
      "For columns age:\t0 null records\n",
      "For columns occupation:\t0 null records\n",
      "For columns zipcode:\t0 null records\n"
     ]
    }
   ],
   "source": [
    "inspect_null(users)"
   ]
  },
  {
   "cell_type": "code",
   "execution_count": 11,
   "id": "87a7b890",
   "metadata": {},
   "outputs": [
    {
     "name": "stdout",
     "output_type": "stream",
     "text": [
      "For columns user_id:\t0 null records\n",
      "For columns movie_id:\t0 null records\n",
      "For columns rating:\t0 null records\n",
      "For columns time_stamp:\t0 null records\n"
     ]
    }
   ],
   "source": [
    "inspect_null(ratings)"
   ]
  },
  {
   "cell_type": "markdown",
   "id": "5b59dded",
   "metadata": {},
   "source": [
    "# 3. Parsing Movies Attributes"
   ]
  },
  {
   "cell_type": "markdown",
   "id": "77086e5b",
   "metadata": {},
   "source": [
    "## 3.1. Parsing Movies Names"
   ]
  },
  {
   "cell_type": "code",
   "execution_count": 12,
   "id": "0d7428a8",
   "metadata": {},
   "outputs": [],
   "source": [
    "import re\n",
    "\n",
    "def extract_date(record):\n",
    "    pattern  = r'\\((\\d{4})\\)'\n",
    "    if re.findall(pattern, record.strip()[-6:]):\n",
    "        return int(record.strip()[-5:-1])\n",
    "    return None\n",
    "\n",
    "def extract_name(record):\n",
    "    pattern  = r'\\((\\d{4})\\)'\n",
    "    if re.findall(pattern, record.strip()[-6:]):\n",
    "        return record.strip()[:-6].strip()\n",
    "    return record"
   ]
  },
  {
   "cell_type": "code",
   "execution_count": 13,
   "id": "cf0e32ee",
   "metadata": {},
   "outputs": [],
   "source": [
    "from pyspark.sql.functions import udf\n",
    "from pyspark.sql.types import StringType, IntegerType\n",
    "\n",
    "# Define UDFs for extract_date and extract_name functions\n",
    "extract_date_udf = udf(lambda record: extract_date(record), IntegerType())\n",
    "extract_name_udf = udf(lambda record: extract_name(record), StringType())\n",
    "\n",
    "movies = movies.withColumn(\"year\", extract_date_udf(movies[\"movie_name\"]))\n",
    "movies = movies.withColumn(\"name\", extract_name_udf(movies[\"movie_name\"]))"
   ]
  },
  {
   "cell_type": "code",
   "execution_count": 14,
   "id": "3b4f1f5a",
   "metadata": {},
   "outputs": [
    {
     "name": "stdout",
     "output_type": "stream",
     "text": [
      "+--------+--------------------+--------------------+----+--------------------+\n",
      "|movie_id|          movie_name|               genre|year|                name|\n",
      "+--------+--------------------+--------------------+----+--------------------+\n",
      "|       1|    Toy Story (1995)|Animation|Childre...|1995|           Toy Story|\n",
      "|       2|      Jumanji (1995)|Adventure|Childre...|1995|             Jumanji|\n",
      "|       3|Grumpier Old Men ...|      Comedy|Romance|1995|    Grumpier Old Men|\n",
      "|       4|Waiting to Exhale...|        Comedy|Drama|1995|   Waiting to Exhale|\n",
      "|       5|Father of the Bri...|              Comedy|1995|Father of the Bri...|\n",
      "+--------+--------------------+--------------------+----+--------------------+\n",
      "only showing top 5 rows\n",
      "\n"
     ]
    }
   ],
   "source": [
    "movies.show(5)"
   ]
  },
  {
   "cell_type": "markdown",
   "id": "a155c1ec",
   "metadata": {},
   "source": [
    "## 3.2. Parsing Movies Genres"
   ]
  },
  {
   "cell_type": "code",
   "execution_count": 15,
   "id": "f7701a35",
   "metadata": {},
   "outputs": [
    {
     "data": {
      "text/plain": [
       "['Animation', \"Children's\", 'Comedy']"
      ]
     },
     "execution_count": 15,
     "metadata": {},
     "output_type": "execute_result"
    }
   ],
   "source": [
    "movies.select(\"genre\").first()[0].split(\"|\")"
   ]
  },
  {
   "cell_type": "code",
   "execution_count": 16,
   "id": "74e3bfc5",
   "metadata": {},
   "outputs": [],
   "source": [
    "from pyspark.sql.functions import col, split, explode\n",
    "\n",
    "movies = movies.withColumn(\"genre\", explode(split(col(\"genre\"), \"\\|\")))"
   ]
  },
  {
   "cell_type": "code",
   "execution_count": 17,
   "id": "d617e92d",
   "metadata": {},
   "outputs": [
    {
     "name": "stdout",
     "output_type": "stream",
     "text": [
      "+--------+--------------------+----------+----+--------------------+\n",
      "|movie_id|          movie_name|     genre|year|                name|\n",
      "+--------+--------------------+----------+----+--------------------+\n",
      "|       1|    Toy Story (1995)| Animation|1995|           Toy Story|\n",
      "|       1|    Toy Story (1995)|Children's|1995|           Toy Story|\n",
      "|       1|    Toy Story (1995)|    Comedy|1995|           Toy Story|\n",
      "|       2|      Jumanji (1995)| Adventure|1995|             Jumanji|\n",
      "|       2|      Jumanji (1995)|Children's|1995|             Jumanji|\n",
      "|       2|      Jumanji (1995)|   Fantasy|1995|             Jumanji|\n",
      "|       3|Grumpier Old Men ...|    Comedy|1995|    Grumpier Old Men|\n",
      "|       3|Grumpier Old Men ...|   Romance|1995|    Grumpier Old Men|\n",
      "|       4|Waiting to Exhale...|    Comedy|1995|   Waiting to Exhale|\n",
      "|       4|Waiting to Exhale...|     Drama|1995|   Waiting to Exhale|\n",
      "|       5|Father of the Bri...|    Comedy|1995|Father of the Bri...|\n",
      "|       6|         Heat (1995)|    Action|1995|                Heat|\n",
      "|       6|         Heat (1995)|     Crime|1995|                Heat|\n",
      "|       6|         Heat (1995)|  Thriller|1995|                Heat|\n",
      "|       7|      Sabrina (1995)|    Comedy|1995|             Sabrina|\n",
      "|       7|      Sabrina (1995)|   Romance|1995|             Sabrina|\n",
      "|       8| Tom and Huck (1995)| Adventure|1995|        Tom and Huck|\n",
      "|       8| Tom and Huck (1995)|Children's|1995|        Tom and Huck|\n",
      "|       9| Sudden Death (1995)|    Action|1995|        Sudden Death|\n",
      "|      10|    GoldenEye (1995)|    Action|1995|           GoldenEye|\n",
      "+--------+--------------------+----------+----+--------------------+\n",
      "only showing top 20 rows\n",
      "\n"
     ]
    }
   ],
   "source": [
    "movies.show()"
   ]
  },
  {
   "cell_type": "code",
   "execution_count": 18,
   "id": "b9421892",
   "metadata": {},
   "outputs": [],
   "source": [
    "movies = movies.drop(\"movie_name\")"
   ]
  },
  {
   "cell_type": "code",
   "execution_count": 19,
   "id": "d57ac0bb",
   "metadata": {},
   "outputs": [
    {
     "name": "stdout",
     "output_type": "stream",
     "text": [
      "+--------+----------+----+--------------------+\n",
      "|movie_id|     genre|year|                name|\n",
      "+--------+----------+----+--------------------+\n",
      "|       1| Animation|1995|           Toy Story|\n",
      "|       1|Children's|1995|           Toy Story|\n",
      "|       1|    Comedy|1995|           Toy Story|\n",
      "|       2| Adventure|1995|             Jumanji|\n",
      "|       2|Children's|1995|             Jumanji|\n",
      "|       2|   Fantasy|1995|             Jumanji|\n",
      "|       3|    Comedy|1995|    Grumpier Old Men|\n",
      "|       3|   Romance|1995|    Grumpier Old Men|\n",
      "|       4|    Comedy|1995|   Waiting to Exhale|\n",
      "|       4|     Drama|1995|   Waiting to Exhale|\n",
      "|       5|    Comedy|1995|Father of the Bri...|\n",
      "|       6|    Action|1995|                Heat|\n",
      "|       6|     Crime|1995|                Heat|\n",
      "|       6|  Thriller|1995|                Heat|\n",
      "|       7|    Comedy|1995|             Sabrina|\n",
      "|       7|   Romance|1995|             Sabrina|\n",
      "|       8| Adventure|1995|        Tom and Huck|\n",
      "|       8|Children's|1995|        Tom and Huck|\n",
      "|       9|    Action|1995|        Sudden Death|\n",
      "|      10|    Action|1995|           GoldenEye|\n",
      "+--------+----------+----+--------------------+\n",
      "only showing top 20 rows\n",
      "\n"
     ]
    }
   ],
   "source": [
    "movies.show()"
   ]
  },
  {
   "cell_type": "markdown",
   "id": "2d4616fc",
   "metadata": {},
   "source": [
    "# 4. Data Exploration"
   ]
  },
  {
   "cell_type": "markdown",
   "id": "13bbe9d4",
   "metadata": {},
   "source": [
    "## 4.1 Movie Dataset"
   ]
  },
  {
   "cell_type": "code",
   "execution_count": 20,
   "id": "ac56406e",
   "metadata": {},
   "outputs": [],
   "source": [
    "movies.createOrReplaceTempView(\"movies_info\")"
   ]
  },
  {
   "cell_type": "code",
   "execution_count": 21,
   "id": "71175a90",
   "metadata": {},
   "outputs": [
    {
     "name": "stdout",
     "output_type": "stream",
     "text": [
      "+-----------+\n",
      "|      genre|\n",
      "+-----------+\n",
      "|      Crime|\n",
      "|    Romance|\n",
      "|   Thriller|\n",
      "|  Adventure|\n",
      "| Children's|\n",
      "|      Drama|\n",
      "|        War|\n",
      "|Documentary|\n",
      "|    Fantasy|\n",
      "|    Mystery|\n",
      "|    Musical|\n",
      "|  Animation|\n",
      "|  Film-Noir|\n",
      "|     Horror|\n",
      "|    Western|\n",
      "|     Comedy|\n",
      "|     Action|\n",
      "|     Sci-Fi|\n",
      "+-----------+\n",
      "\n"
     ]
    }
   ],
   "source": [
    "spark.sql(\"SELECT genre FROM movies_info GROUP BY genre\").show()"
   ]
  },
  {
   "cell_type": "code",
   "execution_count": 22,
   "id": "7d538bfb",
   "metadata": {},
   "outputs": [
    {
     "name": "stdout",
     "output_type": "stream",
     "text": [
      "+---------+---------+\n",
      "|min(year)|max(year)|\n",
      "+---------+---------+\n",
      "|     1919|     2000|\n",
      "+---------+---------+\n",
      "\n"
     ]
    }
   ],
   "source": [
    "spark.sql(\"SELECT min(year), max(year) FROM movies_info\").show()"
   ]
  },
  {
   "cell_type": "code",
   "execution_count": 23,
   "id": "f28f0f86",
   "metadata": {},
   "outputs": [
    {
     "data": {
      "image/png": "[encoded data removed]",
      "text/plain": [
       "<Figure size 640x480 with 1 Axes>"
      ]
     },
     "metadata": {},
     "output_type": "display_data"
    }
   ],
   "source": [
    "import matplotlib.pyplot as plt\n",
    "\n",
    "data = spark.sql(\"SELECT genre FROM movies_info\").toPandas()\n",
    "labels = data[\"genre\"].unique()\n",
    "counts, bins, _ = plt.hist(data[\"genre\"], edgecolor='black', bins=len(labels))\n",
    "bin_width = bins[1] - bins[0]\n",
    "new_ticks = bins[:-1] + bin_width / 2\n",
    "\n",
    "plt.ylabel('Frequency')\n",
    "plt.title('Histogram of genres')\n",
    "plt.xticks(new_ticks, rotation=90)\n",
    "plt.show()"
   ]
  },
  {
   "cell_type": "code",
   "execution_count": 24,
   "id": "ba2ddee1",
   "metadata": {},
   "outputs": [],
   "source": [
    "data = spark.sql(\"SELECT mean(year) YEAR FROM movies_info GROUP BY movie_id\").toPandas()[\"YEAR\"]"
   ]
  },
  {
   "cell_type": "code",
   "execution_count": 25,
   "id": "2d728737",
   "metadata": {},
   "outputs": [
    {
     "data": {
      "image/png": "[encoded data removed]",
      "text/plain": [
       "<Figure size 640x480 with 1 Axes>"
      ]
     },
     "metadata": {},
     "output_type": "display_data"
    }
   ],
   "source": [
    "labels = data.unique()\n",
    "division = 10\n",
    "counts, bins, _ = plt.hist(data, edgecolor='black', bins=np.arange(np.floor(min(data) / division) * division, \n",
    "                                                                   np.ceil(max(data) / division) * division + division, \n",
    "                                                                   division))\n",
    "bin_width = bins[1] - bins[0]\n",
    "new_ticks = bins[:-1] + bin_width / 2\n",
    "\n",
    "plt.ylabel('Frequency')\n",
    "plt.xlabel('Year')\n",
    "plt.title('Histogram of decade frequency')\n",
    "plt.xticks(new_ticks, rotation=90)\n",
    "plt.show()"
   ]
  },
  {
   "cell_type": "code",
   "execution_count": 26,
   "id": "c78626bc",
   "metadata": {},
   "outputs": [
    {
     "data": {
      "image/png": "[encoded data removed]",
      "text/plain": [
       "<Figure size 640x480 with 1 Axes>"
      ]
     },
     "metadata": {},
     "output_type": "display_data"
    }
   ],
   "source": [
    "plt.boxplot(data)\n",
    "plt.ylabel(\"YEAR\")\n",
    "plt.show()"
   ]
  },
  {
   "cell_type": "markdown",
   "id": "062ea32a",
   "metadata": {},
   "source": [
    "inspect the correlation between the genre and the ratings"
   ]
  },
  {
   "cell_type": "code",
   "execution_count": 27,
   "id": "44f48af7",
   "metadata": {},
   "outputs": [
    {
     "name": "stdout",
     "output_type": "stream",
     "text": [
      "+-----------+------+------------------+------------+\n",
      "|      genre|rating|movie_rating_count|total_movies|\n",
      "+-----------+------+------------------+------------+\n",
      "|    Musical|     5|               107|         114|\n",
      "|    Mystery|     5|                98|         106|\n",
      "|    Romance|     5|               421|         471|\n",
      "|     Action|     5|               446|         503|\n",
      "|Documentary|     5|                94|         127|\n",
      "|      Drama|     5|              1309|        1603|\n",
      "|     Horror|     5|               280|         343|\n",
      "|        War|     5|               135|         143|\n",
      "|     Comedy|     5|              1027|        1200|\n",
      "|    Fantasy|     5|                66|          68|\n",
      "|  Film-Noir|     5|                40|          44|\n",
      "| Children's|     5|               232|         251|\n",
      "|   Thriller|     5|               442|         492|\n",
      "|  Animation|     5|               103|         105|\n",
      "|  Adventure|     5|               253|         283|\n",
      "|      Crime|     5|               184|         211|\n",
      "|    Western|     5|                61|          68|\n",
      "|     Sci-Fi|     5|               251|         276|\n",
      "|    Musical|     4|               108|         114|\n",
      "|  Adventure|     4|               272|         283|\n",
      "+-----------+------+------------------+------------+\n",
      "only showing top 20 rows\n",
      "\n"
     ]
    }
   ],
   "source": [
    "query = \"\"\"\n",
    "           SELECT  A.genre, A.rating, A.movie_rating_count, B.total_movies\n",
    "           FROM    (SELECT genre, rating, COUNT(DISTINCT(movies_info.movie_id)) AS movie_rating_count\n",
    "                   FROM movies_info\n",
    "                   INNER JOIN ratings_info ON movies_info.movie_id = ratings_info.movie_id\n",
    "                   GROUP BY genre, rating) A LEFT JOIN\n",
    "                   (SELECT genre, COUNT(DISTINCT(movie_id)) AS total_movies\n",
    "                   FROM movies_info\n",
    "                   GROUP BY genre) B\n",
    "                   ON A.genre = B.genre\n",
    "           ORDER BY rating DESC\n",
    "        \"\"\"\n",
    "\n",
    "data = spark.sql(query)\n",
    "data.show()"
   ]
  },
  {
   "cell_type": "code",
   "execution_count": 28,
   "id": "9c0f38c7",
   "metadata": {},
   "outputs": [
    {
     "name": "stdout",
     "output_type": "stream",
     "text": [
      "+-----------+------------------+--------------+\n",
      "|      genre|      mean(rating)|median(rating)|\n",
      "+-----------+------------------+--------------+\n",
      "|      Crime| 3.708678543141273|           4.0|\n",
      "|    Romance| 3.607464598740535|           4.0|\n",
      "|   Thriller|3.5704660480809784|           4.0|\n",
      "|  Adventure| 3.477256948332624|           4.0|\n",
      "|      Drama| 3.766332232342065|           4.0|\n",
      "| Children's| 3.422034743579087|           4.0|\n",
      "|        War| 3.893326717935996|           4.0|\n",
      "|Documentary| 3.933122629582807|           4.0|\n",
      "|    Fantasy| 3.447370595851354|           4.0|\n",
      "|    Mystery|3.6681019463387923|           4.0|\n",
      "|    Musical|3.6655189849035708|           4.0|\n",
      "|  Animation| 3.684868223500335|           4.0|\n",
      "|  Film-Noir| 4.075187558184108|           4.0|\n",
      "|     Horror| 3.215013222318226|           3.0|\n",
      "|    Western|3.6377701493980563|           4.0|\n",
      "|     Comedy| 3.522098827752538|           4.0|\n",
      "|     Action|3.4911849357368414|           4.0|\n",
      "|     Sci-Fi| 3.466521291339784|           4.0|\n",
      "+-----------+------------------+--------------+\n",
      "\n"
     ]
    }
   ],
   "source": [
    "query = \"\"\"SELECT genre, MEAN(rating), MEDIAN(rating) \n",
    "        FROM movies_info INNER JOIN ratings_info ON movies_info.movie_id = ratings_info.movie_id\n",
    "        GROUP BY genre\n",
    "        \"\"\"\n",
    "\n",
    "data = spark.sql(query)\n",
    "data.show()"
   ]
  },
  {
   "cell_type": "markdown",
   "id": "35b7974a",
   "metadata": {},
   "source": [
    "## 4.2 Users Dataset"
   ]
  },
  {
   "cell_type": "code",
   "execution_count": 29,
   "id": "47cbfecc",
   "metadata": {},
   "outputs": [
    {
     "name": "stdout",
     "output_type": "stream",
     "text": [
      "+-------+------+---+----------+-------+\n",
      "|user_id|gender|age|occupation|zipcode|\n",
      "+-------+------+---+----------+-------+\n",
      "|      1|     F|  1|        10|  48067|\n",
      "|      2|     M| 56|        16|  70072|\n",
      "|      3|     M| 25|        15|  55117|\n",
      "|      4|     M| 45|         7|  02460|\n",
      "|      5|     M| 25|        20|  55455|\n",
      "+-------+------+---+----------+-------+\n",
      "only showing top 5 rows\n",
      "\n"
     ]
    }
   ],
   "source": [
    "users.show(5)"
   ]
  },
  {
   "cell_type": "code",
   "execution_count": 30,
   "id": "c204c2c1",
   "metadata": {},
   "outputs": [
    {
     "data": {
      "text/plain": [
       "3439"
      ]
     },
     "execution_count": 30,
     "metadata": {},
     "output_type": "execute_result"
    }
   ],
   "source": [
    "users.select(\"zipcode\").distinct().count()"
   ]
  },
  {
   "cell_type": "code",
   "execution_count": 31,
   "id": "d15b183e",
   "metadata": {},
   "outputs": [
    {
     "data": {
      "text/plain": [
       "6040"
      ]
     },
     "execution_count": 31,
     "metadata": {},
     "output_type": "execute_result"
    }
   ],
   "source": [
    "users.count()"
   ]
  },
  {
   "cell_type": "markdown",
   "id": "1d32d008",
   "metadata": {},
   "source": [
    "### 4.2.1. Gender Probability"
   ]
  },
  {
   "cell_type": "code",
   "execution_count": 32,
   "id": "8b9070f0",
   "metadata": {},
   "outputs": [
    {
     "data": {
      "text/plain": [
       "0.7170529801324503"
      ]
     },
     "execution_count": 32,
     "metadata": {},
     "output_type": "execute_result"
    }
   ],
   "source": [
    "users.select(\"gender\").filter(users[\"gender\"] == \"M\").count()/users.count()"
   ]
  },
  {
   "cell_type": "markdown",
   "id": "beaf6914",
   "metadata": {},
   "source": [
    "Gender One Hot Encoding"
   ]
  },
  {
   "cell_type": "code",
   "execution_count": 33,
   "id": "9fa34cf1",
   "metadata": {},
   "outputs": [],
   "source": [
    "users = users.withColumn(\"gender\", pyspark.sql.functions.when(users[\"gender\"] == 'M', 1).otherwise(0))"
   ]
  },
  {
   "cell_type": "code",
   "execution_count": 34,
   "id": "f315f638",
   "metadata": {},
   "outputs": [
    {
     "name": "stdout",
     "output_type": "stream",
     "text": [
      "+-------+------+---+----------+-------+\n",
      "|user_id|gender|age|occupation|zipcode|\n",
      "+-------+------+---+----------+-------+\n",
      "|      1|     0|  1|        10|  48067|\n",
      "|      2|     1| 56|        16|  70072|\n",
      "|      3|     1| 25|        15|  55117|\n",
      "|      4|     1| 45|         7|  02460|\n",
      "|      5|     1| 25|        20|  55455|\n",
      "+-------+------+---+----------+-------+\n",
      "only showing top 5 rows\n",
      "\n"
     ]
    }
   ],
   "source": [
    "users.show(5)"
   ]
  },
  {
   "cell_type": "markdown",
   "id": "2a0933eb",
   "metadata": {},
   "source": [
    "### 4.2.2. Age Distribution"
   ]
  },
  {
   "cell_type": "code",
   "execution_count": 35,
   "id": "b60e115c",
   "metadata": {},
   "outputs": [],
   "source": [
    "label_mapping = {\n",
    "    1: \"Under 18\",\n",
    "    18: \"18-24\",\n",
    "    25: \"25-34\",\n",
    "    35: \"35-44\",\n",
    "    45: \"45-49\",\n",
    "    50: \"50-55\",\n",
    "    56: \"56+\"\n",
    "}"
   ]
  },
  {
   "cell_type": "code",
   "execution_count": 36,
   "id": "a4964170",
   "metadata": {},
   "outputs": [
    {
     "data": {
      "image/png": "[encoded data removed]",
      "text/plain": [
       "<Figure size 640x480 with 1 Axes>"
      ]
     },
     "metadata": {},
     "output_type": "display_data"
    }
   ],
   "source": [
    "from collections import Counter\n",
    "data = users.select(\"age\").toPandas()[\"age\"].astype(int).apply(lambda x: label_mapping[x]).tolist()\n",
    "counter = Counter(data)\n",
    "\n",
    "plt.bar(counter.keys(), counter.values(), edgecolor='black', width=1.0) \n",
    "plt.xlabel('Age Range')\n",
    "plt.ylabel('Count')\n",
    "plt.xticks(rotation=90)\n",
    "plt.title('Histogram of Age Ranges')\n",
    "plt.show()"
   ]
  },
  {
   "cell_type": "markdown",
   "id": "fd2c09b3",
   "metadata": {},
   "source": [
    "Permuting the labels of the age into a cardinal order (1, 2, 3, 4, 5, 6, 7)"
   ]
  },
  {
   "cell_type": "code",
   "execution_count": 37,
   "id": "17203171",
   "metadata": {},
   "outputs": [
    {
     "name": "stdout",
     "output_type": "stream",
     "text": [
      "root\n",
      " |-- user_id: string (nullable = true)\n",
      " |-- gender: integer (nullable = false)\n",
      " |-- age: string (nullable = true)\n",
      " |-- occupation: string (nullable = true)\n",
      " |-- zipcode: string (nullable = true)\n",
      "\n"
     ]
    }
   ],
   "source": [
    "users.printSchema()"
   ]
  },
  {
   "cell_type": "code",
   "execution_count": 38,
   "id": "76d1ff8d",
   "metadata": {},
   "outputs": [],
   "source": [
    "label_mapping = {\n",
    "    1: 1,\n",
    "    18: 2,\n",
    "    25: 3,\n",
    "    35: 4,\n",
    "    45: 5,\n",
    "    50: 6,\n",
    "    56: 7\n",
    "}\n",
    "\n",
    "age_udf = udf(lambda record: label_mapping[int(record)], IntegerType())\n",
    "users = users.withColumn(\"age_cardinal\", age_udf(users[\"age\"]))\n",
    "users = users.drop(\"age\")"
   ]
  },
  {
   "cell_type": "code",
   "execution_count": 39,
   "id": "51989648",
   "metadata": {},
   "outputs": [
    {
     "name": "stdout",
     "output_type": "stream",
     "text": [
      "+-------+------+----------+-------+------------+\n",
      "|user_id|gender|occupation|zipcode|age_cardinal|\n",
      "+-------+------+----------+-------+------------+\n",
      "|      1|     0|        10|  48067|           1|\n",
      "|      2|     1|        16|  70072|           7|\n",
      "|      3|     1|        15|  55117|           3|\n",
      "|      4|     1|         7|  02460|           5|\n",
      "|      5|     1|        20|  55455|           3|\n",
      "+-------+------+----------+-------+------------+\n",
      "only showing top 5 rows\n",
      "\n"
     ]
    }
   ],
   "source": [
    "users.show(5)"
   ]
  },
  {
   "cell_type": "markdown",
   "id": "85a22af6",
   "metadata": {},
   "source": [
    "### 4.2.3. Occupation Distribution"
   ]
  },
  {
   "cell_type": "code",
   "execution_count": 40,
   "id": "8e42ac24",
   "metadata": {},
   "outputs": [],
   "source": [
    "label_mapping = {\n",
    "    0: \"other\",\n",
    "    1: \"academic/educator\", \n",
    "    2: \"artist\",\n",
    "    3: \"clerical/admin\",\n",
    "    4: \"college/grad student\",\n",
    "    5: \"customer service\",\n",
    "    6: \"doctor/health care\",\n",
    "    7: \"executive/managerial\",\n",
    "    8: \"farmer\",\n",
    "    9: \"homemaker\",\n",
    "    10: \"K-12 student\",\n",
    "    11: \"lawyer\",\n",
    "    12: \"programmer\",\n",
    "    13: \"retired\",\n",
    "    14: \"sales/marketing\",\n",
    "    15: \"scientist\",\n",
    "    16: \"self-employed\",\n",
    "    17: \"technician/engineer\",\n",
    "    18: \"tradesman/craftsman\",\n",
    "    19: \"unemployed\",\n",
    "    20: \"writer\"\n",
    "}"
   ]
  },
  {
   "cell_type": "code",
   "execution_count": 41,
   "id": "5c72ffa0",
   "metadata": {},
   "outputs": [
    {
     "data": {
      "image/png": "[encoded data removed]",
      "text/plain": [
       "<Figure size 640x480 with 1 Axes>"
      ]
     },
     "metadata": {},
     "output_type": "display_data"
    }
   ],
   "source": [
    "data = users.select(\"occupation\").toPandas()[\"occupation\"]\n",
    "histogram_labels = data.unique().astype(int).tolist()\n",
    "counts, bins, _ = plt.hist(data, edgecolor='black', bins = np.arange(len(histogram_labels)+1)-0.5)\n",
    "tick_positions = plt.xticks()[0]\n",
    "tick_labels = [histogram_labels[int(pos)] for pos in tick_positions]\n",
    "new_tick_labels = [label_mapping[label] for label in tick_labels]\n",
    "plt.xticks(tick_positions, new_tick_labels, rotation=90)\n",
    "plt.xlabel('Occupation')\n",
    "plt.ylabel('Count')\n",
    "plt.title('Histogram of Occupations')\n",
    "plt.show()"
   ]
  },
  {
   "cell_type": "markdown",
   "id": "7c34a88e",
   "metadata": {},
   "source": [
    "## 4.3. Ratings Dataset"
   ]
  },
  {
   "cell_type": "code",
   "execution_count": 42,
   "id": "1b5eed7f",
   "metadata": {},
   "outputs": [
    {
     "name": "stdout",
     "output_type": "stream",
     "text": [
      "+-------+--------+------+----------+\n",
      "|user_id|movie_id|rating|time_stamp|\n",
      "+-------+--------+------+----------+\n",
      "|      1|    1193|     5| 978300760|\n",
      "|      1|     661|     3| 978302109|\n",
      "|      1|     914|     3| 978301968|\n",
      "|      1|    3408|     4| 978300275|\n",
      "|      1|    2355|     5| 978824291|\n",
      "+-------+--------+------+----------+\n",
      "only showing top 5 rows\n",
      "\n"
     ]
    }
   ],
   "source": [
    "ratings.show(5)"
   ]
  },
  {
   "cell_type": "code",
   "execution_count": 76,
   "id": "bc231d0f",
   "metadata": {},
   "outputs": [
    {
     "name": "stdout",
     "output_type": "stream",
     "text": [
      "+--------+-----+\n",
      "|movie_id|count|\n",
      "+--------+-----+\n",
      "|    2858| 3428|\n",
      "|     260| 2991|\n",
      "|    1196| 2990|\n",
      "|    1210| 2883|\n",
      "|     480| 2672|\n",
      "|    2028| 2653|\n",
      "|     589| 2649|\n",
      "|    2571| 2590|\n",
      "|    1270| 2583|\n",
      "|     593| 2578|\n",
      "+--------+-----+\n",
      "only showing top 10 rows\n",
      "\n"
     ]
    }
   ],
   "source": [
    "ratings.groupBy(\"movie_id\").count().sort(\"count\", ascending=False).show(10)"
   ]
  },
  {
   "cell_type": "code",
   "execution_count": 66,
   "id": "7253b4bd",
   "metadata": {},
   "outputs": [
    {
     "name": "stdout",
     "output_type": "stream",
     "text": [
      "+-------+-----+\n",
      "|user_id|count|\n",
      "+-------+-----+\n",
      "|   4169| 2314|\n",
      "|   1680| 1850|\n",
      "|   4277| 1743|\n",
      "|   1941| 1595|\n",
      "|   1181| 1521|\n",
      "|    889| 1518|\n",
      "|   3618| 1344|\n",
      "|   2063| 1323|\n",
      "|   1150| 1302|\n",
      "|   1015| 1286|\n",
      "+-------+-----+\n",
      "only showing top 10 rows\n",
      "\n"
     ]
    }
   ],
   "source": [
    "ratings.groupBy(\"user_id\").count().sort(\"count\", ascending=False).show(10)"
   ]
  },
  {
   "cell_type": "markdown",
   "id": "0bf28124",
   "metadata": {},
   "source": [
    "feature adjustments"
   ]
  },
  {
   "cell_type": "code",
   "execution_count": 45,
   "id": "e2b51b1b",
   "metadata": {},
   "outputs": [],
   "source": [
    "for col in ratings.columns:\n",
    "    ratings = ratings.withColumn(col, ratings[col].cast(IntegerType()))"
   ]
  },
  {
   "cell_type": "code",
   "execution_count": 46,
   "id": "402334d0",
   "metadata": {},
   "outputs": [
    {
     "name": "stdout",
     "output_type": "stream",
     "text": [
      "root\n",
      " |-- user_id: integer (nullable = true)\n",
      " |-- movie_id: integer (nullable = true)\n",
      " |-- rating: integer (nullable = true)\n",
      " |-- time_stamp: integer (nullable = true)\n",
      "\n"
     ]
    }
   ],
   "source": [
    "ratings.printSchema()"
   ]
  },
  {
   "cell_type": "code",
   "execution_count": 84,
   "id": "74c873db",
   "metadata": {},
   "outputs": [
    {
     "data": {
      "image/png": "[encoded data removed]",
      "text/plain": [
       "<Figure size 640x480 with 1 Axes>"
      ]
     },
     "metadata": {},
     "output_type": "display_data"
    }
   ],
   "source": [
    "plt.hist(ratings.groupBy(\"movie_id\").count().toPandas()[\"count\"]//10, bins=100)\n",
    "plt.xlabel('ratings (in 10s of reviews)')\n",
    "plt.ylabel('Count')\n",
    "plt.title('Histogram of Movies rating counts')\n",
    "plt.show()"
   ]
  },
  {
   "cell_type": "code",
   "execution_count": 85,
   "id": "6bc60a92",
   "metadata": {},
   "outputs": [
    {
     "data": {
      "image/png": "[encoded data removed]",
      "text/plain": [
       "<Figure size 640x480 with 1 Axes>"
      ]
     },
     "metadata": {},
     "output_type": "display_data"
    }
   ],
   "source": [
    "plt.hist(ratings.groupBy(\"user_id\").count().toPandas()[\"count\"]//10, bins=100)\n",
    "plt.xlabel('ratings (in 10s of reviews)')\n",
    "plt.ylabel('Count')\n",
    "plt.title('Histogram of Users rating counts')\n",
    "plt.show()"
   ]
  },
  {
   "cell_type": "markdown",
   "id": "32f76f69",
   "metadata": {},
   "source": [
    "# 5. Recommendation Modelling"
   ]
  },
  {
   "cell_type": "code",
   "execution_count": 47,
   "id": "a6e9bfae",
   "metadata": {},
   "outputs": [],
   "source": [
    "(training, test) = ratings.randomSplit([0.8, 0.2])"
   ]
  },
  {
   "cell_type": "code",
   "execution_count": 48,
   "id": "80679051",
   "metadata": {},
   "outputs": [
    {
     "name": "stdout",
     "output_type": "stream",
     "text": [
      "+-------+--------+------+----------+\n",
      "|user_id|movie_id|rating|time_stamp|\n",
      "+-------+--------+------+----------+\n",
      "|      1|       1|     5| 978824268|\n",
      "|      1|     527|     5| 978824195|\n",
      "|      1|     531|     4| 978302149|\n",
      "|      1|     588|     4| 978824268|\n",
      "|      1|     595|     5| 978824268|\n",
      "+-------+--------+------+----------+\n",
      "only showing top 5 rows\n",
      "\n"
     ]
    }
   ],
   "source": [
    "training.show(5)"
   ]
  },
  {
   "cell_type": "code",
   "execution_count": 49,
   "id": "307557ab",
   "metadata": {},
   "outputs": [
    {
     "name": "stdout",
     "output_type": "stream",
     "text": [
      "+-------+--------+------+----------+\n",
      "|user_id|movie_id|rating|time_stamp|\n",
      "+-------+--------+------+----------+\n",
      "|      1|      48|     5| 978824351|\n",
      "|      1|     150|     5| 978301777|\n",
      "|      1|     260|     4| 978300760|\n",
      "|      1|     594|     4| 978302268|\n",
      "|      1|     608|     4| 978301398|\n",
      "+-------+--------+------+----------+\n",
      "only showing top 5 rows\n",
      "\n"
     ]
    }
   ],
   "source": [
    "test.show(5)"
   ]
  },
  {
   "cell_type": "markdown",
   "id": "bb1ce2a2",
   "metadata": {},
   "source": [
    "## 5.1. User-Based Filtering"
   ]
  },
  {
   "cell_type": "markdown",
   "id": "8ab2ff3a",
   "metadata": {},
   "source": [
    "### 5.1.1. Colaborative Filtering via Matrix Factorization Algorithm (ALS)"
   ]
  },
  {
   "cell_type": "markdown",
   "id": "3617089f",
   "metadata": {},
   "source": [
    "#### 5.1.1.1. Training a base Model"
   ]
  },
  {
   "cell_type": "code",
   "execution_count": 50,
   "id": "e9e58ab6",
   "metadata": {},
   "outputs": [],
   "source": [
    "als = ml.recommendation.ALS(maxIter=10, \n",
    "          regParam=0.1, \n",
    "          userCol=\"user_id\", \n",
    "          itemCol=\"movie_id\", \n",
    "          ratingCol=\"rating\",\n",
    "          coldStartStrategy=\"drop\")\n",
    "\n",
    "model = als.fit(training)"
   ]
  },
  {
   "cell_type": "code",
   "execution_count": 51,
   "id": "f46efb4d",
   "metadata": {},
   "outputs": [],
   "source": [
    "train_predictions = model.transform(training)\n",
    "test_predictions = model.transform(test)"
   ]
  },
  {
   "cell_type": "code",
   "execution_count": 52,
   "id": "15b6c665",
   "metadata": {},
   "outputs": [
    {
     "name": "stdout",
     "output_type": "stream",
     "text": [
      "+-------+--------+------+----------+----------+\n",
      "|user_id|movie_id|rating|time_stamp|prediction|\n",
      "+-------+--------+------+----------+----------+\n",
      "|    148|       7|     3| 977335047|  3.704681|\n",
      "|    148|      10|     4| 977333469| 3.8770218|\n",
      "|    148|      11|     5| 977334939|  4.001357|\n",
      "|    148|      15|     5| 977334026| 3.2221842|\n",
      "|    148|      17|     4| 977334824| 3.8076565|\n",
      "+-------+--------+------+----------+----------+\n",
      "only showing top 5 rows\n",
      "\n"
     ]
    }
   ],
   "source": [
    "train_predictions.show(5)"
   ]
  },
  {
   "cell_type": "code",
   "execution_count": 53,
   "id": "da9ac9c6",
   "metadata": {},
   "outputs": [
    {
     "name": "stdout",
     "output_type": "stream",
     "text": [
      "+-------+--------+------+----------+----------+\n",
      "|user_id|movie_id|rating|time_stamp|prediction|\n",
      "+-------+--------+------+----------+----------+\n",
      "|    148|       1|     5| 977335193|  4.255896|\n",
      "|    148|       2|     5| 979578366|  3.699464|\n",
      "|    148|      34|     5| 977335265| 3.7481146|\n",
      "|    148|      95|     3| 977334026| 3.4688344|\n",
      "|    148|     168|     3| 977334225| 3.6773562|\n",
      "+-------+--------+------+----------+----------+\n",
      "only showing top 5 rows\n",
      "\n"
     ]
    }
   ],
   "source": [
    "test_predictions.show(5)"
   ]
  },
  {
   "cell_type": "code",
   "execution_count": 54,
   "id": "db021102",
   "metadata": {},
   "outputs": [
    {
     "name": "stdout",
     "output_type": "stream",
     "text": [
      "For NMF ALS method, RMSE for training = 0.8209098090375041, while for testing = 0.8691426743151784\n"
     ]
    }
   ],
   "source": [
    "import pyspark.ml.evaluation as evaluation\n",
    "\n",
    "evaluator = evaluation.RegressionEvaluator(metricName=\"rmse\", labelCol=\"rating\", predictionCol=\"prediction\")\n",
    "\n",
    "train_rmse = evaluator.evaluate(train_predictions)\n",
    "test_rmse = evaluator.evaluate(test_predictions)\n",
    "\n",
    "print(f\"For NMF ALS method, RMSE for training = {train_rmse}, while for testing = {test_rmse}\" )"
   ]
  },
  {
   "cell_type": "markdown",
   "id": "bef83053",
   "metadata": {},
   "source": [
    "#### 5.1.1.2. Inspection of the impact of the hyper parameters"
   ]
  },
  {
   "cell_type": "markdown",
   "id": "8c77a46e",
   "metadata": {},
   "source": [
    "**For Ranking**"
   ]
  },
  {
   "cell_type": "code",
   "execution_count": 89,
   "id": "33b3d655",
   "metadata": {},
   "outputs": [],
   "source": [
    "results = {\n",
    "    \"rank_dim\": [],\n",
    "    \"train_rmse\": [],\n",
    "    \"test_rmse\": []\n",
    "}\n",
    "\n",
    "for rank_dim in range(5, 55, 5):\n",
    "    als = ml.recommendation.ALS(maxIter=10,\n",
    "      rank=rank_dim,\n",
    "      regParam=0.1, \n",
    "      userCol=\"user_id\", \n",
    "      itemCol=\"movie_id\", \n",
    "      ratingCol=\"rating\",\n",
    "      coldStartStrategy=\"drop\")\n",
    "\n",
    "    model = als.fit(training)\n",
    "\n",
    "    train_predictions = model.transform(training)\n",
    "    test_predictions = model.transform(test)\n",
    "\n",
    "    results[\"rank_dim\"].append(rank_dim)\n",
    "    results[\"train_rmse\"].append(evaluator.evaluate(train_predictions))\n",
    "    results[\"test_rmse\"].append(evaluator.evaluate(test_predictions))\n",
    "\n",
    "results = pd.DataFrame(results)"
   ]
  },
  {
   "cell_type": "code",
   "execution_count": 90,
   "id": "eadd6411",
   "metadata": {},
   "outputs": [
    {
     "data": {
      "text/html": [
       "<div>\n",
       "<style scoped>\n",
       "    .dataframe tbody tr th:only-of-type {\n",
       "        vertical-align: middle;\n",
       "    }\n",
       "\n",
       "    .dataframe tbody tr th {\n",
       "        vertical-align: top;\n",
       "    }\n",
       "\n",
       "    .dataframe thead th {\n",
       "        text-align: right;\n",
       "    }\n",
       "</style>\n",
       "<table border=\"1\" class=\"dataframe\">\n",
       "  <thead>\n",
       "    <tr style=\"text-align: right;\">\n",
       "      <th></th>\n",
       "      <th>rank_dim</th>\n",
       "      <th>train_rmse</th>\n",
       "      <th>test_rmse</th>\n",
       "    </tr>\n",
       "  </thead>\n",
       "  <tbody>\n",
       "    <tr>\n",
       "      <th>0</th>\n",
       "      <td>5</td>\n",
       "      <td>0.844712</td>\n",
       "      <td>0.877205</td>\n",
       "    </tr>\n",
       "    <tr>\n",
       "      <th>1</th>\n",
       "      <td>10</td>\n",
       "      <td>0.820910</td>\n",
       "      <td>0.869143</td>\n",
       "    </tr>\n",
       "    <tr>\n",
       "      <th>2</th>\n",
       "      <td>15</td>\n",
       "      <td>0.810044</td>\n",
       "      <td>0.867138</td>\n",
       "    </tr>\n",
       "    <tr>\n",
       "      <th>3</th>\n",
       "      <td>20</td>\n",
       "      <td>0.803588</td>\n",
       "      <td>0.866271</td>\n",
       "    </tr>\n",
       "    <tr>\n",
       "      <th>4</th>\n",
       "      <td>25</td>\n",
       "      <td>0.799487</td>\n",
       "      <td>0.866424</td>\n",
       "    </tr>\n",
       "    <tr>\n",
       "      <th>5</th>\n",
       "      <td>30</td>\n",
       "      <td>0.796371</td>\n",
       "      <td>0.866096</td>\n",
       "    </tr>\n",
       "    <tr>\n",
       "      <th>6</th>\n",
       "      <td>35</td>\n",
       "      <td>0.794145</td>\n",
       "      <td>0.866376</td>\n",
       "    </tr>\n",
       "    <tr>\n",
       "      <th>7</th>\n",
       "      <td>40</td>\n",
       "      <td>0.791884</td>\n",
       "      <td>0.865739</td>\n",
       "    </tr>\n",
       "    <tr>\n",
       "      <th>8</th>\n",
       "      <td>45</td>\n",
       "      <td>0.790335</td>\n",
       "      <td>0.865227</td>\n",
       "    </tr>\n",
       "    <tr>\n",
       "      <th>9</th>\n",
       "      <td>50</td>\n",
       "      <td>0.790328</td>\n",
       "      <td>0.866467</td>\n",
       "    </tr>\n",
       "  </tbody>\n",
       "</table>\n",
       "</div>"
      ],
      "text/plain": [
       "   rank_dim  train_rmse  test_rmse\n",
       "0         5    0.844712   0.877205\n",
       "1        10    0.820910   0.869143\n",
       "2        15    0.810044   0.867138\n",
       "3        20    0.803588   0.866271\n",
       "4        25    0.799487   0.866424\n",
       "5        30    0.796371   0.866096\n",
       "6        35    0.794145   0.866376\n",
       "7        40    0.791884   0.865739\n",
       "8        45    0.790335   0.865227\n",
       "9        50    0.790328   0.866467"
      ]
     },
     "execution_count": 90,
     "metadata": {},
     "output_type": "execute_result"
    }
   ],
   "source": [
    "results"
   ]
  },
  {
   "cell_type": "code",
   "execution_count": 91,
   "id": "b93338d9",
   "metadata": {},
   "outputs": [
    {
     "data": {
      "image/png": "[encoded data removed]",
      "text/plain": [
       "<Figure size 640x480 with 1 Axes>"
      ]
     },
     "metadata": {},
     "output_type": "display_data"
    }
   ],
   "source": [
    "plt.plot(results[\"rank_dim\"], results[\"train_rmse\"], color=\"blue\", label=\"training RMSE\")\n",
    "plt.plot(results[\"rank_dim\"], results[\"test_rmse\"], color=\"red\", label=\"test RMSE\")\n",
    "plt.legend()\n",
    "plt.xlabel(\"Ranking Dimension\")\n",
    "plt.ylabel(\"RMSE\")\n",
    "plt.show()"
   ]
  },
  {
   "cell_type": "markdown",
   "id": "23e43201",
   "metadata": {},
   "source": [
    "**For Regularization**"
   ]
  },
  {
   "cell_type": "code",
   "execution_count": 92,
   "id": "dc8dbc2c",
   "metadata": {},
   "outputs": [],
   "source": [
    "results = {\n",
    "    \"regularization\": [],\n",
    "    \"train_rmse\": [],\n",
    "    \"test_rmse\": []\n",
    "}\n",
    "\n",
    "for regularization in [0.01, 0.05, 0.1, 0.25, 0.5, 0.75, 1]:\n",
    "    als = ml.recommendation.ALS(maxIter=10,\n",
    "      rank=10,\n",
    "      regParam=regularization, \n",
    "      userCol=\"user_id\", \n",
    "      itemCol=\"movie_id\", \n",
    "      ratingCol=\"rating\",\n",
    "      coldStartStrategy=\"drop\")\n",
    "\n",
    "    model = als.fit(training)\n",
    "\n",
    "    train_predictions = model.transform(training)\n",
    "    test_predictions = model.transform(test)\n",
    "\n",
    "    results[\"regularization\"].append(regularization)\n",
    "    results[\"train_rmse\"].append(evaluator.evaluate(train_predictions))\n",
    "    results[\"test_rmse\"].append(evaluator.evaluate(test_predictions))\n",
    "        \n",
    "results = pd.DataFrame(results)"
   ]
  },
  {
   "cell_type": "code",
   "execution_count": 93,
   "id": "ed5f43d7",
   "metadata": {},
   "outputs": [
    {
     "data": {
      "image/png": "[encoded data removed]",
      "text/plain": [
       "<Figure size 640x480 with 1 Axes>"
      ]
     },
     "metadata": {},
     "output_type": "display_data"
    }
   ],
   "source": [
    "plt.plot(results[\"regularization\"], results[\"train_rmse\"], color=\"blue\", label=\"training RMSE\")\n",
    "plt.plot(results[\"regularization\"], results[\"test_rmse\"], color=\"red\", label=\"test RMSE\")\n",
    "plt.legend()\n",
    "plt.xlabel(\"regularization\")\n",
    "plt.ylabel(\"RMSE\")\n",
    "plt.show()"
   ]
  },
  {
   "cell_type": "markdown",
   "id": "a9d7019a",
   "metadata": {},
   "source": [
    "#### 5.1.1.3. Hyper-Parameter Optimization using GridSearch for Regularization & Ranking"
   ]
  },
  {
   "cell_type": "code",
   "execution_count": 94,
   "id": "b0d2fa92",
   "metadata": {},
   "outputs": [],
   "source": [
    "results = {\n",
    "    \"regularization\": [],\n",
    "    \"rank_dim\": [],\n",
    "    \"train_rmse\": [],\n",
    "    \"test_rmse\": []\n",
    "}\n",
    "\n",
    "for regularization in [0.01, 0.05, 0.1, 0.25, 0.5, 0.75, 1]:\n",
    "    for rank_dim in range(5, 55, 5):\n",
    "        als = ml.recommendation.ALS(maxIter=10,\n",
    "          rank=rank_dim,\n",
    "          regParam=regularization, \n",
    "          userCol=\"user_id\", \n",
    "          itemCol=\"movie_id\", \n",
    "          ratingCol=\"rating\",\n",
    "          coldStartStrategy=\"drop\")\n",
    "\n",
    "        model = als.fit(training)\n",
    "        \n",
    "        train_predictions = model.transform(training)\n",
    "        test_predictions = model.transform(test)\n",
    "        \n",
    "        results[\"regularization\"].append(regularization)\n",
    "        results[\"rank_dim\"].append(rank_dim)\n",
    "        results[\"train_rmse\"].append(evaluator.evaluate(train_predictions))\n",
    "        results[\"test_rmse\"].append(evaluator.evaluate(test_predictions))"
   ]
  },
  {
   "cell_type": "code",
   "execution_count": 96,
   "id": "0d139ba8",
   "metadata": {},
   "outputs": [],
   "source": [
    "results = pd.DataFrame(results)"
   ]
  },
  {
   "cell_type": "code",
   "execution_count": 98,
   "id": "8d704aef",
   "metadata": {},
   "outputs": [],
   "source": [
    "results.to_csv(\"grid_search.csv\")"
   ]
  },
  {
   "cell_type": "code",
   "execution_count": 104,
   "id": "9e63f7b5",
   "metadata": {},
   "outputs": [
    {
     "data": {
      "text/html": [
       "<div>\n",
       "<style scoped>\n",
       "    .dataframe tbody tr th:only-of-type {\n",
       "        vertical-align: middle;\n",
       "    }\n",
       "\n",
       "    .dataframe tbody tr th {\n",
       "        vertical-align: top;\n",
       "    }\n",
       "\n",
       "    .dataframe thead th {\n",
       "        text-align: right;\n",
       "    }\n",
       "</style>\n",
       "<table border=\"1\" class=\"dataframe\">\n",
       "  <thead>\n",
       "    <tr style=\"text-align: right;\">\n",
       "      <th></th>\n",
       "      <th>regularization</th>\n",
       "      <th>rank_dim</th>\n",
       "      <th>train_rmse</th>\n",
       "      <th>test_rmse</th>\n",
       "    </tr>\n",
       "  </thead>\n",
       "  <tbody>\n",
       "    <tr>\n",
       "      <th>9</th>\n",
       "      <td>0.01</td>\n",
       "      <td>50</td>\n",
       "      <td>0.4989</td>\n",
       "      <td>1.013623</td>\n",
       "    </tr>\n",
       "  </tbody>\n",
       "</table>\n",
       "</div>"
      ],
      "text/plain": [
       "   regularization  rank_dim  train_rmse  test_rmse\n",
       "9            0.01        50      0.4989   1.013623"
      ]
     },
     "execution_count": 104,
     "metadata": {},
     "output_type": "execute_result"
    }
   ],
   "source": [
    "results[results[\"train_rmse\"] == results[\"train_rmse\"].min()]"
   ]
  },
  {
   "cell_type": "code",
   "execution_count": 105,
   "id": "d25460b0",
   "metadata": {},
   "outputs": [
    {
     "data": {
      "text/html": [
       "<div>\n",
       "<style scoped>\n",
       "    .dataframe tbody tr th:only-of-type {\n",
       "        vertical-align: middle;\n",
       "    }\n",
       "\n",
       "    .dataframe tbody tr th {\n",
       "        vertical-align: top;\n",
       "    }\n",
       "\n",
       "    .dataframe thead th {\n",
       "        text-align: right;\n",
       "    }\n",
       "</style>\n",
       "<table border=\"1\" class=\"dataframe\">\n",
       "  <thead>\n",
       "    <tr style=\"text-align: right;\">\n",
       "      <th></th>\n",
       "      <th>regularization</th>\n",
       "      <th>rank_dim</th>\n",
       "      <th>train_rmse</th>\n",
       "      <th>test_rmse</th>\n",
       "    </tr>\n",
       "  </thead>\n",
       "  <tbody>\n",
       "    <tr>\n",
       "      <th>12</th>\n",
       "      <td>0.05</td>\n",
       "      <td>15</td>\n",
       "      <td>0.741851</td>\n",
       "      <td>0.859078</td>\n",
       "    </tr>\n",
       "  </tbody>\n",
       "</table>\n",
       "</div>"
      ],
      "text/plain": [
       "    regularization  rank_dim  train_rmse  test_rmse\n",
       "12            0.05        15    0.741851   0.859078"
      ]
     },
     "execution_count": 105,
     "metadata": {},
     "output_type": "execute_result"
    }
   ],
   "source": [
    "results[results[\"test_rmse\"] == results[\"test_rmse\"].min()]"
   ]
  },
  {
   "cell_type": "markdown",
   "id": "e1987d55",
   "metadata": {},
   "source": [
    "<b>Therefore it is noticed that the model fits the best when reg = 0.5 and rank of representation = 15. However Underfitting is noticed as 0.787 is significantly a relatively high RMSE</b>"
   ]
  }
 ],
 "metadata": {
  "kernelspec": {
   "display_name": "Python 3 (ipykernel)",
   "language": "python",
   "name": "python3"
  },
  "language_info": {
   "codemirror_mode": {
    "name": "ipython",
    "version": 3
   },
   "file_extension": ".py",
   "mimetype": "text/x-python",
   "name": "python",
   "nbconvert_exporter": "python",
   "pygments_lexer": "ipython3",
   "version": "3.9.18"
  }
 },
 "nbformat": 4,
 "nbformat_minor": 5
}
