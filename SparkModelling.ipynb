{
 "cells": [
  {
   "cell_type": "markdown",
   "id": "f7ebd146",
   "metadata": {},
   "source": [
    "# 1. Data Loading"
   ]
  },
  {
   "cell_type": "code",
   "execution_count": 1,
   "id": "50ea71f4",
   "metadata": {},
   "outputs": [],
   "source": [
    "import os\n",
    "import sys\n",
    "import pandas as pd\n",
    "import numpy as np\n",
    "import pyspark\n",
    "from pyspark.sql import SparkSession\n",
    "import pyspark.ml as ml\n",
    "\n",
    "os.environ['PYSPARK_PYTHON'] = sys.executable\n",
    "os.environ['PYSPARK_DRIVER_PYTHON'] = sys.executable"
   ]
  },
  {
   "cell_type": "code",
   "execution_count": 2,
   "id": "093c2c00",
   "metadata": {},
   "outputs": [],
   "source": [
    "spark = SparkSession.builder.appName(\"YourAppName\").getOrCreate()"
   ]
  },
  {
   "cell_type": "code",
   "execution_count": 3,
   "id": "51d4c4a7",
   "metadata": {},
   "outputs": [],
   "source": [
    "def load_dfs():\n",
    "    global movies, users, ratings\n",
    "    movies = spark.read.csv(\"./Data/movieLens/movies.dat\", sep=\"::\", encoding=\"latin1\")\n",
    "    movies = movies.toDF(\"movie_id\", \"movie_name\", \"genre\").cache()\n",
    "    movies.createOrReplaceTempView(\"movies_info\")\n",
    "    \n",
    "    users = spark.read.csv(\"./Data/movieLens/users.dat\", sep=\"::\", encoding=\"latin1\")\n",
    "    users = users.toDF(\"user_id\", \"gender\", \"age\", \"occupation\", \"zipcode\").cache()\n",
    "    users.createOrReplaceTempView(\"users_info\")\n",
    "    \n",
    "    ratings = spark.read.csv(\"./Data/movieLens/ratings.dat\", sep=\"::\", encoding=\"latin1\")\n",
    "    ratings = ratings.toDF(\"user_id\", \"movie_id\", \"rating\", \"time_stamp\").cache()\n",
    "    ratings.createOrReplaceTempView(\"ratings_info\")"
   ]
  },
  {
   "cell_type": "code",
   "execution_count": 4,
   "id": "a9ecbae6",
   "metadata": {},
   "outputs": [],
   "source": [
    "load_dfs()"
   ]
  },
  {
   "cell_type": "code",
   "execution_count": 5,
   "id": "ae4a84c3",
   "metadata": {},
   "outputs": [
    {
     "name": "stdout",
     "output_type": "stream",
     "text": [
      "+--------+--------------------+--------------------+\n",
      "|movie_id|          movie_name|               genre|\n",
      "+--------+--------------------+--------------------+\n",
      "|       1|    Toy Story (1995)|Animation|Childre...|\n",
      "|       2|      Jumanji (1995)|Adventure|Childre...|\n",
      "|       3|Grumpier Old Men ...|      Comedy|Romance|\n",
      "|       4|Waiting to Exhale...|        Comedy|Drama|\n",
      "|       5|Father of the Bri...|              Comedy|\n",
      "+--------+--------------------+--------------------+\n",
      "only showing top 5 rows\n",
      "\n"
     ]
    }
   ],
   "source": [
    "movies.show(5)"
   ]
  },
  {
   "cell_type": "code",
   "execution_count": 6,
   "id": "ad8395e3",
   "metadata": {
    "scrolled": true
   },
   "outputs": [
    {
     "name": "stdout",
     "output_type": "stream",
     "text": [
      "+-------+------+---+----------+-------+\n",
      "|user_id|gender|age|occupation|zipcode|\n",
      "+-------+------+---+----------+-------+\n",
      "|      1|     F|  1|        10|  48067|\n",
      "|      2|     M| 56|        16|  70072|\n",
      "|      3|     M| 25|        15|  55117|\n",
      "|      4|     M| 45|         7|  02460|\n",
      "|      5|     M| 25|        20|  55455|\n",
      "+-------+------+---+----------+-------+\n",
      "only showing top 5 rows\n",
      "\n"
     ]
    }
   ],
   "source": [
    "users.show(5)"
   ]
  },
  {
   "cell_type": "code",
   "execution_count": 7,
   "id": "ef5f63de",
   "metadata": {
    "scrolled": true
   },
   "outputs": [
    {
     "name": "stdout",
     "output_type": "stream",
     "text": [
      "+-------+--------+------+----------+\n",
      "|user_id|movie_id|rating|time_stamp|\n",
      "+-------+--------+------+----------+\n",
      "|      1|    1193|     5| 978300760|\n",
      "|      1|     661|     3| 978302109|\n",
      "|      1|     914|     3| 978301968|\n",
      "|      1|    3408|     4| 978300275|\n",
      "|      1|    2355|     5| 978824291|\n",
      "+-------+--------+------+----------+\n",
      "only showing top 5 rows\n",
      "\n"
     ]
    }
   ],
   "source": [
    "ratings.show(5)"
   ]
  },
  {
   "cell_type": "markdown",
   "id": "8814e41f",
   "metadata": {},
   "source": [
    "# 2. Checking Null Values"
   ]
  },
  {
   "cell_type": "code",
   "execution_count": 8,
   "id": "36b837ae",
   "metadata": {},
   "outputs": [],
   "source": [
    "def inspect_null(df):\n",
    "    for col in df.columns:\n",
    "        empty = df.filter(df[col].isNull()).count()\n",
    "        print(f\"For columns {col}:\\t{empty} null records\")"
   ]
  },
  {
   "cell_type": "code",
   "execution_count": 9,
   "id": "05294ad2",
   "metadata": {},
   "outputs": [
    {
     "name": "stdout",
     "output_type": "stream",
     "text": [
      "For columns movie_id:\t0 null records\n",
      "For columns movie_name:\t0 null records\n",
      "For columns genre:\t0 null records\n"
     ]
    }
   ],
   "source": [
    "inspect_null(movies)"
   ]
  },
  {
   "cell_type": "code",
   "execution_count": 10,
   "id": "494895be",
   "metadata": {},
   "outputs": [
    {
     "name": "stdout",
     "output_type": "stream",
     "text": [
      "For columns user_id:\t0 null records\n",
      "For columns gender:\t0 null records\n",
      "For columns age:\t0 null records\n",
      "For columns occupation:\t0 null records\n",
      "For columns zipcode:\t0 null records\n"
     ]
    }
   ],
   "source": [
    "inspect_null(users)"
   ]
  },
  {
   "cell_type": "code",
   "execution_count": 11,
   "id": "f19ca5a8",
   "metadata": {},
   "outputs": [
    {
     "name": "stdout",
     "output_type": "stream",
     "text": [
      "For columns user_id:\t0 null records\n",
      "For columns movie_id:\t0 null records\n",
      "For columns rating:\t0 null records\n",
      "For columns time_stamp:\t0 null records\n"
     ]
    }
   ],
   "source": [
    "inspect_null(ratings)"
   ]
  },
  {
   "cell_type": "markdown",
   "id": "9aa3fc71",
   "metadata": {},
   "source": [
    "# 3. Parsing Movies Attributes"
   ]
  },
  {
   "cell_type": "markdown",
   "id": "7bfabd0e",
   "metadata": {},
   "source": [
    "## 3.1. Parsing Movies Names"
   ]
  },
  {
   "cell_type": "code",
   "execution_count": 12,
   "id": "09e414f8",
   "metadata": {},
   "outputs": [],
   "source": [
    "import re\n",
    "\n",
    "def extract_date(record):\n",
    "    pattern  = r'\\((\\d{4})\\)'\n",
    "    if re.findall(pattern, record.strip()[-6:]):\n",
    "        return int(record.strip()[-5:-1])\n",
    "    return None\n",
    "\n",
    "def extract_name(record):\n",
    "    pattern  = r'\\((\\d{4})\\)'\n",
    "    if re.findall(pattern, record.strip()[-6:]):\n",
    "        return record.strip()[:-6].strip()\n",
    "    return record"
   ]
  },
  {
   "cell_type": "code",
   "execution_count": 13,
   "id": "ce3b92f1",
   "metadata": {},
   "outputs": [],
   "source": [
    "from pyspark.sql.functions import udf\n",
    "from pyspark.sql.types import StringType, IntegerType\n",
    "\n",
    "# Define UDFs for extract_date and extract_name functions\n",
    "extract_date_udf = udf(lambda record: extract_date(record), IntegerType())\n",
    "extract_name_udf = udf(lambda record: extract_name(record), StringType())\n",
    "\n",
    "movies = movies.withColumn(\"year\", extract_date_udf(movies[\"movie_name\"]))\n",
    "movies = movies.withColumn(\"name\", extract_name_udf(movies[\"movie_name\"]))"
   ]
  },
  {
   "cell_type": "code",
   "execution_count": 14,
   "id": "a7c705cc",
   "metadata": {},
   "outputs": [
    {
     "name": "stdout",
     "output_type": "stream",
     "text": [
      "+--------+--------------------+--------------------+----+--------------------+\n",
      "|movie_id|          movie_name|               genre|year|                name|\n",
      "+--------+--------------------+--------------------+----+--------------------+\n",
      "|       1|    Toy Story (1995)|Animation|Childre...|1995|           Toy Story|\n",
      "|       2|      Jumanji (1995)|Adventure|Childre...|1995|             Jumanji|\n",
      "|       3|Grumpier Old Men ...|      Comedy|Romance|1995|    Grumpier Old Men|\n",
      "|       4|Waiting to Exhale...|        Comedy|Drama|1995|   Waiting to Exhale|\n",
      "|       5|Father of the Bri...|              Comedy|1995|Father of the Bri...|\n",
      "+--------+--------------------+--------------------+----+--------------------+\n",
      "only showing top 5 rows\n",
      "\n"
     ]
    }
   ],
   "source": [
    "movies.show(5)"
   ]
  },
  {
   "cell_type": "markdown",
   "id": "7709a2fe",
   "metadata": {},
   "source": [
    "## 3.2. Parsing Movies Genres"
   ]
  },
  {
   "cell_type": "code",
   "execution_count": 15,
   "id": "62905058",
   "metadata": {},
   "outputs": [
    {
     "data": {
      "text/plain": [
       "['Animation', \"Children's\", 'Comedy']"
      ]
     },
     "execution_count": 15,
     "metadata": {},
     "output_type": "execute_result"
    }
   ],
   "source": [
    "movies.select(\"genre\").first()[0].split(\"|\")"
   ]
  },
  {
   "cell_type": "code",
   "execution_count": 16,
   "id": "f60dd091",
   "metadata": {},
   "outputs": [],
   "source": [
    "from pyspark.sql.functions import col, split, explode\n",
    "\n",
    "movies = movies.withColumn(\"genre\", explode(split(col(\"genre\"), \"\\|\")))"
   ]
  },
  {
   "cell_type": "code",
   "execution_count": 17,
   "id": "ca5ee8cf",
   "metadata": {},
   "outputs": [
    {
     "name": "stdout",
     "output_type": "stream",
     "text": [
      "+--------+--------------------+----------+----+--------------------+\n",
      "|movie_id|          movie_name|     genre|year|                name|\n",
      "+--------+--------------------+----------+----+--------------------+\n",
      "|       1|    Toy Story (1995)| Animation|1995|           Toy Story|\n",
      "|       1|    Toy Story (1995)|Children's|1995|           Toy Story|\n",
      "|       1|    Toy Story (1995)|    Comedy|1995|           Toy Story|\n",
      "|       2|      Jumanji (1995)| Adventure|1995|             Jumanji|\n",
      "|       2|      Jumanji (1995)|Children's|1995|             Jumanji|\n",
      "|       2|      Jumanji (1995)|   Fantasy|1995|             Jumanji|\n",
      "|       3|Grumpier Old Men ...|    Comedy|1995|    Grumpier Old Men|\n",
      "|       3|Grumpier Old Men ...|   Romance|1995|    Grumpier Old Men|\n",
      "|       4|Waiting to Exhale...|    Comedy|1995|   Waiting to Exhale|\n",
      "|       4|Waiting to Exhale...|     Drama|1995|   Waiting to Exhale|\n",
      "|       5|Father of the Bri...|    Comedy|1995|Father of the Bri...|\n",
      "|       6|         Heat (1995)|    Action|1995|                Heat|\n",
      "|       6|         Heat (1995)|     Crime|1995|                Heat|\n",
      "|       6|         Heat (1995)|  Thriller|1995|                Heat|\n",
      "|       7|      Sabrina (1995)|    Comedy|1995|             Sabrina|\n",
      "|       7|      Sabrina (1995)|   Romance|1995|             Sabrina|\n",
      "|       8| Tom and Huck (1995)| Adventure|1995|        Tom and Huck|\n",
      "|       8| Tom and Huck (1995)|Children's|1995|        Tom and Huck|\n",
      "|       9| Sudden Death (1995)|    Action|1995|        Sudden Death|\n",
      "|      10|    GoldenEye (1995)|    Action|1995|           GoldenEye|\n",
      "+--------+--------------------+----------+----+--------------------+\n",
      "only showing top 20 rows\n",
      "\n"
     ]
    }
   ],
   "source": [
    "movies.show()"
   ]
  },
  {
   "cell_type": "code",
   "execution_count": 18,
   "id": "2b840c60",
   "metadata": {},
   "outputs": [],
   "source": [
    "movies = movies.drop(\"movie_name\")"
   ]
  },
  {
   "cell_type": "code",
   "execution_count": 19,
   "id": "4a7438d7",
   "metadata": {},
   "outputs": [
    {
     "name": "stdout",
     "output_type": "stream",
     "text": [
      "+--------+----------+----+--------------------+\n",
      "|movie_id|     genre|year|                name|\n",
      "+--------+----------+----+--------------------+\n",
      "|       1| Animation|1995|           Toy Story|\n",
      "|       1|Children's|1995|           Toy Story|\n",
      "|       1|    Comedy|1995|           Toy Story|\n",
      "|       2| Adventure|1995|             Jumanji|\n",
      "|       2|Children's|1995|             Jumanji|\n",
      "|       2|   Fantasy|1995|             Jumanji|\n",
      "|       3|    Comedy|1995|    Grumpier Old Men|\n",
      "|       3|   Romance|1995|    Grumpier Old Men|\n",
      "|       4|    Comedy|1995|   Waiting to Exhale|\n",
      "|       4|     Drama|1995|   Waiting to Exhale|\n",
      "|       5|    Comedy|1995|Father of the Bri...|\n",
      "|       6|    Action|1995|                Heat|\n",
      "|       6|     Crime|1995|                Heat|\n",
      "|       6|  Thriller|1995|                Heat|\n",
      "|       7|    Comedy|1995|             Sabrina|\n",
      "|       7|   Romance|1995|             Sabrina|\n",
      "|       8| Adventure|1995|        Tom and Huck|\n",
      "|       8|Children's|1995|        Tom and Huck|\n",
      "|       9|    Action|1995|        Sudden Death|\n",
      "|      10|    Action|1995|           GoldenEye|\n",
      "+--------+----------+----+--------------------+\n",
      "only showing top 20 rows\n",
      "\n"
     ]
    }
   ],
   "source": [
    "movies.show()"
   ]
  },
  {
   "cell_type": "markdown",
   "id": "992b6ea2",
   "metadata": {},
   "source": [
    "# 4. Data Exploration"
   ]
  },
  {
   "cell_type": "markdown",
   "id": "55279721",
   "metadata": {},
   "source": [
    "## 4.1 Movie Dataset"
   ]
  },
  {
   "cell_type": "code",
   "execution_count": 20,
   "id": "31e3d059",
   "metadata": {},
   "outputs": [],
   "source": [
    "movies.createOrReplaceTempView(\"movies_info\")"
   ]
  },
  {
   "cell_type": "code",
   "execution_count": 21,
   "id": "8ece1ced",
   "metadata": {},
   "outputs": [
    {
     "name": "stdout",
     "output_type": "stream",
     "text": [
      "+-----------+\n",
      "|      genre|\n",
      "+-----------+\n",
      "|      Crime|\n",
      "|    Romance|\n",
      "|   Thriller|\n",
      "|  Adventure|\n",
      "| Children's|\n",
      "|      Drama|\n",
      "|        War|\n",
      "|Documentary|\n",
      "|    Fantasy|\n",
      "|    Mystery|\n",
      "|    Musical|\n",
      "|  Animation|\n",
      "|  Film-Noir|\n",
      "|     Horror|\n",
      "|    Western|\n",
      "|     Comedy|\n",
      "|     Action|\n",
      "|     Sci-Fi|\n",
      "+-----------+\n",
      "\n"
     ]
    }
   ],
   "source": [
    "spark.sql(\"SELECT genre FROM movies_info GROUP BY genre\").show()"
   ]
  },
  {
   "cell_type": "code",
   "execution_count": 22,
   "id": "d8ac1f57",
   "metadata": {},
   "outputs": [
    {
     "name": "stdout",
     "output_type": "stream",
     "text": [
      "+---------+---------+\n",
      "|min(year)|max(year)|\n",
      "+---------+---------+\n",
      "|     1919|     2000|\n",
      "+---------+---------+\n",
      "\n"
     ]
    }
   ],
   "source": [
    "spark.sql(\"SELECT min(year), max(year) FROM movies_info\").show()"
   ]
  },
  {
   "cell_type": "code",
   "execution_count": 23,
   "id": "26a3981c",
   "metadata": {},
   "outputs": [
    {
     "data": {
      "image/png": "[encoded data removed]",
      "text/plain": [
       "<Figure size 640x480 with 1 Axes>"
      ]
     },
     "metadata": {},
     "output_type": "display_data"
    }
   ],
   "source": [
    "import matplotlib.pyplot as plt\n",
    "\n",
    "data = spark.sql(\"SELECT genre FROM movies_info\").toPandas()\n",
    "labels = data[\"genre\"].unique()\n",
    "counts, bins, _ = plt.hist(data[\"genre\"], edgecolor='black', bins=len(labels))\n",
    "bin_width = bins[1] - bins[0]\n",
    "new_ticks = bins[:-1] + bin_width / 2\n",
    "\n",
    "plt.ylabel('Frequency')\n",
    "plt.title('Histogram of genres')\n",
    "plt.xticks(new_ticks, rotation=90)\n",
    "plt.show()"
   ]
  },
  {
   "cell_type": "code",
   "execution_count": 24,
   "id": "e4a6e6fc",
   "metadata": {},
   "outputs": [],
   "source": [
    "data = spark.sql(\"SELECT mean(year) YEAR FROM movies_info GROUP BY movie_id\").toPandas()[\"YEAR\"]"
   ]
  },
  {
   "cell_type": "code",
   "execution_count": 25,
   "id": "461be86b",
   "metadata": {},
   "outputs": [
    {
     "data": {
      "image/png": "[encoded data removed]",
      "text/plain": [
       "<Figure size 640x480 with 1 Axes>"
      ]
     },
     "metadata": {},
     "output_type": "display_data"
    }
   ],
   "source": [
    "labels = data.unique()\n",
    "division = 10\n",
    "counts, bins, _ = plt.hist(data, edgecolor='black', bins=np.arange(np.floor(min(data) / division) * division, \n",
    "                                                                   np.ceil(max(data) / division) * division + division, \n",
    "                                                                   division))\n",
    "bin_width = bins[1] - bins[0]\n",
    "new_ticks = bins[:-1] + bin_width / 2\n",
    "\n",
    "plt.ylabel('Frequency')\n",
    "plt.xlabel('Year')\n",
    "plt.title('Histogram of genres')\n",
    "plt.xticks(new_ticks, rotation=90)\n",
    "plt.show()"
   ]
  },
  {
   "cell_type": "code",
   "execution_count": 26,
   "id": "05b4e0b7",
   "metadata": {},
   "outputs": [
    {
     "data": {
      "image/png": "[encoded data removed]",
      "text/plain": [
       "<Figure size 640x480 with 1 Axes>"
      ]
     },
     "metadata": {},
     "output_type": "display_data"
    }
   ],
   "source": [
    "plt.boxplot(data)\n",
    "plt.ylabel(\"YEAR\")\n",
    "plt.show()"
   ]
  },
  {
   "cell_type": "markdown",
   "id": "334ec1a3",
   "metadata": {},
   "source": [
    "inspect the correlation between the genre and the ratings"
   ]
  },
  {
   "cell_type": "code",
   "execution_count": 27,
   "id": "9bd7f0a2",
   "metadata": {},
   "outputs": [
    {
     "name": "stdout",
     "output_type": "stream",
     "text": [
      "+-----------+------+------------------+------------+\n",
      "|      genre|rating|movie_rating_count|total_movies|\n",
      "+-----------+------+------------------+------------+\n",
      "|    Musical|     5|               107|         114|\n",
      "|    Mystery|     5|                98|         106|\n",
      "|    Romance|     5|               421|         471|\n",
      "|     Action|     5|               446|         503|\n",
      "|Documentary|     5|                94|         127|\n",
      "|      Drama|     5|              1309|        1603|\n",
      "|     Horror|     5|               280|         343|\n",
      "|        War|     5|               135|         143|\n",
      "|     Comedy|     5|              1027|        1200|\n",
      "|    Fantasy|     5|                66|          68|\n",
      "|  Film-Noir|     5|                40|          44|\n",
      "| Children's|     5|               232|         251|\n",
      "|   Thriller|     5|               442|         492|\n",
      "|  Animation|     5|               103|         105|\n",
      "|  Adventure|     5|               253|         283|\n",
      "|      Crime|     5|               184|         211|\n",
      "|    Western|     5|                61|          68|\n",
      "|     Sci-Fi|     5|               251|         276|\n",
      "|    Musical|     4|               108|         114|\n",
      "|  Adventure|     4|               272|         283|\n",
      "+-----------+------+------------------+------------+\n",
      "only showing top 20 rows\n",
      "\n"
     ]
    }
   ],
   "source": [
    "query = \"\"\"\n",
    "           SELECT  A.genre, A.rating, A.movie_rating_count, B.total_movies\n",
    "           FROM    (SELECT genre, rating, COUNT(DISTINCT(movies_info.movie_id)) AS movie_rating_count\n",
    "                   FROM movies_info\n",
    "                   INNER JOIN ratings_info ON movies_info.movie_id = ratings_info.movie_id\n",
    "                   GROUP BY genre, rating) A LEFT JOIN\n",
    "                   (SELECT genre, COUNT(DISTINCT(movie_id)) AS total_movies\n",
    "                   FROM movies_info\n",
    "                   GROUP BY genre) B\n",
    "                   ON A.genre = B.genre\n",
    "           ORDER BY rating DESC\n",
    "        \"\"\"\n",
    "\n",
    "data = spark.sql(query)\n",
    "data.show()"
   ]
  },
  {
   "cell_type": "code",
   "execution_count": 28,
   "id": "0f1f1b1e",
   "metadata": {},
   "outputs": [
    {
     "name": "stdout",
     "output_type": "stream",
     "text": [
      "+-----------+------------------+--------------+\n",
      "|      genre|      mean(rating)|median(rating)|\n",
      "+-----------+------------------+--------------+\n",
      "|      Crime| 3.708678543141273|           4.0|\n",
      "|    Romance| 3.607464598740535|           4.0|\n",
      "|   Thriller|3.5704660480809784|           4.0|\n",
      "|  Adventure| 3.477256948332624|           4.0|\n",
      "|      Drama| 3.766332232342065|           4.0|\n",
      "| Children's| 3.422034743579087|           4.0|\n",
      "|        War| 3.893326717935996|           4.0|\n",
      "|Documentary| 3.933122629582807|           4.0|\n",
      "|    Fantasy| 3.447370595851354|           4.0|\n",
      "|    Mystery|3.6681019463387923|           4.0|\n",
      "|    Musical|3.6655189849035708|           4.0|\n",
      "|  Animation| 3.684868223500335|           4.0|\n",
      "|  Film-Noir| 4.075187558184108|           4.0|\n",
      "|     Horror| 3.215013222318226|           3.0|\n",
      "|    Western|3.6377701493980563|           4.0|\n",
      "|     Comedy| 3.522098827752538|           4.0|\n",
      "|     Action|3.4911849357368414|           4.0|\n",
      "|     Sci-Fi| 3.466521291339784|           4.0|\n",
      "+-----------+------------------+--------------+\n",
      "\n"
     ]
    }
   ],
   "source": [
    "query = \"\"\"SELECT genre, MEAN(rating), MEDIAN(rating) \n",
    "        FROM movies_info INNER JOIN ratings_info ON movies_info.movie_id = ratings_info.movie_id\n",
    "        GROUP BY genre\n",
    "        \"\"\"\n",
    "\n",
    "data = spark.sql(query)\n",
    "data.show()"
   ]
  },
  {
   "cell_type": "markdown",
   "id": "7650e7db",
   "metadata": {},
   "source": [
    "## 4.2 Users Dataset"
   ]
  },
  {
   "cell_type": "code",
   "execution_count": 29,
   "id": "59183e5d",
   "metadata": {},
   "outputs": [
    {
     "name": "stdout",
     "output_type": "stream",
     "text": [
      "+-------+------+---+----------+-------+\n",
      "|user_id|gender|age|occupation|zipcode|\n",
      "+-------+------+---+----------+-------+\n",
      "|      1|     F|  1|        10|  48067|\n",
      "|      2|     M| 56|        16|  70072|\n",
      "|      3|     M| 25|        15|  55117|\n",
      "|      4|     M| 45|         7|  02460|\n",
      "|      5|     M| 25|        20|  55455|\n",
      "+-------+------+---+----------+-------+\n",
      "only showing top 5 rows\n",
      "\n"
     ]
    }
   ],
   "source": [
    "users.show(5)"
   ]
  },
  {
   "cell_type": "code",
   "execution_count": 30,
   "id": "32e4587c",
   "metadata": {},
   "outputs": [
    {
     "data": {
      "text/plain": [
       "3439"
      ]
     },
     "execution_count": 30,
     "metadata": {},
     "output_type": "execute_result"
    }
   ],
   "source": [
    "users.select(\"zipcode\").distinct().count()"
   ]
  },
  {
   "cell_type": "code",
   "execution_count": 31,
   "id": "c486f175",
   "metadata": {},
   "outputs": [
    {
     "data": {
      "text/plain": [
       "6040"
      ]
     },
     "execution_count": 31,
     "metadata": {},
     "output_type": "execute_result"
    }
   ],
   "source": [
    "users.count()"
   ]
  },
  {
   "cell_type": "markdown",
   "id": "8bb4f807",
   "metadata": {},
   "source": [
    "### 4.2.1. Gender Probability"
   ]
  },
  {
   "cell_type": "code",
   "execution_count": 32,
   "id": "331b8382",
   "metadata": {},
   "outputs": [
    {
     "data": {
      "text/plain": [
       "0.7170529801324503"
      ]
     },
     "execution_count": 32,
     "metadata": {},
     "output_type": "execute_result"
    }
   ],
   "source": [
    "users.select(\"gender\").filter(users[\"gender\"] == \"M\").count()/users.count()"
   ]
  },
  {
   "cell_type": "markdown",
   "id": "0f05c203",
   "metadata": {},
   "source": [
    "Gender One Hot Encoding"
   ]
  },
  {
   "cell_type": "code",
   "execution_count": 33,
   "id": "f89043cc",
   "metadata": {},
   "outputs": [],
   "source": [
    "users = users.withColumn(\"gender\", pyspark.sql.functions.when(users[\"gender\"] == 'M', 1).otherwise(0))"
   ]
  },
  {
   "cell_type": "code",
   "execution_count": 34,
   "id": "d7ecc4db",
   "metadata": {},
   "outputs": [
    {
     "name": "stdout",
     "output_type": "stream",
     "text": [
      "+-------+------+---+----------+-------+\n",
      "|user_id|gender|age|occupation|zipcode|\n",
      "+-------+------+---+----------+-------+\n",
      "|      1|     0|  1|        10|  48067|\n",
      "|      2|     1| 56|        16|  70072|\n",
      "|      3|     1| 25|        15|  55117|\n",
      "|      4|     1| 45|         7|  02460|\n",
      "|      5|     1| 25|        20|  55455|\n",
      "+-------+------+---+----------+-------+\n",
      "only showing top 5 rows\n",
      "\n"
     ]
    }
   ],
   "source": [
    "users.show(5)"
   ]
  },
  {
   "cell_type": "markdown",
   "id": "ae9a1227",
   "metadata": {},
   "source": [
    "### 4.2.2. Age Distribution"
   ]
  },
  {
   "cell_type": "code",
   "execution_count": 35,
   "id": "a344d81f",
   "metadata": {},
   "outputs": [],
   "source": [
    "label_mapping = {\n",
    "    1: \"Under 18\",\n",
    "    18: \"18-24\",\n",
    "    25: \"25-34\",\n",
    "    35: \"35-44\",\n",
    "    45: \"45-49\",\n",
    "    50: \"50-55\",\n",
    "    56: \"56+\"\n",
    "}"
   ]
  },
  {
   "cell_type": "code",
   "execution_count": 36,
   "id": "5ad97c2c",
   "metadata": {},
   "outputs": [
    {
     "data": {
      "image/png": "[encoded data removed]",
      "text/plain": [
       "<Figure size 640x480 with 1 Axes>"
      ]
     },
     "metadata": {},
     "output_type": "display_data"
    }
   ],
   "source": [
    "from collections import Counter\n",
    "data = users.select(\"age\").toPandas()[\"age\"].astype(int).apply(lambda x: label_mapping[x]).tolist()\n",
    "counter = Counter(data)\n",
    "\n",
    "plt.bar(counter.keys(), counter.values(), edgecolor='black', width=1.0) \n",
    "plt.xlabel('Count')\n",
    "plt.ylabel('Age Range')\n",
    "plt.xticks(rotation=90)\n",
    "plt.title('Histogram of Age Ranges')\n",
    "plt.show()"
   ]
  },
  {
   "cell_type": "markdown",
   "id": "e2ec60b6",
   "metadata": {},
   "source": [
    "Permuting the labels of the age into a cardinal order (1, 2, 3, 4, 5, 6, 7)"
   ]
  },
  {
   "cell_type": "code",
   "execution_count": 37,
   "id": "db520fdc",
   "metadata": {},
   "outputs": [
    {
     "name": "stdout",
     "output_type": "stream",
     "text": [
      "root\n",
      " |-- user_id: string (nullable = true)\n",
      " |-- gender: integer (nullable = false)\n",
      " |-- age: string (nullable = true)\n",
      " |-- occupation: string (nullable = true)\n",
      " |-- zipcode: string (nullable = true)\n",
      "\n"
     ]
    }
   ],
   "source": [
    "users.printSchema()"
   ]
  },
  {
   "cell_type": "code",
   "execution_count": 38,
   "id": "5dab4913",
   "metadata": {},
   "outputs": [],
   "source": [
    "label_mapping = {\n",
    "    1: 1,\n",
    "    18: 2,\n",
    "    25: 3,\n",
    "    35: 4,\n",
    "    45: 5,\n",
    "    50: 6,\n",
    "    56: 7\n",
    "}\n",
    "\n",
    "age_udf = udf(lambda record: label_mapping[int(record)], IntegerType())\n",
    "users = users.withColumn(\"age_cardinal\", age_udf(users[\"age\"]))\n",
    "users = users.drop(\"age\")"
   ]
  },
  {
   "cell_type": "code",
   "execution_count": 39,
   "id": "ecceeb9e",
   "metadata": {},
   "outputs": [
    {
     "name": "stdout",
     "output_type": "stream",
     "text": [
      "+-------+------+----------+-------+------------+\n",
      "|user_id|gender|occupation|zipcode|age_cardinal|\n",
      "+-------+------+----------+-------+------------+\n",
      "|      1|     0|        10|  48067|           1|\n",
      "|      2|     1|        16|  70072|           7|\n",
      "|      3|     1|        15|  55117|           3|\n",
      "|      4|     1|         7|  02460|           5|\n",
      "|      5|     1|        20|  55455|           3|\n",
      "+-------+------+----------+-------+------------+\n",
      "only showing top 5 rows\n",
      "\n"
     ]
    }
   ],
   "source": [
    "users.show(5)"
   ]
  },
  {
   "cell_type": "markdown",
   "id": "5d64c449",
   "metadata": {},
   "source": [
    "### 4.2.3. Occupation Distribution"
   ]
  },
  {
   "cell_type": "code",
   "execution_count": 40,
   "id": "a28c3dc6",
   "metadata": {},
   "outputs": [],
   "source": [
    "label_mapping = {\n",
    "    0: \"other\",\n",
    "    1: \"academic/educator\", \n",
    "    2: \"artist\",\n",
    "    3: \"clerical/admin\",\n",
    "    4: \"college/grad student\",\n",
    "    5: \"customer service\",\n",
    "    6: \"doctor/health care\",\n",
    "    7: \"executive/managerial\",\n",
    "    8: \"farmer\",\n",
    "    9: \"homemaker\",\n",
    "    10: \"K-12 student\",\n",
    "    11: \"lawyer\",\n",
    "    12: \"programmer\",\n",
    "    13: \"retired\",\n",
    "    14: \"sales/marketing\",\n",
    "    15: \"scientist\",\n",
    "    16: \"self-employed\",\n",
    "    17: \"technician/engineer\",\n",
    "    18: \"tradesman/craftsman\",\n",
    "    19: \"unemployed\",\n",
    "    20: \"writer\"\n",
    "}"
   ]
  },
  {
   "cell_type": "code",
   "execution_count": 41,
   "id": "97dba4c8",
   "metadata": {},
   "outputs": [
    {
     "data": {
      "image/png": "[encoded data removed]",
      "text/plain": [
       "<Figure size 640x480 with 1 Axes>"
      ]
     },
     "metadata": {},
     "output_type": "display_data"
    }
   ],
   "source": [
    "data = users.select(\"occupation\").toPandas()[\"occupation\"]\n",
    "histogram_labels = data.unique().astype(int).tolist()\n",
    "counts, bins, _ = plt.hist(data, edgecolor='black', bins = np.arange(len(histogram_labels)+1)-0.5)\n",
    "tick_positions = plt.xticks()[0]\n",
    "tick_labels = [histogram_labels[int(pos)] for pos in tick_positions]\n",
    "new_tick_labels = [label_mapping[label] for label in tick_labels]\n",
    "plt.xticks(tick_positions, new_tick_labels, rotation=90)\n",
    "plt.xlabel('Occupation')\n",
    "plt.ylabel('Count')\n",
    "plt.title('Histogram of Occupations')\n",
    "plt.show()"
   ]
  },
  {
   "cell_type": "markdown",
   "id": "2dc11b37",
   "metadata": {},
   "source": [
    "## 4.3. Ratings Dataset"
   ]
  },
  {
   "cell_type": "code",
   "execution_count": 42,
   "id": "38982b7b",
   "metadata": {},
   "outputs": [
    {
     "name": "stdout",
     "output_type": "stream",
     "text": [
      "+-------+--------+------+----------+\n",
      "|user_id|movie_id|rating|time_stamp|\n",
      "+-------+--------+------+----------+\n",
      "|      1|    1193|     5| 978300760|\n",
      "|      1|     661|     3| 978302109|\n",
      "|      1|     914|     3| 978301968|\n",
      "|      1|    3408|     4| 978300275|\n",
      "|      1|    2355|     5| 978824291|\n",
      "+-------+--------+------+----------+\n",
      "only showing top 5 rows\n",
      "\n"
     ]
    }
   ],
   "source": [
    "ratings.show(5)"
   ]
  },
  {
   "cell_type": "code",
   "execution_count": 43,
   "id": "809ea087",
   "metadata": {},
   "outputs": [
    {
     "name": "stdout",
     "output_type": "stream",
     "text": [
      "+--------+-----+\n",
      "|movie_id|count|\n",
      "+--------+-----+\n",
      "|    2858| 3428|\n",
      "|     260| 2991|\n",
      "|    1196| 2990|\n",
      "|    1210| 2883|\n",
      "|     480| 2672|\n",
      "|    2028| 2653|\n",
      "|     589| 2649|\n",
      "|    2571| 2590|\n",
      "|    1270| 2583|\n",
      "|     593| 2578|\n",
      "+--------+-----+\n",
      "only showing top 10 rows\n",
      "\n"
     ]
    }
   ],
   "source": [
    "ratings.groupBy(\"movie_id\").count().sort(\"count\", ascending=False).show(10)"
   ]
  },
  {
   "cell_type": "code",
   "execution_count": 44,
   "id": "33a81285",
   "metadata": {},
   "outputs": [
    {
     "name": "stdout",
     "output_type": "stream",
     "text": [
      "+-------+-----+\n",
      "|user_id|count|\n",
      "+-------+-----+\n",
      "|   4169| 2314|\n",
      "|   1680| 1850|\n",
      "|   4277| 1743|\n",
      "|   1941| 1595|\n",
      "|   1181| 1521|\n",
      "|    889| 1518|\n",
      "|   3618| 1344|\n",
      "|   2063| 1323|\n",
      "|   1150| 1302|\n",
      "|   1015| 1286|\n",
      "+-------+-----+\n",
      "only showing top 10 rows\n",
      "\n"
     ]
    }
   ],
   "source": [
    "ratings.groupBy(\"user_id\").count().sort(\"count\", ascending=False).show(10)"
   ]
  },
  {
   "cell_type": "markdown",
   "id": "841f10fa",
   "metadata": {},
   "source": [
    "feature adjustments"
   ]
  },
  {
   "cell_type": "code",
   "execution_count": 45,
   "id": "c394f017",
   "metadata": {},
   "outputs": [],
   "source": [
    "for col in ratings.columns:\n",
    "    ratings = ratings.withColumn(col, ratings[col].cast(IntegerType()))"
   ]
  },
  {
   "cell_type": "code",
   "execution_count": 46,
   "id": "6fc81e9f",
   "metadata": {},
   "outputs": [
    {
     "name": "stdout",
     "output_type": "stream",
     "text": [
      "root\n",
      " |-- user_id: integer (nullable = true)\n",
      " |-- movie_id: integer (nullable = true)\n",
      " |-- rating: integer (nullable = true)\n",
      " |-- time_stamp: integer (nullable = true)\n",
      "\n"
     ]
    }
   ],
   "source": [
    "ratings.printSchema()"
   ]
  },
  {
   "cell_type": "markdown",
   "id": "66b5ac3a",
   "metadata": {},
   "source": [
    "# 5. Recommendation Modelling"
   ]
  },
  {
   "cell_type": "code",
   "execution_count": 47,
   "id": "2367740f",
   "metadata": {},
   "outputs": [],
   "source": [
    "(training, test) = ratings.randomSplit([0.8, 0.2])"
   ]
  },
  {
   "cell_type": "code",
   "execution_count": 48,
   "id": "a0e75d64",
   "metadata": {},
   "outputs": [
    {
     "name": "stdout",
     "output_type": "stream",
     "text": [
      "+-------+--------+------+----------+\n",
      "|user_id|movie_id|rating|time_stamp|\n",
      "+-------+--------+------+----------+\n",
      "|      1|       1|     5| 978824268|\n",
      "|      1|      48|     5| 978824351|\n",
      "|      1|     150|     5| 978301777|\n",
      "|      1|     260|     4| 978300760|\n",
      "|      1|     527|     5| 978824195|\n",
      "+-------+--------+------+----------+\n",
      "only showing top 5 rows\n",
      "\n"
     ]
    }
   ],
   "source": [
    "training.show(5)"
   ]
  },
  {
   "cell_type": "code",
   "execution_count": 49,
   "id": "1676f702",
   "metadata": {},
   "outputs": [
    {
     "name": "stdout",
     "output_type": "stream",
     "text": [
      "+-------+--------+------+----------+\n",
      "|user_id|movie_id|rating|time_stamp|\n",
      "+-------+--------+------+----------+\n",
      "|      1|     531|     4| 978302149|\n",
      "|      1|    1029|     5| 978302205|\n",
      "|      1|    1097|     4| 978301953|\n",
      "|      1|    1545|     4| 978824139|\n",
      "|      1|    2692|     4| 978301570|\n",
      "+-------+--------+------+----------+\n",
      "only showing top 5 rows\n",
      "\n"
     ]
    }
   ],
   "source": [
    "test.show(5)"
   ]
  },
  {
   "cell_type": "markdown",
   "id": "8dc4c50e",
   "metadata": {},
   "source": [
    "## 5.1. User-Based Filtering"
   ]
  },
  {
   "cell_type": "markdown",
   "id": "4d162177",
   "metadata": {},
   "source": [
    "### 5.1.1. Colaborative Filtering via Matrix Factorization Algorithm (ALS)"
   ]
  },
  {
   "cell_type": "markdown",
   "id": "9f872f59",
   "metadata": {},
   "source": [
    "#### 5.1.1.1. Training a base Model"
   ]
  },
  {
   "cell_type": "code",
   "execution_count": 50,
   "id": "89a22905",
   "metadata": {},
   "outputs": [],
   "source": [
    "als = ml.recommendation.ALS(maxIter=15, \n",
    "          regParam=0.1, \n",
    "          userCol=\"user_id\", \n",
    "          itemCol=\"movie_id\", \n",
    "          ratingCol=\"rating\",\n",
    "          coldStartStrategy=\"drop\")\n",
    "\n",
    "model = als.fit(training)"
   ]
  },
  {
   "cell_type": "code",
   "execution_count": 51,
   "id": "03309e49",
   "metadata": {},
   "outputs": [],
   "source": [
    "train_predictions = model.transform(training)\n",
    "test_predictions = model.transform(test)"
   ]
  },
  {
   "cell_type": "code",
   "execution_count": 52,
   "id": "6b74ea1e",
   "metadata": {},
   "outputs": [
    {
     "name": "stdout",
     "output_type": "stream",
     "text": [
      "+-------+--------+------+----------+----------+\n",
      "|user_id|movie_id|rating|time_stamp|prediction|\n",
      "+-------+--------+------+----------+----------+\n",
      "|    148|       1|     5| 977335193| 4.2927213|\n",
      "|    148|       2|     5| 979578366|  3.715332|\n",
      "|    148|       7|     3| 977335047| 3.7130244|\n",
      "|    148|      10|     4| 977333469| 3.9604435|\n",
      "|    148|      11|     5| 977334939| 4.0270143|\n",
      "+-------+--------+------+----------+----------+\n",
      "only showing top 5 rows\n",
      "\n"
     ]
    }
   ],
   "source": [
    "train_predictions.show(5)"
   ]
  },
  {
   "cell_type": "code",
   "execution_count": 53,
   "id": "fabfaf9b",
   "metadata": {},
   "outputs": [
    {
     "name": "stdout",
     "output_type": "stream",
     "text": [
      "+-------+--------+------+----------+----------+\n",
      "|user_id|movie_id|rating|time_stamp|prediction|\n",
      "+-------+--------+------+----------+----------+\n",
      "|    148|      23|     3| 979578872| 3.4221115|\n",
      "|    148|     239|     4| 979578936| 3.4316158|\n",
      "|    148|     253|     3| 977353145| 3.6423802|\n",
      "|    148|     262|     4| 977353521|   3.83092|\n",
      "|    148|     300|     2| 977352828| 3.5389957|\n",
      "+-------+--------+------+----------+----------+\n",
      "only showing top 5 rows\n",
      "\n"
     ]
    }
   ],
   "source": [
    "test_predictions.show(5)"
   ]
  },
  {
   "cell_type": "code",
   "execution_count": 54,
   "id": "0ad42fe0",
   "metadata": {},
   "outputs": [
    {
     "name": "stdout",
     "output_type": "stream",
     "text": [
      "For NMF ALS method, RMSE for training = 0.8130896044225708, while for testing = 0.8635873478913221\n"
     ]
    }
   ],
   "source": [
    "import pyspark.ml.evaluation as evaluation\n",
    "\n",
    "evaluator = evaluation.RegressionEvaluator(metricName=\"rmse\", labelCol=\"rating\", predictionCol=\"prediction\")\n",
    "\n",
    "train_rmse = evaluator.evaluate(train_predictions)\n",
    "test_rmse = evaluator.evaluate(test_predictions)\n",
    "\n",
    "print(f\"For NMF ALS method, RMSE for training = {train_rmse}, while for testing = {test_rmse}\" )"
   ]
  },
  {
   "cell_type": "markdown",
   "id": "ca1816f9",
   "metadata": {},
   "source": [
    "#### 5.1.1.2. Hyper-Parameter Optimization using GridSearch for Regularization & Ranking"
   ]
  },
  {
   "cell_type": "code",
   "execution_count": 56,
   "id": "a03e4866",
   "metadata": {},
   "outputs": [],
   "source": [
    "results = {\n",
    "    \"regularization\": [],\n",
    "    \"rank_dim\": [],\n",
    "    \"train_rmse\": [],\n",
    "    \"test_rmse\": []\n",
    "}\n",
    "\n",
    "for regularization in [0.01, 0.1, 0.5, 1]:\n",
    "    for rank_dim in range(10, 35, 5):\n",
    "        als = ml.recommendation.ALS(maxIter=10,\n",
    "          rank=rank_dim,\n",
    "          regParam=regularization, \n",
    "          userCol=\"user_id\", \n",
    "          itemCol=\"movie_id\", \n",
    "          ratingCol=\"rating\",\n",
    "          coldStartStrategy=\"drop\")\n",
    "\n",
    "        model = als.fit(training)\n",
    "        \n",
    "        train_predictions = model.transform(training)\n",
    "        test_predictions = model.transform(test)\n",
    "        \n",
    "        results[\"regularization\"].append(regularization)\n",
    "        results[\"rank_dim\"].append(rank_dim)\n",
    "        results[\"train_rmse\"].append(evaluator.evaluate(train_predictions))\n",
    "        results[\"test_rmse\"].append(evaluator.evaluate(test_predictions))"
   ]
  },
  {
   "cell_type": "code",
   "execution_count": 57,
   "id": "93a9c5f8",
   "metadata": {},
   "outputs": [
    {
     "data": {
      "text/html": [
       "<div>\n",
       "<style scoped>\n",
       "    .dataframe tbody tr th:only-of-type {\n",
       "        vertical-align: middle;\n",
       "    }\n",
       "\n",
       "    .dataframe tbody tr th {\n",
       "        vertical-align: top;\n",
       "    }\n",
       "\n",
       "    .dataframe thead th {\n",
       "        text-align: right;\n",
       "    }\n",
       "</style>\n",
       "<table border=\"1\" class=\"dataframe\">\n",
       "  <thead>\n",
       "    <tr style=\"text-align: right;\">\n",
       "      <th></th>\n",
       "      <th>regularization</th>\n",
       "      <th>rank_dim</th>\n",
       "      <th>train_rmse</th>\n",
       "      <th>test_rmse</th>\n",
       "    </tr>\n",
       "  </thead>\n",
       "  <tbody>\n",
       "    <tr>\n",
       "      <th>0</th>\n",
       "      <td>0.01</td>\n",
       "      <td>10</td>\n",
       "      <td>0.750058</td>\n",
       "      <td>0.890498</td>\n",
       "    </tr>\n",
       "    <tr>\n",
       "      <th>1</th>\n",
       "      <td>0.01</td>\n",
       "      <td>15</td>\n",
       "      <td>0.705436</td>\n",
       "      <td>0.916786</td>\n",
       "    </tr>\n",
       "    <tr>\n",
       "      <th>2</th>\n",
       "      <td>0.01</td>\n",
       "      <td>20</td>\n",
       "      <td>0.668074</td>\n",
       "      <td>0.942772</td>\n",
       "    </tr>\n",
       "    <tr>\n",
       "      <th>3</th>\n",
       "      <td>0.01</td>\n",
       "      <td>25</td>\n",
       "      <td>0.633875</td>\n",
       "      <td>0.960009</td>\n",
       "    </tr>\n",
       "    <tr>\n",
       "      <th>4</th>\n",
       "      <td>0.01</td>\n",
       "      <td>30</td>\n",
       "      <td>0.603676</td>\n",
       "      <td>0.975668</td>\n",
       "    </tr>\n",
       "    <tr>\n",
       "      <th>5</th>\n",
       "      <td>0.10</td>\n",
       "      <td>10</td>\n",
       "      <td>0.820085</td>\n",
       "      <td>0.869716</td>\n",
       "    </tr>\n",
       "    <tr>\n",
       "      <th>6</th>\n",
       "      <td>0.10</td>\n",
       "      <td>15</td>\n",
       "      <td>0.809352</td>\n",
       "      <td>0.867598</td>\n",
       "    </tr>\n",
       "    <tr>\n",
       "      <th>7</th>\n",
       "      <td>0.10</td>\n",
       "      <td>20</td>\n",
       "      <td>0.802960</td>\n",
       "      <td>0.867187</td>\n",
       "    </tr>\n",
       "    <tr>\n",
       "      <th>8</th>\n",
       "      <td>0.10</td>\n",
       "      <td>25</td>\n",
       "      <td>0.798382</td>\n",
       "      <td>0.866637</td>\n",
       "    </tr>\n",
       "    <tr>\n",
       "      <th>9</th>\n",
       "      <td>0.10</td>\n",
       "      <td>30</td>\n",
       "      <td>0.795921</td>\n",
       "      <td>0.866936</td>\n",
       "    </tr>\n",
       "    <tr>\n",
       "      <th>10</th>\n",
       "      <td>0.50</td>\n",
       "      <td>10</td>\n",
       "      <td>1.031099</td>\n",
       "      <td>1.039449</td>\n",
       "    </tr>\n",
       "    <tr>\n",
       "      <th>11</th>\n",
       "      <td>0.50</td>\n",
       "      <td>15</td>\n",
       "      <td>1.031126</td>\n",
       "      <td>1.039476</td>\n",
       "    </tr>\n",
       "    <tr>\n",
       "      <th>12</th>\n",
       "      <td>0.50</td>\n",
       "      <td>20</td>\n",
       "      <td>1.031178</td>\n",
       "      <td>1.039527</td>\n",
       "    </tr>\n",
       "    <tr>\n",
       "      <th>13</th>\n",
       "      <td>0.50</td>\n",
       "      <td>25</td>\n",
       "      <td>1.031055</td>\n",
       "      <td>1.039406</td>\n",
       "    </tr>\n",
       "    <tr>\n",
       "      <th>14</th>\n",
       "      <td>0.50</td>\n",
       "      <td>30</td>\n",
       "      <td>1.031120</td>\n",
       "      <td>1.039470</td>\n",
       "    </tr>\n",
       "    <tr>\n",
       "      <th>15</th>\n",
       "      <td>1.00</td>\n",
       "      <td>10</td>\n",
       "      <td>1.348320</td>\n",
       "      <td>1.353678</td>\n",
       "    </tr>\n",
       "    <tr>\n",
       "      <th>16</th>\n",
       "      <td>1.00</td>\n",
       "      <td>15</td>\n",
       "      <td>1.348320</td>\n",
       "      <td>1.353678</td>\n",
       "    </tr>\n",
       "    <tr>\n",
       "      <th>17</th>\n",
       "      <td>1.00</td>\n",
       "      <td>20</td>\n",
       "      <td>1.348320</td>\n",
       "      <td>1.353678</td>\n",
       "    </tr>\n",
       "    <tr>\n",
       "      <th>18</th>\n",
       "      <td>1.00</td>\n",
       "      <td>25</td>\n",
       "      <td>1.348319</td>\n",
       "      <td>1.353678</td>\n",
       "    </tr>\n",
       "    <tr>\n",
       "      <th>19</th>\n",
       "      <td>1.00</td>\n",
       "      <td>30</td>\n",
       "      <td>1.348320</td>\n",
       "      <td>1.353678</td>\n",
       "    </tr>\n",
       "  </tbody>\n",
       "</table>\n",
       "</div>"
      ],
      "text/plain": [
       "    regularization  rank_dim  train_rmse  test_rmse\n",
       "0             0.01        10    0.750058   0.890498\n",
       "1             0.01        15    0.705436   0.916786\n",
       "2             0.01        20    0.668074   0.942772\n",
       "3             0.01        25    0.633875   0.960009\n",
       "4             0.01        30    0.603676   0.975668\n",
       "5             0.10        10    0.820085   0.869716\n",
       "6             0.10        15    0.809352   0.867598\n",
       "7             0.10        20    0.802960   0.867187\n",
       "8             0.10        25    0.798382   0.866637\n",
       "9             0.10        30    0.795921   0.866936\n",
       "10            0.50        10    1.031099   1.039449\n",
       "11            0.50        15    1.031126   1.039476\n",
       "12            0.50        20    1.031178   1.039527\n",
       "13            0.50        25    1.031055   1.039406\n",
       "14            0.50        30    1.031120   1.039470\n",
       "15            1.00        10    1.348320   1.353678\n",
       "16            1.00        15    1.348320   1.353678\n",
       "17            1.00        20    1.348320   1.353678\n",
       "18            1.00        25    1.348319   1.353678\n",
       "19            1.00        30    1.348320   1.353678"
      ]
     },
     "execution_count": 57,
     "metadata": {},
     "output_type": "execute_result"
    }
   ],
   "source": [
    "pd.DataFrame(results)"
   ]
  },
  {
   "cell_type": "markdown",
   "id": "7160dbb6",
   "metadata": {},
   "source": [
    "<b>Therefore it is noticed that the model fits the best when reg = 0.1 and rank of representation = 30. However Underfitting is noticed as 0.787 is significantly a relatively high RMSE</b>"
   ]
  },
  {
   "cell_type": "markdown",
   "id": "e40faabd",
   "metadata": {},
   "source": [
    "### 5.1.2. Colaborative Filtering via User Similarity Algorithm (KNN)"
   ]
  },
  {
   "cell_type": "markdown",
   "id": "d09e5258",
   "metadata": {},
   "source": [
    "#### 5.1.2.1. Preparing the users dataset "
   ]
  },
  {
   "cell_type": "code",
   "execution_count": 58,
   "id": "a375b32e",
   "metadata": {},
   "outputs": [],
   "source": [
    "for col in users.columns:\n",
    "    users = users.withColumn(col, users[col].cast(IntegerType()))"
   ]
  },
  {
   "cell_type": "code",
   "execution_count": 60,
   "id": "1db57085",
   "metadata": {},
   "outputs": [],
   "source": [
    "users = users.na.fill(0)"
   ]
  },
  {
   "cell_type": "code",
   "execution_count": 59,
   "id": "6e994ca0",
   "metadata": {},
   "outputs": [
    {
     "name": "stdout",
     "output_type": "stream",
     "text": [
      "+-------+------+----------+-------+------------+\n",
      "|user_id|gender|occupation|zipcode|age_cardinal|\n",
      "+-------+------+----------+-------+------------+\n",
      "|      1|     0|        10|  48067|           1|\n",
      "|      2|     1|        16|  70072|           7|\n",
      "|      3|     1|        15|  55117|           3|\n",
      "|      4|     1|         7|   2460|           5|\n",
      "|      5|     1|        20|  55455|           3|\n",
      "+-------+------+----------+-------+------------+\n",
      "only showing top 5 rows\n",
      "\n"
     ]
    }
   ],
   "source": [
    "users.show(5)"
   ]
  },
  {
   "cell_type": "markdown",
   "id": "c215f86f",
   "metadata": {},
   "source": [
    "**Encoding the Occupation via One Hot Encoding**"
   ]
  },
  {
   "cell_type": "code",
   "execution_count": 61,
   "id": "9192d12a",
   "metadata": {},
   "outputs": [
    {
     "name": "stdout",
     "output_type": "stream",
     "text": [
      "+-------+------+-------+------------+------------------+\n",
      "|user_id|gender|zipcode|age_cardinal|encoded_occupation|\n",
      "+-------+------+-------+------------+------------------+\n",
      "|      1|     0|  48067|           1|   (21,[10],[1.0])|\n",
      "|      2|     1|  70072|           7|   (21,[16],[1.0])|\n",
      "|      3|     1|  55117|           3|   (21,[15],[1.0])|\n",
      "|      4|     1|   2460|           5|    (21,[7],[1.0])|\n",
      "|      5|     1|  55455|           3|   (21,[20],[1.0])|\n",
      "+-------+------+-------+------------+------------------+\n",
      "only showing top 5 rows\n",
      "\n"
     ]
    }
   ],
   "source": [
    "from pyspark.ml.feature import OneHotEncoder\n",
    "\n",
    "encoder = OneHotEncoder(inputCol=\"occupation\", dropLast=False, outputCol=\"encoded_occupation\")\n",
    "users = encoder.fit(users).transform(users)\n",
    "users = users.drop(\"occupation\")\n",
    "users.show(5)"
   ]
  },
  {
   "cell_type": "markdown",
   "id": "7fdd5b41",
   "metadata": {},
   "source": [
    "**Encoding the ZipCode via One Hot Encoding**"
   ]
  },
  {
   "cell_type": "code",
   "execution_count": 62,
   "id": "425ce9b5",
   "metadata": {},
   "outputs": [
    {
     "name": "stdout",
     "output_type": "stream",
     "text": [
      "+-------+------+-------+------------+------------------+-------------------+\n",
      "|user_id|gender|zipcode|age_cardinal|encoded_occupation|categorical_zipcode|\n",
      "+-------+------+-------+------------+------------------+-------------------+\n",
      "|      1|     0|  48067|           1|   (21,[10],[1.0])|                  4|\n",
      "|      2|     1|  70072|           7|   (21,[16],[1.0])|                  7|\n",
      "|      3|     1|  55117|           3|   (21,[15],[1.0])|                  5|\n",
      "|      4|     1|   2460|           5|    (21,[7],[1.0])|                  0|\n",
      "|      5|     1|  55455|           3|   (21,[20],[1.0])|                  5|\n",
      "+-------+------+-------+------------+------------------+-------------------+\n",
      "only showing top 5 rows\n",
      "\n"
     ]
    }
   ],
   "source": [
    "zipcode_udf = udf(lambda record: record // 10000, IntegerType())\n",
    "users = users.withColumn(\"categorical_zipcode\", zipcode_udf(users[\"zipcode\"]))\n",
    "#users = users.drop(\"zipcode\")\n",
    "users.show(5)"
   ]
  },
  {
   "cell_type": "code",
   "execution_count": 63,
   "id": "59720fc7",
   "metadata": {},
   "outputs": [],
   "source": [
    "users = users.withColumn(\"categorical_zipcode\", users[\"categorical_zipcode\"].cast(IntegerType()))"
   ]
  },
  {
   "cell_type": "code",
   "execution_count": 64,
   "id": "c4222535",
   "metadata": {},
   "outputs": [
    {
     "name": "stdout",
     "output_type": "stream",
     "text": [
      "+-------+------+-------+------------+------------------+-----------------+\n",
      "|user_id|gender|zipcode|age_cardinal|encoded_occupation|  encoded_zipcode|\n",
      "+-------+------+-------+------------+------------------+-----------------+\n",
      "|      1|     0|  48067|           1|   (21,[10],[1.0])|(19313,[4],[1.0])|\n",
      "|      2|     1|  70072|           7|   (21,[16],[1.0])|(19313,[7],[1.0])|\n",
      "|      3|     1|  55117|           3|   (21,[15],[1.0])|(19313,[5],[1.0])|\n",
      "|      4|     1|   2460|           5|    (21,[7],[1.0])|(19313,[0],[1.0])|\n",
      "|      5|     1|  55455|           3|   (21,[20],[1.0])|(19313,[5],[1.0])|\n",
      "+-------+------+-------+------------+------------------+-----------------+\n",
      "only showing top 5 rows\n",
      "\n"
     ]
    }
   ],
   "source": [
    "encoder = OneHotEncoder(inputCol=\"categorical_zipcode\", dropLast=False, outputCol=\"encoded_zipcode\")\n",
    "users = encoder.fit(users).transform(users)\n",
    "users = users.drop(\"categorical_zipcode\")\n",
    "users.show(5)"
   ]
  },
  {
   "cell_type": "code",
   "execution_count": null,
   "id": "d82ec8de",
   "metadata": {},
   "outputs": [],
   "source": []
  },
  {
   "cell_type": "code",
   "execution_count": null,
   "id": "f4a22ed2",
   "metadata": {},
   "outputs": [],
   "source": []
  },
  {
   "cell_type": "code",
   "execution_count": null,
   "id": "c14d8591",
   "metadata": {},
   "outputs": [],
   "source": []
  },
  {
   "cell_type": "code",
   "execution_count": null,
   "id": "c6324106",
   "metadata": {},
   "outputs": [],
   "source": []
  },
  {
   "cell_type": "markdown",
   "id": "cbd4abf6",
   "metadata": {},
   "source": [
    "movies.show(5)"
   ]
  },
  {
   "cell_type": "markdown",
   "id": "5d8ac8c2",
   "metadata": {},
   "source": [
    "from pyspark.ml.feature import StringIndexer, OneHotEncoder\n",
    "from pyspark.ml import Pipeline\n",
    "\n",
    "indexer = StringIndexer(inputCol=\"genre\", outputCol=\"genre_indexed\")\n",
    "indexed_df = indexer.fit(movies).transform(movies)\n",
    "\n",
    "encoder = OneHotEncoder(inputCol=\"genre_indexed\", dropLast=False, outputCol=\"encoded_genre\")\n",
    "pipeline = Pipeline(stages=[indexer, encoder])\n",
    "pipeline_model = pipeline.fit(movies)\n",
    "movies = pipeline_model.transform(movies)\n",
    "\n",
    "movies.show()"
   ]
  },
  {
   "cell_type": "markdown",
   "id": "6b29688f",
   "metadata": {},
   "source": [
    "import pyspark.sql.functions as F\n",
    "\n",
    "aggregated_df = movies.groupby(\"movie_id\").agg(F.sum(\"encoded_genre\").alias(\"genre_sum\"))"
   ]
  },
  {
   "cell_type": "markdown",
   "id": "cc3ab6ab",
   "metadata": {},
   "source": [
    "from pyspark.sql.functions import sum as sum_cols\n"
   ]
  }
 ],
 "metadata": {
  "kernelspec": {
   "display_name": "Python 3 (ipykernel)",
   "language": "python",
   "name": "python3"
  },
  "language_info": {
   "codemirror_mode": {
    "name": "ipython",
    "version": 3
   },
   "file_extension": ".py",
   "mimetype": "text/x-python",
   "name": "python",
   "nbconvert_exporter": "python",
   "pygments_lexer": "ipython3",
   "version": "3.9.18"
  }
 },
 "nbformat": 4,
 "nbformat_minor": 5
}
