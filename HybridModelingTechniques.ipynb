{
 "cells": [
  {
   "cell_type": "markdown",
   "id": "3d8358f6",
   "metadata": {},
   "source": [
    "# 1. Data Loading & Formatting"
   ]
  },
  {
   "cell_type": "code",
   "execution_count": 1,
   "id": "1a2a0757",
   "metadata": {},
   "outputs": [],
   "source": [
    "import os\n",
    "import sys\n",
    "import pandas as pd\n",
    "import numpy as np\n",
    "import pyspark\n",
    "from pyspark.sql import SparkSession\n",
    "import pyspark.ml as ml\n",
    "\n",
    "os.environ['PYSPARK_PYTHON'] = sys.executable\n",
    "os.environ['PYSPARK_DRIVER_PYTHON'] = sys.executable\n",
    "from pyspark.sql.types import StringType, IntegerType"
   ]
  },
  {
   "cell_type": "code",
   "execution_count": 2,
   "id": "c8eb702e",
   "metadata": {},
   "outputs": [],
   "source": [
    "spark = SparkSession.builder.appName(\"YourAppName\").getOrCreate()"
   ]
  },
  {
   "cell_type": "code",
   "execution_count": 3,
   "id": "c87223bf",
   "metadata": {},
   "outputs": [],
   "source": [
    "def load_dfs():\n",
    "    global movies, users, ratings\n",
    "    movies = spark.read.csv(\"./Data/cleaned_data/pivoted_movies_features.csv\", encoding=\"latin1\", header=True).cache()\n",
    "    movies.createOrReplaceTempView(\"movies_info\")\n",
    "    \n",
    "    users = spark.read.csv(\"./Data/cleaned_data/pivoted_users_features.csv\", encoding=\"latin1\", header=True).cache()\n",
    "    users.createOrReplaceTempView(\"users_info\")\n",
    "    \n",
    "    ratings = spark.read.csv(\"./Data/movieLens/ratings.dat\", sep=\"::\", encoding=\"latin1\")\n",
    "    ratings = ratings.toDF(\"user_id\", \"movie_id\", \"rating\", \"time_stamp\").cache()\n",
    "    ratings.createOrReplaceTempView(\"ratings_info\")"
   ]
  },
  {
   "cell_type": "code",
   "execution_count": 4,
   "id": "965fd4dc",
   "metadata": {},
   "outputs": [],
   "source": [
    "load_dfs()"
   ]
  },
  {
   "cell_type": "code",
   "execution_count": 5,
   "id": "9ed2852e",
   "metadata": {},
   "outputs": [
    {
     "name": "stdout",
     "output_type": "stream",
     "text": [
      "root\n",
      " |-- movie_id: string (nullable = true)\n",
      " |-- year: string (nullable = true)\n",
      " |-- watches: string (nullable = true)\n",
      " |-- avg_rating: string (nullable = true)\n",
      " |-- popularity_per_Action: string (nullable = true)\n",
      " |-- popularity_per_Adventure: string (nullable = true)\n",
      " |-- popularity_per_Animation: string (nullable = true)\n",
      " |-- popularity_per_Children's: string (nullable = true)\n",
      " |-- popularity_per_Comedy: string (nullable = true)\n",
      " |-- popularity_per_Crime: string (nullable = true)\n",
      " |-- popularity_per_Documentary: string (nullable = true)\n",
      " |-- popularity_per_Drama: string (nullable = true)\n",
      " |-- popularity_per_Fantasy: string (nullable = true)\n",
      " |-- popularity_per_Film-Noir: string (nullable = true)\n",
      " |-- popularity_per_Horror: string (nullable = true)\n",
      " |-- popularity_per_Musical: string (nullable = true)\n",
      " |-- popularity_per_Mystery: string (nullable = true)\n",
      " |-- popularity_per_Romance: string (nullable = true)\n",
      " |-- popularity_per_Sci-Fi: string (nullable = true)\n",
      " |-- popularity_per_Thriller: string (nullable = true)\n",
      " |-- popularity_per_War: string (nullable = true)\n",
      " |-- popularity_per_Western: string (nullable = true)\n",
      " |-- rating_per_Action: string (nullable = true)\n",
      " |-- rating_per_Adventure: string (nullable = true)\n",
      " |-- rating_per_Animation: string (nullable = true)\n",
      " |-- rating_per_Children's: string (nullable = true)\n",
      " |-- rating_per_Comedy: string (nullable = true)\n",
      " |-- rating_per_Crime: string (nullable = true)\n",
      " |-- rating_per_Documentary: string (nullable = true)\n",
      " |-- rating_per_Drama: string (nullable = true)\n",
      " |-- rating_per_Fantasy: string (nullable = true)\n",
      " |-- rating_per_Film-Noir: string (nullable = true)\n",
      " |-- rating_per_Horror: string (nullable = true)\n",
      " |-- rating_per_Musical: string (nullable = true)\n",
      " |-- rating_per_Mystery: string (nullable = true)\n",
      " |-- rating_per_Romance: string (nullable = true)\n",
      " |-- rating_per_Sci-Fi: string (nullable = true)\n",
      " |-- rating_per_Thriller: string (nullable = true)\n",
      " |-- rating_per_War: string (nullable = true)\n",
      " |-- rating_per_Western: string (nullable = true)\n",
      "\n"
     ]
    }
   ],
   "source": [
    "movies.printSchema()"
   ]
  },
  {
   "cell_type": "code",
   "execution_count": 8,
   "id": "1ef3d822",
   "metadata": {},
   "outputs": [],
   "source": [
    "for col in movies.columns:\n",
    "    if col in [\"movie_id\", \"year\", \"watches\"]:\n",
    "        movies = movies.withColumn(col, movies[col].cast(IntegerType()))\n",
    "    else:\n",
    "        movies = movies.withColumn(col, movies[col].cast(\"float\"))"
   ]
  },
  {
   "cell_type": "code",
   "execution_count": 13,
   "id": "b2d66deb",
   "metadata": {},
   "outputs": [],
   "source": [
    "movies = movies.withColumnRenamed(\"avg_rating\", \"avg_movie_rating\")\n",
    "movies = movies.withColumnRenamed(\"year\", \"production_year\")"
   ]
  },
  {
   "cell_type": "code",
   "execution_count": 9,
   "id": "a4c897e1",
   "metadata": {},
   "outputs": [
    {
     "name": "stdout",
     "output_type": "stream",
     "text": [
      "root\n",
      " |-- user_id: string (nullable = true)\n",
      " |-- gender: string (nullable = true)\n",
      " |-- age: string (nullable = true)\n",
      " |-- region: string (nullable = true)\n",
      " |-- avg_rating: string (nullable = true)\n",
      " |-- watched_movies: string (nullable = true)\n",
      " |-- avg_rating_for_Action: string (nullable = true)\n",
      " |-- avg_rating_for_Adventure: string (nullable = true)\n",
      " |-- avg_rating_for_Animation: string (nullable = true)\n",
      " |-- avg_rating_for_Children's: string (nullable = true)\n",
      " |-- avg_rating_for_Comedy: string (nullable = true)\n",
      " |-- avg_rating_for_Crime: string (nullable = true)\n",
      " |-- avg_rating_for_Documentary: string (nullable = true)\n",
      " |-- avg_rating_for_Drama: string (nullable = true)\n",
      " |-- avg_rating_for_Fantasy: string (nullable = true)\n",
      " |-- avg_rating_for_Film-Noir: string (nullable = true)\n",
      " |-- avg_rating_for_Horror: string (nullable = true)\n",
      " |-- avg_rating_for_Musical: string (nullable = true)\n",
      " |-- avg_rating_for_Mystery: string (nullable = true)\n",
      " |-- avg_rating_for_Romance: string (nullable = true)\n",
      " |-- avg_rating_for_Sci-Fi: string (nullable = true)\n",
      " |-- avg_rating_for_Thriller: string (nullable = true)\n",
      " |-- avg_rating_for_War: string (nullable = true)\n",
      " |-- avg_rating_for_Western: string (nullable = true)\n",
      " |-- other: string (nullable = true)\n",
      " |-- academic/educator: string (nullable = true)\n",
      " |-- artist: string (nullable = true)\n",
      " |-- clerical/admin: string (nullable = true)\n",
      " |-- college/grad student: string (nullable = true)\n",
      " |-- customer service: string (nullable = true)\n",
      " |-- doctor/health care: string (nullable = true)\n",
      " |-- executive/managerial: string (nullable = true)\n",
      " |-- farmer: string (nullable = true)\n",
      " |-- homemaker: string (nullable = true)\n",
      " |-- K-12 student: string (nullable = true)\n",
      " |-- lawyer: string (nullable = true)\n",
      " |-- programmer: string (nullable = true)\n",
      " |-- retired: string (nullable = true)\n",
      " |-- sales/marketing: string (nullable = true)\n",
      " |-- scientist: string (nullable = true)\n",
      " |-- self-employed: string (nullable = true)\n",
      " |-- technician/engineer: string (nullable = true)\n",
      " |-- tradesman/craftsman: string (nullable = true)\n",
      " |-- unemployed: string (nullable = true)\n",
      " |-- writer: string (nullable = true)\n",
      " |-- year: string (nullable = true)\n",
      "\n"
     ]
    }
   ],
   "source": [
    "users.printSchema()"
   ]
  },
  {
   "cell_type": "code",
   "execution_count": 10,
   "id": "f05866f5",
   "metadata": {},
   "outputs": [],
   "source": [
    "for col in users.columns:\n",
    "    if col in [\"user_id\", \"gender\", \"age\", \"region\", \"age\", \"region\", \"watched_movies\"]:\n",
    "        users = users.withColumn(col, users[col].cast(IntegerType()))\n",
    "    else:\n",
    "        users = users.withColumn(col, users[col].cast(\"float\"))"
   ]
  },
  {
   "cell_type": "code",
   "execution_count": 14,
   "id": "6d8829d9",
   "metadata": {},
   "outputs": [],
   "source": [
    "users = users.withColumnRenamed(\"avg_rating\", \"avg_user_rating\")\n",
    "users = users.withColumnRenamed(\"year\", \"favorite_movies_year\")"
   ]
  },
  {
   "cell_type": "code",
   "execution_count": 15,
   "id": "ee53feca",
   "metadata": {},
   "outputs": [
    {
     "name": "stdout",
     "output_type": "stream",
     "text": [
      "root\n",
      " |-- user_id: integer (nullable = true)\n",
      " |-- movie_id: integer (nullable = true)\n",
      " |-- rating: integer (nullable = true)\n",
      " |-- time_stamp: integer (nullable = true)\n",
      "\n"
     ]
    }
   ],
   "source": [
    "ratings.printSchema()"
   ]
  },
  {
   "cell_type": "code",
   "execution_count": 16,
   "id": "6e7bff2a",
   "metadata": {},
   "outputs": [],
   "source": [
    "for col in ratings.columns:\n",
    "    ratings = ratings.withColumn(col, ratings[col].cast(IntegerType()))"
   ]
  },
  {
   "cell_type": "code",
   "execution_count": 17,
   "id": "0eeb6763",
   "metadata": {},
   "outputs": [],
   "source": [
    "movies.createOrReplaceTempView(\"movies_info\")\n",
    "users.createOrReplaceTempView(\"users_info\")\n",
    "ratings.createOrReplaceTempView(\"ratings_info\")"
   ]
  },
  {
   "cell_type": "code",
   "execution_count": 18,
   "id": "cbcd0bd7",
   "metadata": {},
   "outputs": [
    {
     "name": "stdout",
     "output_type": "stream",
     "text": [
      "root\n",
      " |-- movie_id: integer (nullable = true)\n",
      " |-- user_id: integer (nullable = true)\n",
      " |-- rating: integer (nullable = true)\n",
      " |-- time_stamp: integer (nullable = true)\n",
      " |-- gender: integer (nullable = true)\n",
      " |-- age: integer (nullable = true)\n",
      " |-- region: integer (nullable = true)\n",
      " |-- avg_user_rating: float (nullable = true)\n",
      " |-- watched_movies: integer (nullable = true)\n",
      " |-- avg_rating_for_Action: float (nullable = true)\n",
      " |-- avg_rating_for_Adventure: float (nullable = true)\n",
      " |-- avg_rating_for_Animation: float (nullable = true)\n",
      " |-- avg_rating_for_Children's: float (nullable = true)\n",
      " |-- avg_rating_for_Comedy: float (nullable = true)\n",
      " |-- avg_rating_for_Crime: float (nullable = true)\n",
      " |-- avg_rating_for_Documentary: float (nullable = true)\n",
      " |-- avg_rating_for_Drama: float (nullable = true)\n",
      " |-- avg_rating_for_Fantasy: float (nullable = true)\n",
      " |-- avg_rating_for_Film-Noir: float (nullable = true)\n",
      " |-- avg_rating_for_Horror: float (nullable = true)\n",
      " |-- avg_rating_for_Musical: float (nullable = true)\n",
      " |-- avg_rating_for_Mystery: float (nullable = true)\n",
      " |-- avg_rating_for_Romance: float (nullable = true)\n",
      " |-- avg_rating_for_Sci-Fi: float (nullable = true)\n",
      " |-- avg_rating_for_Thriller: float (nullable = true)\n",
      " |-- avg_rating_for_War: float (nullable = true)\n",
      " |-- avg_rating_for_Western: float (nullable = true)\n",
      " |-- other: float (nullable = true)\n",
      " |-- academic/educator: float (nullable = true)\n",
      " |-- artist: float (nullable = true)\n",
      " |-- clerical/admin: float (nullable = true)\n",
      " |-- college/grad student: float (nullable = true)\n",
      " |-- customer service: float (nullable = true)\n",
      " |-- doctor/health care: float (nullable = true)\n",
      " |-- executive/managerial: float (nullable = true)\n",
      " |-- farmer: float (nullable = true)\n",
      " |-- homemaker: float (nullable = true)\n",
      " |-- K-12 student: float (nullable = true)\n",
      " |-- lawyer: float (nullable = true)\n",
      " |-- programmer: float (nullable = true)\n",
      " |-- retired: float (nullable = true)\n",
      " |-- sales/marketing: float (nullable = true)\n",
      " |-- scientist: float (nullable = true)\n",
      " |-- self-employed: float (nullable = true)\n",
      " |-- technician/engineer: float (nullable = true)\n",
      " |-- tradesman/craftsman: float (nullable = true)\n",
      " |-- unemployed: float (nullable = true)\n",
      " |-- writer: float (nullable = true)\n",
      " |-- favorite_movies_year: float (nullable = true)\n",
      " |-- production_year: integer (nullable = true)\n",
      " |-- watches: integer (nullable = true)\n",
      " |-- avg_movie_rating: float (nullable = true)\n",
      " |-- popularity_per_Action: float (nullable = true)\n",
      " |-- popularity_per_Adventure: float (nullable = true)\n",
      " |-- popularity_per_Animation: float (nullable = true)\n",
      " |-- popularity_per_Children's: float (nullable = true)\n",
      " |-- popularity_per_Comedy: float (nullable = true)\n",
      " |-- popularity_per_Crime: float (nullable = true)\n",
      " |-- popularity_per_Documentary: float (nullable = true)\n",
      " |-- popularity_per_Drama: float (nullable = true)\n",
      " |-- popularity_per_Fantasy: float (nullable = true)\n",
      " |-- popularity_per_Film-Noir: float (nullable = true)\n",
      " |-- popularity_per_Horror: float (nullable = true)\n",
      " |-- popularity_per_Musical: float (nullable = true)\n",
      " |-- popularity_per_Mystery: float (nullable = true)\n",
      " |-- popularity_per_Romance: float (nullable = true)\n",
      " |-- popularity_per_Sci-Fi: float (nullable = true)\n",
      " |-- popularity_per_Thriller: float (nullable = true)\n",
      " |-- popularity_per_War: float (nullable = true)\n",
      " |-- popularity_per_Western: float (nullable = true)\n",
      " |-- rating_per_Action: float (nullable = true)\n",
      " |-- rating_per_Adventure: float (nullable = true)\n",
      " |-- rating_per_Animation: float (nullable = true)\n",
      " |-- rating_per_Children's: float (nullable = true)\n",
      " |-- rating_per_Comedy: float (nullable = true)\n",
      " |-- rating_per_Crime: float (nullable = true)\n",
      " |-- rating_per_Documentary: float (nullable = true)\n",
      " |-- rating_per_Drama: float (nullable = true)\n",
      " |-- rating_per_Fantasy: float (nullable = true)\n",
      " |-- rating_per_Film-Noir: float (nullable = true)\n",
      " |-- rating_per_Horror: float (nullable = true)\n",
      " |-- rating_per_Musical: float (nullable = true)\n",
      " |-- rating_per_Mystery: float (nullable = true)\n",
      " |-- rating_per_Romance: float (nullable = true)\n",
      " |-- rating_per_Sci-Fi: float (nullable = true)\n",
      " |-- rating_per_Thriller: float (nullable = true)\n",
      " |-- rating_per_War: float (nullable = true)\n",
      " |-- rating_per_Western: float (nullable = true)\n",
      "\n"
     ]
    }
   ],
   "source": [
    "query = \"\"\"\n",
    "        SELECT *\n",
    "        FROM (ratings_info INNER JOIN users_info USING (user_id)) INNER JOIN movies_info USING (movie_id)\n",
    "\"\"\"\n",
    "\n",
    "result = spark.sql(query)\n",
    "result.printSchema()"
   ]
  },
  {
   "cell_type": "code",
   "execution_count": 19,
   "id": "95d4a8dc",
   "metadata": {},
   "outputs": [],
   "source": [
    "result = result.drop(\"movie_id\", \"user_id\", \"time_stamp\")"
   ]
  },
  {
   "cell_type": "markdown",
   "id": "5e2fa17e",
   "metadata": {},
   "source": [
    "# 2. Train-Test Split"
   ]
  },
  {
   "cell_type": "code",
   "execution_count": 20,
   "id": "666d83df",
   "metadata": {},
   "outputs": [],
   "source": [
    "(training, test) = ratings.randomSplit([0.8, 0.2])"
   ]
  },
  {
   "cell_type": "code",
   "execution_count": 22,
   "id": "8b46ce50",
   "metadata": {},
   "outputs": [
    {
     "data": {
      "text/plain": [
       "['ABCMeta',\n",
       " 'AFTSurvivalRegression',\n",
       " 'AFTSurvivalRegressionModel',\n",
       " 'Any',\n",
       " 'DataFrame',\n",
       " 'DecisionTreeRegressionModel',\n",
       " 'DecisionTreeRegressor',\n",
       " 'Dict',\n",
       " 'FMRegressionModel',\n",
       " 'FMRegressor',\n",
       " 'GBTRegressionModel',\n",
       " 'GBTRegressor',\n",
       " 'GeneralJavaMLWritable',\n",
       " 'GeneralizedLinearRegression',\n",
       " 'GeneralizedLinearRegressionModel',\n",
       " 'GeneralizedLinearRegressionSummary',\n",
       " 'GeneralizedLinearRegressionTrainingSummary',\n",
       " 'Generic',\n",
       " 'HasAggregationDepth',\n",
       " 'HasElasticNetParam',\n",
       " 'HasFeaturesCol',\n",
       " 'HasFitIntercept',\n",
       " 'HasLabelCol',\n",
       " 'HasLoss',\n",
       " 'HasMaxBlockSizeInMB',\n",
       " 'HasMaxIter',\n",
       " 'HasPredictionCol',\n",
       " 'HasRegParam',\n",
       " 'HasSeed',\n",
       " 'HasSolver',\n",
       " 'HasStandardization',\n",
       " 'HasStepSize',\n",
       " 'HasTol',\n",
       " 'HasTrainingSummary',\n",
       " 'HasVarianceCol',\n",
       " 'HasWeightCol',\n",
       " 'IsotonicRegression',\n",
       " 'IsotonicRegressionModel',\n",
       " 'JM',\n",
       " 'JavaEstimator',\n",
       " 'JavaMLReadable',\n",
       " 'JavaMLWritable',\n",
       " 'JavaModel',\n",
       " 'JavaPredictionModel',\n",
       " 'JavaPredictor',\n",
       " 'JavaTransformer',\n",
       " 'JavaWrapper',\n",
       " 'LinearRegression',\n",
       " 'LinearRegressionModel',\n",
       " 'LinearRegressionSummary',\n",
       " 'LinearRegressionTrainingSummary',\n",
       " 'List',\n",
       " 'M',\n",
       " 'Matrix',\n",
       " 'Optional',\n",
       " 'Param',\n",
       " 'Params',\n",
       " 'PredictionModel',\n",
       " 'Predictor',\n",
       " 'RandomForestRegressionModel',\n",
       " 'RandomForestRegressor',\n",
       " 'RegressionModel',\n",
       " 'Regressor',\n",
       " 'T',\n",
       " 'TYPE_CHECKING',\n",
       " 'Transformer',\n",
       " 'TypeConverters',\n",
       " 'TypeVar',\n",
       " 'Vector',\n",
       " '_AFTSurvivalRegressionParams',\n",
       " '_DecisionTreeModel',\n",
       " '_DecisionTreeParams',\n",
       " '_DecisionTreeRegressorParams',\n",
       " '_FactorizationMachinesParams',\n",
       " '_GBTParams',\n",
       " '_GBTRegressorParams',\n",
       " '_GeneralizedLinearRegressionParams',\n",
       " '_IsotonicRegressionParams',\n",
       " '_JavaRegressionModel',\n",
       " '_JavaRegressor',\n",
       " '_LinearRegressionParams',\n",
       " '_PredictorParams',\n",
       " '_RandomForestParams',\n",
       " '_RandomForestRegressorParams',\n",
       " '_TreeEnsembleModel',\n",
       " '_TreeRegressorParams',\n",
       " '__all__',\n",
       " '__builtins__',\n",
       " '__cached__',\n",
       " '__doc__',\n",
       " '__file__',\n",
       " '__loader__',\n",
       " '__name__',\n",
       " '__package__',\n",
       " '__spec__',\n",
       " 'inherit_doc',\n",
       " 'keyword_only',\n",
       " 'since',\n",
       " 'sys']"
      ]
     },
     "execution_count": 22,
     "metadata": {},
     "output_type": "execute_result"
    }
   ],
   "source": [
    "dir(ml.regression)"
   ]
  },
  {
   "cell_type": "code",
   "execution_count": null,
   "id": "4aa4826f",
   "metadata": {},
   "outputs": [],
   "source": [
    "GeneralizedLinearRegression\n",
    "LinearRegressionModel\n",
    "RandomForestRegressionModel\n",
    "DecisionTreeRegressionModel"
   ]
  }
 ],
 "metadata": {
  "kernelspec": {
   "display_name": "Python 3 (ipykernel)",
   "language": "python",
   "name": "python3"
  },
  "language_info": {
   "codemirror_mode": {
    "name": "ipython",
    "version": 3
   },
   "file_extension": ".py",
   "mimetype": "text/x-python",
   "name": "python",
   "nbconvert_exporter": "python",
   "pygments_lexer": "ipython3",
   "version": "3.9.18"
  }
 },
 "nbformat": 4,
 "nbformat_minor": 5
}
