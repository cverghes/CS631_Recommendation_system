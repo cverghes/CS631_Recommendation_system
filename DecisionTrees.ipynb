{
 "cells": [
  {
   "cell_type": "markdown",
   "id": "cdea5490",
   "metadata": {},
   "source": [
    "# 1. Data Loading & Formatting"
   ]
  },
  {
   "cell_type": "code",
   "execution_count": 1,
   "id": "eb264094",
   "metadata": {},
   "outputs": [],
   "source": [
    "import os\n",
    "import sys\n",
    "import pandas as pd\n",
    "import numpy as np\n",
    "import pyspark\n",
    "from pyspark.sql import SparkSession\n",
    "import pyspark.ml as ml\n",
    "\n",
    "os.environ['PYSPARK_PYTHON'] = sys.executable\n",
    "os.environ['PYSPARK_DRIVER_PYTHON'] = sys.executable\n",
    "from pyspark.sql.types import StringType, IntegerType"
   ]
  },
  {
   "cell_type": "code",
   "execution_count": 2,
   "id": "b1d753d5",
   "metadata": {},
   "outputs": [],
   "source": [
    "spark = SparkSession.builder.appName(\"YourAppName\").getOrCreate()"
   ]
  },
  {
   "cell_type": "code",
   "execution_count": 3,
   "id": "19be749b",
   "metadata": {},
   "outputs": [],
   "source": [
    "def load_dfs():\n",
    "    global movies, users, ratings\n",
    "    movies = spark.read.csv(\"./Data/cleaned_data/pivoted_movies_features.csv\", encoding=\"latin1\", header=True).cache()\n",
    "    movies.createOrReplaceTempView(\"movies_info\")\n",
    "    \n",
    "    users = spark.read.csv(\"./Data/cleaned_data/pivoted_users_features.csv\", encoding=\"latin1\", header=True).cache()\n",
    "    users.createOrReplaceTempView(\"users_info\")\n",
    "    \n",
    "    ratings = spark.read.csv(\"./Data/movieLens/ratings.dat\", sep=\"::\", encoding=\"latin1\")\n",
    "    ratings = ratings.toDF(\"user_id\", \"movie_id\", \"rating\", \"time_stamp\").cache()\n",
    "    ratings.createOrReplaceTempView(\"ratings_info\")"
   ]
  },
  {
   "cell_type": "code",
   "execution_count": 4,
   "id": "5c736a2c",
   "metadata": {},
   "outputs": [],
   "source": [
    "load_dfs()"
   ]
  },
  {
   "cell_type": "code",
   "execution_count": 5,
   "id": "27fc4913",
   "metadata": {},
   "outputs": [
    {
     "name": "stdout",
     "output_type": "stream",
     "text": [
      "root\n",
      " |-- movie_id: string (nullable = true)\n",
      " |-- year: string (nullable = true)\n",
      " |-- watches: string (nullable = true)\n",
      " |-- avg_rating: string (nullable = true)\n",
      " |-- popularity_per_Action: string (nullable = true)\n",
      " |-- popularity_per_Adventure: string (nullable = true)\n",
      " |-- popularity_per_Animation: string (nullable = true)\n",
      " |-- popularity_per_Children's: string (nullable = true)\n",
      " |-- popularity_per_Comedy: string (nullable = true)\n",
      " |-- popularity_per_Crime: string (nullable = true)\n",
      " |-- popularity_per_Documentary: string (nullable = true)\n",
      " |-- popularity_per_Drama: string (nullable = true)\n",
      " |-- popularity_per_Fantasy: string (nullable = true)\n",
      " |-- popularity_per_Film-Noir: string (nullable = true)\n",
      " |-- popularity_per_Horror: string (nullable = true)\n",
      " |-- popularity_per_Musical: string (nullable = true)\n",
      " |-- popularity_per_Mystery: string (nullable = true)\n",
      " |-- popularity_per_Romance: string (nullable = true)\n",
      " |-- popularity_per_Sci-Fi: string (nullable = true)\n",
      " |-- popularity_per_Thriller: string (nullable = true)\n",
      " |-- popularity_per_War: string (nullable = true)\n",
      " |-- popularity_per_Western: string (nullable = true)\n",
      " |-- rating_per_Action: string (nullable = true)\n",
      " |-- rating_per_Adventure: string (nullable = true)\n",
      " |-- rating_per_Animation: string (nullable = true)\n",
      " |-- rating_per_Children's: string (nullable = true)\n",
      " |-- rating_per_Comedy: string (nullable = true)\n",
      " |-- rating_per_Crime: string (nullable = true)\n",
      " |-- rating_per_Documentary: string (nullable = true)\n",
      " |-- rating_per_Drama: string (nullable = true)\n",
      " |-- rating_per_Fantasy: string (nullable = true)\n",
      " |-- rating_per_Film-Noir: string (nullable = true)\n",
      " |-- rating_per_Horror: string (nullable = true)\n",
      " |-- rating_per_Musical: string (nullable = true)\n",
      " |-- rating_per_Mystery: string (nullable = true)\n",
      " |-- rating_per_Romance: string (nullable = true)\n",
      " |-- rating_per_Sci-Fi: string (nullable = true)\n",
      " |-- rating_per_Thriller: string (nullable = true)\n",
      " |-- rating_per_War: string (nullable = true)\n",
      " |-- rating_per_Western: string (nullable = true)\n",
      "\n"
     ]
    }
   ],
   "source": [
    "movies.printSchema()"
   ]
  },
  {
   "cell_type": "code",
   "execution_count": 6,
   "id": "4b0d020f",
   "metadata": {},
   "outputs": [],
   "source": [
    "for col in movies.columns:\n",
    "    if col in [\"movie_id\", \"year\", \"watches\"]:\n",
    "        movies = movies.withColumn(col, movies[col].cast(IntegerType()))\n",
    "    else:\n",
    "        movies = movies.withColumn(col, movies[col].cast(\"float\"))"
   ]
  },
  {
   "cell_type": "code",
   "execution_count": 7,
   "id": "5ae1d5cd",
   "metadata": {},
   "outputs": [],
   "source": [
    "movies = movies.withColumnRenamed(\"avg_rating\", \"avg_movie_rating\")\n",
    "movies = movies.withColumnRenamed(\"year\", \"production_year\")"
   ]
  },
  {
   "cell_type": "code",
   "execution_count": 8,
   "id": "80f95f66",
   "metadata": {},
   "outputs": [
    {
     "name": "stdout",
     "output_type": "stream",
     "text": [
      "root\n",
      " |-- user_id: string (nullable = true)\n",
      " |-- gender: string (nullable = true)\n",
      " |-- age: string (nullable = true)\n",
      " |-- region: string (nullable = true)\n",
      " |-- avg_rating: string (nullable = true)\n",
      " |-- watched_movies: string (nullable = true)\n",
      " |-- avg_rating_for_Action: string (nullable = true)\n",
      " |-- avg_rating_for_Adventure: string (nullable = true)\n",
      " |-- avg_rating_for_Animation: string (nullable = true)\n",
      " |-- avg_rating_for_Children's: string (nullable = true)\n",
      " |-- avg_rating_for_Comedy: string (nullable = true)\n",
      " |-- avg_rating_for_Crime: string (nullable = true)\n",
      " |-- avg_rating_for_Documentary: string (nullable = true)\n",
      " |-- avg_rating_for_Drama: string (nullable = true)\n",
      " |-- avg_rating_for_Fantasy: string (nullable = true)\n",
      " |-- avg_rating_for_Film-Noir: string (nullable = true)\n",
      " |-- avg_rating_for_Horror: string (nullable = true)\n",
      " |-- avg_rating_for_Musical: string (nullable = true)\n",
      " |-- avg_rating_for_Mystery: string (nullable = true)\n",
      " |-- avg_rating_for_Romance: string (nullable = true)\n",
      " |-- avg_rating_for_Sci-Fi: string (nullable = true)\n",
      " |-- avg_rating_for_Thriller: string (nullable = true)\n",
      " |-- avg_rating_for_War: string (nullable = true)\n",
      " |-- avg_rating_for_Western: string (nullable = true)\n",
      " |-- other: string (nullable = true)\n",
      " |-- academic/educator: string (nullable = true)\n",
      " |-- artist: string (nullable = true)\n",
      " |-- clerical/admin: string (nullable = true)\n",
      " |-- college/grad student: string (nullable = true)\n",
      " |-- customer service: string (nullable = true)\n",
      " |-- doctor/health care: string (nullable = true)\n",
      " |-- executive/managerial: string (nullable = true)\n",
      " |-- farmer: string (nullable = true)\n",
      " |-- homemaker: string (nullable = true)\n",
      " |-- K-12 student: string (nullable = true)\n",
      " |-- lawyer: string (nullable = true)\n",
      " |-- programmer: string (nullable = true)\n",
      " |-- retired: string (nullable = true)\n",
      " |-- sales/marketing: string (nullable = true)\n",
      " |-- scientist: string (nullable = true)\n",
      " |-- self-employed: string (nullable = true)\n",
      " |-- technician/engineer: string (nullable = true)\n",
      " |-- tradesman/craftsman: string (nullable = true)\n",
      " |-- unemployed: string (nullable = true)\n",
      " |-- writer: string (nullable = true)\n",
      " |-- year: string (nullable = true)\n",
      "\n"
     ]
    }
   ],
   "source": [
    "users.printSchema()"
   ]
  },
  {
   "cell_type": "code",
   "execution_count": 9,
   "id": "b26afa05",
   "metadata": {},
   "outputs": [],
   "source": [
    "for col in users.columns:\n",
    "    if col in [\"user_id\", \"gender\", \"age\", \"region\", \"age\", \"region\", \"watched_movies\"]:\n",
    "        users = users.withColumn(col, users[col].cast(IntegerType()))\n",
    "    else:\n",
    "        users = users.withColumn(col, users[col].cast(\"float\"))"
   ]
  },
  {
   "cell_type": "code",
   "execution_count": 10,
   "id": "6801121d",
   "metadata": {},
   "outputs": [],
   "source": [
    "users = users.withColumnRenamed(\"avg_rating\", \"avg_user_rating\")\n",
    "users = users.withColumnRenamed(\"year\", \"favorite_movies_year\")"
   ]
  },
  {
   "cell_type": "code",
   "execution_count": 11,
   "id": "3bd7acf4",
   "metadata": {},
   "outputs": [
    {
     "name": "stdout",
     "output_type": "stream",
     "text": [
      "root\n",
      " |-- user_id: string (nullable = true)\n",
      " |-- movie_id: string (nullable = true)\n",
      " |-- rating: string (nullable = true)\n",
      " |-- time_stamp: string (nullable = true)\n",
      "\n"
     ]
    }
   ],
   "source": [
    "ratings.printSchema()"
   ]
  },
  {
   "cell_type": "code",
   "execution_count": 12,
   "id": "a52f6e9a",
   "metadata": {},
   "outputs": [],
   "source": [
    "for col in ratings.columns:\n",
    "    ratings = ratings.withColumn(col, ratings[col].cast(IntegerType()))"
   ]
  },
  {
   "cell_type": "code",
   "execution_count": 13,
   "id": "374696d4",
   "metadata": {},
   "outputs": [],
   "source": [
    "movies.createOrReplaceTempView(\"movies_info\")\n",
    "users.createOrReplaceTempView(\"users_info\")\n",
    "ratings.createOrReplaceTempView(\"ratings_info\")"
   ]
  },
  {
   "cell_type": "code",
   "execution_count": 14,
   "id": "a06172ea",
   "metadata": {},
   "outputs": [
    {
     "name": "stdout",
     "output_type": "stream",
     "text": [
      "root\n",
      " |-- movie_id: integer (nullable = true)\n",
      " |-- user_id: integer (nullable = true)\n",
      " |-- rating: integer (nullable = true)\n",
      " |-- time_stamp: integer (nullable = true)\n",
      " |-- gender: integer (nullable = true)\n",
      " |-- age: integer (nullable = true)\n",
      " |-- region: integer (nullable = true)\n",
      " |-- avg_user_rating: float (nullable = true)\n",
      " |-- watched_movies: integer (nullable = true)\n",
      " |-- avg_rating_for_Action: float (nullable = true)\n",
      " |-- avg_rating_for_Adventure: float (nullable = true)\n",
      " |-- avg_rating_for_Animation: float (nullable = true)\n",
      " |-- avg_rating_for_Children's: float (nullable = true)\n",
      " |-- avg_rating_for_Comedy: float (nullable = true)\n",
      " |-- avg_rating_for_Crime: float (nullable = true)\n",
      " |-- avg_rating_for_Documentary: float (nullable = true)\n",
      " |-- avg_rating_for_Drama: float (nullable = true)\n",
      " |-- avg_rating_for_Fantasy: float (nullable = true)\n",
      " |-- avg_rating_for_Film-Noir: float (nullable = true)\n",
      " |-- avg_rating_for_Horror: float (nullable = true)\n",
      " |-- avg_rating_for_Musical: float (nullable = true)\n",
      " |-- avg_rating_for_Mystery: float (nullable = true)\n",
      " |-- avg_rating_for_Romance: float (nullable = true)\n",
      " |-- avg_rating_for_Sci-Fi: float (nullable = true)\n",
      " |-- avg_rating_for_Thriller: float (nullable = true)\n",
      " |-- avg_rating_for_War: float (nullable = true)\n",
      " |-- avg_rating_for_Western: float (nullable = true)\n",
      " |-- other: float (nullable = true)\n",
      " |-- academic/educator: float (nullable = true)\n",
      " |-- artist: float (nullable = true)\n",
      " |-- clerical/admin: float (nullable = true)\n",
      " |-- college/grad student: float (nullable = true)\n",
      " |-- customer service: float (nullable = true)\n",
      " |-- doctor/health care: float (nullable = true)\n",
      " |-- executive/managerial: float (nullable = true)\n",
      " |-- farmer: float (nullable = true)\n",
      " |-- homemaker: float (nullable = true)\n",
      " |-- K-12 student: float (nullable = true)\n",
      " |-- lawyer: float (nullable = true)\n",
      " |-- programmer: float (nullable = true)\n",
      " |-- retired: float (nullable = true)\n",
      " |-- sales/marketing: float (nullable = true)\n",
      " |-- scientist: float (nullable = true)\n",
      " |-- self-employed: float (nullable = true)\n",
      " |-- technician/engineer: float (nullable = true)\n",
      " |-- tradesman/craftsman: float (nullable = true)\n",
      " |-- unemployed: float (nullable = true)\n",
      " |-- writer: float (nullable = true)\n",
      " |-- favorite_movies_year: float (nullable = true)\n",
      " |-- production_year: integer (nullable = true)\n",
      " |-- watches: integer (nullable = true)\n",
      " |-- avg_movie_rating: float (nullable = true)\n",
      " |-- popularity_per_Action: float (nullable = true)\n",
      " |-- popularity_per_Adventure: float (nullable = true)\n",
      " |-- popularity_per_Animation: float (nullable = true)\n",
      " |-- popularity_per_Children's: float (nullable = true)\n",
      " |-- popularity_per_Comedy: float (nullable = true)\n",
      " |-- popularity_per_Crime: float (nullable = true)\n",
      " |-- popularity_per_Documentary: float (nullable = true)\n",
      " |-- popularity_per_Drama: float (nullable = true)\n",
      " |-- popularity_per_Fantasy: float (nullable = true)\n",
      " |-- popularity_per_Film-Noir: float (nullable = true)\n",
      " |-- popularity_per_Horror: float (nullable = true)\n",
      " |-- popularity_per_Musical: float (nullable = true)\n",
      " |-- popularity_per_Mystery: float (nullable = true)\n",
      " |-- popularity_per_Romance: float (nullable = true)\n",
      " |-- popularity_per_Sci-Fi: float (nullable = true)\n",
      " |-- popularity_per_Thriller: float (nullable = true)\n",
      " |-- popularity_per_War: float (nullable = true)\n",
      " |-- popularity_per_Western: float (nullable = true)\n",
      " |-- rating_per_Action: float (nullable = true)\n",
      " |-- rating_per_Adventure: float (nullable = true)\n",
      " |-- rating_per_Animation: float (nullable = true)\n",
      " |-- rating_per_Children's: float (nullable = true)\n",
      " |-- rating_per_Comedy: float (nullable = true)\n",
      " |-- rating_per_Crime: float (nullable = true)\n",
      " |-- rating_per_Documentary: float (nullable = true)\n",
      " |-- rating_per_Drama: float (nullable = true)\n",
      " |-- rating_per_Fantasy: float (nullable = true)\n",
      " |-- rating_per_Film-Noir: float (nullable = true)\n",
      " |-- rating_per_Horror: float (nullable = true)\n",
      " |-- rating_per_Musical: float (nullable = true)\n",
      " |-- rating_per_Mystery: float (nullable = true)\n",
      " |-- rating_per_Romance: float (nullable = true)\n",
      " |-- rating_per_Sci-Fi: float (nullable = true)\n",
      " |-- rating_per_Thriller: float (nullable = true)\n",
      " |-- rating_per_War: float (nullable = true)\n",
      " |-- rating_per_Western: float (nullable = true)\n",
      "\n"
     ]
    }
   ],
   "source": [
    "query = \"\"\"\n",
    "        SELECT *\n",
    "        FROM (ratings_info INNER JOIN users_info USING (user_id)) INNER JOIN movies_info USING (movie_id)\n",
    "\"\"\"\n",
    "\n",
    "result = spark.sql(query)\n",
    "result.printSchema()"
   ]
  },
  {
   "cell_type": "code",
   "execution_count": 15,
   "id": "6c6aee81",
   "metadata": {},
   "outputs": [],
   "source": [
    "result = result.drop(\"movie_id\", \"user_id\", \"time_stamp\")"
   ]
  },
  {
   "cell_type": "code",
   "execution_count": 16,
   "id": "b1afe51f",
   "metadata": {},
   "outputs": [],
   "source": [
    "from pyspark.ml.feature import VectorAssembler\n",
    "\n",
    "features = [col for col in result.columns if col != \"rating\"]\n",
    "target_column = \"rating\"\n",
    "assembler = VectorAssembler(inputCols=features, outputCol=\"features\")\n",
    "data = assembler.transform(result)"
   ]
  },
  {
   "cell_type": "code",
   "execution_count": 17,
   "id": "15d53395",
   "metadata": {},
   "outputs": [
    {
     "name": "stdout",
     "output_type": "stream",
     "text": [
      "root\n",
      " |-- rating: integer (nullable = true)\n",
      " |-- gender: integer (nullable = true)\n",
      " |-- age: integer (nullable = true)\n",
      " |-- region: integer (nullable = true)\n",
      " |-- avg_user_rating: float (nullable = true)\n",
      " |-- watched_movies: integer (nullable = true)\n",
      " |-- avg_rating_for_Action: float (nullable = true)\n",
      " |-- avg_rating_for_Adventure: float (nullable = true)\n",
      " |-- avg_rating_for_Animation: float (nullable = true)\n",
      " |-- avg_rating_for_Children's: float (nullable = true)\n",
      " |-- avg_rating_for_Comedy: float (nullable = true)\n",
      " |-- avg_rating_for_Crime: float (nullable = true)\n",
      " |-- avg_rating_for_Documentary: float (nullable = true)\n",
      " |-- avg_rating_for_Drama: float (nullable = true)\n",
      " |-- avg_rating_for_Fantasy: float (nullable = true)\n",
      " |-- avg_rating_for_Film-Noir: float (nullable = true)\n",
      " |-- avg_rating_for_Horror: float (nullable = true)\n",
      " |-- avg_rating_for_Musical: float (nullable = true)\n",
      " |-- avg_rating_for_Mystery: float (nullable = true)\n",
      " |-- avg_rating_for_Romance: float (nullable = true)\n",
      " |-- avg_rating_for_Sci-Fi: float (nullable = true)\n",
      " |-- avg_rating_for_Thriller: float (nullable = true)\n",
      " |-- avg_rating_for_War: float (nullable = true)\n",
      " |-- avg_rating_for_Western: float (nullable = true)\n",
      " |-- other: float (nullable = true)\n",
      " |-- academic/educator: float (nullable = true)\n",
      " |-- artist: float (nullable = true)\n",
      " |-- clerical/admin: float (nullable = true)\n",
      " |-- college/grad student: float (nullable = true)\n",
      " |-- customer service: float (nullable = true)\n",
      " |-- doctor/health care: float (nullable = true)\n",
      " |-- executive/managerial: float (nullable = true)\n",
      " |-- farmer: float (nullable = true)\n",
      " |-- homemaker: float (nullable = true)\n",
      " |-- K-12 student: float (nullable = true)\n",
      " |-- lawyer: float (nullable = true)\n",
      " |-- programmer: float (nullable = true)\n",
      " |-- retired: float (nullable = true)\n",
      " |-- sales/marketing: float (nullable = true)\n",
      " |-- scientist: float (nullable = true)\n",
      " |-- self-employed: float (nullable = true)\n",
      " |-- technician/engineer: float (nullable = true)\n",
      " |-- tradesman/craftsman: float (nullable = true)\n",
      " |-- unemployed: float (nullable = true)\n",
      " |-- writer: float (nullable = true)\n",
      " |-- favorite_movies_year: float (nullable = true)\n",
      " |-- production_year: integer (nullable = true)\n",
      " |-- watches: integer (nullable = true)\n",
      " |-- avg_movie_rating: float (nullable = true)\n",
      " |-- popularity_per_Action: float (nullable = true)\n",
      " |-- popularity_per_Adventure: float (nullable = true)\n",
      " |-- popularity_per_Animation: float (nullable = true)\n",
      " |-- popularity_per_Children's: float (nullable = true)\n",
      " |-- popularity_per_Comedy: float (nullable = true)\n",
      " |-- popularity_per_Crime: float (nullable = true)\n",
      " |-- popularity_per_Documentary: float (nullable = true)\n",
      " |-- popularity_per_Drama: float (nullable = true)\n",
      " |-- popularity_per_Fantasy: float (nullable = true)\n",
      " |-- popularity_per_Film-Noir: float (nullable = true)\n",
      " |-- popularity_per_Horror: float (nullable = true)\n",
      " |-- popularity_per_Musical: float (nullable = true)\n",
      " |-- popularity_per_Mystery: float (nullable = true)\n",
      " |-- popularity_per_Romance: float (nullable = true)\n",
      " |-- popularity_per_Sci-Fi: float (nullable = true)\n",
      " |-- popularity_per_Thriller: float (nullable = true)\n",
      " |-- popularity_per_War: float (nullable = true)\n",
      " |-- popularity_per_Western: float (nullable = true)\n",
      " |-- rating_per_Action: float (nullable = true)\n",
      " |-- rating_per_Adventure: float (nullable = true)\n",
      " |-- rating_per_Animation: float (nullable = true)\n",
      " |-- rating_per_Children's: float (nullable = true)\n",
      " |-- rating_per_Comedy: float (nullable = true)\n",
      " |-- rating_per_Crime: float (nullable = true)\n",
      " |-- rating_per_Documentary: float (nullable = true)\n",
      " |-- rating_per_Drama: float (nullable = true)\n",
      " |-- rating_per_Fantasy: float (nullable = true)\n",
      " |-- rating_per_Film-Noir: float (nullable = true)\n",
      " |-- rating_per_Horror: float (nullable = true)\n",
      " |-- rating_per_Musical: float (nullable = true)\n",
      " |-- rating_per_Mystery: float (nullable = true)\n",
      " |-- rating_per_Romance: float (nullable = true)\n",
      " |-- rating_per_Sci-Fi: float (nullable = true)\n",
      " |-- rating_per_Thriller: float (nullable = true)\n",
      " |-- rating_per_War: float (nullable = true)\n",
      " |-- rating_per_Western: float (nullable = true)\n",
      " |-- features: vector (nullable = true)\n",
      "\n"
     ]
    }
   ],
   "source": [
    "data.printSchema()"
   ]
  },
  {
   "cell_type": "markdown",
   "id": "ded06a31",
   "metadata": {},
   "source": [
    "# 2. Train-Test Split"
   ]
  },
  {
   "cell_type": "code",
   "execution_count": 18,
   "id": "ef47871c",
   "metadata": {},
   "outputs": [],
   "source": [
    "(training, test) = data.randomSplit([0.8, 0.2])"
   ]
  },
  {
   "cell_type": "markdown",
   "id": "50b3cad2",
   "metadata": {},
   "source": [
    "# 3. Decision Tree Fitting"
   ]
  },
  {
   "cell_type": "code",
   "execution_count": 19,
   "id": "b275a8e0",
   "metadata": {},
   "outputs": [],
   "source": [
    "from pyspark.ml.feature import VectorAssembler\n",
    "\n",
    "features = [col for col in result.columns if col != \"rating\"]\n",
    "target_column = \"rating\"\n",
    "assembler = VectorAssembler(inputCols=features, outputCol=\"features\")\n",
    "data = assembler.transform(result)\n",
    "\n",
    "(training, test) = data.randomSplit([0.8, 0.2])"
   ]
  },
  {
   "cell_type": "code",
   "execution_count": 20,
   "id": "8de6a667",
   "metadata": {},
   "outputs": [],
   "source": [
    "dt = ml.regression.DecisionTreeRegressor(featuresCol=\"features\", labelCol=target_column)"
   ]
  },
  {
   "cell_type": "code",
   "execution_count": 21,
   "id": "9ced0a06",
   "metadata": {},
   "outputs": [],
   "source": [
    "dt_model = dt.fit(training)"
   ]
  },
  {
   "cell_type": "code",
   "execution_count": 22,
   "id": "7718744d",
   "metadata": {},
   "outputs": [],
   "source": [
    "train_predictions = dt_model.transform(training)\n",
    "test_predictions = dt_model.transform(test)"
   ]
  },
  {
   "cell_type": "code",
   "execution_count": 23,
   "id": "b037d667",
   "metadata": {},
   "outputs": [
    {
     "name": "stdout",
     "output_type": "stream",
     "text": [
      "+------+------------------+\n",
      "|rating|        prediction|\n",
      "+------+------------------+\n",
      "|     1|3.9974596061600605|\n",
      "|     1|3.9974596061600605|\n",
      "|     1|3.9974596061600605|\n",
      "|     1| 3.793036564756491|\n",
      "|     1|3.5553030529557756|\n",
      "|     1|2.8111257695690415|\n",
      "|     1| 3.742429047090534|\n",
      "|     1|3.6878450949247408|\n",
      "|     1|3.0849264444602373|\n",
      "|     1|3.6878450949247408|\n",
      "|     1|3.6878450949247408|\n",
      "|     1| 3.742429047090534|\n",
      "|     1| 3.742429047090534|\n",
      "|     1|  2.49693094629156|\n",
      "|     1|  2.49693094629156|\n",
      "|     1|  2.49693094629156|\n",
      "|     1|2.0086379762455655|\n",
      "|     1|  2.49693094629156|\n",
      "|     1|3.0849264444602373|\n",
      "|     1|  2.49693094629156|\n",
      "+------+------------------+\n",
      "only showing top 20 rows\n",
      "\n"
     ]
    }
   ],
   "source": [
    "train_predictions.select([\"rating\", \"prediction\"]).show()"
   ]
  },
  {
   "cell_type": "code",
   "execution_count": 24,
   "id": "05428f85",
   "metadata": {},
   "outputs": [
    {
     "name": "stdout",
     "output_type": "stream",
     "text": [
      "For Decision Tree method, RMSE for training = 0.9222323671323646, while for testing = 0.9247089186752446\n"
     ]
    }
   ],
   "source": [
    "import pyspark.ml.evaluation as evaluation\n",
    "\n",
    "evaluator = evaluation.RegressionEvaluator(metricName=\"rmse\", labelCol=\"rating\", predictionCol=\"prediction\")\n",
    "\n",
    "train_rmse = evaluator.evaluate(train_predictions)\n",
    "test_rmse = evaluator.evaluate(test_predictions)\n",
    "\n",
    "print(f\"For Decision Tree method, RMSE for training = {train_rmse}, while for testing = {test_rmse}\" )"
   ]
  },
  {
   "cell_type": "markdown",
   "id": "c251a38c",
   "metadata": {},
   "source": [
    "## 3.1. Grid search for Hyperparameters"
   ]
  },
  {
   "cell_type": "code",
   "execution_count": null,
   "id": "b48401c7",
   "metadata": {},
   "outputs": [],
   "source": [
    "results = {\n",
    "    \"maxDepth\": [],\n",
    "    \"train_rmse\": [],\n",
    "    \"test_rmse\": []\n",
    "}\n",
    "\n",
    "for maxDepth in [5, 10, 15]:\n",
    "    dt = ml.regression.DecisionTreeRegressor(featuresCol=\"features\", labelCol=target_column, maxDepth=maxDepth)\n",
    "\n",
    "    model = dt.fit(training)\n",
    "\n",
    "    train_predictions = model.transform(training)\n",
    "    test_predictions = model.transform(test)\n",
    "\n",
    "    results[\"maxDepth\"].append(maxDepth)\n",
    "    results[\"train_rmse\"].append(evaluator.evaluate(train_predictions))\n",
    "    results[\"test_rmse\"].append(evaluator.evaluate(test_predictions))"
   ]
  },
  {
   "cell_type": "code",
   "execution_count": null,
   "id": "25428e81",
   "metadata": {},
   "outputs": [],
   "source": [
    "results = pd.DataFrame(results)\n",
    "results"
   ]
  },
  {
   "cell_type": "code",
   "execution_count": null,
   "id": "5d8661cd",
   "metadata": {},
   "outputs": [],
   "source": [
    "results[results[\"test_rmse\"] == results[\"test_rmse\"].min()]"
   ]
  },
  {
   "cell_type": "code",
   "execution_count": null,
   "id": "5217b559",
   "metadata": {},
   "outputs": [],
   "source": [
    "results.to_csv(\"./decision_tree.csv\", header=True, index=False)"
   ]
  },
  {
   "cell_type": "markdown",
   "id": "81b7bd06",
   "metadata": {},
   "source": [
    "# 4. Random Forest Fitting"
   ]
  },
  {
   "cell_type": "code",
   "execution_count": null,
   "id": "51056356",
   "metadata": {},
   "outputs": [],
   "source": [
    "rf = ml.regression.RandomForestRegressor(featuresCol=\"features\", labelCol=target_column)"
   ]
  },
  {
   "cell_type": "code",
   "execution_count": null,
   "id": "02e72566",
   "metadata": {},
   "outputs": [],
   "source": [
    "rf_model = rf.fit(training)"
   ]
  },
  {
   "cell_type": "code",
   "execution_count": null,
   "id": "071dbe78",
   "metadata": {},
   "outputs": [],
   "source": [
    "train_predictions = rf_model.transform(training)\n",
    "test_predictions = rf_model.transform(test)"
   ]
  },
  {
   "cell_type": "code",
   "execution_count": null,
   "id": "1410158f",
   "metadata": {},
   "outputs": [],
   "source": [
    "train_predictions.select([\"rating\", \"prediction\"]).show()"
   ]
  },
  {
   "cell_type": "code",
   "execution_count": null,
   "id": "0e91ec70",
   "metadata": {},
   "outputs": [],
   "source": [
    "import pyspark.ml.evaluation as evaluation\n",
    "\n",
    "evaluator = evaluation.RegressionEvaluator(metricName=\"rmse\", labelCol=\"rating\", predictionCol=\"prediction\")\n",
    "\n",
    "train_rmse = evaluator.evaluate(train_predictions)\n",
    "test_rmse = evaluator.evaluate(test_predictions)\n",
    "\n",
    "print(f\"For Decision Tree method, RMSE for training = {train_rmse}, while for testing = {test_rmse}\" )"
   ]
  },
  {
   "cell_type": "markdown",
   "id": "86d8ab9d",
   "metadata": {},
   "source": [
    "## 4.1. Grid search for Regularization"
   ]
  },
  {
   "cell_type": "code",
   "execution_count": null,
   "id": "6d79cd2e",
   "metadata": {},
   "outputs": [],
   "source": [
    "results = {\n",
    "    \"numTrees\": [],\n",
    "    \"maxDepth\": [],\n",
    "    \"train_rmse\": [],\n",
    "    \"test_rmse\": []\n",
    "}\n",
    "\n",
    "for numTrees in range(5, 35, 5):\n",
    "    for maxDepth in [5, 10, 15]:\n",
    "        rf = ml.regression.RandomForestRegressor(featuresCol=\"features\", \n",
    "                                                 labelCol=target_column, \n",
    "                                                 maxDepth=maxDepth,\n",
    "                                                 numTrees=numTrees\n",
    "                                                )\n",
    "\n",
    "        model = rf.fit(training)\n",
    "\n",
    "        train_predictions = model.transform(training)\n",
    "        test_predictions = model.transform(test)\n",
    "\n",
    "        results[\"maxDepth\"].append(maxDepth)\n",
    "        results[\"numTrees\"].append(numTrees)\n",
    "        results[\"train_rmse\"].append(evaluator.evaluate(train_predictions))\n",
    "        results[\"test_rmse\"].append(evaluator.evaluate(test_predictions))"
   ]
  },
  {
   "cell_type": "code",
   "execution_count": null,
   "id": "342036d4",
   "metadata": {},
   "outputs": [],
   "source": [
    "results = pd.DataFrame(results)\n",
    "results"
   ]
  },
  {
   "cell_type": "code",
   "execution_count": null,
   "id": "51bc1983",
   "metadata": {},
   "outputs": [],
   "source": [
    "results[results[\"test_rmse\"] == results[\"test_rmse\"].min()]"
   ]
  },
  {
   "cell_type": "code",
   "execution_count": null,
   "id": "876d0730",
   "metadata": {},
   "outputs": [],
   "source": [
    "results.to_csv(\"./random_forest.csv\", header=True, index=False)"
   ]
  }
 ],
 "metadata": {
  "kernelspec": {
   "display_name": "Python 3 (ipykernel)",
   "language": "python",
   "name": "python3"
  },
  "language_info": {
   "codemirror_mode": {
    "name": "ipython",
    "version": 3
   },
   "file_extension": ".py",
   "mimetype": "text/x-python",
   "name": "python",
   "nbconvert_exporter": "python",
   "pygments_lexer": "ipython3",
   "version": "3.9.18"
  }
 },
 "nbformat": 4,
 "nbformat_minor": 5
}
