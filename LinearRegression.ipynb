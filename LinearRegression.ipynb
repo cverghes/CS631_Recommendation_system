{
 "cells": [
  {
   "cell_type": "markdown",
   "id": "0f485487",
   "metadata": {},
   "source": [
    "# 1. Data Loading & Formatting"
   ]
  },
  {
   "cell_type": "code",
   "execution_count": 1,
   "id": "4024d979",
   "metadata": {},
   "outputs": [],
   "source": [
    "import os\n",
    "import sys\n",
    "import pandas as pd\n",
    "import numpy as np\n",
    "import pyspark\n",
    "from pyspark.sql import SparkSession\n",
    "import pyspark.ml as ml\n",
    "\n",
    "os.environ['PYSPARK_PYTHON'] = sys.executable\n",
    "os.environ['PYSPARK_DRIVER_PYTHON'] = sys.executable\n",
    "from pyspark.sql.types import StringType, IntegerType"
   ]
  },
  {
   "cell_type": "code",
   "execution_count": 2,
   "id": "ee4f15c3",
   "metadata": {},
   "outputs": [],
   "source": [
    "spark = SparkSession.builder.appName(\"YourAppName\").getOrCreate()"
   ]
  },
  {
   "cell_type": "code",
   "execution_count": 3,
   "id": "58cf9bee",
   "metadata": {},
   "outputs": [],
   "source": [
    "def load_dfs():\n",
    "    global movies, users, ratings\n",
    "    movies = spark.read.csv(\"./Data/cleaned_data/pivoted_movies_features.csv\", encoding=\"latin1\", header=True).cache()\n",
    "    movies.createOrReplaceTempView(\"movies_info\")\n",
    "    \n",
    "    users = spark.read.csv(\"./Data/cleaned_data/pivoted_users_features.csv\", encoding=\"latin1\", header=True).cache()\n",
    "    users.createOrReplaceTempView(\"users_info\")\n",
    "    \n",
    "    ratings = spark.read.csv(\"./Data/movieLens/ratings.dat\", sep=\"::\", encoding=\"latin1\")\n",
    "    ratings = ratings.toDF(\"user_id\", \"movie_id\", \"rating\", \"time_stamp\").cache()\n",
    "    ratings.createOrReplaceTempView(\"ratings_info\")"
   ]
  },
  {
   "cell_type": "code",
   "execution_count": 4,
   "id": "662f872e",
   "metadata": {},
   "outputs": [],
   "source": [
    "load_dfs()"
   ]
  },
  {
   "cell_type": "code",
   "execution_count": 5,
   "id": "3eb394f1",
   "metadata": {},
   "outputs": [
    {
     "name": "stdout",
     "output_type": "stream",
     "text": [
      "root\n",
      " |-- movie_id: string (nullable = true)\n",
      " |-- year: string (nullable = true)\n",
      " |-- watches: string (nullable = true)\n",
      " |-- avg_rating: string (nullable = true)\n",
      " |-- popularity_per_Action: string (nullable = true)\n",
      " |-- popularity_per_Adventure: string (nullable = true)\n",
      " |-- popularity_per_Animation: string (nullable = true)\n",
      " |-- popularity_per_Children's: string (nullable = true)\n",
      " |-- popularity_per_Comedy: string (nullable = true)\n",
      " |-- popularity_per_Crime: string (nullable = true)\n",
      " |-- popularity_per_Documentary: string (nullable = true)\n",
      " |-- popularity_per_Drama: string (nullable = true)\n",
      " |-- popularity_per_Fantasy: string (nullable = true)\n",
      " |-- popularity_per_Film-Noir: string (nullable = true)\n",
      " |-- popularity_per_Horror: string (nullable = true)\n",
      " |-- popularity_per_Musical: string (nullable = true)\n",
      " |-- popularity_per_Mystery: string (nullable = true)\n",
      " |-- popularity_per_Romance: string (nullable = true)\n",
      " |-- popularity_per_Sci-Fi: string (nullable = true)\n",
      " |-- popularity_per_Thriller: string (nullable = true)\n",
      " |-- popularity_per_War: string (nullable = true)\n",
      " |-- popularity_per_Western: string (nullable = true)\n",
      " |-- rating_per_Action: string (nullable = true)\n",
      " |-- rating_per_Adventure: string (nullable = true)\n",
      " |-- rating_per_Animation: string (nullable = true)\n",
      " |-- rating_per_Children's: string (nullable = true)\n",
      " |-- rating_per_Comedy: string (nullable = true)\n",
      " |-- rating_per_Crime: string (nullable = true)\n",
      " |-- rating_per_Documentary: string (nullable = true)\n",
      " |-- rating_per_Drama: string (nullable = true)\n",
      " |-- rating_per_Fantasy: string (nullable = true)\n",
      " |-- rating_per_Film-Noir: string (nullable = true)\n",
      " |-- rating_per_Horror: string (nullable = true)\n",
      " |-- rating_per_Musical: string (nullable = true)\n",
      " |-- rating_per_Mystery: string (nullable = true)\n",
      " |-- rating_per_Romance: string (nullable = true)\n",
      " |-- rating_per_Sci-Fi: string (nullable = true)\n",
      " |-- rating_per_Thriller: string (nullable = true)\n",
      " |-- rating_per_War: string (nullable = true)\n",
      " |-- rating_per_Western: string (nullable = true)\n",
      "\n"
     ]
    }
   ],
   "source": [
    "movies.printSchema()"
   ]
  },
  {
   "cell_type": "code",
   "execution_count": 6,
   "id": "26d1c0b4",
   "metadata": {},
   "outputs": [],
   "source": [
    "for col in movies.columns:\n",
    "    if col in [\"movie_id\", \"year\", \"watches\"]:\n",
    "        movies = movies.withColumn(col, movies[col].cast(IntegerType()))\n",
    "    else:\n",
    "        movies = movies.withColumn(col, movies[col].cast(\"float\"))"
   ]
  },
  {
   "cell_type": "code",
   "execution_count": 7,
   "id": "90019ba7",
   "metadata": {},
   "outputs": [],
   "source": [
    "movies = movies.withColumnRenamed(\"avg_rating\", \"avg_movie_rating\")\n",
    "movies = movies.withColumnRenamed(\"year\", \"production_year\")"
   ]
  },
  {
   "cell_type": "code",
   "execution_count": 8,
   "id": "3c1a005e",
   "metadata": {},
   "outputs": [
    {
     "name": "stdout",
     "output_type": "stream",
     "text": [
      "root\n",
      " |-- user_id: string (nullable = true)\n",
      " |-- gender: string (nullable = true)\n",
      " |-- age: string (nullable = true)\n",
      " |-- region: string (nullable = true)\n",
      " |-- avg_rating: string (nullable = true)\n",
      " |-- watched_movies: string (nullable = true)\n",
      " |-- avg_rating_for_Action: string (nullable = true)\n",
      " |-- avg_rating_for_Adventure: string (nullable = true)\n",
      " |-- avg_rating_for_Animation: string (nullable = true)\n",
      " |-- avg_rating_for_Children's: string (nullable = true)\n",
      " |-- avg_rating_for_Comedy: string (nullable = true)\n",
      " |-- avg_rating_for_Crime: string (nullable = true)\n",
      " |-- avg_rating_for_Documentary: string (nullable = true)\n",
      " |-- avg_rating_for_Drama: string (nullable = true)\n",
      " |-- avg_rating_for_Fantasy: string (nullable = true)\n",
      " |-- avg_rating_for_Film-Noir: string (nullable = true)\n",
      " |-- avg_rating_for_Horror: string (nullable = true)\n",
      " |-- avg_rating_for_Musical: string (nullable = true)\n",
      " |-- avg_rating_for_Mystery: string (nullable = true)\n",
      " |-- avg_rating_for_Romance: string (nullable = true)\n",
      " |-- avg_rating_for_Sci-Fi: string (nullable = true)\n",
      " |-- avg_rating_for_Thriller: string (nullable = true)\n",
      " |-- avg_rating_for_War: string (nullable = true)\n",
      " |-- avg_rating_for_Western: string (nullable = true)\n",
      " |-- other: string (nullable = true)\n",
      " |-- academic/educator: string (nullable = true)\n",
      " |-- artist: string (nullable = true)\n",
      " |-- clerical/admin: string (nullable = true)\n",
      " |-- college/grad student: string (nullable = true)\n",
      " |-- customer service: string (nullable = true)\n",
      " |-- doctor/health care: string (nullable = true)\n",
      " |-- executive/managerial: string (nullable = true)\n",
      " |-- farmer: string (nullable = true)\n",
      " |-- homemaker: string (nullable = true)\n",
      " |-- K-12 student: string (nullable = true)\n",
      " |-- lawyer: string (nullable = true)\n",
      " |-- programmer: string (nullable = true)\n",
      " |-- retired: string (nullable = true)\n",
      " |-- sales/marketing: string (nullable = true)\n",
      " |-- scientist: string (nullable = true)\n",
      " |-- self-employed: string (nullable = true)\n",
      " |-- technician/engineer: string (nullable = true)\n",
      " |-- tradesman/craftsman: string (nullable = true)\n",
      " |-- unemployed: string (nullable = true)\n",
      " |-- writer: string (nullable = true)\n",
      " |-- year: string (nullable = true)\n",
      "\n"
     ]
    }
   ],
   "source": [
    "users.printSchema()"
   ]
  },
  {
   "cell_type": "code",
   "execution_count": 9,
   "id": "5b2f86ea",
   "metadata": {},
   "outputs": [],
   "source": [
    "for col in users.columns:\n",
    "    if col in [\"user_id\", \"gender\", \"age\", \"region\", \"age\", \"region\", \"watched_movies\"]:\n",
    "        users = users.withColumn(col, users[col].cast(IntegerType()))\n",
    "    else:\n",
    "        users = users.withColumn(col, users[col].cast(\"float\"))"
   ]
  },
  {
   "cell_type": "code",
   "execution_count": 10,
   "id": "d9f185e2",
   "metadata": {},
   "outputs": [],
   "source": [
    "users = users.withColumnRenamed(\"avg_rating\", \"avg_user_rating\")\n",
    "users = users.withColumnRenamed(\"year\", \"favorite_movies_year\")"
   ]
  },
  {
   "cell_type": "code",
   "execution_count": 11,
   "id": "a5ee20ec",
   "metadata": {},
   "outputs": [
    {
     "name": "stdout",
     "output_type": "stream",
     "text": [
      "root\n",
      " |-- user_id: string (nullable = true)\n",
      " |-- movie_id: string (nullable = true)\n",
      " |-- rating: string (nullable = true)\n",
      " |-- time_stamp: string (nullable = true)\n",
      "\n"
     ]
    }
   ],
   "source": [
    "ratings.printSchema()"
   ]
  },
  {
   "cell_type": "code",
   "execution_count": 12,
   "id": "3448ac57",
   "metadata": {},
   "outputs": [],
   "source": [
    "for col in ratings.columns:\n",
    "    ratings = ratings.withColumn(col, ratings[col].cast(IntegerType()))"
   ]
  },
  {
   "cell_type": "code",
   "execution_count": 13,
   "id": "20cccb72",
   "metadata": {},
   "outputs": [],
   "source": [
    "movies.createOrReplaceTempView(\"movies_info\")\n",
    "users.createOrReplaceTempView(\"users_info\")\n",
    "ratings.createOrReplaceTempView(\"ratings_info\")"
   ]
  },
  {
   "cell_type": "code",
   "execution_count": 14,
   "id": "8b295a82",
   "metadata": {},
   "outputs": [
    {
     "name": "stdout",
     "output_type": "stream",
     "text": [
      "root\n",
      " |-- movie_id: integer (nullable = true)\n",
      " |-- user_id: integer (nullable = true)\n",
      " |-- rating: integer (nullable = true)\n",
      " |-- time_stamp: integer (nullable = true)\n",
      " |-- gender: integer (nullable = true)\n",
      " |-- age: integer (nullable = true)\n",
      " |-- region: integer (nullable = true)\n",
      " |-- avg_user_rating: float (nullable = true)\n",
      " |-- watched_movies: integer (nullable = true)\n",
      " |-- avg_rating_for_Action: float (nullable = true)\n",
      " |-- avg_rating_for_Adventure: float (nullable = true)\n",
      " |-- avg_rating_for_Animation: float (nullable = true)\n",
      " |-- avg_rating_for_Children's: float (nullable = true)\n",
      " |-- avg_rating_for_Comedy: float (nullable = true)\n",
      " |-- avg_rating_for_Crime: float (nullable = true)\n",
      " |-- avg_rating_for_Documentary: float (nullable = true)\n",
      " |-- avg_rating_for_Drama: float (nullable = true)\n",
      " |-- avg_rating_for_Fantasy: float (nullable = true)\n",
      " |-- avg_rating_for_Film-Noir: float (nullable = true)\n",
      " |-- avg_rating_for_Horror: float (nullable = true)\n",
      " |-- avg_rating_for_Musical: float (nullable = true)\n",
      " |-- avg_rating_for_Mystery: float (nullable = true)\n",
      " |-- avg_rating_for_Romance: float (nullable = true)\n",
      " |-- avg_rating_for_Sci-Fi: float (nullable = true)\n",
      " |-- avg_rating_for_Thriller: float (nullable = true)\n",
      " |-- avg_rating_for_War: float (nullable = true)\n",
      " |-- avg_rating_for_Western: float (nullable = true)\n",
      " |-- other: float (nullable = true)\n",
      " |-- academic/educator: float (nullable = true)\n",
      " |-- artist: float (nullable = true)\n",
      " |-- clerical/admin: float (nullable = true)\n",
      " |-- college/grad student: float (nullable = true)\n",
      " |-- customer service: float (nullable = true)\n",
      " |-- doctor/health care: float (nullable = true)\n",
      " |-- executive/managerial: float (nullable = true)\n",
      " |-- farmer: float (nullable = true)\n",
      " |-- homemaker: float (nullable = true)\n",
      " |-- K-12 student: float (nullable = true)\n",
      " |-- lawyer: float (nullable = true)\n",
      " |-- programmer: float (nullable = true)\n",
      " |-- retired: float (nullable = true)\n",
      " |-- sales/marketing: float (nullable = true)\n",
      " |-- scientist: float (nullable = true)\n",
      " |-- self-employed: float (nullable = true)\n",
      " |-- technician/engineer: float (nullable = true)\n",
      " |-- tradesman/craftsman: float (nullable = true)\n",
      " |-- unemployed: float (nullable = true)\n",
      " |-- writer: float (nullable = true)\n",
      " |-- favorite_movies_year: float (nullable = true)\n",
      " |-- production_year: integer (nullable = true)\n",
      " |-- watches: integer (nullable = true)\n",
      " |-- avg_movie_rating: float (nullable = true)\n",
      " |-- popularity_per_Action: float (nullable = true)\n",
      " |-- popularity_per_Adventure: float (nullable = true)\n",
      " |-- popularity_per_Animation: float (nullable = true)\n",
      " |-- popularity_per_Children's: float (nullable = true)\n",
      " |-- popularity_per_Comedy: float (nullable = true)\n",
      " |-- popularity_per_Crime: float (nullable = true)\n",
      " |-- popularity_per_Documentary: float (nullable = true)\n",
      " |-- popularity_per_Drama: float (nullable = true)\n",
      " |-- popularity_per_Fantasy: float (nullable = true)\n",
      " |-- popularity_per_Film-Noir: float (nullable = true)\n",
      " |-- popularity_per_Horror: float (nullable = true)\n",
      " |-- popularity_per_Musical: float (nullable = true)\n",
      " |-- popularity_per_Mystery: float (nullable = true)\n",
      " |-- popularity_per_Romance: float (nullable = true)\n",
      " |-- popularity_per_Sci-Fi: float (nullable = true)\n",
      " |-- popularity_per_Thriller: float (nullable = true)\n",
      " |-- popularity_per_War: float (nullable = true)\n",
      " |-- popularity_per_Western: float (nullable = true)\n",
      " |-- rating_per_Action: float (nullable = true)\n",
      " |-- rating_per_Adventure: float (nullable = true)\n",
      " |-- rating_per_Animation: float (nullable = true)\n",
      " |-- rating_per_Children's: float (nullable = true)\n",
      " |-- rating_per_Comedy: float (nullable = true)\n",
      " |-- rating_per_Crime: float (nullable = true)\n",
      " |-- rating_per_Documentary: float (nullable = true)\n",
      " |-- rating_per_Drama: float (nullable = true)\n",
      " |-- rating_per_Fantasy: float (nullable = true)\n",
      " |-- rating_per_Film-Noir: float (nullable = true)\n",
      " |-- rating_per_Horror: float (nullable = true)\n",
      " |-- rating_per_Musical: float (nullable = true)\n",
      " |-- rating_per_Mystery: float (nullable = true)\n",
      " |-- rating_per_Romance: float (nullable = true)\n",
      " |-- rating_per_Sci-Fi: float (nullable = true)\n",
      " |-- rating_per_Thriller: float (nullable = true)\n",
      " |-- rating_per_War: float (nullable = true)\n",
      " |-- rating_per_Western: float (nullable = true)\n",
      "\n"
     ]
    }
   ],
   "source": [
    "query = \"\"\"\n",
    "        SELECT *\n",
    "        FROM (ratings_info INNER JOIN users_info USING (user_id)) INNER JOIN movies_info USING (movie_id)\n",
    "\"\"\"\n",
    "\n",
    "result = spark.sql(query)\n",
    "result.printSchema()"
   ]
  },
  {
   "cell_type": "code",
   "execution_count": 15,
   "id": "b5e62a1f",
   "metadata": {},
   "outputs": [],
   "source": [
    "result = result.drop(\"movie_id\", \"user_id\", \"time_stamp\")"
   ]
  },
  {
   "cell_type": "code",
   "execution_count": 16,
   "id": "88071539",
   "metadata": {},
   "outputs": [],
   "source": [
    "from pyspark.ml.feature import VectorAssembler\n",
    "\n",
    "features = [col for col in result.columns if col != \"rating\"]\n",
    "target_column = \"rating\"\n",
    "assembler = VectorAssembler(inputCols=features, outputCol=\"features\")\n",
    "data = assembler.transform(result)"
   ]
  },
  {
   "cell_type": "code",
   "execution_count": 17,
   "id": "67da5cb8",
   "metadata": {},
   "outputs": [
    {
     "name": "stdout",
     "output_type": "stream",
     "text": [
      "root\n",
      " |-- rating: integer (nullable = true)\n",
      " |-- gender: integer (nullable = true)\n",
      " |-- age: integer (nullable = true)\n",
      " |-- region: integer (nullable = true)\n",
      " |-- avg_user_rating: float (nullable = true)\n",
      " |-- watched_movies: integer (nullable = true)\n",
      " |-- avg_rating_for_Action: float (nullable = true)\n",
      " |-- avg_rating_for_Adventure: float (nullable = true)\n",
      " |-- avg_rating_for_Animation: float (nullable = true)\n",
      " |-- avg_rating_for_Children's: float (nullable = true)\n",
      " |-- avg_rating_for_Comedy: float (nullable = true)\n",
      " |-- avg_rating_for_Crime: float (nullable = true)\n",
      " |-- avg_rating_for_Documentary: float (nullable = true)\n",
      " |-- avg_rating_for_Drama: float (nullable = true)\n",
      " |-- avg_rating_for_Fantasy: float (nullable = true)\n",
      " |-- avg_rating_for_Film-Noir: float (nullable = true)\n",
      " |-- avg_rating_for_Horror: float (nullable = true)\n",
      " |-- avg_rating_for_Musical: float (nullable = true)\n",
      " |-- avg_rating_for_Mystery: float (nullable = true)\n",
      " |-- avg_rating_for_Romance: float (nullable = true)\n",
      " |-- avg_rating_for_Sci-Fi: float (nullable = true)\n",
      " |-- avg_rating_for_Thriller: float (nullable = true)\n",
      " |-- avg_rating_for_War: float (nullable = true)\n",
      " |-- avg_rating_for_Western: float (nullable = true)\n",
      " |-- other: float (nullable = true)\n",
      " |-- academic/educator: float (nullable = true)\n",
      " |-- artist: float (nullable = true)\n",
      " |-- clerical/admin: float (nullable = true)\n",
      " |-- college/grad student: float (nullable = true)\n",
      " |-- customer service: float (nullable = true)\n",
      " |-- doctor/health care: float (nullable = true)\n",
      " |-- executive/managerial: float (nullable = true)\n",
      " |-- farmer: float (nullable = true)\n",
      " |-- homemaker: float (nullable = true)\n",
      " |-- K-12 student: float (nullable = true)\n",
      " |-- lawyer: float (nullable = true)\n",
      " |-- programmer: float (nullable = true)\n",
      " |-- retired: float (nullable = true)\n",
      " |-- sales/marketing: float (nullable = true)\n",
      " |-- scientist: float (nullable = true)\n",
      " |-- self-employed: float (nullable = true)\n",
      " |-- technician/engineer: float (nullable = true)\n",
      " |-- tradesman/craftsman: float (nullable = true)\n",
      " |-- unemployed: float (nullable = true)\n",
      " |-- writer: float (nullable = true)\n",
      " |-- favorite_movies_year: float (nullable = true)\n",
      " |-- production_year: integer (nullable = true)\n",
      " |-- watches: integer (nullable = true)\n",
      " |-- avg_movie_rating: float (nullable = true)\n",
      " |-- popularity_per_Action: float (nullable = true)\n",
      " |-- popularity_per_Adventure: float (nullable = true)\n",
      " |-- popularity_per_Animation: float (nullable = true)\n",
      " |-- popularity_per_Children's: float (nullable = true)\n",
      " |-- popularity_per_Comedy: float (nullable = true)\n",
      " |-- popularity_per_Crime: float (nullable = true)\n",
      " |-- popularity_per_Documentary: float (nullable = true)\n",
      " |-- popularity_per_Drama: float (nullable = true)\n",
      " |-- popularity_per_Fantasy: float (nullable = true)\n",
      " |-- popularity_per_Film-Noir: float (nullable = true)\n",
      " |-- popularity_per_Horror: float (nullable = true)\n",
      " |-- popularity_per_Musical: float (nullable = true)\n",
      " |-- popularity_per_Mystery: float (nullable = true)\n",
      " |-- popularity_per_Romance: float (nullable = true)\n",
      " |-- popularity_per_Sci-Fi: float (nullable = true)\n",
      " |-- popularity_per_Thriller: float (nullable = true)\n",
      " |-- popularity_per_War: float (nullable = true)\n",
      " |-- popularity_per_Western: float (nullable = true)\n",
      " |-- rating_per_Action: float (nullable = true)\n",
      " |-- rating_per_Adventure: float (nullable = true)\n",
      " |-- rating_per_Animation: float (nullable = true)\n",
      " |-- rating_per_Children's: float (nullable = true)\n",
      " |-- rating_per_Comedy: float (nullable = true)\n",
      " |-- rating_per_Crime: float (nullable = true)\n",
      " |-- rating_per_Documentary: float (nullable = true)\n",
      " |-- rating_per_Drama: float (nullable = true)\n",
      " |-- rating_per_Fantasy: float (nullable = true)\n",
      " |-- rating_per_Film-Noir: float (nullable = true)\n",
      " |-- rating_per_Horror: float (nullable = true)\n",
      " |-- rating_per_Musical: float (nullable = true)\n",
      " |-- rating_per_Mystery: float (nullable = true)\n",
      " |-- rating_per_Romance: float (nullable = true)\n",
      " |-- rating_per_Sci-Fi: float (nullable = true)\n",
      " |-- rating_per_Thriller: float (nullable = true)\n",
      " |-- rating_per_War: float (nullable = true)\n",
      " |-- rating_per_Western: float (nullable = true)\n",
      " |-- features: vector (nullable = true)\n",
      "\n"
     ]
    }
   ],
   "source": [
    "data.printSchema()"
   ]
  },
  {
   "cell_type": "markdown",
   "id": "a814255e",
   "metadata": {},
   "source": [
    "# 2. Train-Test Split"
   ]
  },
  {
   "cell_type": "code",
   "execution_count": 18,
   "id": "35178fef",
   "metadata": {},
   "outputs": [],
   "source": [
    "(training, test) = data.randomSplit([0.8, 0.2])"
   ]
  },
  {
   "cell_type": "markdown",
   "id": "120c8216",
   "metadata": {},
   "source": [
    "# 3. Linear Regression Fitting"
   ]
  },
  {
   "cell_type": "code",
   "execution_count": 19,
   "id": "592fea67",
   "metadata": {},
   "outputs": [],
   "source": [
    "lr = ml.regression.LinearRegression(featuresCol=\"features\", labelCol=target_column, regParam=0.3, elasticNetParam=0.8)"
   ]
  },
  {
   "cell_type": "code",
   "execution_count": 20,
   "id": "d8bf4b60",
   "metadata": {},
   "outputs": [],
   "source": [
    "lr_model = lr.fit(training)"
   ]
  },
  {
   "cell_type": "code",
   "execution_count": 21,
   "id": "bad2fa7d",
   "metadata": {},
   "outputs": [],
   "source": [
    "train_predictions = lr_model.transform(training)\n",
    "test_predictions = lr_model.transform(test)"
   ]
  },
  {
   "cell_type": "code",
   "execution_count": 22,
   "id": "7e3e29a8",
   "metadata": {},
   "outputs": [
    {
     "name": "stdout",
     "output_type": "stream",
     "text": [
      "+------+------------------+\n",
      "|rating|        prediction|\n",
      "+------+------------------+\n",
      "|     1|3.1845266396817546|\n",
      "|     1|3.8419226683188663|\n",
      "|     1|3.7902606321505443|\n",
      "|     1| 3.798528255468794|\n",
      "|     1| 3.776635867538622|\n",
      "|     1|3.4523816691381777|\n",
      "|     1| 3.644434201423679|\n",
      "|     1| 3.545338504311424|\n",
      "|     1|  3.30996552347474|\n",
      "|     1|3.5581640914754376|\n",
      "|     1|3.6206323214036846|\n",
      "|     1|3.6986150880706763|\n",
      "|     1|3.7308130594719744|\n",
      "|     1|  2.99173583143161|\n",
      "|     1| 3.074394189793842|\n",
      "|     1|3.0176331016721676|\n",
      "|     1| 2.917751027789741|\n",
      "|     1| 3.332640367246767|\n",
      "|     1|3.0128860106958744|\n",
      "|     1| 3.042390650308441|\n",
      "+------+------------------+\n",
      "only showing top 20 rows\n",
      "\n"
     ]
    }
   ],
   "source": [
    "train_predictions.select([\"rating\", \"prediction\"]).show()"
   ]
  },
  {
   "cell_type": "code",
   "execution_count": 23,
   "id": "bfd1a488",
   "metadata": {},
   "outputs": [
    {
     "name": "stdout",
     "output_type": "stream",
     "text": [
      "For Linear regression method, RMSE for training = 0.9712509151951974, while for testing = 0.9715031030097021\n"
     ]
    }
   ],
   "source": [
    "import pyspark.ml.evaluation as evaluation\n",
    "\n",
    "evaluator = evaluation.RegressionEvaluator(metricName=\"rmse\", labelCol=\"rating\", predictionCol=\"prediction\")\n",
    "\n",
    "train_rmse = evaluator.evaluate(train_predictions)\n",
    "test_rmse = evaluator.evaluate(test_predictions)\n",
    "\n",
    "print(f\"For Linear regression method, RMSE for training = {train_rmse}, while for testing = {test_rmse}\" )"
   ]
  },
  {
   "cell_type": "markdown",
   "id": "0ef980d4",
   "metadata": {},
   "source": [
    "## 3.1. Grid search for Regularization"
   ]
  },
  {
   "cell_type": "code",
   "execution_count": 24,
   "id": "b332ce27",
   "metadata": {},
   "outputs": [],
   "source": [
    "results = {\n",
    "    \"regularization\": [],\n",
    "    \"elasticNet\": [],\n",
    "    \"train_rmse\": [],\n",
    "    \"test_rmse\": []\n",
    "}\n",
    "\n",
    "for regularization in [0, 0.01, 0.05, 0.1, 0.25, 0.5, 0.75, 1]:\n",
    "    for elasticNet in [0, 0.01, 0.05, 0.1, 0.25, 0.5, 0.75, 1]:\n",
    "        lr = ml.regression.LinearRegression(featuresCol=\"features\", \n",
    "                                            labelCol=target_column, \n",
    "                                            regParam=regularization, \n",
    "                                            elasticNetParam=elasticNet)\n",
    "\n",
    "        model = lr.fit(training)\n",
    "        \n",
    "        train_predictions = model.transform(training)\n",
    "        test_predictions = model.transform(test)\n",
    "        \n",
    "        results[\"regularization\"].append(regularization)\n",
    "        results[\"elasticNet\"].append(elasticNet)\n",
    "        results[\"train_rmse\"].append(evaluator.evaluate(train_predictions))\n",
    "        results[\"test_rmse\"].append(evaluator.evaluate(test_predictions))"
   ]
  },
  {
   "cell_type": "code",
   "execution_count": 25,
   "id": "de475240",
   "metadata": {},
   "outputs": [
    {
     "data": {
      "text/html": [
       "<div>\n",
       "<style scoped>\n",
       "    .dataframe tbody tr th:only-of-type {\n",
       "        vertical-align: middle;\n",
       "    }\n",
       "\n",
       "    .dataframe tbody tr th {\n",
       "        vertical-align: top;\n",
       "    }\n",
       "\n",
       "    .dataframe thead th {\n",
       "        text-align: right;\n",
       "    }\n",
       "</style>\n",
       "<table border=\"1\" class=\"dataframe\">\n",
       "  <thead>\n",
       "    <tr style=\"text-align: right;\">\n",
       "      <th></th>\n",
       "      <th>regularization</th>\n",
       "      <th>elasticNet</th>\n",
       "      <th>train_rmse</th>\n",
       "      <th>test_rmse</th>\n",
       "    </tr>\n",
       "  </thead>\n",
       "  <tbody>\n",
       "    <tr>\n",
       "      <th>0</th>\n",
       "      <td>0.0</td>\n",
       "      <td>0.00</td>\n",
       "      <td>0.907988</td>\n",
       "      <td>0.907408</td>\n",
       "    </tr>\n",
       "    <tr>\n",
       "      <th>1</th>\n",
       "      <td>0.0</td>\n",
       "      <td>0.01</td>\n",
       "      <td>0.907988</td>\n",
       "      <td>0.907408</td>\n",
       "    </tr>\n",
       "    <tr>\n",
       "      <th>2</th>\n",
       "      <td>0.0</td>\n",
       "      <td>0.05</td>\n",
       "      <td>0.907988</td>\n",
       "      <td>0.907408</td>\n",
       "    </tr>\n",
       "    <tr>\n",
       "      <th>3</th>\n",
       "      <td>0.0</td>\n",
       "      <td>0.10</td>\n",
       "      <td>0.907988</td>\n",
       "      <td>0.907408</td>\n",
       "    </tr>\n",
       "    <tr>\n",
       "      <th>4</th>\n",
       "      <td>0.0</td>\n",
       "      <td>0.25</td>\n",
       "      <td>0.907988</td>\n",
       "      <td>0.907408</td>\n",
       "    </tr>\n",
       "    <tr>\n",
       "      <th>...</th>\n",
       "      <td>...</td>\n",
       "      <td>...</td>\n",
       "      <td>...</td>\n",
       "      <td>...</td>\n",
       "    </tr>\n",
       "    <tr>\n",
       "      <th>59</th>\n",
       "      <td>1.0</td>\n",
       "      <td>0.10</td>\n",
       "      <td>0.960985</td>\n",
       "      <td>0.961378</td>\n",
       "    </tr>\n",
       "    <tr>\n",
       "      <th>60</th>\n",
       "      <td>1.0</td>\n",
       "      <td>0.25</td>\n",
       "      <td>1.010064</td>\n",
       "      <td>1.010573</td>\n",
       "    </tr>\n",
       "    <tr>\n",
       "      <th>61</th>\n",
       "      <td>1.0</td>\n",
       "      <td>0.50</td>\n",
       "      <td>1.101791</td>\n",
       "      <td>1.102478</td>\n",
       "    </tr>\n",
       "    <tr>\n",
       "      <th>62</th>\n",
       "      <td>1.0</td>\n",
       "      <td>0.75</td>\n",
       "      <td>1.116678</td>\n",
       "      <td>1.117423</td>\n",
       "    </tr>\n",
       "    <tr>\n",
       "      <th>63</th>\n",
       "      <td>1.0</td>\n",
       "      <td>1.00</td>\n",
       "      <td>1.116678</td>\n",
       "      <td>1.117423</td>\n",
       "    </tr>\n",
       "  </tbody>\n",
       "</table>\n",
       "<p>64 rows × 4 columns</p>\n",
       "</div>"
      ],
      "text/plain": [
       "    regularization  elasticNet  train_rmse  test_rmse\n",
       "0              0.0        0.00    0.907988   0.907408\n",
       "1              0.0        0.01    0.907988   0.907408\n",
       "2              0.0        0.05    0.907988   0.907408\n",
       "3              0.0        0.10    0.907988   0.907408\n",
       "4              0.0        0.25    0.907988   0.907408\n",
       "..             ...         ...         ...        ...\n",
       "59             1.0        0.10    0.960985   0.961378\n",
       "60             1.0        0.25    1.010064   1.010573\n",
       "61             1.0        0.50    1.101791   1.102478\n",
       "62             1.0        0.75    1.116678   1.117423\n",
       "63             1.0        1.00    1.116678   1.117423\n",
       "\n",
       "[64 rows x 4 columns]"
      ]
     },
     "execution_count": 25,
     "metadata": {},
     "output_type": "execute_result"
    }
   ],
   "source": [
    "results = pd.DataFrame(results)\n",
    "results"
   ]
  },
  {
   "cell_type": "code",
   "execution_count": 26,
   "id": "d2e60813",
   "metadata": {},
   "outputs": [
    {
     "data": {
      "text/html": [
       "<div>\n",
       "<style scoped>\n",
       "    .dataframe tbody tr th:only-of-type {\n",
       "        vertical-align: middle;\n",
       "    }\n",
       "\n",
       "    .dataframe tbody tr th {\n",
       "        vertical-align: top;\n",
       "    }\n",
       "\n",
       "    .dataframe thead th {\n",
       "        text-align: right;\n",
       "    }\n",
       "</style>\n",
       "<table border=\"1\" class=\"dataframe\">\n",
       "  <thead>\n",
       "    <tr style=\"text-align: right;\">\n",
       "      <th></th>\n",
       "      <th>regularization</th>\n",
       "      <th>elasticNet</th>\n",
       "      <th>train_rmse</th>\n",
       "      <th>test_rmse</th>\n",
       "    </tr>\n",
       "  </thead>\n",
       "  <tbody>\n",
       "    <tr>\n",
       "      <th>0</th>\n",
       "      <td>0.0</td>\n",
       "      <td>0.00</td>\n",
       "      <td>0.907988</td>\n",
       "      <td>0.907408</td>\n",
       "    </tr>\n",
       "    <tr>\n",
       "      <th>1</th>\n",
       "      <td>0.0</td>\n",
       "      <td>0.01</td>\n",
       "      <td>0.907988</td>\n",
       "      <td>0.907408</td>\n",
       "    </tr>\n",
       "    <tr>\n",
       "      <th>2</th>\n",
       "      <td>0.0</td>\n",
       "      <td>0.05</td>\n",
       "      <td>0.907988</td>\n",
       "      <td>0.907408</td>\n",
       "    </tr>\n",
       "    <tr>\n",
       "      <th>3</th>\n",
       "      <td>0.0</td>\n",
       "      <td>0.10</td>\n",
       "      <td>0.907988</td>\n",
       "      <td>0.907408</td>\n",
       "    </tr>\n",
       "    <tr>\n",
       "      <th>4</th>\n",
       "      <td>0.0</td>\n",
       "      <td>0.25</td>\n",
       "      <td>0.907988</td>\n",
       "      <td>0.907408</td>\n",
       "    </tr>\n",
       "    <tr>\n",
       "      <th>5</th>\n",
       "      <td>0.0</td>\n",
       "      <td>0.50</td>\n",
       "      <td>0.907988</td>\n",
       "      <td>0.907408</td>\n",
       "    </tr>\n",
       "    <tr>\n",
       "      <th>6</th>\n",
       "      <td>0.0</td>\n",
       "      <td>0.75</td>\n",
       "      <td>0.907988</td>\n",
       "      <td>0.907408</td>\n",
       "    </tr>\n",
       "    <tr>\n",
       "      <th>7</th>\n",
       "      <td>0.0</td>\n",
       "      <td>1.00</td>\n",
       "      <td>0.907988</td>\n",
       "      <td>0.907408</td>\n",
       "    </tr>\n",
       "  </tbody>\n",
       "</table>\n",
       "</div>"
      ],
      "text/plain": [
       "   regularization  elasticNet  train_rmse  test_rmse\n",
       "0             0.0        0.00    0.907988   0.907408\n",
       "1             0.0        0.01    0.907988   0.907408\n",
       "2             0.0        0.05    0.907988   0.907408\n",
       "3             0.0        0.10    0.907988   0.907408\n",
       "4             0.0        0.25    0.907988   0.907408\n",
       "5             0.0        0.50    0.907988   0.907408\n",
       "6             0.0        0.75    0.907988   0.907408\n",
       "7             0.0        1.00    0.907988   0.907408"
      ]
     },
     "execution_count": 26,
     "metadata": {},
     "output_type": "execute_result"
    }
   ],
   "source": [
    "results[results[\"test_rmse\"] == results[\"test_rmse\"].min()]"
   ]
  },
  {
   "cell_type": "code",
   "execution_count": 27,
   "id": "46b36a3a",
   "metadata": {},
   "outputs": [],
   "source": [
    "results.to_csv(\"./linear_regression.csv\", header=True, index=False)"
   ]
  }
 ],
 "metadata": {
  "kernelspec": {
   "display_name": "Python 3 (ipykernel)",
   "language": "python",
   "name": "python3"
  },
  "language_info": {
   "codemirror_mode": {
    "name": "ipython",
    "version": 3
   },
   "file_extension": ".py",
   "mimetype": "text/x-python",
   "name": "python",
   "nbconvert_exporter": "python",
   "pygments_lexer": "ipython3",
   "version": "3.9.18"
  }
 },
 "nbformat": 4,
 "nbformat_minor": 5
}
